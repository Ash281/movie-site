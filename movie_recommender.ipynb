{
  "nbformat": 4,
  "nbformat_minor": 0,
  "metadata": {
    "colab": {
      "provenance": [],
      "gpuType": "T4"
    },
    "kernelspec": {
      "name": "python3",
      "display_name": "Python 3"
    },
    "language_info": {
      "name": "python"
    },
    "accelerator": "GPU"
  },
  "cells": [
    {
      "cell_type": "markdown",
      "source": [
        "**downloading the data**"
      ],
      "metadata": {
        "id": "EeYGNW2tov68"
      }
    },
    {
      "cell_type": "code",
      "execution_count": null,
      "metadata": {
        "colab": {
          "base_uri": "https://localhost:8080/"
        },
        "id": "D-vMcrlwosBR",
        "outputId": "fea64444-ed34-4fe1-c9c6-e2cbe2179b84"
      },
      "outputs": [
        {
          "output_type": "stream",
          "name": "stdout",
          "text": [
            "  % Total    % Received % Xferd  Average Speed   Time    Time     Time  Current\n",
            "                                 Dload  Upload   Total   Spent    Left  Speed\n",
            "100  955k  100  955k    0     0  2081k      0 --:--:-- --:--:-- --:--:-- 2081k\n"
          ]
        }
      ],
      "source": [
        "! curl http://files.grouplens.org/datasets/movielens/ml-latest-small.zip -o ml-latest-small.zip\n",
        "# get movielens ratings and users dataset"
      ]
    },
    {
      "cell_type": "markdown",
      "source": [
        "**extracting the data**"
      ],
      "metadata": {
        "id": "Tl_7uY3do6fv"
      }
    },
    {
      "cell_type": "code",
      "source": [
        "import zipfile\n",
        "with zipfile.ZipFile('ml-latest-small.zip', 'r') as zip_ref:\n",
        "    zip_ref.extractall('data')\n",
        "# extract the data"
      ],
      "metadata": {
        "id": "2mcAPv7q3PAS"
      },
      "execution_count": null,
      "outputs": []
    },
    {
      "cell_type": "markdown",
      "source": [
        "**mean, median number of ratings and drop nan values**"
      ],
      "metadata": {
        "id": "X_B631bfo-qh"
      }
    },
    {
      "cell_type": "code",
      "source": [
        "import pandas as pd\n",
        "# import movies and ratings along with first 5 entries\n",
        "movies_df = movies_df = pd.read_csv('data/ml-latest-small/movies.csv')\n",
        "ratings_df = pd.read_csv('data/ml-latest-small/ratings.csv')\n",
        "\n",
        "# remove nan values\n",
        "movies_df = movies_df.dropna()\n",
        "ratings_df = ratings_df.dropna()\n",
        "\n",
        "# ratings_df[ratings_df['rating'] == 5.0].count()\n",
        "ratings_counts = ratings_df['rating'].value_counts().sort_index()\n",
        "median_rating = ratings_df['rating'].median()\n",
        "mean_rating = ratings_df['rating'].mean()\n",
        "\n",
        "n_ratings = len(ratings_df)\n",
        "n_users = len(ratings_df['userId'].unique())\n",
        "n_movies = len(ratings_df['movieId'].unique())\n",
        "\n",
        "avg_ratings_per_user = n_ratings / n_users\n",
        "avg_ratings_per_movie = n_ratings / n_movies\n",
        "\n",
        "print(\"mean rating:\" , mean_rating)\n",
        "print(\"median rating:\" , median_rating)\n",
        "print(\"number of ratings:\" , n_ratings)\n",
        "print(\"number of users:\" , n_users)\n",
        "print(\"number of movies:\" , n_movies)\n",
        "print(\"average ratings per user:\" , avg_ratings_per_user)\n",
        "print(\"average ratings per movie:\" , avg_ratings_per_movie)"
      ],
      "metadata": {
        "colab": {
          "base_uri": "https://localhost:8080/"
        },
        "id": "gJwR7ILH3WYK",
        "outputId": "ff1cea71-33cf-4e83-ae3b-51c4f060a4dc"
      },
      "execution_count": null,
      "outputs": [
        {
          "output_type": "stream",
          "name": "stdout",
          "text": [
            "mean rating: 3.501556983616962\n",
            "median rating: 3.5\n",
            "number of ratings: 100836\n",
            "number of users: 610\n",
            "number of movies: 9724\n",
            "average ratings per user: 165.30491803278687\n",
            "average ratings per movie: 10.369806663924312\n"
          ]
        }
      ]
    },
    {
      "cell_type": "markdown",
      "source": [
        "**plot rating distribution**"
      ],
      "metadata": {
        "id": "EPXiJOC0pGtn"
      }
    },
    {
      "cell_type": "code",
      "source": [
        "import numpy as np\n",
        "import pandas as pd\n",
        "import matplotlib.pyplot as plt\n",
        "\n",
        "plt.figure(figsize=(10,6))\n",
        "ratings_counts.plot(kind='bar')\n",
        "plt.xlabel('Rating')\n",
        "plt.ylabel('Count')\n",
        "plt.show()\n"
      ],
      "metadata": {
        "colab": {
          "base_uri": "https://localhost:8080/",
          "height": 550
        },
        "id": "phGUuSfX3gan",
        "outputId": "a3ec26ad-7aa0-40d0-86ee-266f117ec1bd"
      },
      "execution_count": null,
      "outputs": [
        {
          "output_type": "display_data",
          "data": {
            "text/plain": [
              "<Figure size 1000x600 with 1 Axes>"
            ],
            "image/png": "[encoded data removed]"
          },
          "metadata": {}
        }
      ]
    },
    {
      "cell_type": "markdown",
      "source": [
        "**plot distribution of number of ratings per film**"
      ],
      "metadata": {
        "id": "DzPR1SRvpLqC"
      }
    },
    {
      "cell_type": "code",
      "source": [
        "no_movie_ratings = ratings_df.groupby('movieId')['rating'].count()\n",
        "no_movie_ratings_filtered = no_movie_ratings[no_movie_ratings >= 50]\n",
        "\n",
        "plt.figure(figsize=(10, 6))\n",
        "plt.hist(no_movie_ratings, bins=40, edgecolor='black')\n",
        "\n",
        "plt.xlabel('Number of Ratings')\n",
        "plt.ylabel('Count')\n",
        "plt.title('Histogram of Number of Ratings for Movies with at least 20 Ratings')\n",
        "\n",
        "max_rating = no_movie_ratings_filtered.max()\n",
        "xticks = np.arange(0, max_rating + 20, 20)\n",
        "plt.xticks(xticks)\n",
        "\n",
        "plt.show()\n",
        "\n"
      ],
      "metadata": {
        "colab": {
          "base_uri": "https://localhost:8080/",
          "height": 564
        },
        "id": "L92dsFe_PomC",
        "outputId": "8db53a59-8a92-42c2-d951-8fa0cebdda6e"
      },
      "execution_count": null,
      "outputs": [
        {
          "output_type": "display_data",
          "data": {
            "text/plain": [
              "<Figure size 1000x600 with 1 Axes>"
            ],
            "image/png": "[encoded data removed]"
          },
          "metadata": {}
        }
      ]
    },
    {
      "cell_type": "markdown",
      "source": [
        "**highest rated movies by mean**"
      ],
      "metadata": {
        "id": "WXKjGlShpU9L"
      }
    },
    {
      "cell_type": "code",
      "source": [
        "mean_ratings = ratings_df[ratings_df['movieId'].isin(no_movie_ratings_filtered.index)].groupby('movieId')['rating'].mean()\n",
        "highest_rated_movies = mean_ratings.sort_values(ascending=False).head(10)\n",
        "\n",
        "for movie_id, rating in highest_rated_movies.items():\n",
        "    print(movies_df[movies_df['movieId'] == movie_id]['title'].iloc[0], rating, no_movie_ratings[movie_id])\n"
      ],
      "metadata": {
        "colab": {
          "base_uri": "https://localhost:8080/"
        },
        "id": "VFm-N8HlUk4F",
        "outputId": "8e37c057-4672-49a8-c820-266ea2fb5c1c"
      },
      "execution_count": null,
      "outputs": [
        {
          "output_type": "stream",
          "name": "stdout",
          "text": [
            "Shawshank Redemption, The (1994) 4.429022082018927 317\n",
            "Godfather, The (1972) 4.2890625 192\n",
            "Fight Club (1999) 4.272935779816514 218\n",
            "Cool Hand Luke (1967) 4.271929824561403 57\n",
            "Dr. Strangelove or: How I Learned to Stop Worrying and Love the Bomb (1964) 4.268041237113402 97\n",
            "Rear Window (1954) 4.261904761904762 84\n",
            "Godfather: Part II, The (1974) 4.25968992248062 129\n",
            "Departed, The (2006) 4.252336448598131 107\n",
            "Goodfellas (1990) 4.25 126\n",
            "Casablanca (1942) 4.24 100\n"
          ]
        }
      ]
    },
    {
      "cell_type": "markdown",
      "source": [
        "**creating bayesian average function**"
      ],
      "metadata": {
        "id": "5mPBThjOpbNo"
      }
    },
    {
      "cell_type": "code",
      "source": [
        "movie_stats = ratings_df.groupby('movieId')['rating'].agg(['count', 'mean'])\n",
        "count = movie_stats['count'].mean()\n",
        "mean = movie_stats['mean'].mean()\n",
        "print(count, mean)\n",
        "\n",
        "def bayesian_average(ratings):\n",
        "    bayesian_avg = (count * mean + ratings.sum()) / (count + ratings.count())\n",
        "    return round(bayesian_avg, 3)\n",
        "\n",
        "test = pd.Series([1, 2, 3, 4, 5])\n",
        "bayesian_average(test)"
      ],
      "metadata": {
        "colab": {
          "base_uri": "https://localhost:8080/"
        },
        "id": "TcrYs9o4VTxf",
        "outputId": "f36512cd-b05f-4daa-a5cc-bda172c951bf"
      },
      "execution_count": null,
      "outputs": [
        {
          "output_type": "stream",
          "name": "stdout",
          "text": [
            "10.369806663924312 3.262448274810963\n"
          ]
        },
        {
          "output_type": "execute_result",
          "data": {
            "text/plain": [
              "3.177"
            ]
          },
          "metadata": {},
          "execution_count": 8
        }
      ]
    },
    {
      "cell_type": "markdown",
      "source": [
        "**ordering films by bayesian average**"
      ],
      "metadata": {
        "id": "ffkpDa1UpfOG"
      }
    },
    {
      "cell_type": "code",
      "source": [
        "bayesian_ratings = ratings_df.groupby('movieId')['rating'].agg(bayesian_average)\n",
        "bayesian_ratings.head()\n",
        "highest_rated_movies = bayesian_ratings.sort_values(ascending=False).head(10)\n",
        "\n",
        "print(\"Highest Rated Movies:\")\n",
        "for movie_id, rating in highest_rated_movies.items():\n",
        "    print(movies_df[movies_df['movieId'] == movie_id]['title'].iloc[0], rating, no_movie_ratings[movie_id])\n",
        "\n",
        "lowest_rated_movies = bayesian_ratings.sort_values(ascending=True).head(10)\n",
        "\n",
        "print(\"\\nLowest Rated Movies:\")\n",
        "for movie_id, rating in lowest_rated_movies.items():\n",
        "    print(movies_df[movies_df['movieId'] == movie_id]['title'].iloc[0], rating, no_movie_ratings[movie_id])"
      ],
      "metadata": {
        "colab": {
          "base_uri": "https://localhost:8080/"
        },
        "id": "lKPSbpLQcFQ6",
        "outputId": "13979a3b-e269-42e2-e134-a82fd0ff60a4"
      },
      "execution_count": null,
      "outputs": [
        {
          "output_type": "stream",
          "name": "stdout",
          "text": [
            "Highest Rated Movies:\n",
            "Shawshank Redemption, The (1994) 4.392 317\n",
            "Godfather, The (1972) 4.236 192\n",
            "Fight Club (1999) 4.227 218\n",
            "Star Wars: Episode IV - A New Hope (1977) 4.193 251\n",
            "Usual Suspects, The (1995) 4.191 204\n",
            "Godfather: Part II, The (1974) 4.185 129\n",
            "Schindler's List (1993) 4.182 220\n",
            "Dark Knight, The (2008) 4.175 149\n",
            "Goodfellas (1990) 4.175 126\n",
            "Star Wars: Episode V - The Empire Strikes Back (1980) 4.171 211\n",
            "\n",
            "Lowest Rated Movies:\n",
            "Speed 2: Cruise Control (1997) 2.19 19\n",
            "Battlefield Earth (2000) 2.224 19\n",
            "Godzilla (1998) 2.267 33\n",
            "Anaconda (1997) 2.297 27\n",
            "Superman IV: The Quest for Peace (1987) 2.307 16\n",
            "Spice World (1997) 2.324 10\n",
            "Jason X (2002) 2.359 8\n",
            "Problem Child (1990) 2.362 12\n",
            "Catwoman (2004) 2.366 9\n",
            "Wild Wild West (1999) 2.38 53\n"
          ]
        }
      ]
    },
    {
      "cell_type": "code",
      "source": [
        "movies_df.head()\n",
        "# movies have genres, title and id"
      ],
      "metadata": {
        "colab": {
          "base_uri": "https://localhost:8080/",
          "height": 206
        },
        "id": "blvx8aXxdi0c",
        "outputId": "fd2b7edb-9799-4aa2-891e-60294e30ba37"
      },
      "execution_count": null,
      "outputs": [
        {
          "output_type": "execute_result",
          "data": {
            "text/plain": [
              "   movieId                               title  \\\n",
              "0        1                    Toy Story (1995)   \n",
              "1        2                      Jumanji (1995)   \n",
              "2        3             Grumpier Old Men (1995)   \n",
              "3        4            Waiting to Exhale (1995)   \n",
              "4        5  Father of the Bride Part II (1995)   \n",
              "\n",
              "                                        genres  \n",
              "0  Adventure|Animation|Children|Comedy|Fantasy  \n",
              "1                   Adventure|Children|Fantasy  \n",
              "2                               Comedy|Romance  \n",
              "3                         Comedy|Drama|Romance  \n",
              "4                                       Comedy  "
            ],
            "text/html": [
              "\n",
              "  <div id=\"df-781a68dc-8aaa-4aeb-8f2c-ab1cfb0fc220\" class=\"colab-df-container\">\n",
              "    <div>\n",
              "<style scoped>\n",
              "    .dataframe tbody tr th:only-of-type {\n",
              "        vertical-align: middle;\n",
              "    }\n",
              "\n",
              "    .dataframe tbody tr th {\n",
              "        vertical-align: top;\n",
              "    }\n",
              "\n",
              "    .dataframe thead th {\n",
              "        text-align: right;\n",
              "    }\n",
              "</style>\n",
              "<table border=\"1\" class=\"dataframe\">\n",
              "  <thead>\n",
              "    <tr style=\"text-align: right;\">\n",
              "      <th></th>\n",
              "      <th>movieId</th>\n",
              "      <th>title</th>\n",
              "      <th>genres</th>\n",
              "    </tr>\n",
              "  </thead>\n",
              "  <tbody>\n",
              "    <tr>\n",
              "      <th>0</th>\n",
              "      <td>1</td>\n",
              "      <td>Toy Story (1995)</td>\n",
              "      <td>Adventure|Animation|Children|Comedy|Fantasy</td>\n",
              "    </tr>\n",
              "    <tr>\n",
              "      <th>1</th>\n",
              "      <td>2</td>\n",
              "      <td>Jumanji (1995)</td>\n",
              "      <td>Adventure|Children|Fantasy</td>\n",
              "    </tr>\n",
              "    <tr>\n",
              "      <th>2</th>\n",
              "      <td>3</td>\n",
              "      <td>Grumpier Old Men (1995)</td>\n",
              "      <td>Comedy|Romance</td>\n",
              "    </tr>\n",
              "    <tr>\n",
              "      <th>3</th>\n",
              "      <td>4</td>\n",
              "      <td>Waiting to Exhale (1995)</td>\n",
              "      <td>Comedy|Drama|Romance</td>\n",
              "    </tr>\n",
              "    <tr>\n",
              "      <th>4</th>\n",
              "      <td>5</td>\n",
              "      <td>Father of the Bride Part II (1995)</td>\n",
              "      <td>Comedy</td>\n",
              "    </tr>\n",
              "  </tbody>\n",
              "</table>\n",
              "</div>\n",
              "    <div class=\"colab-df-buttons\">\n",
              "\n",
              "  <div class=\"colab-df-container\">\n",
              "    <button class=\"colab-df-convert\" onclick=\"convertToInteractive('df-781a68dc-8aaa-4aeb-8f2c-ab1cfb0fc220')\"\n",
              "            title=\"Convert this dataframe to an interactive table.\"\n",
              "            style=\"display:none;\">\n",
              "\n",
              "  <svg xmlns=\"http://www.w3.org/2000/svg\" height=\"24px\" viewBox=\"0 -960 960 960\">\n",
              "    <path d=\"M120-120v-720h720v720H120Zm60-500h600v-160H180v160Zm220 220h160v-160H400v160Zm0 220h160v-160H400v160ZM180-400h160v-160H180v160Zm440 0h160v-160H620v160ZM180-180h160v-160H180v160Zm440 0h160v-160H620v160Z\"/>\n",
              "  </svg>\n",
              "    </button>\n",
              "\n",
              "  <style>\n",
              "    .colab-df-container {\n",
              "      display:flex;\n",
              "      gap: 12px;\n",
              "    }\n",
              "\n",
              "    .colab-df-convert {\n",
              "      background-color: #E8F0FE;\n",
              "      border: none;\n",
              "      border-radius: 50%;\n",
              "      cursor: pointer;\n",
              "      display: none;\n",
              "      fill: #1967D2;\n",
              "      height: 32px;\n",
              "      padding: 0 0 0 0;\n",
              "      width: 32px;\n",
              "    }\n",
              "\n",
              "    .colab-df-convert:hover {\n",
              "      background-color: #E2EBFA;\n",
              "      box-shadow: 0px 1px 2px rgba(60, 64, 67, 0.3), 0px 1px 3px 1px rgba(60, 64, 67, 0.15);\n",
              "      fill: #174EA6;\n",
              "    }\n",
              "\n",
              "    .colab-df-buttons div {\n",
              "      margin-bottom: 4px;\n",
              "    }\n",
              "\n",
              "    [theme=dark] .colab-df-convert {\n",
              "      background-color: #3B4455;\n",
              "      fill: #D2E3FC;\n",
              "    }\n",
              "\n",
              "    [theme=dark] .colab-df-convert:hover {\n",
              "      background-color: #434B5C;\n",
              "      box-shadow: 0px 1px 3px 1px rgba(0, 0, 0, 0.15);\n",
              "      filter: drop-shadow(0px 1px 2px rgba(0, 0, 0, 0.3));\n",
              "      fill: #FFFFFF;\n",
              "    }\n",
              "  </style>\n",
              "\n",
              "    <script>\n",
              "      const buttonEl =\n",
              "        document.querySelector('#df-781a68dc-8aaa-4aeb-8f2c-ab1cfb0fc220 button.colab-df-convert');\n",
              "      buttonEl.style.display =\n",
              "        google.colab.kernel.accessAllowed ? 'block' : 'none';\n",
              "\n",
              "      async function convertToInteractive(key) {\n",
              "        const element = document.querySelector('#df-781a68dc-8aaa-4aeb-8f2c-ab1cfb0fc220');\n",
              "        const dataTable =\n",
              "          await google.colab.kernel.invokeFunction('convertToInteractive',\n",
              "                                                    [key], {});\n",
              "        if (!dataTable) return;\n",
              "\n",
              "        const docLinkHtml = 'Like what you see? Visit the ' +\n",
              "          '<a target=\"_blank\" href=https://colab.research.google.com/notebooks/data_table.ipynb>data table notebook</a>'\n",
              "          + ' to learn more about interactive tables.';\n",
              "        element.innerHTML = '';\n",
              "        dataTable['output_type'] = 'display_data';\n",
              "        await google.colab.output.renderOutput(dataTable, element);\n",
              "        const docLink = document.createElement('div');\n",
              "        docLink.innerHTML = docLinkHtml;\n",
              "        element.appendChild(docLink);\n",
              "      }\n",
              "    </script>\n",
              "  </div>\n",
              "\n",
              "\n",
              "<div id=\"df-eab764da-cb8a-4521-9aa7-bec248eba9ce\">\n",
              "  <button class=\"colab-df-quickchart\" onclick=\"quickchart('df-eab764da-cb8a-4521-9aa7-bec248eba9ce')\"\n",
              "            title=\"Suggest charts\"\n",
              "            style=\"display:none;\">\n",
              "\n",
              "<svg xmlns=\"http://www.w3.org/2000/svg\" height=\"24px\"viewBox=\"0 0 24 24\"\n",
              "     width=\"24px\">\n",
              "    <g>\n",
              "        <path d=\"M19 3H5c-1.1 0-2 .9-2 2v14c0 1.1.9 2 2 2h14c1.1 0 2-.9 2-2V5c0-1.1-.9-2-2-2zM9 17H7v-7h2v7zm4 0h-2V7h2v10zm4 0h-2v-4h2v4z\"/>\n",
              "    </g>\n",
              "</svg>\n",
              "  </button>\n",
              "\n",
              "<style>\n",
              "  .colab-df-quickchart {\n",
              "      --bg-color: #E8F0FE;\n",
              "      --fill-color: #1967D2;\n",
              "      --hover-bg-color: #E2EBFA;\n",
              "      --hover-fill-color: #174EA6;\n",
              "      --disabled-fill-color: #AAA;\n",
              "      --disabled-bg-color: #DDD;\n",
              "  }\n",
              "\n",
              "  [theme=dark] .colab-df-quickchart {\n",
              "      --bg-color: #3B4455;\n",
              "      --fill-color: #D2E3FC;\n",
              "      --hover-bg-color: #434B5C;\n",
              "      --hover-fill-color: #FFFFFF;\n",
              "      --disabled-bg-color: #3B4455;\n",
              "      --disabled-fill-color: #666;\n",
              "  }\n",
              "\n",
              "  .colab-df-quickchart {\n",
              "    background-color: var(--bg-color);\n",
              "    border: none;\n",
              "    border-radius: 50%;\n",
              "    cursor: pointer;\n",
              "    display: none;\n",
              "    fill: var(--fill-color);\n",
              "    height: 32px;\n",
              "    padding: 0;\n",
              "    width: 32px;\n",
              "  }\n",
              "\n",
              "  .colab-df-quickchart:hover {\n",
              "    background-color: var(--hover-bg-color);\n",
              "    box-shadow: 0 1px 2px rgba(60, 64, 67, 0.3), 0 1px 3px 1px rgba(60, 64, 67, 0.15);\n",
              "    fill: var(--button-hover-fill-color);\n",
              "  }\n",
              "\n",
              "  .colab-df-quickchart-complete:disabled,\n",
              "  .colab-df-quickchart-complete:disabled:hover {\n",
              "    background-color: var(--disabled-bg-color);\n",
              "    fill: var(--disabled-fill-color);\n",
              "    box-shadow: none;\n",
              "  }\n",
              "\n",
              "  .colab-df-spinner {\n",
              "    border: 2px solid var(--fill-color);\n",
              "    border-color: transparent;\n",
              "    border-bottom-color: var(--fill-color);\n",
              "    animation:\n",
              "      spin 1s steps(1) infinite;\n",
              "  }\n",
              "\n",
              "  @keyframes spin {\n",
              "    0% {\n",
              "      border-color: transparent;\n",
              "      border-bottom-color: var(--fill-color);\n",
              "      border-left-color: var(--fill-color);\n",
              "    }\n",
              "    20% {\n",
              "      border-color: transparent;\n",
              "      border-left-color: var(--fill-color);\n",
              "      border-top-color: var(--fill-color);\n",
              "    }\n",
              "    30% {\n",
              "      border-color: transparent;\n",
              "      border-left-color: var(--fill-color);\n",
              "      border-top-color: var(--fill-color);\n",
              "      border-right-color: var(--fill-color);\n",
              "    }\n",
              "    40% {\n",
              "      border-color: transparent;\n",
              "      border-right-color: var(--fill-color);\n",
              "      border-top-color: var(--fill-color);\n",
              "    }\n",
              "    60% {\n",
              "      border-color: transparent;\n",
              "      border-right-color: var(--fill-color);\n",
              "    }\n",
              "    80% {\n",
              "      border-color: transparent;\n",
              "      border-right-color: var(--fill-color);\n",
              "      border-bottom-color: var(--fill-color);\n",
              "    }\n",
              "    90% {\n",
              "      border-color: transparent;\n",
              "      border-bottom-color: var(--fill-color);\n",
              "    }\n",
              "  }\n",
              "</style>\n",
              "\n",
              "  <script>\n",
              "    async function quickchart(key) {\n",
              "      const quickchartButtonEl =\n",
              "        document.querySelector('#' + key + ' button');\n",
              "      quickchartButtonEl.disabled = true;  // To prevent multiple clicks.\n",
              "      quickchartButtonEl.classList.add('colab-df-spinner');\n",
              "      try {\n",
              "        const charts = await google.colab.kernel.invokeFunction(\n",
              "            'suggestCharts', [key], {});\n",
              "      } catch (error) {\n",
              "        console.error('Error during call to suggestCharts:', error);\n",
              "      }\n",
              "      quickchartButtonEl.classList.remove('colab-df-spinner');\n",
              "      quickchartButtonEl.classList.add('colab-df-quickchart-complete');\n",
              "    }\n",
              "    (() => {\n",
              "      let quickchartButtonEl =\n",
              "        document.querySelector('#df-eab764da-cb8a-4521-9aa7-bec248eba9ce button');\n",
              "      quickchartButtonEl.style.display =\n",
              "        google.colab.kernel.accessAllowed ? 'block' : 'none';\n",
              "    })();\n",
              "  </script>\n",
              "</div>\n",
              "\n",
              "    </div>\n",
              "  </div>\n"
            ],
            "application/vnd.google.colaboratory.intrinsic+json": {
              "type": "dataframe",
              "summary": "{\n  \"name\": \"# movies have genres, title and id\",\n  \"rows\": 5,\n  \"fields\": [\n    {\n      \"column\": \"movieId\",\n      \"properties\": {\n        \"dtype\": \"number\",\n        \"std\": 1,\n        \"min\": 1,\n        \"max\": 5,\n        \"num_unique_values\": 5,\n        \"samples\": [\n          2,\n          5,\n          3\n        ],\n        \"semantic_type\": \"\",\n        \"description\": \"\"\n      }\n    },\n    {\n      \"column\": \"title\",\n      \"properties\": {\n        \"dtype\": \"string\",\n        \"num_unique_values\": 5,\n        \"samples\": [\n          \"Jumanji (1995)\",\n          \"Father of the Bride Part II (1995)\",\n          \"Grumpier Old Men (1995)\"\n        ],\n        \"semantic_type\": \"\",\n        \"description\": \"\"\n      }\n    },\n    {\n      \"column\": \"genres\",\n      \"properties\": {\n        \"dtype\": \"string\",\n        \"num_unique_values\": 5,\n        \"samples\": [\n          \"Adventure|Children|Fantasy\",\n          \"Comedy\",\n          \"Comedy|Romance\"\n        ],\n        \"semantic_type\": \"\",\n        \"description\": \"\"\n      }\n    }\n  ]\n}"
            }
          },
          "metadata": {},
          "execution_count": 10
        }
      ]
    },
    {
      "cell_type": "code",
      "source": [
        "ratings_df.head()\n",
        "# ratings have userId, movieId and rating"
      ],
      "metadata": {
        "colab": {
          "base_uri": "https://localhost:8080/",
          "height": 206
        },
        "id": "HCHjcjK1dnOv",
        "outputId": "b7751458-8661-4133-ebae-a0e076faa492"
      },
      "execution_count": null,
      "outputs": [
        {
          "output_type": "execute_result",
          "data": {
            "text/plain": [
              "   userId  movieId  rating  timestamp\n",
              "0       1        1     4.0  964982703\n",
              "1       1        3     4.0  964981247\n",
              "2       1        6     4.0  964982224\n",
              "3       1       47     5.0  964983815\n",
              "4       1       50     5.0  964982931"
            ],
            "text/html": [
              "\n",
              "  <div id=\"df-b601df5d-f6ad-4e1e-a2a7-63b33d224137\" class=\"colab-df-container\">\n",
              "    <div>\n",
              "<style scoped>\n",
              "    .dataframe tbody tr th:only-of-type {\n",
              "        vertical-align: middle;\n",
              "    }\n",
              "\n",
              "    .dataframe tbody tr th {\n",
              "        vertical-align: top;\n",
              "    }\n",
              "\n",
              "    .dataframe thead th {\n",
              "        text-align: right;\n",
              "    }\n",
              "</style>\n",
              "<table border=\"1\" class=\"dataframe\">\n",
              "  <thead>\n",
              "    <tr style=\"text-align: right;\">\n",
              "      <th></th>\n",
              "      <th>userId</th>\n",
              "      <th>movieId</th>\n",
              "      <th>rating</th>\n",
              "      <th>timestamp</th>\n",
              "    </tr>\n",
              "  </thead>\n",
              "  <tbody>\n",
              "    <tr>\n",
              "      <th>0</th>\n",
              "      <td>1</td>\n",
              "      <td>1</td>\n",
              "      <td>4.0</td>\n",
              "      <td>964982703</td>\n",
              "    </tr>\n",
              "    <tr>\n",
              "      <th>1</th>\n",
              "      <td>1</td>\n",
              "      <td>3</td>\n",
              "      <td>4.0</td>\n",
              "      <td>964981247</td>\n",
              "    </tr>\n",
              "    <tr>\n",
              "      <th>2</th>\n",
              "      <td>1</td>\n",
              "      <td>6</td>\n",
              "      <td>4.0</td>\n",
              "      <td>964982224</td>\n",
              "    </tr>\n",
              "    <tr>\n",
              "      <th>3</th>\n",
              "      <td>1</td>\n",
              "      <td>47</td>\n",
              "      <td>5.0</td>\n",
              "      <td>964983815</td>\n",
              "    </tr>\n",
              "    <tr>\n",
              "      <th>4</th>\n",
              "      <td>1</td>\n",
              "      <td>50</td>\n",
              "      <td>5.0</td>\n",
              "      <td>964982931</td>\n",
              "    </tr>\n",
              "  </tbody>\n",
              "</table>\n",
              "</div>\n",
              "    <div class=\"colab-df-buttons\">\n",
              "\n",
              "  <div class=\"colab-df-container\">\n",
              "    <button class=\"colab-df-convert\" onclick=\"convertToInteractive('df-b601df5d-f6ad-4e1e-a2a7-63b33d224137')\"\n",
              "            title=\"Convert this dataframe to an interactive table.\"\n",
              "            style=\"display:none;\">\n",
              "\n",
              "  <svg xmlns=\"http://www.w3.org/2000/svg\" height=\"24px\" viewBox=\"0 -960 960 960\">\n",
              "    <path d=\"M120-120v-720h720v720H120Zm60-500h600v-160H180v160Zm220 220h160v-160H400v160Zm0 220h160v-160H400v160ZM180-400h160v-160H180v160Zm440 0h160v-160H620v160ZM180-180h160v-160H180v160Zm440 0h160v-160H620v160Z\"/>\n",
              "  </svg>\n",
              "    </button>\n",
              "\n",
              "  <style>\n",
              "    .colab-df-container {\n",
              "      display:flex;\n",
              "      gap: 12px;\n",
              "    }\n",
              "\n",
              "    .colab-df-convert {\n",
              "      background-color: #E8F0FE;\n",
              "      border: none;\n",
              "      border-radius: 50%;\n",
              "      cursor: pointer;\n",
              "      display: none;\n",
              "      fill: #1967D2;\n",
              "      height: 32px;\n",
              "      padding: 0 0 0 0;\n",
              "      width: 32px;\n",
              "    }\n",
              "\n",
              "    .colab-df-convert:hover {\n",
              "      background-color: #E2EBFA;\n",
              "      box-shadow: 0px 1px 2px rgba(60, 64, 67, 0.3), 0px 1px 3px 1px rgba(60, 64, 67, 0.15);\n",
              "      fill: #174EA6;\n",
              "    }\n",
              "\n",
              "    .colab-df-buttons div {\n",
              "      margin-bottom: 4px;\n",
              "    }\n",
              "\n",
              "    [theme=dark] .colab-df-convert {\n",
              "      background-color: #3B4455;\n",
              "      fill: #D2E3FC;\n",
              "    }\n",
              "\n",
              "    [theme=dark] .colab-df-convert:hover {\n",
              "      background-color: #434B5C;\n",
              "      box-shadow: 0px 1px 3px 1px rgba(0, 0, 0, 0.15);\n",
              "      filter: drop-shadow(0px 1px 2px rgba(0, 0, 0, 0.3));\n",
              "      fill: #FFFFFF;\n",
              "    }\n",
              "  </style>\n",
              "\n",
              "    <script>\n",
              "      const buttonEl =\n",
              "        document.querySelector('#df-b601df5d-f6ad-4e1e-a2a7-63b33d224137 button.colab-df-convert');\n",
              "      buttonEl.style.display =\n",
              "        google.colab.kernel.accessAllowed ? 'block' : 'none';\n",
              "\n",
              "      async function convertToInteractive(key) {\n",
              "        const element = document.querySelector('#df-b601df5d-f6ad-4e1e-a2a7-63b33d224137');\n",
              "        const dataTable =\n",
              "          await google.colab.kernel.invokeFunction('convertToInteractive',\n",
              "                                                    [key], {});\n",
              "        if (!dataTable) return;\n",
              "\n",
              "        const docLinkHtml = 'Like what you see? Visit the ' +\n",
              "          '<a target=\"_blank\" href=https://colab.research.google.com/notebooks/data_table.ipynb>data table notebook</a>'\n",
              "          + ' to learn more about interactive tables.';\n",
              "        element.innerHTML = '';\n",
              "        dataTable['output_type'] = 'display_data';\n",
              "        await google.colab.output.renderOutput(dataTable, element);\n",
              "        const docLink = document.createElement('div');\n",
              "        docLink.innerHTML = docLinkHtml;\n",
              "        element.appendChild(docLink);\n",
              "      }\n",
              "    </script>\n",
              "  </div>\n",
              "\n",
              "\n",
              "<div id=\"df-892f68ef-973b-4562-b42b-7bec8ed0fda7\">\n",
              "  <button class=\"colab-df-quickchart\" onclick=\"quickchart('df-892f68ef-973b-4562-b42b-7bec8ed0fda7')\"\n",
              "            title=\"Suggest charts\"\n",
              "            style=\"display:none;\">\n",
              "\n",
              "<svg xmlns=\"http://www.w3.org/2000/svg\" height=\"24px\"viewBox=\"0 0 24 24\"\n",
              "     width=\"24px\">\n",
              "    <g>\n",
              "        <path d=\"M19 3H5c-1.1 0-2 .9-2 2v14c0 1.1.9 2 2 2h14c1.1 0 2-.9 2-2V5c0-1.1-.9-2-2-2zM9 17H7v-7h2v7zm4 0h-2V7h2v10zm4 0h-2v-4h2v4z\"/>\n",
              "    </g>\n",
              "</svg>\n",
              "  </button>\n",
              "\n",
              "<style>\n",
              "  .colab-df-quickchart {\n",
              "      --bg-color: #E8F0FE;\n",
              "      --fill-color: #1967D2;\n",
              "      --hover-bg-color: #E2EBFA;\n",
              "      --hover-fill-color: #174EA6;\n",
              "      --disabled-fill-color: #AAA;\n",
              "      --disabled-bg-color: #DDD;\n",
              "  }\n",
              "\n",
              "  [theme=dark] .colab-df-quickchart {\n",
              "      --bg-color: #3B4455;\n",
              "      --fill-color: #D2E3FC;\n",
              "      --hover-bg-color: #434B5C;\n",
              "      --hover-fill-color: #FFFFFF;\n",
              "      --disabled-bg-color: #3B4455;\n",
              "      --disabled-fill-color: #666;\n",
              "  }\n",
              "\n",
              "  .colab-df-quickchart {\n",
              "    background-color: var(--bg-color);\n",
              "    border: none;\n",
              "    border-radius: 50%;\n",
              "    cursor: pointer;\n",
              "    display: none;\n",
              "    fill: var(--fill-color);\n",
              "    height: 32px;\n",
              "    padding: 0;\n",
              "    width: 32px;\n",
              "  }\n",
              "\n",
              "  .colab-df-quickchart:hover {\n",
              "    background-color: var(--hover-bg-color);\n",
              "    box-shadow: 0 1px 2px rgba(60, 64, 67, 0.3), 0 1px 3px 1px rgba(60, 64, 67, 0.15);\n",
              "    fill: var(--button-hover-fill-color);\n",
              "  }\n",
              "\n",
              "  .colab-df-quickchart-complete:disabled,\n",
              "  .colab-df-quickchart-complete:disabled:hover {\n",
              "    background-color: var(--disabled-bg-color);\n",
              "    fill: var(--disabled-fill-color);\n",
              "    box-shadow: none;\n",
              "  }\n",
              "\n",
              "  .colab-df-spinner {\n",
              "    border: 2px solid var(--fill-color);\n",
              "    border-color: transparent;\n",
              "    border-bottom-color: var(--fill-color);\n",
              "    animation:\n",
              "      spin 1s steps(1) infinite;\n",
              "  }\n",
              "\n",
              "  @keyframes spin {\n",
              "    0% {\n",
              "      border-color: transparent;\n",
              "      border-bottom-color: var(--fill-color);\n",
              "      border-left-color: var(--fill-color);\n",
              "    }\n",
              "    20% {\n",
              "      border-color: transparent;\n",
              "      border-left-color: var(--fill-color);\n",
              "      border-top-color: var(--fill-color);\n",
              "    }\n",
              "    30% {\n",
              "      border-color: transparent;\n",
              "      border-left-color: var(--fill-color);\n",
              "      border-top-color: var(--fill-color);\n",
              "      border-right-color: var(--fill-color);\n",
              "    }\n",
              "    40% {\n",
              "      border-color: transparent;\n",
              "      border-right-color: var(--fill-color);\n",
              "      border-top-color: var(--fill-color);\n",
              "    }\n",
              "    60% {\n",
              "      border-color: transparent;\n",
              "      border-right-color: var(--fill-color);\n",
              "    }\n",
              "    80% {\n",
              "      border-color: transparent;\n",
              "      border-right-color: var(--fill-color);\n",
              "      border-bottom-color: var(--fill-color);\n",
              "    }\n",
              "    90% {\n",
              "      border-color: transparent;\n",
              "      border-bottom-color: var(--fill-color);\n",
              "    }\n",
              "  }\n",
              "</style>\n",
              "\n",
              "  <script>\n",
              "    async function quickchart(key) {\n",
              "      const quickchartButtonEl =\n",
              "        document.querySelector('#' + key + ' button');\n",
              "      quickchartButtonEl.disabled = true;  // To prevent multiple clicks.\n",
              "      quickchartButtonEl.classList.add('colab-df-spinner');\n",
              "      try {\n",
              "        const charts = await google.colab.kernel.invokeFunction(\n",
              "            'suggestCharts', [key], {});\n",
              "      } catch (error) {\n",
              "        console.error('Error during call to suggestCharts:', error);\n",
              "      }\n",
              "      quickchartButtonEl.classList.remove('colab-df-spinner');\n",
              "      quickchartButtonEl.classList.add('colab-df-quickchart-complete');\n",
              "    }\n",
              "    (() => {\n",
              "      let quickchartButtonEl =\n",
              "        document.querySelector('#df-892f68ef-973b-4562-b42b-7bec8ed0fda7 button');\n",
              "      quickchartButtonEl.style.display =\n",
              "        google.colab.kernel.accessAllowed ? 'block' : 'none';\n",
              "    })();\n",
              "  </script>\n",
              "</div>\n",
              "\n",
              "    </div>\n",
              "  </div>\n"
            ],
            "application/vnd.google.colaboratory.intrinsic+json": {
              "type": "dataframe",
              "summary": "{\n  \"name\": \"# ratings have userId, movieId and rating\",\n  \"rows\": 5,\n  \"fields\": [\n    {\n      \"column\": \"userId\",\n      \"properties\": {\n        \"dtype\": \"number\",\n        \"std\": 0,\n        \"min\": 1,\n        \"max\": 1,\n        \"num_unique_values\": 1,\n        \"samples\": [\n          1\n        ],\n        \"semantic_type\": \"\",\n        \"description\": \"\"\n      }\n    },\n    {\n      \"column\": \"movieId\",\n      \"properties\": {\n        \"dtype\": \"number\",\n        \"std\": 24,\n        \"min\": 1,\n        \"max\": 50,\n        \"num_unique_values\": 5,\n        \"samples\": [\n          3\n        ],\n        \"semantic_type\": \"\",\n        \"description\": \"\"\n      }\n    },\n    {\n      \"column\": \"rating\",\n      \"properties\": {\n        \"dtype\": \"number\",\n        \"std\": 0.5477225575051662,\n        \"min\": 4.0,\n        \"max\": 5.0,\n        \"num_unique_values\": 2,\n        \"samples\": [\n          5.0\n        ],\n        \"semantic_type\": \"\",\n        \"description\": \"\"\n      }\n    },\n    {\n      \"column\": \"timestamp\",\n      \"properties\": {\n        \"dtype\": \"number\",\n        \"std\": 944,\n        \"min\": 964981247,\n        \"max\": 964983815,\n        \"num_unique_values\": 5,\n        \"samples\": [\n          964981247\n        ],\n        \"semantic_type\": \"\",\n        \"description\": \"\"\n      }\n    }\n  ]\n}"
            }
          },
          "metadata": {},
          "execution_count": 11
        }
      ]
    },
    {
      "cell_type": "markdown",
      "source": [
        "**how many movies and users?**"
      ],
      "metadata": {
        "id": "_9YgpqtGpoTy"
      }
    },
    {
      "cell_type": "code",
      "source": [
        "no_users = ratings_df['userId'].nunique()\n",
        "no_movies = ratings_df['movieId'].nunique()\n",
        "print(no_users, no_movies)"
      ],
      "metadata": {
        "colab": {
          "base_uri": "https://localhost:8080/"
        },
        "id": "un5o9ZVvd9D2",
        "outputId": "13b91d22-49a7-4ef2-a82b-e502e656601c"
      },
      "execution_count": null,
      "outputs": [
        {
          "output_type": "stream",
          "name": "stdout",
          "text": [
            "610 9724\n"
          ]
        }
      ]
    },
    {
      "cell_type": "markdown",
      "source": [
        "**get genres as a list**"
      ],
      "metadata": {
        "id": "sE5SujGgprwZ"
      }
    },
    {
      "cell_type": "code",
      "source": [
        "movies_df['genres'] = movies_df['genres'].apply(lambda x: x.split('|') if isinstance(x, str) else [])\n",
        "movies_df.head()"
      ],
      "metadata": {
        "colab": {
          "base_uri": "https://localhost:8080/",
          "height": 206
        },
        "id": "bVH8XcH-c7ek",
        "outputId": "caf13c37-d2a5-4087-e4f6-5bd9f1a1444e"
      },
      "execution_count": null,
      "outputs": [
        {
          "output_type": "execute_result",
          "data": {
            "text/plain": [
              "   movieId                               title  \\\n",
              "0        1                    Toy Story (1995)   \n",
              "1        2                      Jumanji (1995)   \n",
              "2        3             Grumpier Old Men (1995)   \n",
              "3        4            Waiting to Exhale (1995)   \n",
              "4        5  Father of the Bride Part II (1995)   \n",
              "\n",
              "                                              genres  \n",
              "0  [Adventure, Animation, Children, Comedy, Fantasy]  \n",
              "1                     [Adventure, Children, Fantasy]  \n",
              "2                                  [Comedy, Romance]  \n",
              "3                           [Comedy, Drama, Romance]  \n",
              "4                                           [Comedy]  "
            ],
            "text/html": [
              "\n",
              "  <div id=\"df-7be71e1b-7b7d-4cc9-a0de-a95c056c321e\" class=\"colab-df-container\">\n",
              "    <div>\n",
              "<style scoped>\n",
              "    .dataframe tbody tr th:only-of-type {\n",
              "        vertical-align: middle;\n",
              "    }\n",
              "\n",
              "    .dataframe tbody tr th {\n",
              "        vertical-align: top;\n",
              "    }\n",
              "\n",
              "    .dataframe thead th {\n",
              "        text-align: right;\n",
              "    }\n",
              "</style>\n",
              "<table border=\"1\" class=\"dataframe\">\n",
              "  <thead>\n",
              "    <tr style=\"text-align: right;\">\n",
              "      <th></th>\n",
              "      <th>movieId</th>\n",
              "      <th>title</th>\n",
              "      <th>genres</th>\n",
              "    </tr>\n",
              "  </thead>\n",
              "  <tbody>\n",
              "    <tr>\n",
              "      <th>0</th>\n",
              "      <td>1</td>\n",
              "      <td>Toy Story (1995)</td>\n",
              "      <td>[Adventure, Animation, Children, Comedy, Fantasy]</td>\n",
              "    </tr>\n",
              "    <tr>\n",
              "      <th>1</th>\n",
              "      <td>2</td>\n",
              "      <td>Jumanji (1995)</td>\n",
              "      <td>[Adventure, Children, Fantasy]</td>\n",
              "    </tr>\n",
              "    <tr>\n",
              "      <th>2</th>\n",
              "      <td>3</td>\n",
              "      <td>Grumpier Old Men (1995)</td>\n",
              "      <td>[Comedy, Romance]</td>\n",
              "    </tr>\n",
              "    <tr>\n",
              "      <th>3</th>\n",
              "      <td>4</td>\n",
              "      <td>Waiting to Exhale (1995)</td>\n",
              "      <td>[Comedy, Drama, Romance]</td>\n",
              "    </tr>\n",
              "    <tr>\n",
              "      <th>4</th>\n",
              "      <td>5</td>\n",
              "      <td>Father of the Bride Part II (1995)</td>\n",
              "      <td>[Comedy]</td>\n",
              "    </tr>\n",
              "  </tbody>\n",
              "</table>\n",
              "</div>\n",
              "    <div class=\"colab-df-buttons\">\n",
              "\n",
              "  <div class=\"colab-df-container\">\n",
              "    <button class=\"colab-df-convert\" onclick=\"convertToInteractive('df-7be71e1b-7b7d-4cc9-a0de-a95c056c321e')\"\n",
              "            title=\"Convert this dataframe to an interactive table.\"\n",
              "            style=\"display:none;\">\n",
              "\n",
              "  <svg xmlns=\"http://www.w3.org/2000/svg\" height=\"24px\" viewBox=\"0 -960 960 960\">\n",
              "    <path d=\"M120-120v-720h720v720H120Zm60-500h600v-160H180v160Zm220 220h160v-160H400v160Zm0 220h160v-160H400v160ZM180-400h160v-160H180v160Zm440 0h160v-160H620v160ZM180-180h160v-160H180v160Zm440 0h160v-160H620v160Z\"/>\n",
              "  </svg>\n",
              "    </button>\n",
              "\n",
              "  <style>\n",
              "    .colab-df-container {\n",
              "      display:flex;\n",
              "      gap: 12px;\n",
              "    }\n",
              "\n",
              "    .colab-df-convert {\n",
              "      background-color: #E8F0FE;\n",
              "      border: none;\n",
              "      border-radius: 50%;\n",
              "      cursor: pointer;\n",
              "      display: none;\n",
              "      fill: #1967D2;\n",
              "      height: 32px;\n",
              "      padding: 0 0 0 0;\n",
              "      width: 32px;\n",
              "    }\n",
              "\n",
              "    .colab-df-convert:hover {\n",
              "      background-color: #E2EBFA;\n",
              "      box-shadow: 0px 1px 2px rgba(60, 64, 67, 0.3), 0px 1px 3px 1px rgba(60, 64, 67, 0.15);\n",
              "      fill: #174EA6;\n",
              "    }\n",
              "\n",
              "    .colab-df-buttons div {\n",
              "      margin-bottom: 4px;\n",
              "    }\n",
              "\n",
              "    [theme=dark] .colab-df-convert {\n",
              "      background-color: #3B4455;\n",
              "      fill: #D2E3FC;\n",
              "    }\n",
              "\n",
              "    [theme=dark] .colab-df-convert:hover {\n",
              "      background-color: #434B5C;\n",
              "      box-shadow: 0px 1px 3px 1px rgba(0, 0, 0, 0.15);\n",
              "      filter: drop-shadow(0px 1px 2px rgba(0, 0, 0, 0.3));\n",
              "      fill: #FFFFFF;\n",
              "    }\n",
              "  </style>\n",
              "\n",
              "    <script>\n",
              "      const buttonEl =\n",
              "        document.querySelector('#df-7be71e1b-7b7d-4cc9-a0de-a95c056c321e button.colab-df-convert');\n",
              "      buttonEl.style.display =\n",
              "        google.colab.kernel.accessAllowed ? 'block' : 'none';\n",
              "\n",
              "      async function convertToInteractive(key) {\n",
              "        const element = document.querySelector('#df-7be71e1b-7b7d-4cc9-a0de-a95c056c321e');\n",
              "        const dataTable =\n",
              "          await google.colab.kernel.invokeFunction('convertToInteractive',\n",
              "                                                    [key], {});\n",
              "        if (!dataTable) return;\n",
              "\n",
              "        const docLinkHtml = 'Like what you see? Visit the ' +\n",
              "          '<a target=\"_blank\" href=https://colab.research.google.com/notebooks/data_table.ipynb>data table notebook</a>'\n",
              "          + ' to learn more about interactive tables.';\n",
              "        element.innerHTML = '';\n",
              "        dataTable['output_type'] = 'display_data';\n",
              "        await google.colab.output.renderOutput(dataTable, element);\n",
              "        const docLink = document.createElement('div');\n",
              "        docLink.innerHTML = docLinkHtml;\n",
              "        element.appendChild(docLink);\n",
              "      }\n",
              "    </script>\n",
              "  </div>\n",
              "\n",
              "\n",
              "<div id=\"df-f36b723f-a3cf-466d-98e7-768687d2084d\">\n",
              "  <button class=\"colab-df-quickchart\" onclick=\"quickchart('df-f36b723f-a3cf-466d-98e7-768687d2084d')\"\n",
              "            title=\"Suggest charts\"\n",
              "            style=\"display:none;\">\n",
              "\n",
              "<svg xmlns=\"http://www.w3.org/2000/svg\" height=\"24px\"viewBox=\"0 0 24 24\"\n",
              "     width=\"24px\">\n",
              "    <g>\n",
              "        <path d=\"M19 3H5c-1.1 0-2 .9-2 2v14c0 1.1.9 2 2 2h14c1.1 0 2-.9 2-2V5c0-1.1-.9-2-2-2zM9 17H7v-7h2v7zm4 0h-2V7h2v10zm4 0h-2v-4h2v4z\"/>\n",
              "    </g>\n",
              "</svg>\n",
              "  </button>\n",
              "\n",
              "<style>\n",
              "  .colab-df-quickchart {\n",
              "      --bg-color: #E8F0FE;\n",
              "      --fill-color: #1967D2;\n",
              "      --hover-bg-color: #E2EBFA;\n",
              "      --hover-fill-color: #174EA6;\n",
              "      --disabled-fill-color: #AAA;\n",
              "      --disabled-bg-color: #DDD;\n",
              "  }\n",
              "\n",
              "  [theme=dark] .colab-df-quickchart {\n",
              "      --bg-color: #3B4455;\n",
              "      --fill-color: #D2E3FC;\n",
              "      --hover-bg-color: #434B5C;\n",
              "      --hover-fill-color: #FFFFFF;\n",
              "      --disabled-bg-color: #3B4455;\n",
              "      --disabled-fill-color: #666;\n",
              "  }\n",
              "\n",
              "  .colab-df-quickchart {\n",
              "    background-color: var(--bg-color);\n",
              "    border: none;\n",
              "    border-radius: 50%;\n",
              "    cursor: pointer;\n",
              "    display: none;\n",
              "    fill: var(--fill-color);\n",
              "    height: 32px;\n",
              "    padding: 0;\n",
              "    width: 32px;\n",
              "  }\n",
              "\n",
              "  .colab-df-quickchart:hover {\n",
              "    background-color: var(--hover-bg-color);\n",
              "    box-shadow: 0 1px 2px rgba(60, 64, 67, 0.3), 0 1px 3px 1px rgba(60, 64, 67, 0.15);\n",
              "    fill: var(--button-hover-fill-color);\n",
              "  }\n",
              "\n",
              "  .colab-df-quickchart-complete:disabled,\n",
              "  .colab-df-quickchart-complete:disabled:hover {\n",
              "    background-color: var(--disabled-bg-color);\n",
              "    fill: var(--disabled-fill-color);\n",
              "    box-shadow: none;\n",
              "  }\n",
              "\n",
              "  .colab-df-spinner {\n",
              "    border: 2px solid var(--fill-color);\n",
              "    border-color: transparent;\n",
              "    border-bottom-color: var(--fill-color);\n",
              "    animation:\n",
              "      spin 1s steps(1) infinite;\n",
              "  }\n",
              "\n",
              "  @keyframes spin {\n",
              "    0% {\n",
              "      border-color: transparent;\n",
              "      border-bottom-color: var(--fill-color);\n",
              "      border-left-color: var(--fill-color);\n",
              "    }\n",
              "    20% {\n",
              "      border-color: transparent;\n",
              "      border-left-color: var(--fill-color);\n",
              "      border-top-color: var(--fill-color);\n",
              "    }\n",
              "    30% {\n",
              "      border-color: transparent;\n",
              "      border-left-color: var(--fill-color);\n",
              "      border-top-color: var(--fill-color);\n",
              "      border-right-color: var(--fill-color);\n",
              "    }\n",
              "    40% {\n",
              "      border-color: transparent;\n",
              "      border-right-color: var(--fill-color);\n",
              "      border-top-color: var(--fill-color);\n",
              "    }\n",
              "    60% {\n",
              "      border-color: transparent;\n",
              "      border-right-color: var(--fill-color);\n",
              "    }\n",
              "    80% {\n",
              "      border-color: transparent;\n",
              "      border-right-color: var(--fill-color);\n",
              "      border-bottom-color: var(--fill-color);\n",
              "    }\n",
              "    90% {\n",
              "      border-color: transparent;\n",
              "      border-bottom-color: var(--fill-color);\n",
              "    }\n",
              "  }\n",
              "</style>\n",
              "\n",
              "  <script>\n",
              "    async function quickchart(key) {\n",
              "      const quickchartButtonEl =\n",
              "        document.querySelector('#' + key + ' button');\n",
              "      quickchartButtonEl.disabled = true;  // To prevent multiple clicks.\n",
              "      quickchartButtonEl.classList.add('colab-df-spinner');\n",
              "      try {\n",
              "        const charts = await google.colab.kernel.invokeFunction(\n",
              "            'suggestCharts', [key], {});\n",
              "      } catch (error) {\n",
              "        console.error('Error during call to suggestCharts:', error);\n",
              "      }\n",
              "      quickchartButtonEl.classList.remove('colab-df-spinner');\n",
              "      quickchartButtonEl.classList.add('colab-df-quickchart-complete');\n",
              "    }\n",
              "    (() => {\n",
              "      let quickchartButtonEl =\n",
              "        document.querySelector('#df-f36b723f-a3cf-466d-98e7-768687d2084d button');\n",
              "      quickchartButtonEl.style.display =\n",
              "        google.colab.kernel.accessAllowed ? 'block' : 'none';\n",
              "    })();\n",
              "  </script>\n",
              "</div>\n",
              "\n",
              "    </div>\n",
              "  </div>\n"
            ],
            "application/vnd.google.colaboratory.intrinsic+json": {
              "type": "dataframe",
              "variable_name": "movies_df",
              "summary": "{\n  \"name\": \"movies_df\",\n  \"rows\": 9742,\n  \"fields\": [\n    {\n      \"column\": \"movieId\",\n      \"properties\": {\n        \"dtype\": \"number\",\n        \"std\": 52160,\n        \"min\": 1,\n        \"max\": 193609,\n        \"num_unique_values\": 9742,\n        \"samples\": [\n          45635,\n          1373,\n          7325\n        ],\n        \"semantic_type\": \"\",\n        \"description\": \"\"\n      }\n    },\n    {\n      \"column\": \"title\",\n      \"properties\": {\n        \"dtype\": \"string\",\n        \"num_unique_values\": 9737,\n        \"samples\": [\n          \"Teenage Mutant Ninja Turtles (2014)\",\n          \"America's Sweethearts (2001)\",\n          \"Cast Away (2000)\"\n        ],\n        \"semantic_type\": \"\",\n        \"description\": \"\"\n      }\n    },\n    {\n      \"column\": \"genres\",\n      \"properties\": {\n        \"dtype\": \"object\",\n        \"semantic_type\": \"\",\n        \"description\": \"\"\n      }\n    }\n  ]\n}"
            }
          },
          "metadata": {},
          "execution_count": 13
        }
      ]
    },
    {
      "cell_type": "markdown",
      "source": [
        "**plot genre frequency**"
      ],
      "metadata": {
        "id": "bknNZCTLpwvm"
      }
    },
    {
      "cell_type": "code",
      "source": [
        "from collections import Counter\n",
        "\n",
        "genre_frequency = Counter()\n",
        "for genres in movies_df['genres']:\n",
        "    genre_frequency.update(genres)\n",
        "\n",
        "genre_frequency.most_common(10)\n",
        "\n",
        "genre_frequency_df = pd.DataFrame(genre_frequency.most_common(), columns=['genre', 'count'])\n",
        "genre_frequency_df\n",
        "\n",
        "plt.figure(figsize=(10, 6))\n",
        "plt.bar(genre_frequency_df['genre'], genre_frequency_df['count'])\n",
        "plt.xticks(rotation=90)\n",
        "plt.xlabel('Genre')\n",
        "plt.ylabel('Count')\n"
      ],
      "metadata": {
        "colab": {
          "base_uri": "https://localhost:8080/",
          "height": 667
        },
        "id": "d10kfvZ4eyIT",
        "outputId": "d7b5a6c4-ed14-4013-c6d9-c800fe2650c2"
      },
      "execution_count": null,
      "outputs": [
        {
          "output_type": "execute_result",
          "data": {
            "text/plain": [
              "Text(0, 0.5, 'Count')"
            ]
          },
          "metadata": {},
          "execution_count": 14
        },
        {
          "output_type": "display_data",
          "data": {
            "text/plain": [
              "<Figure size 1000x600 with 1 Axes>"
            ],
            "image/png": "[encoded data removed]"
          },
          "metadata": {}
        }
      ]
    },
    {
      "cell_type": "markdown",
      "source": [
        "**find closest match to title**"
      ],
      "metadata": {
        "id": "qDzZBSG0p89B"
      }
    },
    {
      "cell_type": "code",
      "source": [
        "!pip install fuzzywuzzy\n",
        "from fuzzywuzzy import process\n",
        "\n",
        "def movie_finder(title):\n",
        "    all_titles = movies_df['title'].tolist()\n",
        "    closest_match = process.extractOne(title, all_titles)\n",
        "    return closest_match[0]\n",
        "\n",
        "print(movie_finder(\"jumanji\"))"
      ],
      "metadata": {
        "colab": {
          "base_uri": "https://localhost:8080/"
        },
        "id": "kO7pgsb2pXEV",
        "outputId": "b2d614c5-631d-451a-fda3-bfcf051e3fea"
      },
      "execution_count": null,
      "outputs": [
        {
          "output_type": "stream",
          "name": "stdout",
          "text": [
            "Collecting fuzzywuzzy\n",
            "  Downloading fuzzywuzzy-0.18.0-py2.py3-none-any.whl.metadata (4.9 kB)\n",
            "Downloading fuzzywuzzy-0.18.0-py2.py3-none-any.whl (18 kB)\n",
            "Installing collected packages: fuzzywuzzy\n",
            "Successfully installed fuzzywuzzy-0.18.0\n"
          ]
        },
        {
          "output_type": "stream",
          "name": "stderr",
          "text": [
            "/usr/local/lib/python3.10/dist-packages/fuzzywuzzy/fuzz.py:11: UserWarning: Using slow pure-python SequenceMatcher. Install python-Levenshtein to remove this warning\n",
            "  warnings.warn('Using slow pure-python SequenceMatcher. Install python-Levenshtein to remove this warning')\n"
          ]
        },
        {
          "output_type": "stream",
          "name": "stdout",
          "text": [
            "Jumanji (1995)\n"
          ]
        }
      ]
    },
    {
      "cell_type": "markdown",
      "source": [
        "**remove the year from the titles**"
      ],
      "metadata": {
        "id": "S0Alria807dV"
      }
    },
    {
      "cell_type": "code",
      "source": [
        "import re\n",
        "\n",
        "def remove_year(title):\n",
        "  return re.sub(r'\\(\\d{4}\\)', '', title).strip()\n",
        "\n",
        "movies_df['title'] = movies_df['title'].apply(remove_year)"
      ],
      "metadata": {
        "id": "zArSBLV506uE"
      },
      "execution_count": null,
      "outputs": []
    },
    {
      "cell_type": "markdown",
      "source": [
        "**map movie id to titles and titles to movie id**\n",
        "\n"
      ],
      "metadata": {
        "id": "JeNdx0BlrCMh"
      }
    },
    {
      "cell_type": "code",
      "source": [
        "id_to_titles = movies_df.set_index('movieId')['title'].to_dict() # map movieId to title\n",
        "print(id_to_titles.values())\n",
        "titles_to_id = movies_df.set_index('title')['movieId'].to_dict() # map movie title to movieId\n",
        "print(titles_to_id.values())"
      ],
      "metadata": {
        "colab": {
          "base_uri": "https://localhost:8080/"
        },
        "id": "yyHou4DSqoDL",
        "outputId": "35c85214-496b-4ccb-fc45-42eac0d48aa2"
      },
      "execution_count": null,
      "outputs": [
        {
          "output_type": "stream",
          "name": "stdout",
          "text": [
            "dict_values(['Toy Story', 'Jumanji', 'Grumpier Old Men', 'Waiting to Exhale', 'Father of the Bride Part II', 'Heat', 'Sabrina', 'Tom and Huck', 'Sudden Death', 'GoldenEye', 'American President, The', 'Dracula: Dead and Loving It', 'Balto', 'Nixon', 'Cutthroat Island', 'Casino', 'Sense and Sensibility', 'Four Rooms', 'Ace Ventura: When Nature Calls', 'Money Train', 'Get Shorty', 'Copycat', 'Assassins', 'Powder', 'Leaving Las Vegas', 'Othello', 'Now and Then', 'Persuasion', 'City of Lost Children, The (Cité des enfants perdus, La)', 'Shanghai Triad (Yao a yao yao dao waipo qiao)', 'Dangerous Minds', 'Twelve Monkeys (a.k.a. 12 Monkeys)', 'Babe', 'Dead Man Walking', 'It Takes Two', 'Clueless', 'Cry, the Beloved Country', 'Richard III', 'Dead Presidents', 'Restoration', 'Mortal Kombat', 'To Die For', 'How to Make an American Quilt', 'Seven (a.k.a. Se7en)', 'Pocahontas', 'When Night Is Falling', 'Usual Suspects, The', 'Mighty Aphrodite', 'Lamerica', 'Big Green, The', 'Georgia', 'Home for the Holidays', 'Postman, The (Postino, Il)', 'Indian in the Cupboard, The', 'Eye for an Eye', \"Mr. Holland's Opus\", \"Don't Be a Menace to South Central While Drinking Your Juice in the Hood\", 'Two if by Sea', 'Bio-Dome', 'Lawnmower Man 2: Beyond Cyberspace', 'French Twist (Gazon maudit)', 'Friday', 'From Dusk Till Dawn', 'Fair Game', 'Kicking and Screaming', 'Misérables, Les', 'Bed of Roses', 'Big Bully', 'Screamers', 'Nico Icon', 'Crossing Guard, The', 'Juror, The', 'White Balloon, The (Badkonake sefid)', \"Things to Do in Denver When You're Dead\", \"Antonia's Line (Antonia)\", 'Once Upon a Time... When We Were Colored', 'Angels and Insects', 'White Squall', 'Dunston Checks In', 'Black Sheep', 'Nick of Time', 'Mary Reilly', 'Vampire in Brooklyn', 'Beautiful Girls', 'Broken Arrow', 'In the Bleak Midwinter', 'Hate (Haine, La)', 'Heidi Fleiss: Hollywood Madam', 'City Hall', 'Bottle Rocket', 'Mr. Wrong', 'Unforgettable', 'Happy Gilmore', 'Bridges of Madison County, The', 'Nobody Loves Me (Keiner liebt mich)', 'Muppet Treasure Island', 'Catwalk', 'Braveheart', 'Taxi Driver', 'Rumble in the Bronx (Hont faan kui)', 'Before and After', 'Anne Frank Remembered', \"Young Poisoner's Handbook, The\", 'If Lucy Fell', 'Steal Big, Steal Little', 'Boys of St. Vincent, The', 'Boomerang', 'Chungking Express (Chung Hing sam lam)', 'Flirting With Disaster', 'NeverEnding Story III, The', \"Jupiter's Wife\", 'Pie in the Sky', 'Jade', 'Down Periscope', 'Man of the Year', 'Up Close and Personal', 'Birdcage, The', 'Brothers McMullen, The', 'Bad Boys', 'Amazing Panda Adventure, The', 'Basketball Diaries, The', 'Awfully Big Adventure, An', 'Amateur', 'Apollo 13', 'Rob Roy', 'Addiction, The', 'Batman Forever', 'Beauty of the Day (Belle de jour)', 'Beyond Rangoon', 'Blue in the Face', 'Canadian Bacon', 'Casper', 'Clockers', 'Congo', 'Crimson Tide', 'Crumb', 'Desperado', 'Devil in a Blue Dress', 'Die Hard: With a Vengeance', 'Doom Generation, The', 'First Knight', 'Free Willy 2: The Adventure Home', 'Hackers', 'Jeffrey', 'Johnny Mnemonic', 'Judge Dredd', 'Jury Duty', 'Kids', 'Living in Oblivion', 'Lord of Illusions', 'Love & Human Remains', 'Mad Love', 'Mallrats', 'Mighty Morphin Power Rangers: The Movie', 'Mute Witness', 'Nadja', 'Net, The', 'Nine Months', 'Party Girl', 'Prophecy, The', 'Reckless', 'Safe', 'Scarlet Letter, The', 'Showgirls', 'Smoke', 'Something to Talk About', 'Species', 'Strange Days', 'Umbrellas of Cherbourg, The (Parapluies de Cherbourg, Les)', 'Three Wishes', 'Total Eclipse', 'To Wong Foo, Thanks for Everything! Julie Newmar', 'Under Siege 2: Dark Territory', 'Unstrung Heroes', 'Unzipped', 'Walk in the Clouds, A', 'Waterworld', \"White Man's Burden\", 'Wild Bill', 'Browning Version, The', 'Bushwhacked', 'Burnt by the Sun (Utomlyonnye solntsem)', 'Before the Rain (Pred dozhdot)', 'Before Sunrise', 'Billy Madison', 'Babysitter, The', 'Boys on the Side', 'Cure, The', 'Castle Freak', 'Circle of Friends', 'Clerks', 'Don Juan DeMarco', 'Disclosure', 'Drop Zone', 'Destiny Turns on the Radio', 'Death and the Maiden', 'Dolores Claiborne', 'Dumb & Dumber (Dumb and Dumber)', 'Eat Drink Man Woman (Yin shi nan nu)', 'Exotica', 'Exit to Eden', 'Ed Wood', 'French Kiss', 'Forget Paris', 'Far From Home: The Adventures of Yellow Dog', 'Goofy Movie, A', 'Hideaway', 'Fluke', 'Farinelli: il castrato', 'Gordy', 'Hoop Dreams', 'Heavenly Creatures', 'Houseguest', 'Immortal Beloved', 'Heavyweights (Heavy Weights)', 'Hunted, The', 'I.Q.', 'Interview with the Vampire: The Vampire Chronicles', 'Jefferson in Paris', 'Jerky Boys, The', 'Junior', 'Just Cause', \"Kid in King Arthur's Court, A\", 'Kiss of Death', 'Star Wars: Episode IV - A New Hope', 'Little Women', 'Little Princess, A', 'Ladybird Ladybird', 'Like Water for Chocolate (Como agua para chocolate)', 'Legends of the Fall', 'Major Payne', 'My Crazy Life (Mi vida loca)', 'Love Affair', 'Losing Isaiah', 'Madness of King George, The', \"Mary Shelley's Frankenstein (Frankenstein)\", 'Man of the House', 'Mixed Nuts', 'Milk Money', 'Miracle on 34th Street', 'Miami Rhapsody', 'My Family', 'Murder in the First', \"Nobody's Fool\", 'Nell', 'New Jersey Drive', 'New York Cop (Nyû Yôku no koppu)', 'Beyond Bedlam', 'Nina Takes a Lover', 'Natural Born Killers', 'Only You', 'Once Were Warriors', 'Poison Ivy II', 'Outbreak', 'Léon: The Professional (a.k.a. The Professional) (Léon)', 'Perez Family, The', \"Pyromaniac's Love Story, A\", 'Pulp Fiction', 'Pushing Hands (Tui shou)', 'Priest', 'Quiz Show', 'Picture Bride (Bijo photo)', 'Queen Margot (Reine Margot, La)', 'Quick and the Dead, The', 'Roommates', 'Ready to Wear (Pret-A-Porter)', 'Three Colors: Red (Trois couleurs: Rouge)', 'Three Colors: Blue (Trois couleurs: Bleu)', 'Three Colors: White (Trzy kolory: Bialy)', 'Rent-a-Kid', 'Relative Fear', 'Stuart Saves His Family', 'Swan Princess, The', 'Secret of Roan Inish, The', 'Specialist, The', 'Stargate', 'Santa Clause, The', 'Shawshank Redemption, The', 'Shallow Grave', 'Suture', 'Strawberry and Chocolate (Fresa y chocolate)', 'Swimming with Sharks', 'Sum of Us, The', \"National Lampoon's Senior Trip\", 'To Live (Huozhe)', 'Tank Girl', 'Tales from the Crypt Presents: Demon Knight', 'Star Trek: Generations', 'Tales from the Hood', 'Tom & Viv', 'Village of the Damned', 'Tommy Boy', 'Vanya on 42nd Street', 'Underneath', 'Walking Dead, The', \"What's Eating Gilbert Grape\", 'Virtuosity', 'While You Were Sleeping', 'War, The', 'Double Happiness', \"Muriel's Wedding\", 'Baby-Sitters Club, The', 'Ace Ventura: Pet Detective', 'Adventures of Priscilla, Queen of the Desert, The', 'Backbeat', 'Bitter Moon', 'Bullets Over Broadway', 'Clear and Present Danger', 'Client, The', 'Corrina, Corrina', 'Crooklyn', 'Crow, The', 'Cobb', 'Flintstones, The', 'Forrest Gump', 'Four Weddings and a Funeral', 'Higher Learning', 'I Like It Like That', 'I Love Trouble', 'It Could Happen to You', 'Jungle Book, The', 'Wonderful, Horrible Life of Leni Riefenstahl, The (Macht der Bilder: Leni Riefenstahl, Die)', 'Lion King, The', 'Little Buddha', \"Wes Craven's New Nightmare (Nightmare on Elm Street Part 7: Freddy's Finale, A)\", 'Mask, The', 'Maverick', 'Mrs. Parker and the Vicious Circle', 'Naked Gun 33 1/3: The Final Insult', 'Paper, The', 'Reality Bites', 'Red Rock West', 'Richie Rich', 'River Wild, The', 'Speed', 'Speechless', 'Timecop', 'True Lies', 'When a Man Loves a Woman', 'Wolf', 'Wyatt Earp', 'Bad Company', 'Man of No Importance, A', 'S.F.W.', 'Low Down Dirty Shame, A', 'Boys Life', 'Colonel Chabert, Le', 'Faster Pussycat! Kill! Kill!', \"Jason's Lyric\", 'Street Fighter', 'Highlander III: The Sorcerer (a.k.a. Highlander: The Final Dimension)', 'Federal Hill', 'In the Mouth of Madness', '8 Seconds', 'Above the Rim', 'Addams Family Values', 'Age of Innocence, The', 'Airheads', 'Air Up There, The', 'Another Stakeout', 'Bad Girls', 'Barcelona', 'Being Human', 'Beverly Hillbillies, The', 'Beverly Hills Cop III', 'Black Beauty', 'Blink', 'Blown Away', 'Blue Chips', 'Blue Sky', 'Body Snatchers', 'Boxing Helena', 'Bronx Tale, A', 'Cabin Boy', 'Calendar Girl', \"Carlito's Way\", \"City Slickers II: The Legend of Curly's Gold\", 'Clean Slate', 'Cliffhanger', 'Coneheads', 'Color of Night', 'Cops and Robbersons', 'Cowboy Way, The', 'Dave', 'Dazed and Confused', 'Demolition Man', 'Even Cowgirls Get the Blues', 'Fatal Instinct', 'Farewell My Concubine (Ba wang bie ji)', 'Fearless', 'Fear of a Black Hat', 'With Honors', 'Flesh and Bone', \"Widows' Peak\", 'For Love or Money', 'Firm, The', 'Free Willy', 'Fresh', 'Fugitive, The', 'Geronimo: An American Legend', 'Getaway, The', 'Getting Even with Dad', 'Go Fish', 'Hard Target', 'Hot Shots! Part Deux', 'Live Nude Girls', 'Englishman Who Went Up a Hill But Came Down a Mountain, The', 'House of the Spirits, The', 'House Party 3', 'Hudsucker Proxy, The', \"I'll Do Anything\", 'In the Army Now', 'In the Line of Fire', 'In the Name of the Father', 'Inkwell, The', \"What's Love Got to Do with It?\", 'Jimmy Hollywood', 'Judgment Night', 'Jurassic Park', 'Kalifornia', 'Killing Zoe', 'Lassie', 'Last Action Hero', 'Life with Mikey', 'Lightning Jack', 'M. Butterfly', 'Made in America', 'Malice', 'Man Without a Face, The', 'Manhattan Murder Mystery', 'Menace II Society', 'Executive Decision', 'In the Realm of the Senses (Ai no corrida)', 'What Happened Was...', 'Much Ado About Nothing', 'Mr. Wonderful', 'Mrs. Doubtfire', 'Naked', 'Next Karate Kid, The', 'No Escape', 'North', 'Orlando', 'Perfect World, A', 'Philadelphia', 'Piano, The', 'Poetic Justice', 'Program, The', 'Puppet Masters, The', 'Radioland Murders', 'Ref, The', 'Remains of the Day, The', 'Renaissance Man', 'Rising Sun', 'Road to Wellville, The', 'RoboCop 3', 'Robin Hood: Men in Tights', 'Romeo Is Bleeding', 'Romper Stomper', 'Ruby in Paradise', 'Rudy', 'Savage Nights (Nuits fauves, Les)', \"Schindler's List\", 'Scout, The', 'Searching for Bobby Fischer', 'Secret Garden, The', 'Serial Mom', 'Shadow, The', 'Shadowlands', 'Short Cuts', 'Simple Twist of Fate, A', 'Sirens', 'Six Degrees of Separation', 'Sleepless in Seattle', 'Sliver', 'Blade Runner', 'Son in Law', 'So I Married an Axe Murderer', 'Striking Distance', 'Super Mario Bros.', 'Surviving the Game', 'Terminal Velocity', 'Thirty-Two Short Films About Glenn Gould', 'Threesome', 'Nightmare Before Christmas, The', 'Three Musketeers, The', 'Tombstone', 'True Romance', 'War Room, The', 'Pagemaster, The', 'Welcome to the Dollhouse', 'Germinal', 'Chasers', 'Kika', 'Bhaji on the Beach', 'Little Big League', 'Ciao, Professore! (Io speriamo che me la cavo)', 'Spanking the Monkey', 'Little Rascals, The', 'Andre', 'Escort, The (Scorta, La)', 'Princess Caraboo', 'Celluloid Closet, The', 'Dear Diary (Caro Diario)', 'Brady Bunch Movie, The', 'Home Alone', 'Ghost', 'Aladdin', 'Terminator 2: Judgment Day', 'Dances with Wolves', 'Batman', 'Silence of the Lambs, The', 'Snow White and the Seven Dwarfs', 'Beauty and the Beast', 'Pinocchio', 'Pretty Woman', 'Wild Bunch, The', 'Love and a .45', 'Great Day in Harlem, A', 'One Fine Day', 'Candyman: Farewell to the Flesh', 'Fargo', 'Homeward Bound II: Lost in San Francisco', 'Heavy Metal', 'Hellraiser: Bloodline', 'Pallbearer, The', 'Jane Eyre', 'Bread and Chocolate (Pane e cioccolata)', 'Aristocats, The', 'Flower of My Secret, The (La flor de mi secreto)', 'Two Much', 'Ed', 'Thin Line Between Love and Hate, A', 'Last Supper, The', 'Primal Fear', 'All Dogs Go to Heaven 2', 'Land and Freedom (Tierra y libertad)', 'Denise Calls Up', 'Theodore Rex', 'Family Thing, A', 'Frisk', 'Sgt. Bilko', 'Jack and Sarah', 'Girl 6', 'Diabolique', 'Nelly & Monsieur Arnaud', 'Courage Under Fire', 'Mission: Impossible', 'Cold Fever (Á köldum klaka)', 'Moll Flanders', 'Dragonheart', 'Eddie', 'James and the Giant Peach', 'Fear', 'Kids in the Hall: Brain Candy', 'Underground', 'Bloodsport 2 (a.k.a. Bloodsport II: The Next Kumite)', 'Song of the Little Road (Pather Panchali)', 'World of Apu, The (Apur Sansar)', 'Mystery Science Theater 3000: The Movie', 'Space Jam', 'Barbarella', 'Some Folks Call It a Sling Blade', 'Run of the Country, The', 'Alphaville (Alphaville, une étrange aventure de Lemmy Caution)', \"It's My Party\", 'Operation Dumbo Drop', 'Mrs. Winterbourne', 'Solo', 'Substitute, The', 'True Crime', 'Feeling Minnesota', 'Delta of Venus', 'Angus', 'Boys', 'Quest, The', 'Sunset Park', 'Mulholland Falls', 'Truth About Cats & Dogs, The', 'Oliver & Company', 'Celtic Pride', 'Flipper', 'Dead Man', 'Horseman on the Roof, The (Hussard sur le toit, Le)', 'Visitors, The (Visiteurs, Les)', 'Multiplicity', 'Wallace & Gromit: The Best of Aardman Animation', 'Haunted World of Edward D. Wood Jr., The', 'Craft, The', 'Great White Hype, The', 'Last Dance', 'Cold Comfort Farm', \"Heaven's Prisoners\", 'Rock, The', 'Cemetery Man (Dellamorte Dellamore)', 'Twister', 'Barb Wire', 'Ghost in the Shell (Kôkaku kidôtai)', 'Thinner', 'Spy Hard', 'Wallace & Gromit: A Close Shave', 'Stupids, The', 'Arrival, The', 'Dr. Strangelove or: How I Learned to Stop Worrying and Love the Bomb', 'Ashes of Time (Dung che sai duk)', 'Maya Lin: A Strong Clear Vision', 'Stalingrad', 'Phantom, The', 'Striptease', 'Heavy', 'Jack', 'I Shot Andy Warhol', 'Touki Bouki', 'Spirits of the Dead', 'Trainspotting', \"'Til There Was You\", 'Independence Day (a.k.a. ID4)', 'Stealing Beauty', 'Fan, The', 'Hunchback of Notre Dame, The', 'Cable Guy, The', 'Kingpin', 'Eraser', 'Nutty Professor, The', 'Unforgettable Summer, An (Un été inoubliable)', 'Last Klezmer: Leopold Kozlowski, His Life and Music, The', 'Somebody to Love', 'Daylight', 'Frighteners, The', 'Lone Star', 'Harriet the Spy', 'Phenomenon', 'Walking and Talking', \"She's the One\", 'Time to Kill, A', 'American Buffalo', 'Alaska', 'Fled', 'Kazaam', 'Larger Than Life', 'Very Brady Sequel, A', 'Collector, The (La collectionneuse)', 'Kaspar Hauser', 'Adventures of Pinocchio, The', \"Joe's Apartment\", 'First Wives Club, The', 'Ransom', 'High School High', 'Foxfire', 'Chain Reaction', 'Matilda', 'Emma', 'Crow: City of Angels, The', 'House Arrest', 'Eyes Without a Face (Yeux sans visage, Les)', 'Tales from the Crypt Presents: Bordello of Blood', 'Spitfire Grill, The', 'Escape from L.A.', 'Basquiat', 'Tin Cup', 'Godfather, The', 'Supercop (Police Story 3: Supercop) (Jing cha gu shi III: Chao ji jing cha)', 'Bound', 'Carpool', 'Kansas City', \"Gone Fishin'\", 'Nothing to Lose', 'Supercop 2 (Project S) (Chao ji ji hua)', 'Relic, The', 'Island of Dr. Moreau, The', 'First Kid', 'Trigger Effect, The', 'Bogus', 'Bulletproof', 'Land Before Time III: The Time of the Great Giving', '1-900 (06)', 'Halloween: The Curse of Michael Myers (Halloween 6: The Curse of Michael Myers)', 'Twelfth Night', 'Mother Night', 'Wild Reeds (Les roseaux sauvages)', 'For Whom the Bell Tolls', 'Philadelphia Story, The', \"Singin' in the Rain\", 'American in Paris, An', 'Funny Face', \"Breakfast at Tiffany's\", 'Vertigo', 'Rear Window', 'It Happened One Night', 'Gaslight', 'Gay Divorcee, The', 'North by Northwest', 'Apartment, The', 'Some Like It Hot', 'Charade', 'Casablanca', 'Maltese Falcon, The', 'My Fair Lady', 'Sabrina', 'Roman Holiday', 'Little Princess, The', 'Meet Me in St. Louis', 'Wizard of Oz, The', 'Gone with the Wind', 'My Favorite Year', 'Sunset Blvd. (a.k.a. Sunset Boulevard)', 'Citizen Kane', '2001: A Space Odyssey', 'All About Eve', 'Women, The', 'Rebecca', 'Foreign Correspondent', 'Notorious', 'Spellbound', 'Affair to Remember, An', 'To Catch a Thief', 'Father of the Bride', 'Band Wagon, The', 'Ninotchka', 'Love in the Afternoon', 'Gigi', 'Adventures of Robin Hood, The', 'Mark of Zorro, The', 'Laura', 'Ghost and Mrs. Muir, The', 'Lost Horizon', 'Top Hat', 'To Be or Not to Be', 'My Man Godfrey', 'Giant', 'East of Eden', 'Thin Man, The', 'His Girl Friday', 'Around the World in 80 Days', \"It's a Wonderful Life\", 'Mr. Smith Goes to Washington', 'Bringing Up Baby', 'Penny Serenade', 'Of Human Bondage', 'Little Lord Fauntleroy', 'Inspector General, The', '39 Steps, The', 'Night of the Living Dead', 'African Queen, The', 'Beat the Devil', 'Cat on a Hot Tin Roof', 'Meet John Doe', 'Farewell to Arms, A', 'Nothing Personal', 'Dangerous Ground', 'Picnic', 'Pompatus of Love, The', 'Fly Away Home', 'Bliss', 'Grace of My Heart', 'Maximum Risk', 'Michael Collins', 'Infinity', 'Big Night', 'Last Man Standing', 'Set It Off', '2 Days in the Valley', 'Extreme Measures', 'Glimmer Man, The', 'D3: The Mighty Ducks', 'Chamber, The', 'Apple Dumpling Gang, The', 'Davy Crockett, King of the Wild Frontier', 'Escape to Witch Mountain', 'Love Bug, The', 'Herbie Rides Again', 'Old Yeller', 'Parent Trap, The', 'Pollyanna', 'Homeward Bound: The Incredible Journey', 'Shaggy Dog, The', 'Swiss Family Robinson', 'That Darn Cat!', '20,000 Leagues Under the Sea', 'Cool Runnings', 'Angels in the Outfield', 'Cinderella', 'Winnie the Pooh and the Blustery Day', 'Three Caballeros, The', 'Sword in the Stone, The', 'Robin Hood: Prince of Thieves', 'Mary Poppins', 'Dumbo', \"Pete's Dragon\", 'Bedknobs and Broomsticks', 'Alice in Wonderland', 'Fox and the Hound, The', 'Freeway', 'Sound of Music, The', 'Die Hard', 'Lawnmower Man, The', 'Secret Agent, The', 'Secrets & Lies', 'That Thing You Do!', 'To Gillian on Her 37th Birthday', 'Beautiful Thing', 'Long Kiss Goodnight, The', 'Ghost and the Darkness, The', 'Looking for Richard', 'Trees Lounge', 'Normal Life', 'Get on the Bus', 'Shadow Conspiracy', 'Jude', 'Everyone Says I Love You', \"William Shakespeare's Romeo + Juliet\", 'Swingers', 'Sleepers', 'Aladdin and the King of Thieves', 'Shall We Dance', 'Crossfire', 'Willy Wonka & the Chocolate Factory', 'Innocents, The', 'Sleeper', 'Bananas', 'Fish Called Wanda, A', \"Monty Python's Life of Brian\", 'Victor/Victoria', 'Candidate, The', 'Great Race, The', 'Bonnie and Clyde', 'Old Man and the Sea, The', 'Dial M for Murder', 'Dirty Dancing', 'Reservoir Dogs', 'Platoon', \"Weekend at Bernie's\", 'Basic Instinct', 'Doors, The', 'Crying Game, The', 'Glengarry Glen Ross', \"Sophie's Choice\", 'E.T. the Extra-Terrestrial', 'Christmas Carol, A', 'Days of Thunder', 'Top Gun', 'Rebel Without a Cause', 'Streetcar Named Desire, A', 'Children of the Corn IV: The Gathering', 'Loser', \"Microcosmos (Microcosmos: Le peuple de l'herbe)\", 'Palookaville', 'Funeral, The', 'Single Girl, A (Fille seule, La)', 'Eighth Day, The (Huitième jour, Le)', 'Drunks', 'People vs. Larry Flynt, The', 'Glory Daze', 'Perfect Candidate, A', 'On Golden Pond', 'Return of the Pink Panther, The', 'Drop Dead Fred', 'Abyss, The', 'Fog, The', 'Escape from New York', 'Howling, The', 'Jean de Florette', 'Manon of the Spring (Manon des sources)', 'Private Benjamin', 'Monty Python and the Holy Grail', 'Hustler White', 'Entertaining Angels: The Dorothy Day Story', 'Line King: The Al Hirschfeld Story, The', 'When We Were Kings', 'Wallace & Gromit: The Wrong Trousers', 'Return of Martin Guerre, The (Retour de Martin Guerre, Le)', 'Lesson Faust', 'Children Are Watching Us, The (Bambini ci guardano, I)', 'Tin Drum, The (Blechtrommel, Die)', 'Ruling Class, The', 'Mina Tannenbaum', 'Dear God', 'Best of the Best 3: No Turning Back', 'Bob Roberts', 'Cinema Paradiso (Nuovo cinema Paradiso)', 'Cook the Thief His Wife & Her Lover, The', 'Delicatessen', 'Double Life of Veronique, The (Double Vie de Véronique, La)', 'Enchanted April', 'Paths of Glory', 'Grifters, The', 'Hear My Song', 'English Patient, The', 'Mediterraneo', 'My Left Foot', 'Sex, Lies, and Videotape', 'Passion Fish', 'Strictly Ballroom', 'Thin Blue Line, The', 'Tie Me Up! Tie Me Down! (¡Átame!)', 'Madonna: Truth or Dare', 'Paris Is Burning', \"One Flew Over the Cuckoo's Nest\", \"Cheech and Chong's Up in Smoke\", 'Star Wars: Episode V - The Empire Strikes Back', 'Princess Bride, The', 'Raiders of the Lost Ark (Indiana Jones and the Raiders of the Lost Ark)', 'Brazil', 'Aliens', 'Good, the Bad and the Ugly, The (Buono, il brutto, il cattivo, Il)', 'Withnail & I', '12 Angry Men', 'Lawrence of Arabia', 'Clockwork Orange, A', 'To Kill a Mockingbird', 'Apocalypse Now', \"Once Upon a Time in the West (C'era una volta il West)\", 'Star Wars: Episode VI - Return of the Jedi', 'Wings of Desire (Himmel über Berlin, Der)', 'Third Man, The', 'Goodfellas', 'Alien', 'Army of Darkness', 'Big Blue, The (Grand bleu, Le)', 'Ran', 'Killer, The (Die xue shuang xiong)', 'Psycho', 'Blues Brothers, The', 'Godfather: Part II, The', 'Full Metal Jacket', 'Grand Day Out with Wallace and Gromit, A', 'Henry V', 'Amadeus', 'Quiet Man, The', 'Once Upon a Time in America', 'Raging Bull', 'Annie Hall', 'Right Stuff, The', 'Stalker', 'Boot, Das (Boat, The)', 'Sting, The', 'Harold and Maude', 'Trust', 'Seventh Seal, The (Sjunde inseglet, Det)', 'Local Hero', 'Terminator, The', 'Dead Alive (Braindead)', 'Glory', 'Rosencrantz and Guildenstern Are Dead', 'Manhattan', \"Miller's Crossing\", 'Dead Poets Society', 'Graduate, The', 'Touch of Evil', 'Femme Nikita, La (Nikita)', 'Bridge on the River Kwai, The', '8 1/2 (8½)', 'Chinatown', 'Day the Earth Stood Still, The', 'Treasure of the Sierra Madre, The', 'Bad Taste', 'Duck Soup', 'Better Off Dead...', 'Shining, The', 'Stand by Me', 'M', 'Evil Dead II (Dead by Dawn)', 'Great Escape, The', 'Deer Hunter, The', 'Diva', 'Groundhog Day', 'Unforgiven', 'Manchurian Candidate, The', 'Pump Up the Volume', 'Arsenic and Old Lace', 'Back to the Future', 'Fried Green Tomatoes', 'Patton', 'Down by Law', 'Akira', 'Highlander', 'Cool Hand Luke', 'Cyrano de Bergerac', 'Young Frankenstein', 'Night on Earth', 'Raise the Red Lantern (Da hong deng long gao gao gua)', 'Great Dictator, The', 'Fantasia', 'High Noon', 'Big Sleep, The', 'Heathers', 'Somewhere in Time', 'Ben-Hur', 'This Is Spinal Tap', 'Koyaanisqatsi (a.k.a. Koyaanisqatsi: Life Out of Balance)', 'Some Kind of Wonderful', 'Indiana Jones and the Last Crusade', 'Being There', 'Gandhi', 'Unbearable Lightness of Being, The', 'Room with a View, A', 'Real Genius', 'Pink Floyd: The Wall', 'Killing Fields, The', 'My Life as a Dog (Mitt liv som hund)', 'Forbidden Planet', 'Field of Dreams', 'Man Who Would Be King, The', 'Butch Cassidy and the Sundance Kid', 'Paris, Texas', 'Until the End of the World (Bis ans Ende der Welt)', 'When Harry Met Sally...', 'Hype!', 'Female Perversions', 'Blue Juice', 'Alien³ (a.k.a. Alien 3)', 'American Werewolf in London, An', \"Amityville 1992: It's About Time\", 'Amityville 3-D', 'Amityville: Dollhouse', 'Amityville: A New Generation', 'Amityville II: The Possession', 'Amityville Horror, The', 'Amityville Curse, The', \"Blood for Dracula (Andy Warhol's Dracula)\", \"April Fool's Day\", 'Audrey Rose', 'Believers, The', 'Birds, The', 'Blob, The', 'Blood Beach', 'Body Parts', 'Body Snatcher, The', \"Dracula (Bram Stoker's Dracula)\", 'Bride of Frankenstein, The (Bride of Frankenstein)', 'Burnt Offerings', 'Candyman', 'Cape Fear', 'Cape Fear', 'Carrie', 'Cat People', 'Nightmare on Elm Street, A', 'Nosferatu (Nosferatu, eine Symphonie des Grauens)', 'Vampire in Venice (Nosferatu a Venezia) (Nosferatu in Venice)', 'Omen, The', 'Blood and Wine (Blood & Wine)', 'Albino Alligator', 'Mirror Has Two Faces, The', 'Breaking the Waves', 'Nightwatch', 'Star Trek: First Contact', 'Shine', 'Sling Blade', 'Jingle All the Way', 'Paradise Lost: The Child Murders at Robin Hood Hills', \"Preacher's Wife, The\", 'Ridicule', 'Crucible, The', '101 Dalmatians', 'Die Hard 2', 'Star Trek: The Motion Picture', 'Star Trek VI: The Undiscovered Country', 'Star Trek V: The Final Frontier', 'Star Trek II: The Wrath of Khan', 'Star Trek III: The Search for Spock', 'Star Trek IV: The Voyage Home', 'Batman Returns', 'Young Guns', 'Young Guns II', 'Grease', 'Grease 2', 'Marked for Death', 'Under Siege', 'Jaws', 'Jaws 2', 'Jaws 3-D', 'My Fellow Americans', 'Mars Attacks!', 'Citizen Ruth', 'Jerry Maguire', 'Raising Arizona', 'Tin Men', 'Sneakers', 'Bastard Out of Carolina', 'In Love and War', \"Marvin's Room\", 'Ghosts of Mississippi', 'Beavis and Butt-Head Do America', 'La Cérémonie', 'Scream', 'Last of the Mohicans, The', 'Michael', 'Hamlet', \"Some Mother's Son\", 'Whole Wide World, The', 'Mother', 'Thieves (Voleurs, Les)', 'Evita', 'Portrait of a Lady, The', 'Walkabout', 'Murder at 1600', 'Hearts and Minds', 'Fierce Creatures', 'Zeus and Roxanne', 'Turbulence', 'Angel Baby', 'First Strike (Police Story 4: First Strike) (Ging chaat goo si 4: Ji gaan daan yam mo)', 'Underworld', 'Beverly Hills Ninja', 'Metro', 'Cement Garden, The', \"Dante's Peak\", 'Meet Wally Sparks', 'Amos & Andrew', 'Benny & Joon', 'Prefontaine', \"McHale's Navy\", 'Kolya (Kolja)', \"Gridlock'd\", 'Waiting for Guffman', 'Beautician and the Beast, The', 'SubUrbia', 'Pest, The', 'Fools Rush In', 'Touch', 'Absolute Power', 'That Darn Cat', \"Vegas Vacation (National Lampoon's Las Vegas Vacation)\", 'Lost Highway', 'Rosewood', 'Donnie Brasco', 'Booty Call', 'Best Men', 'Jungle2Jungle (a.k.a. Jungle 2 Jungle)', 'Kama Sutra: A Tale of Love', 'Private Parts', 'Love Jones', 'Saint, The', \"Smilla's Sense of Snow\", 'Crash', 'Daytrippers, The', 'Liar Liar', 'Selena', \"Devil's Own, The\", \"Cats Don't Dance\", 'B*A*P*S', 'Love and Other Catastrophes', 'Turbo: A Power Rangers Movie', 'Anna Karenina', 'Double Team', 'Inventing the Abbotts', 'Anaconda', 'Grosse Pointe Blank', 'Kissed', '8 Heads in a Duffel Bag', 'Paradise Road', \"Romy and Michele's High School Reunion\", 'Temptress Moon (Feng Yue)', 'Volcano', 'Children of the Revolution', 'Austin Powers: International Man of Mystery', 'Breakdown', 'Broken English', \"Fathers' Day\", 'Fifth Element, The', 'Nowhere', 'Promise, The (La promesse)', 'Shall We Dance? (Shall We Dansu?)', 'Addicted to Love', 'Brassed Off', 'Lost World: Jurassic Park, The', 'Ponette', 'Schizopolis', 'Shiloh', 'Rough Magic', 'Trial and Error', 'Buddy', 'Con Air', 'Pillow Book, The', 'Speed 2: Cruise Control', 'Batman & Robin', \"For Roseanna (Roseanna's Grave)\", 'Head Above Water', 'Hercules', \"My Best Friend's Wedding\", \"When the Cat's Away (Chacun cherche son chat)\", 'Contempt (Mépris, Le)', 'Face/Off', 'Fall', 'Men in Black (a.k.a. MIB)', 'Out to Sea', 'Wild America', 'Simple Wish, A', 'Contact', 'Love Serenade', 'G.I. Jane', 'Conan the Barbarian', 'George of the Jungle', 'Cop Land', 'Event Horizon', 'Spawn', 'Air Bud', 'Picture Perfect', 'In the Company of Men', 'Career Girls', 'Conspiracy Theory', 'Desperate Measures', 'Steel', \"She's So Lovely\", 'Hoodlum', 'Leave It to Beaver', 'Mimic', 'Money Talks', 'Excess Baggage', 'Kull the Conqueror', 'Air Force One', '187 (One Eight Seven)', 'Hunt for Red October, The', 'My Own Private Idaho', 'Kiss Me, Guido', 'Star Maps', 'In & Out', 'Edge, The', 'Peacemaker, The', 'L.A. Confidential', 'Seven Years in Tibet', 'Kiss the Girls', 'Soul Food', 'Wishmaster', 'Thousand Acres, A', 'Game, The', 'Fire Down Below', 'U Turn', 'MatchMaker, The', 'Assignment, The', \"Ulee's Gold\", 'Ice Storm, The', 'Chasing Amy', 'Full Monty, The', 'Indian Summer (a.k.a. Alive & Kicking)', 'Mrs. Brown (a.k.a. Her Majesty, Mrs. Brown)', 'I Know What You Did Last Summer', \"The Devil's Advocate\", 'RocketMan (a.k.a. Rocket Man)', 'Playing God', 'House of Yes, The', 'Fast, Cheap & Out of Control', 'Washington Square', 'Year of the Horse', 'Gattaca', 'FairyTale: A True Story', 'Phantoms', 'Swept from the Sea', 'Life Less Ordinary, A', 'Hurricane Streets', \"Eve's Bayou\", 'Switchback', 'Gang Related', 'Stripes', 'Bean', 'Mad City', 'Welcome to Sarajevo', 'Deceiver', 'Rainmaker, The', 'Boogie Nights', 'Witness', 'Incognito', 'Starship Troopers', 'Critical Care', 'Joy Luck Club, The', 'Chairman of the Board', 'Sliding Doors', 'Mortal Kombat: Annihilation', 'Truman Show, The', 'Wings of the Dove, The', 'Mrs. Dalloway', 'I Love You, I Love You Not', 'Red Corner', 'Jackal, The', 'Anastasia', 'Man Who Knew Too Little, The', 'Alien: Resurrection', 'Amistad', 'Apostle, The', 'Artemisia', 'Bent', 'Butcher Boy, The', 'Deconstructing Harry', 'Flubber', 'For Richer or Poorer', 'Good Will Hunting', 'Home Alone 3', 'Midnight in the Garden of Good and Evil', 'Mouse Hunt', 'Scream 2', 'Stranger in the House', 'Sweet Hereafter, The', 'Titanic', 'Tomorrow Never Dies', 'Postman, The', 'Horse Whisperer, The', 'Jackie Brown', 'Kundun', 'Mr. Magoo', 'Big Lebowski, The', 'Afterglow', 'My Life in Pink (Ma vie en rose)', 'Great Expectations', '3 Ninjas: High Noon On Mega Mountain', 'Senseless', 'Wag the Dog', 'Dark City', 'Hard Rain', 'Half Baked', 'Fallen', 'Shooting Fish', 'Fallen Angels (Duo luo tian shi)', 'Four Days in September (O Que É Isso, Companheiro?)', 'Spice World', 'Deep Rising', 'Music From Another Room', 'Replacement Killers, The', 'B. Monkey', 'Night Flier', 'Blues Brothers 2000', 'Wedding Singer, The', 'Sphere', 'Palmetto', 'As Good as It Gets', 'King of New York', 'Twilight', 'U.S. Marshals', 'Welcome to Woop-Woop', 'Love and Death on Long Island', 'Everest', 'Hush', 'Suicide Kings', 'Man in the Iron Mask, The', 'Newton Boys, The', 'Wild Things', 'Paulie', 'Cool, Dry Place, A', 'Fireworks (Hana-bi)', 'Primary Colors', 'Wide Awake', 'Two Girls and a Guy', 'Object of My Affection, The', 'Homegrown', 'The Players Club', \"Barney's Great Adventure\", 'Big One, The', 'Chinese Box', 'Lost in Space', 'Mercury Rising', 'Spanish Prisoner, The', 'City of Angels', 'Last Days of Disco, The', 'Odd Couple II, The', 'My Giant', 'He Got Game', 'Gingerbread Man, The', 'Live Flesh (Carne trémula)', 'Zero Effect', 'Borrowers, The', \"Krippendorf's Tribe\", 'Kurt & Courtney', 'Real Blonde, The', 'Mr. Nice Guy (Yat goh ho yan)', \"Taste of Cherry (Ta'm e guilass)\", 'Character (Karakter)', 'Species II', 'Major League: Back to the Minors', 'Big Hit, The', 'Tarzan and the Lost City', 'Dancer, Texas Pop. 81', 'Misérables, Les', 'Clockwatchers', 'Deep Impact', 'Quest for Camelot', 'Godzilla', 'Bulworth', 'Fear and Loathing in Las Vegas', 'Opposite of Sex, The', 'Almost Heroes', 'Hope Floats', 'Insomnia', 'Ugly, The', 'Perfect Murder, A', 'Beyond Silence (Jenseits der Stille)', 'Six Days Seven Nights', \"Can't Hardly Wait\", 'High Art', 'Children of Heaven, The (Bacheha-Ye Aseman)', 'Dream for an Insomniac', 'Henry Fool', 'Mr. Jealousy', 'Mulan', 'X-Files: Fight the Future, The', 'I Went Down', 'Dr. Dolittle', 'Out of Sight', 'Picnic at Hanging Rock', 'Smoke Signals', \"Buffalo '66 (a.k.a. Buffalo 66)\", 'Armageddon', 'Lethal Weapon 4', 'Madeline', 'Small Soldiers', 'Pi', 'Whatever', \"There's Something About Mary\", 'Plan 9 from Outer Space', 'Broadway Melody, The', 'All Quiet on the Western Front', 'Cimarron', 'Grand Hotel', 'Mutiny on the Bounty', 'Great Ziegfeld, The', 'Life of Emile Zola, The', \"You Can't Take It with You\", 'Mrs. Miniver', 'Going My Way', 'Lost Weekend, The', 'Best Years of Our Lives, The', \"Gentleman's Agreement\", 'Hamlet', \"All the King's Men\", 'From Here to Eternity', 'On the Waterfront', 'Marty', 'West Side Story', 'Tom Jones', 'Man for All Seasons, A', 'In the Heat of the Night', 'Oliver!', 'Midnight Cowboy', 'French Connection, The', 'Rocky', 'Kramer vs. Kramer', 'Ordinary People', 'Chariots of Fire', 'Terms of Endearment', 'Out of Africa', 'Last Emperor, The', 'Rain Man', 'Driving Miss Daisy', 'Take the Money and Run', 'Klute', 'Repo Man', 'Metropolitan', 'Labyrinth', 'Breakfast Club, The', \"Nightmare on Elm Street 2: Freddy's Revenge, A\", 'Nightmare on Elm Street 3: Dream Warriors, A', 'Nightmare on Elm Street 4: The Dream Master, A', 'Nightmare on Elm Street 5: The Dream Child, A', \"Freddy's Dead: The Final Nightmare (Nightmare on Elm Street Part 6: Freddy's Dead, A)\", 'Friday the 13th', 'Friday the 13th Part 2', 'Friday the 13th Part 3: 3D', 'Friday the 13th Part IV: The Final Chapter', 'Friday the 13th Part V: A New Beginning', 'Friday the 13th Part VI: Jason Lives', 'Friday the 13th Part VII: The New Blood', 'Friday the 13th Part VIII: Jason Takes Manhattan', 'Halloween', 'Halloween II', 'Halloween III: Season of the Witch', 'Halloween 4: The Return of Michael Myers', 'Halloween 5: The Revenge of Michael Myers', 'Prom Night', 'Prom Night IV: Deliver Us From Evil', \"Child's Play\", \"Child's Play 2\", \"Child's Play 3\", 'Poltergeist', 'Poltergeist II: The Other Side', 'Poltergeist III', 'Exorcist, The', 'Exorcist II: The Heretic', 'Exorcist III, The', 'Lethal Weapon', 'Lethal Weapon 2', 'Lethal Weapon 3', 'Gremlins', 'Gremlins 2: The New Batch', 'Goonies, The', 'Mask of Zorro, The', 'Polish Wedding', 'This World, Then the Fireworks', 'Soylent Green', 'Metropolis', 'Back to the Future Part II', 'Back to the Future Part III', 'Poseidon Adventure, The', 'Freaky Friday', 'Absent-Minded Professor, The', 'Apple Dumpling Gang Rides Again, The', 'Babes in Toyland', 'Bambi', 'Seven Samurai (Shichinin no samurai)', 'Dangerous Liaisons', 'Dune', 'Last Temptation of Christ, The', 'Godfather: Part III, The', 'Rapture, The', 'Lolita', 'Disturbing Behavior', \"Jane Austen's Mafia!\", 'Saving Private Ryan', 'Barefoot Executive, The', 'Black Cauldron, The', 'Black Hole, The', \"Blackbeard's Ghost\", 'Blank Check', 'Candleshoe', 'Cat from Outer Space, The', 'Computer Wore Tennis Shoes, The', 'Condorman', 'D2: The Mighty Ducks', \"Darby O'Gill and the Little People\", 'Devil and Max Devlin, The', 'Flight of the Navigator', 'Great Mouse Detective, The', 'Herbie Goes Bananas', 'Herbie Goes to Monte Carlo', 'Hocus Pocus', 'Honey, I Blew Up the Kid', 'Honey, I Shrunk the Kids', 'Hot Lead and Cold Feet', 'In Search of the Castaways', 'Incredible Journey, The', 'Negotiator, The', 'Parent Trap, The', 'BASEketball', 'Roger & Me', 'Purple Rose of Cairo, The', 'Out of the Past', 'Doctor Zhivago', 'Fanny and Alexander (Fanny och Alexander)', 'Trip to Bountiful, The', 'Tender Mercies', 'And the Band Played On', \"'burbs, The\", 'Fandango', 'Night Porter, The (Portiere di notte, Il)', 'Mephisto', 'Blue Velvet', 'Journey of Natty Gann, The', 'Jungle Book, The', 'Lady and the Tramp', 'Little Mermaid, The', 'Mighty Ducks, The', 'Muppet Christmas Carol, The', 'Newsies', '101 Dalmatians (One Hundred and One Dalmatians)', 'Peter Pan', 'Popeye', 'Rescuers Down Under, The', 'Rescuers, The', 'Return from Witch Mountain', 'Return of Jafar, The', 'Return to Oz', 'Rocketeer, The', 'Shaggy D.A., The', 'Sleeping Beauty', 'Something Wicked This Way Comes', 'Son of Flubber', 'Song of the South', 'Splash', 'Steamboat Willie', 'Tall Tale', 'Tex', 'Tron', 'Swing Kids', 'Halloween H20: 20 Years Later (Halloween 7: The Revenge of Laurie Strode)', 'L.A. Story', 'Jerk, The', \"Dead Men Don't Wear Plaid\", 'Man with Two Brains, The', 'Grand Canyon', 'Outsiders, The', 'Indiana Jones and the Temple of Doom', 'Lord of the Rings, The', '1984 (Nineteen Eighty-Four)', 'Dead Zone, The', 'Maximum Overdrive', 'Needful Things', 'Cujo', 'Children of the Corn', 'All Dogs Go to Heaven', 'Addams Family, The', 'Ever After: A Cinderella Story', 'Snake Eyes', 'Atlantic City', 'Autumn Sonata (Höstsonaten)', \"Who's Afraid of Virginia Woolf?\", 'Adventures in Babysitting', 'Weird Science', 'Doctor Dolittle', 'Nutty Professor, The', \"Charlotte's Web\", 'Watership Down', 'Secret of NIMH, The', 'Dark Crystal, The', 'American Tail, An', 'American Tail: Fievel Goes West, An', 'Legend', 'Sixteen Candles', 'Pretty in Pink', \"St. Elmo's Fire\", 'Clan of the Cave Bear, The', 'House', 'House II: The Second Story', 'Gods Must Be Crazy, The', 'Gods Must Be Crazy II, The', 'Air Bud: Golden Receiver', 'Avengers, The', 'How Stella Got Her Groove Back', 'Slums of Beverly Hills, The', 'Best Man, The (Testimone dello sposo, Il)', 'Henry: Portrait of a Serial Killer', \"Rosemary's Baby\", 'NeverEnding Story, The', 'NeverEnding Story II: The Next Chapter, The', 'Attack of the Killer Tomatoes!', 'Surf Nazis Must Die', 'Your Friends and Neighbors', 'Return to Paradise', 'Blade', 'Dead Man on Campus', 'Wrongfully Accused', 'Next Stop Wonderland', 'Strike! (a.k.a. All I Wanna Do, The Hairy Bird)', 'Beetlejuice', 'Déjà Vu', 'Rope', 'Family Plot', 'Frenzy', 'Topaz', 'Torn Curtain', 'Marnie', 'Wrong Man, The', 'Man Who Knew Too Much, The', 'Trouble with Harry, The', 'I Confess', 'Strangers on a Train', 'Stage Fright', '54', 'Why Do Fools Fall In Love?', 'Willow', 'Untouchables, The', 'Dirty Work', 'Knock Off', 'Paradine Case, The', 'Lifeboat', 'Shadow of a Doubt', 'Saboteur', 'Mr. & Mrs. Smith', 'Suspicion', 'Jamaica Inn', 'Lady Vanishes, The', 'Sabotage', 'Secret Agent', 'Man Who Knew Too Much, The', 'Ring, The', 'Lodger: A Story of the London Fog, The', 'Rounders', 'Cube', 'Simon Birch', \"Swept Away (Travolti da un insolito destino nell'azzurro mare d'Agosto)\", 'My Bodyguard', 'Class', 'Broadcast News', 'Allnighter, The', 'Working Girl', 'Married to the Mob', 'Say Anything...', 'My Blue Heaven', 'Hero', 'Toys', 'Young Doctors in Love', 'Parasite', 'No Small Affair', 'Blame It on Rio', 'Wisdom', 'One Crazy Summer', 'About Last Night...', 'Seventh Sign, The', \"We're No Angels\", 'Nothing But Trouble', \"Butcher's Wife, The\", 'Mortal Thoughts', 'Few Good Men, A', 'Indecent Proposal', 'Permanent Midnight', 'One True Thing', 'Rush Hour', 'Six-String Samurai', 'Ronin', 'Urban Legend', 'Clay Pigeons', 'Monument Ave.', 'Pecker', 'Sheltering Sky, The', 'Fiendish Plot of Dr. Fu Manchu, The', 'Them!', 'Thing, The', 'Player, The', 'Stardust Memories', 'Edward Scissorhands', 'Overnight Delivery', 'Antz', 'Impostors, The', 'Night at the Roxbury, A', 'What Dreams May Come', 'Strangeland', 'Producers, The', 'History of the World: Part I', 'My Cousin Vinny', 'Nashville', 'Love Is the Devil', 'Holy Man', 'One Tough Cop', 'Mighty, The', '2010: The Year We Make Contact', 'Children of a Lesser God', 'Elephant Man, The', 'Beloved', \"Bride of Chucky (Child's Play 4)\", 'Practical Magic', 'Happiness', 'Apt Pupil', 'Pleasantville', 'Soldier', 'Cruise, The', 'Life Is Beautiful (La Vita è bella)', 'Orgazmo', 'Tales from the Darkside: The Movie', 'Vampires', 'American History X', 'Hands on a Hard Body', 'Living Out Loud', 'Belly', 'Gods and Monsters', 'Siege, The', 'Waterboy, The', 'Elizabeth', 'Velvet Goldmine', 'I Still Know What You Did Last Summer', \"I'll Be Home For Christmas\", 'Meet Joe Black', 'Hard Core Logo', 'Runaway Train', 'Stepford Wives, The', 'Pope of Greenwich Village, The', 'Sid and Nancy', 'Mona Lisa', 'Heart Condition', 'Nights of Cabiria (Notti di Cabiria, Le)', 'Big Chill, The', 'Enemy of the State', 'Rugrats Movie, The', \"Bug's Life, A\", 'Celebrity', 'Central Station (Central do Brasil)', 'Savior', 'Waking Ned Devine (a.k.a. Waking Ned)', 'Celebration, The (Festen)', 'Pink Flamingos', 'Glen or Glenda', 'Godzilla (Gojira)', 'Godzilla 1985: The Legend Is Reborn (Gojira) (Godzilla) (Return of Godzilla, The)', 'King Kong vs. Godzilla (Kingukongu tai Gojira)', 'King Kong', 'King Kong', 'King Kong Lives', 'Desperately Seeking Susan', 'Emerald Forest, The', 'Fletch', 'Fletch Lives', 'Red Sonja', 'Gung Ho', 'Money Pit, The', 'View to a Kill, A', 'Lifeforce', 'Police Academy', 'Police Academy 2: Their First Assignment', 'Police Academy 3: Back in Training', 'Police Academy 4: Citizens on Patrol', 'Police Academy 5: Assignment: Miami Beach', 'Police Academy 6: City Under Siege', 'Babe: Pig in the City', 'Home Fries', 'Very Bad Things', 'Steam: The Turkish Bath (Hamam)', 'Psycho', 'Little Voice', 'Simple Plan, A', 'Jack Frost', 'Star Trek: Insurrection', 'Prince of Egypt, The', 'Rushmore', 'Shakespeare in Love', 'Miracle on 34th Street', 'Santa Claus: The Movie', 'Prancer', 'Pale Rider', 'Rambo: First Blood Part II', 'First Blood (Rambo: First Blood)', 'Rambo III', 'Jewel of the Nile, The', 'Romancing the Stone', 'Cocoon', 'Cocoon: The Return', 'Rocky II', 'Rocky III', 'Rocky IV', 'Rocky V', 'Clue', 'Young Sherlock Holmes', 'Violets Are Blue...', 'Back to School', 'Heartburn', 'Nothing in Common', 'Extremities', 'Karate Kid, The', 'Karate Kid, Part II, The', 'Karate Kid, Part III, The', \"Christmas Vacation (National Lampoon's Christmas Vacation)\", \"You've Got Mail\", 'General, The', 'Thin Red Line, The', 'Faculty, The', 'Mighty Joe Young', 'Mighty Joe Young', 'Patch Adams', 'Stepmom', 'Civil Action, A', 'Hurlyburly', 'Tea with Mussolini', 'Affliction', 'Hilary and Jackie', 'Playing by Heart', 'At First Sight', 'In Dreams', 'Varsity Blues', 'Virus', 'Howard the Duck', 'Gate, The', 'Boy Who Could Fly, The', 'Fly, The', 'Fly, The', 'Fly II, The', 'Running Scared', 'Armed and Dangerous', 'Texas Chainsaw Massacre, The', 'Texas Chainsaw Massacre 2, The', 'Texas Chainsaw Massacre: The Next Generation (a.k.a. The Return of the Texas Chainsaw Massacre)', 'Ruthless People', 'Deadly Friend', 'Name of the Rose, The (Name der Rose, Der)', \"Jumpin' Jack Flash\", 'Peggy Sue Got Married', 'Crocodile Dundee', 'Crocodile Dundee II', 'Tough Guys', 'Soul Man', 'Color of Money, The', '52 Pick-Up', 'Heartbreak Ridge', 'Firewalker', '¡Three Amigos!', 'My Name Is Joe', 'Still Crazy', 'Day of the Beast, The (Día de la Bestia, El)', \"She's All That\", 'Peeping Tom', 'Payback', 'Simply Irresistible', '20 Dates', 'Harmonists, The', 'Last Days, The', 'Fantastic Planet, The (Planète sauvage, La)', 'Blast from the Past', 'Message in a Bottle', 'My Favorite Martian', 'Jawbreaker', 'October Sky', 'Office Space', 'Apple, The (Sib)', '200 Cigarettes', '8MM', 'Other Sister, The', 'Long Goodbye, The', 'Ballad of Narayama, The (Narayama bushiko)', 'Pet Sematary', 'Pet Sematary II', 'Children of the Corn II: The Final Sacrifice', 'Children of the Corn III', 'Christine', 'Night Shift', 'Airport', 'Airport 1975', \"Airport '77\", 'Rollercoaster', 'Towering Inferno, The', 'Alligator', 'Meteor', 'Westworld', \"Logan's Run\", 'Planet of the Apes', 'Beneath the Planet of the Apes', 'Battle for the Planet of the Apes', 'Conquest of the Planet of the Apes', 'Escape from the Planet of the Apes', 'Avalanche', 'Earthquake', 'Beyond the Poseidon Adventure', 'Dancemaker', 'Analyze This', 'Corruptor, The', 'Cruel Intentions', 'Lock, Stock & Two Smoking Barrels', \"School of Flesh, The (École de la chair, L')\", 'Deep End of the Ocean, The', 'Rage: Carrie 2, The', 'Wing Commander', 'Haunting, The', 'Dead Ringers', \"My Boyfriend's Back\", 'Village of the Damned', 'Children of the Damned', 'Baby Geniuses', 'I Stand Alone (Seul contre tous)', 'Forces of Nature', 'King and I, The', 'Ravenous', 'True Crime', 'Dangerous Beauty', 'King and I, The', \"Doug's 1st Movie\", 'EDtv', 'Mod Squad, The', 'Walk on the Moon, A', 'Matrix, The', '10 Things I Hate About You', 'Tango', 'Out-of-Towners, The', 'Dreamlife of Angels, The (Vie rêvée des anges, La)', 'Metroland', 'Following', 'Go', 'Never Been Kissed', 'Twin Dragons (Shuang long hui)', \"Cookie's Fortune\", 'Lovers of the Arctic Circle, The (Los Amantes del Círculo Polar)', 'Goodbye Lover', 'Life', 'Friends & Lovers', 'Hideous Kinky', 'Monster, The (Mostro, Il)', 'Open Your Eyes (Abre los ojos)', 'SLC Punk!', 'Lost & Found', 'Pushing Tin', 'Election', 'eXistenZ', 'Entrapment', 'Idle Hands', 'Get Real', 'King of Masks, The (Bian Lian)', 'Winslow Boy, The', 'Mildred Pierce', 'Night of the Comet', 'Chopping Mall (a.k.a. Killbots)', 'My Science Project', 'Dick Tracy', 'Mummy, The', 'Castle, The', 'This Is My Father', \"William Shakespeare's A Midsummer Night's Dream\", \"Trippin'\", 'After Life (Wandafuru raifu)', 'Black Mask (Hak hap)', 'Star Wars: Episode I - The Phantom Menace', 'Love Letter, The', \"Besieged (a.k.a. L' Assedio)\", 'Saragossa Manuscript, The (Rekopis znaleziony w Saragossie)', 'Mummy, The', 'Mummy, The', 'Mommie Dearest', 'Superman', 'Superman II', 'Superman III', 'Superman IV: The Quest for Peace', 'Dracula', 'Frankenstein', 'Frankenstein Meets the Wolf Man', 'Curse of Frankenstein, The', 'Wolf Man, The', 'Howling II: Your Sister Is a Werewolf', 'Tarantula', 'Rocky Horror Picture Show, The', 'It Came from Hollywood', 'Thing from Another World, The', 'It Came from Outer Space', 'War of the Worlds, The', 'Invasion of the Body Snatchers', 'Earth vs. the Flying Saucers', 'Swamp Thing', 'Pork Chop Hill', 'Run Silent Run Deep', 'Notting Hill', 'Thirteenth Floor, The', 'Loss of Sexual Innocence, The', 'Instinct', 'Buena Vista Social Club', 'Free Enterprise', 'Limbo', 'Austin Powers: The Spy Who Shagged Me', 'Red Violin, The (Violon rouge, Le)', 'Tarzan', \"General's Daughter, The\", 'Ideal Husband, An', \"Legend of 1900, The (a.k.a. The Legend of the Pianist on the Ocean) (Leggenda del pianista sull'oceano)\", 'Run Lola Run (Lola rennt)', 'Trekkies', 'Big Daddy', 'Boys, The', 'Dinner Game, The (Dîner de cons, Le)', 'My Son the Fanatic', 'Zone 39', 'Arachnophobia', 'South Park: Bigger, Longer and Uncut', 'Wild Wild West', 'Summer of Sam', 'American Pie', 'Arlington Road', \"Autumn Tale, An (Conte d'automne)\", 'Muppets From Space', 'Blair Witch Project, The', 'Eyes Wide Shut', 'Lake Placid', 'Ghostbusters (a.k.a. Ghost Busters)', 'Ghostbusters II', 'Drop Dead Gorgeous', 'Haunting, The', 'Inspector Gadget', 'Deep Blue Sea', 'Mystery Men', 'Runaway Bride', 'Twin Falls Idaho', 'Killing, The', \"Killer's Kiss\", 'Spartacus', 'Lolita', 'Barry Lyndon', '400 Blows, The (Les quatre cents coups)', 'Jules and Jim (Jules et Jim)', 'Vibes', 'Mosquito Coast, The', 'Golden Child, The', 'Brighton Beach Memoirs', 'Assassination', 'Crimes of the Heart', 'Color Purple, The', 'Kindred, The', 'No Mercy', 'Ménage (Tenue de soirée)', 'Native Son', 'Otello', 'Mission, The', 'Little Shop of Horrors', 'Little Shop of Horrors, The', 'Allan Quatermain and the Lost City of Gold', 'Morning After, The', 'Radio Days', 'From the Hip', 'Outrageous Fortune', 'Deadtime Stories', 'Frances', 'Dick', 'Iron Giant, The', 'Sixth Sense, The', 'Thomas Crown Affair, The', 'Thomas Crown Affair, The', 'Acid House, The', 'Adventures of Sebastian Cole, The', 'Yards, The', 'Bowfinger', 'Brokedown Palace', 'Detroit Rock City', 'Better Than Chocolate', 'Head On', 'Heaven Can Wait', 'Pit and the Pendulum', 'Masque of the Red Death, The', 'Haunted Honeymoon', \"Cat's Eye\", \"Monty Python's And Now for Something Completely Different\", 'Damien: Omen II', 'Final Conflict, The (a.k.a. Omen III: The Final Conflict)', 'Airplane!', 'Airplane II: The Sequel', 'American Werewolf in Paris, An', \"European Vacation (aka National Lampoon's European Vacation)\", \"National Lampoon's Vacation\", 'Funny Farm', 'Big', 'Problem Child', 'Problem Child 2', 'Little Nemo: Adventures in Slumberland', 'Oscar and Lucinda (a.k.a. Oscar & Lucinda)', 'Tequila Sunrise', 'Pelican Brief, The', 'Christmas Story, A', 'Mickey Blue Eyes', 'Teaching Mrs. Tingle', 'Universal Soldier: The Return', 'Universal Soldier', 'Perfect Blue', 'In Too Deep', 'Source, The', 'Iron Eagle', 'Iron Eagle II', 'Aces: Iron Eagle III', 'Iron Eagle IV', 'Three Days of the Condor (3 Days of the Condor)', 'Hamlet', 'Medicine Man', 'On the Ropes', '13th Warrior, The', \"Astronaut's Wife, The\", 'Dudley Do-Right', 'Muse, The', 'Chill Factor', 'Outside Providence', 'Bedrooms & Hallways', 'West Beirut (West Beyrouth)', 'Stigmata', 'Stir of Echoes', 'Black Cat, White Cat (Crna macka, beli macor)', 'Minus Man, The', 'Adventures of Milo and Otis, The (Koneko monogatari)', 'Only Angels Have Wings', 'Othello (Tragedy of Othello: The Moor of Venice, The)', 'Saturn 3', \"Soldier's Story, A\", 'I Saw What You Did', 'Yellow Submarine', 'American Beauty', 'Stop Making Sense', 'Blue Streak', 'For Love of the Game', 'Caligula', \"Hard Day's Night, A\", 'Sugar Town', 'Buddy Holly Story, The', 'Fright Night', 'Fright Night Part II', 'Barefoot in the Park', 'Deliverance', 'Excalibur', 'Pajama Game, The', 'Sommersby', 'Thumbelina', 'Tommy', 'Hell Night', 'Armour of God II: Operation Condor (Operation Condor) (Fei ying gai wak)', 'Armour of God (Long xiong hu di)', 'Double Jeopardy', 'Jakob the Liar', 'Mumford', 'Dog Park', 'Guinevere', 'Adventures of Elmo in Grouchland, The', 'Simon Sez', 'Drive Me Crazy', 'Mystery, Alaska', 'Three Kings', 'Happy, Texas', 'New Rose Hotel', 'Plunkett & MaCleane', 'Romance', 'Alvarez Kelly', 'And the Ship Sails On (E la nave va)', 'Dark Half, The', \"Gulliver's Travels\", 'Monkey Shines', 'Phantasm', 'Psycho II', 'Psycho III', 'Sanjuro (Tsubaki Sanjûrô)', 'Random Hearts', 'Superstar', \"Boys Don't Cry\", 'Limey, The', 'Risky Business', 'Total Recall', 'Body Heat', \"Ferris Bueller's Day Off\", 'Year of Living Dangerously, The', 'High Plains Drifter', \"Hang 'Em High\", 'Drunken Master (Jui kuen)', 'Conformist, The (Conformista, Il)', 'Hairspray', 'Brief Encounter', \"Razor's Edge, The\", 'Reds', 'Return with Honor', 'Time of the Gypsies (Dom za vesanje)', 'Days of Heaven', 'Lady Eve, The', \"Sullivan's Travels\", 'Palm Beach Story, The', 'Niagara', 'Gilda', 'South Pacific', 'Flashdance', 'Indochine', 'Dirty Dozen, The', 'Help!', 'Goldfinger', 'From Russia with Love', 'Dr. No', 'Blue Lagoon, The', 'Fistful of Dollars, A (Per un pugno di dollari)', 'Sydney (Hard Eight)', 'Home Alone 2: Lost in New York', 'Someone to Watch Over Me', 'Fight Club', 'Story of Us, The', 'Fever Pitch', 'Julien Donkey-Boy', 'Omega Code, The', 'Straight Story, The', 'Bad Seed, The', 'Time Bandits', 'Man and a Woman, A (Un homme et une femme)', 'Fitzcarraldo', 'All That Jazz', 'Red Sorghum (Hong gao liang)', 'Crimes and Misdemeanors', 'Bats', 'Best Man, The', 'Bringing Out the Dead', 'Crazy in Alabama', 'Three to Tango', 'Body Shots', 'Guardian, The', 'Ipcress File, The', 'On Any Sunday', 'RoboCop', 'RoboCop 2', 'Who Framed Roger Rabbit?', 'Melvin and Howard', 'For Your Eyes Only', 'Licence to Kill', 'Live and Let Die', 'Rawhead Rex', 'Thunderball', 'House on Haunted Hill', 'Music of the Heart', 'Being John Malkovich', 'Princess Mononoke (Mononoke-hime)', 'My Best Fiend (Mein liebster Feind)', 'Train of Life (Train de vie)', 'Bachelor, The', 'Bone Collector, The', 'Insider, The', 'American Movie', 'Last Night', 'Rosetta', \"They Shoot Horses, Don't They?\", 'Bride of Re-Animator', \"Bustin' Loose\", 'Coma', 'Creepshow', 'Creepshow 2', 'Re-Animator', 'Drugstore Cowboy', 'Falling Down', 'Funhouse, The', 'General, The', 'Piranha', 'Taming of the Shrew, The', 'Nighthawks', 'Yojimbo', 'Repossessed', 'Omega Man, The', 'Spaceballs', 'Robin Hood', 'Mister Roberts', 'Quest for Fire (Guerre du feu, La)', 'Little Big Man', 'Face in the Crowd, A', 'Trading Places', 'Meatballs', 'Meatballs Part II', 'Meatballs III', 'Meatballs 4', 'Dead Again', \"Peter's Friends\", 'Incredibly True Adventure of Two Girls in Love, The', 'Under the Rainbow', 'Anywhere But Here', 'Dogma', 'Messenger: The Story of Joan of Arc, The', 'Pokémon: The First Movie', \"Felicia's Journey\", 'Oxygen', \"Where's Marlowe?\", 'Commitments, The', 'Holiday Inn', 'Longest Day, The', 'Poison Ivy', 'Poison Ivy: New Seduction', 'Tora! Tora! Tora!', 'Women on the Verge of a Nervous Breakdown (Mujeres al borde de un ataque de nervios)', 'Verdict, The', 'Adventures of Buckaroo Banzai Across the 8th Dimension, The', 'Stand and Deliver', 'Moonstruck', 'Sandpiper, The', 'Jeremiah Johnson', 'Repulsion', 'Irma la Douce', '42 Up', 'Liberty Heights', 'Mansfield Park', 'Sleepy Hollow', 'World Is Not Enough, The', 'All About My Mother (Todo sobre mi madre)', 'Babes in Toyland', 'Scrooged', 'Harvey', 'Bicycle Thieves (a.k.a. The Bicycle Thief) (a.k.a. The Bicycle Thieves) (Ladri di biciclette)', 'Matewan', 'Kagemusha', 'McCabe & Mrs. Miller', 'Maurice', 'Grapes of Wrath, The', 'My Man Godfrey', 'Shop Around the Corner, The', 'Natural, The', 'Shampoo', 'River Runs Through It, A', 'Fatal Attraction', 'Jagged Edge', 'Stanley & Iris', 'Midnight Run', 'Awakenings', 'Come See the Paradise', 'Backdraft', 'Fisher King, The', 'River, The', 'Places in the Heart', \"'night Mother\", 'End of Days', 'Toy Story 2', 'Flawless', 'Ride with the Devil', 'Distinguished Gentleman, The', 'End of the Affair, The', 'Holy Smoke', 'Sweet and Lowdown', 'Bonfire of the Vanities', 'Daddy Long Legs', 'Grand Illusion (La grande illusion)', 'Great Santini, The', 'Stealing Home', 'Two Jakes, The', 'U2: Rattle and Hum', 'Hell in the Pacific', 'Cradle Will Rock', 'Deuce Bigalow: Male Gigolo', 'Green Mile, The', 'Cider House Rules, The', 'War Zone, The', 'Last Picture Show, The', '7th Voyage of Sinbad, The', 'Anna and the King', 'Bicentennial Man', 'Stuart Little', 'Emperor and the Assassin, The (Jing ke ci qin wang)', 'Fantasia 2000', 'Magnolia', 'Onegin', 'Simpatico', 'Topsy-Turvy', 'Boiling Point', 'Carnal Knowledge', 'Easy Rider', 'The Falcon and the Snowman', 'Room at the Top', 'Any Given Sunday', 'Man on the Moon', 'Galaxy Quest', 'Talented Mr. Ripley, The', 'Next Friday', 'Hurricane, The', \"Angela's Ashes\", 'Titus', 'Mr. Death: The Rise and Fall of Fred A. Leuchter, Jr.', 'Third Miracle, The', 'Snow Falling on Cedars', 'Girl, Interrupted', 'My Dog Skip', 'Supernova', 'Terrorist, The (a.k.a. Malli) (Theeviravaathi)', 'Way We Were, The', 'Stalag 17', 'Presidio, The', 'Papillon', 'Last Detail, The', 'Five Easy Pieces', 'Dead Calm', 'Boys from Brazil, The', 'Against All Odds', \"Loaded Weapon 1 (National Lampoon's Loaded Weapon 1)\", 'Fast Times at Ridgemont High', 'Cry in the Dark, A', 'Batman: Mask of the Phantasm', 'American Flyers', 'Star Is Born, A', 'Pacific Heights', \"Draughtsman's Contract, The\", 'Zed & Two Noughts, A', 'Woman in the Dunes (Suna no onna)', 'Down to You', 'Odessa File, The', 'Where the Buffalo Roam', 'Eye of the Beholder', 'Big Tease, The', 'Cup, The (Phörpa)', 'Encino Man', 'Goodbye Girl, The', 'Malcolm X', 'Sister Act', 'Sister Act 2: Back in the Habit', 'Hand That Rocks the Cradle, The', 'Alive', 'Agnes of God', 'Scent of a Woman', \"Wayne's World\", \"Wayne's World 2\", 'League of Their Own, A', 'Patriot Games', 'Bodyguard, The', 'Death Becomes Her', 'Far and Away', 'Howards End', 'Singles', 'Twin Peaks: Fire Walk with Me', \"White Men Can't Jump\", 'Buffy the Vampire Slayer', 'Hard-Boiled (Lat sau san taam)', \"Man Bites Dog (C'est arrivé près de chez vous)\", 'Mariachi, El', 'Stop! Or My Mom Will Shoot', 'Forever Young', 'Cutting Edge, The', 'Of Mice and Men', 'Bad Lieutenant', 'Scream 3', 'Single White Female', 'Boondock Saints, The', 'Gun Shy', 'Baby, The', 'Brandon Teena Story, The', 'Minnie and Moskowitz', 'They Might Be Giants', 'Beach, The', 'Snow Day', 'Tigger Movie, The', 'Not One Less (Yi ge dou bu neng shao)', 'Eaten Alive', 'Raining Stones', 'To Sir with Love', 'Boiler Room', 'Hanging Up', 'Pitch Black', 'Whole Nine Yards, The', 'Beautiful People', 'Black Tar Heroin: The Dark End of the Street', 'Circus, The', 'City Lights', 'Flamingo Kid, The', 'Kid, The', 'Class Reunion', 'Happy Go Lovely', 'Reindeer Games', 'Wonder Boys', 'Chain of Fools', 'Drowning Mona', 'Next Best Thing, The', 'What Planet Are You From?', 'Beyond the Mat', 'Ghost Dog: The Way of the Samurai', 'The Year My Voice Broke', 'Splendor in the Grass', 'My Tutor', 'Key Largo', 'For All Mankind', 'Born Yesterday', 'Birdy', 'Blood Feast', 'Charlie, the Lonesome Cougar', 'Never Cry Wolf', 'Raisin in the Sun, A', 'Closer You Get, The', 'Mission to Mars', 'Ninth Gate, The', 'East-West (Est-ouest)', 'Defending Your Life', 'Breaking Away', 'Hoosiers (a.k.a. Best Shot)', 'Bull Durham', 'Dog Day Afternoon', 'American Graffiti', 'Asphalt Jungle, The', 'Searchers, The', 'Big Country, The', 'Betrayed', 'Bridge at Remagen, The', 'Daughters of the Dust', 'Ogre, The (Unhold, Der)', 'On the Beach', 'Taking of Pelham One Two Three, The', 'Volunteers', 'JFK', \"Who's Harry Crumb?\", 'Harry and the Hendersons', \"Let's Get Harry\", 'Shanghai Surprise', \"Who's That Girl?\", 'She-Devil', 'Date with an Angel', 'Blind Date', 'Nadine', 'Muppet Movie, The', 'Great Muppet Caper, The', 'Muppets Take Manhattan, The', \"We're Back! A Dinosaur's Story\", 'Baby... Secret of the Lost Legend', 'Turtle Diary', 'Raise the Titanic', 'Titanic', 'Night to Remember, A', 'Captain Horatio Hornblower R.N.', 'Erin Brockovich', 'Final Destination', 'Soft Fruit', \"Bear, The (Ours, L')\", 'Love Is a Many-Splendored Thing', 'Mirror, The (Zerkalo)', 'Crimson Pirate, The', 'Thelma & Louise', '...And Justice for All', 'Animal House', \"She's Gotta Have It\", 'School Daze', 'Do the Right Thing', \"Mo' Better Blues\", 'Jungle Fever', 'Champ, The', 'Creature Comforts', 'Death Wish', 'Death Wish 2', 'Death Wish 3', 'Death Wish 4: The Crackdown', 'Death Wish 5: The Face of Death', 'Double Indemnity', 'Dying Young', 'Teenage Mutant Ninja Turtles', 'Teenage Mutant Ninja Turtles II: The Secret of the Ooze', 'Teenage Mutant Ninja Turtles III', 'Red Dawn', 'Band of the Hand', 'Bloodsport', 'Eyes of Laura Mars', 'Funny Bones', 'Good Earth, The', 'Good Morning, Vietnam', 'Good Mother, The', 'Grumpy Old Men', \"Guess Who's Coming to Dinner\", 'Romeo Must Die', 'Here on Earth', 'Whatever It Takes', 'Buddy Boy', 'Color of Paradise, The (Rang-e khoda)', 'Gothic', 'Lord of the Flies', 'Modern Times', 'Heart and Souls', 'Hud', 'Hustler, The', 'Inherit the Wind', 'Dersu Uzala', 'Close Encounters of the Third Kind', \"Jonah Who Will Be 25 in the Year 2000 (Jonas qui aura 25 ans en l'an 2000)\", 'Retroactive', 'Place in the Sun, A', \"Jacob's Ladder\", 'Empire Records', 'Bamba, La', 'Ladyhawke', 'Lucas', 'High Fidelity', 'Road to El Dorado, The', 'Skulls, The', 'Hook', 'Son of the Sheik, The', 'True Grit', 'Madame Sousatzka', 'Max Dugan Returns', 'Midnight Express', 'Misery', 'Mr. Saturday Night', \"Murphy's Romance\", 'My Life', 'Solaris (Solyaris)', 'Network', 'No Way Out', 'North Dallas Forty', 'Odd Couple, The', 'Outlaw Josey Wales, The', 'Frequency', 'Ready to Rumble', 'Return to Me', 'Rules of Engagement', \"Joe Gould's Secret\", 'Me Myself I', 'Bell, Book and Candle', 'Force 10 from Navarone', 'Mystery Train', 'Arthur', 'Bachelor Party', 'Parenthood', 'Predator', 'Prince of Tides, The', 'Postman Always Rings Twice, The', 'All the Vermeers in New York', '28 Days', 'American Psycho', 'Keeping the Faith', 'Where the Money Is', 'East is East', 'Filth and the Fury, The', 'Diner', 'Shakes the Clown', 'Cabaret', 'What Ever Happened to Baby Jane?', 'Auntie Mame', 'Guys and Dolls', 'The Hunger', 'Marathon Man', 'Caddyshack', 'Gossip', 'Love and Basketball', 'U-571', 'Virgin Suicides, The', 'Jennifer 8', 'Limelight', 'Crow: Salvation, The', 'Flintstones in Viva Rock Vegas, The', 'Where the Heart Is', 'Big Kahuna, The', 'Bossa Nova', 'Smiling Fish and Goat on Fire', 'Idiots, The (Idioterne)', 'Time Code', 'Carnosaur', 'Carnosaur 2', 'Carnosaur 3: Primal Species', 'Hidden, The', 'Two Moon Junction', 'Gladiator', 'Up at the Villa', 'Human Traffic', 'Breathless', 'The Idolmaker', 'Inferno', 'Lords of Flatbush, The', 'Mr. Mom', 'Time Masters (Maîtres du temps, Les)', 'Battlefield Earth', 'Center Stage', 'Screwed', 'Whipped', 'Hamlet', 'Anchors Aweigh', 'Gypsy', 'On the Town', \"Pee-wee's Big Adventure\", 'Regret to Inform', 'Honeymoon in Vegas', 'Dinosaur', 'Loser', 'Road Trip', 'Small Time Crooks', 'Hollywood Knights, The', 'Twelve Chairs, The', 'Mission: Impossible II', 'Shanghai Noon', 'Better Living Through Circuitry', '8 ½ Women (a.k.a. 8 1/2 Women) (a.k.a. Eight and a Half Women)', 'Carnival of Souls', 'Flying Tigers', 'Gold Rush, The', 'Monsieur Verdoux', \"On Her Majesty's Secret Service\", 'Seven Days in May', 'Spy Who Loved Me, The', 'Vagabond (Sans toit ni loi)', 'Moonraker', 'Man with the Golden Gun, The', 'King in New York, A', 'Woman of Paris, A', 'Fighting Seabees, The', \"Big Momma's House\", 'Abominable Snowman, The (Abominable Snowman of the Himalayas, The)', 'American Gigolo', 'City of the Living Dead (a.k.a. Gates of Hell, The) (Paura nella città dei morti viventi)', 'Endless Summer, The', 'Guns of Navarone, The', 'Blow-Out (La grande bouffe)', 'Quatermass and the Pit', 'Puppet Master', 'Puppet Master II', \"Puppet Master III: Toulon's Revenge\", 'Puppet Master 4', 'Puppet Master 5: The Final Chapter', 'Rent-A-Cop', 'Romeo and Juliet', 'Stay Tuned', 'Blazing Saddles', 'Benji', 'Benji the Hunted', 'For the Love of Benji', 'White Christmas', 'Eraserhead', 'Baraka', 'Man with the Golden Arm, The', 'Decline of Western Civilization, The', 'Decline of Western Civilization Part II: The Metal Years, The', 'For a Few Dollars More (Per qualche dollaro in più)', 'Magnum Force', 'Blood Simple', 'Fabulous Baker Boys, The', \"Prizzi's Honor\", 'Flatliners', 'Light Years (Gandahar)', \"Porky's\", \"Porky's II: The Next Day\", \"Porky's Revenge\", 'Private School', \"Class of Nuke 'Em High\", 'Toxic Avenger, The', 'Toxic Avenger, Part II, The', 'Toxic Avenger Part III: The Last Temptation of Toxie, The', 'Night of the Creeps', 'Predator 2', 'Running Man, The', 'Starman', 'Brother from Another Planet, The', 'Alien Nation', 'Mad Max', 'Road Warrior, The (Mad Max 2)', 'Mad Max Beyond Thunderdome', 'Bird on a Wire', 'Angel Heart', '9 1/2 Weeks (Nine 1/2 Weeks)', 'Firestarter', 'Sleepwalkers', 'Action Jackson', 'Sarafina!', 'Soapdish', 'Long Walk Home, The', \"Clara's Heart\", 'Burglar', 'Fatal Beauty', 'Gone in 60 Seconds', \"Love's Labour's Lost\", 'Sunshine', 'Hamlet', 'Coming Home', 'American Pop', 'Assault on Precinct 13', 'Near Dark', 'One False Move', 'Shaft', 'Conversation, The', \"Cutter's Way\", 'Fury, The', 'Paper Chase, The', 'Serpico', 'Ace in the Hole (Big Carnival, The)', 'Lonely Are the Brave', 'Sugarland Express, The', 'Trouble in Paradise', 'Big Trouble in Little China', 'Badlands', 'Battleship Potemkin', 'Boys and Girls', 'Shaft', 'Titan A.E.', 'Butterfly (La lengua de las mariposas)', \"Jesus' Son\", 'Chicken Run', 'Me, Myself & Irene', 'Patriot, The', 'Adventures of Rocky and Bullwinkle, The', 'Perfect Storm, The', 'Golden Bowl, The', 'Communion', 'Kentucky Fried Movie, The', 'Blood In, Blood Out', 'F/X', 'F/X2 (a.k.a. F/X 2 - The Deadly Art of Illusion)', 'Hot Spot, The', 'Missing in Action', 'Missing in Action 2: The Beginning', 'Braddock: Missing in Action III', 'Thunderbolt and Lightfoot', 'Dreamscape', 'The Golden Voyage of Sinbad', 'House Party', 'House Party 2', 'Croupier', 'Kid, The', 'Scary Movie', \"But I'm a Cheerleader\", 'Shower (Xizao)', 'Blow-Up (Blowup)', 'Pawnbroker, The', 'Groove', 'Footloose', 'Duel in the Sun', 'X-Men', 'Chuck & Buck', 'Five Senses, The', 'In Crowd, The', 'What Lies Beneath', 'Pokémon the Movie 2000', 'Anatomy of a Murder', 'Freejack', \"Mackenna's Gold\", 'Sinbad and the Eye of the Tiger', 'Two Women (Ciociara, La)', 'What About Bob?', 'White Sands', 'Breaker Morant', 'Everything You Always Wanted to Know About Sex * But Were Afraid to Ask', 'Interiors', 'Love and Death', 'Official Story, The (La historia oficial)', 'Tampopo', 'Nutty Professor II: The Klumps', 'Girl on the Bridge, The (Fille sur le pont, La)', 'Wonderland', 'Autumn in New York', 'Coyote Ugly', 'Hollow Man', 'Space Cowboys', 'Psycho Beach Party', 'Saving Grace', 'Black Sabbath (Tre volti della paura, I)', \"Brain That Wouldn't Die, The\", 'Bronco Billy', 'Crush, The', \"Kelly's Heroes\", 'Phantasm II', 'Phantasm III: Lord of the Dead', 'Phantasm IV: Oblivion', 'Pumpkinhead', 'Air America', 'Sleepaway Camp', 'Steel Magnolias', 'And God Created Woman (Et Dieu... créa la femme)', 'Easy Money', 'Ilsa, She Wolf of the SS', 'The Spiral Staircase', \"I'm the One That I Want\", 'Tao of Steve, The', 'Affair of Love, An (Liaison pornographique, Une)', 'Bless the Child', 'Cecil B. DeMented', 'Eyes of Tammy Faye, The', 'Replacements, The', 'About Adam', 'Cell, The', 'Godzilla 2000 (Gojira ni-sen mireniamu)', 'Original Kings of Comedy, The', 'Naked Gun: From the Files of Police Squad!, The', 'Naked Gun 2 1/2: The Smell of Fear, The', 'Our Town', 'Shane', 'Suddenly, Last Summer', 'Cat Ballou', 'Supergirl', 'Art of War, The', 'Bring It On', 'Crew, The', 'Skipped Parts', 'Highlander: Endgame (Highlander IV)', 'Nurse Betty', 'Solas', 'Watcher, The', 'Way of the Gun, The', 'Almost Famous', 'Bait', 'Circus', 'Crime and Punishment in Suburbia', 'Duets', 'Under Suspicion', 'Urban Legends: Final Cut', 'Woman on Top', 'Dancer in the Dark', 'Best in Show', 'Beautiful', 'Broken Hearts Club, The', 'Girlfight', 'Remember the Titans', 'Hellraiser', 'Hellbound: Hellraiser II', 'Hellraiser III: Hell on Earth', 'Faraway, So Close (In weiter Ferne, so nah!)', 'Bikini Beach', 'Stranger Than Paradise', 'Voyage to the Bottom of the Sea', 'Fantastic Voyage', 'Abbott and Costello Meet Frankenstein', 'Bank Dick, The', 'Creature from the Black Lagoon, The', 'Invisible Man, The', 'Killer Shrews, The', 'Runaway', 'Slumber Party Massacre, The', 'Slumber Party Massacre II', 'Slumber Party Massacre III', 'Sorority House Massacre', 'Sorority House Massacre II', 'Bamboozled', 'Digimon: The Movie', 'Get Carter', 'Get Carter', 'Meet the Parents', 'Requiem for a Dream', 'Tigerland', 'Two Family House', 'Contender, The', 'Dr. T and the Women', 'Ladies Man, The', 'Billy Jack', 'Billy Jack Goes to Washington', 'Time Machine, The', 'Ghoulies II', 'Unsinkable Molly Brown, The', 'Adventures of Ichabod and Mr. Toad, The', 'Strange Love of Martha Ivers, The', 'Detour', 'Billy Elliot', 'Bedazzled', 'Pay It Forward', 'Private Eyes, The', 'Legend of Drunken Master, The (Jui kuen II)', 'Book of Shadows: Blair Witch 2', 'Little Vampire, The', \"Charlie's Angels\", 'Legend of Bagger Vance, The', 'Little Nicky', 'Men of Honor', 'Red Planet', 'You Can Count on Me', 'Diamonds Are Forever', 'Eagle Has Landed, The', '6th Day, The', 'Bounce', 'How the Grinch Stole Christmas (a.k.a. The Grinch)', 'One Day in September', 'Rugrats in Paris: The Movie', '102 Dalmatians', 'Malèna', 'Quills', 'Unbreakable', 'Crouching Tiger, Hidden Dragon (Wo hu cang long)', 'Dungeons & Dragons', 'Proof of Life', 'Vertical Limit', 'Bounty, The', 'Planes, Trains & Automobiles', \"She's Having a Baby\", 'Living Daylights, The', 'Transformers: The Movie', 'Wall Street', 'Born on the Fourth of July', 'Talk Radio', \"Brewster's Millions\", 'Snatch', 'Punchline', 'Chocolat', \"Dude, Where's My Car?\", \"Emperor's New Groove, The\", 'Pollock', 'What Women Want', 'Finding Forrester', 'Gift, The', 'Before Night Falls', 'Cast Away', 'Family Man, The', 'House of Mirth, The', 'Miss Congeniality', 'O Brother, Where Art Thou?', 'State and Main', 'Dracula 2000', 'All the Pretty Horses', 'Everlasting Piece, An', 'Thirteen Days', 'Traffic', 'Claim, The', 'Shadow of the Vampire', 'House of Games', 'Annie', \"Don't Tell Mom the Babysitter's Dead\", 'Officer and a Gentleman, An', 'Alamo, The', 'At Close Range', 'Friendly Persuasion', 'Gettysburg', 'Horrors of Spider Island (Ein Toter Hing im Netz)', 'Antitrust', 'Double Take', 'Save the Last Dance', 'Panic', 'Pledge, The', 'The Man in the Moon', 'Mystic Pizza', 'Prelude to a Kiss', 'Coffy', 'Foxy Brown', \"I'm Gonna Git You Sucka\", 'Untamed Heart', 'Sugar & Spice', 'Wedding Planner, The', 'Legend of Rita, The (Stille nach dem Schuß, Die)', 'With a Friend Like Harry... (Harry, un ami qui vous veut du bien)', 'Amazing Grace and Chuck', 'Amazon Women on the Moon', 'Baby Boom', 'Back to the Beach', 'Barfly', 'Best Seller', 'Beverly Hills Cop II', 'Beverly Hills Cop', 'Big Easy, The', 'Born in East L.A.', 'Brave Little Toaster, The', \"Can't Buy Me Love\", 'Cherry 2000', 'Cop', 'Eddie Murphy Raw', 'Empire of the Sun', 'Ernest Goes to Camp', 'Evil Dead, The', 'Flowers in the Attic', 'Fourth Protocol, The', 'Gardens of Stone', 'Glass Menagerie, The', 'Hiding Out', 'Hollywood Shuffle', 'Hope and Glory', 'Innerspace', 'Ishtar', 'Jaws: The Revenge', 'Leonard Part 6', 'Less Than Zero', 'Like Father, Like Son', 'Lost Boys, The', 'Made in Heaven', 'Maid to Order', 'Making Mr. Right', 'Mannequin', 'Masters of the Universe', 'Monster Squad, The', 'My Demon Lover', \"No Man's Land\", 'Head Over Heels', 'Left Behind: The Movie', 'Valentine', 'In the Mood For Love (Fa yeung nin wa)', 'Million Dollar Hotel, The', 'Nico and Dani (Krámpack)', 'Hannibal', 'Saving Silverman (Evil Woman)', 'Vatel', 'Down to Earth', \"Recess: School's Out\", 'Sweet November', 'Company Man', 'Price of Milk, The', 'Monkeybone', '3000 Miles to Graceland', 'Widow of St. Pierre, The (Veuve de Saint-Pierre, La)', 'Mexican, The', \"Caveman's Valentine, The\", 'Series 7: The Contenders', '15 Minutes', 'Get Over It', \"Long Night's Journey Into Day\", 'Avalon', \"Gray's Anatomy\", 'Of Mice and Men', 'Reform School Girls', 'Tapeheads', \"Bishop's Wife, The\", 'Lilies of the Field', 'Greatest Story Ever Told, The', 'Elmer Gantry', 'Alfie', 'Fantasticks, The', \"I Know Where I'm Going!\", 'Abominable Dr. Phibes, The', 'Real Life', 'Battle Beyond the Stars', 'Double Impact', 'Fuzz', 'Harley Davidson and the Marlboro Man', \"Losin' It\", 'Mermaids', 'Navy Seals', 'Manhunter', 'Reversal of Fortune', 'Death on the Nile', 'Revenge of the Nerds', 'Revenge of the Nerds II: Nerds in Paradise', '4 Little Girls', \"River's Edge\", 'Girls Just Want to Have Fun', 'Longest Yard, The', 'Necessary Roughness', 'Enemy at the Gates', 'Exit Wounds', 'Dish, The', 'Memento', 'Heartbreakers', \"Say It Isn't So\", 'Someone Like You', 'Spy Kids', 'Tomcats', 'Tailor of Panama, The', \"Amores Perros (Love's a Bitch)\", 'Keep the River on Your Right: A Modern Cannibal Tale', 'Gleaners & I, The (Les glaneurs et la glaneuse)', 'Along Came a Spider', 'Blow', 'Just Visiting', 'Pokémon 3: The Movie', 'Beautiful Creatures', 'Brigham City', \"Bridget Jones's Diary\", 'Joe Dirt', 'Josie and the Pussycats', 'Chopper', 'Circle, The (Dayereh)', 'Crocodile Dundee in Los Angeles', 'Freddy Got Fingered', 'Center of the World, The', 'Luzhin Defence, The', 'Visit, The', 'Scarface', 'Days of Wine and Roses', 'Driven', \"One Night at McCool's\", 'Town & Country', 'Mummy Returns, The', 'Under the Sand', 'Krull', 'Lost in America', 'Triumph of the Will (Triumph des Willens)', 'World According to Garp, The', 'Fellini Satyricon', 'Frankie and Johnny', 'Frankie and Johnny', 'City of Women, The (Città delle donne, La)', 'For the Boys', 'Nine to Five (a.k.a. 9 to 5)', 'Norma Rae', 'Summer Rental', '5,000 Fingers of Dr. T, The', 'Love Story', 'Pelle the Conqueror (Pelle erobreren)', 'Rififi (Du rififi chez les hommes)', \"Knight's Tale, A\", 'Bread and Roses', 'Startup.com', 'Angel Eyes', 'Shrek', 'Fast Food, Fast Women', 'Moulin Rouge', 'Pearl Harbor', \"Himalaya (Himalaya - l'enfance d'un chef)\", 'Man Who Cried, The', 'Ice Castles', 'Love Potion #9', 'City Slickers', 'Eight Men Out', 'Horse Soldiers, The', 'Night, The (Notte, La)', 'Mississippi Burning', 'Magnificent Seven, The', 'Rio Bravo', 'Throw Momma from the Train', 'Yi Yi', 'Sand Pebbles, The', \"Twelve O'Clock High\", \"Von Ryan's Express\", 'Animal, The', 'Big Eden', 'Evolution', 'Swordfish', 'Anniversary Party, The', 'Divided We Fall (Musíme si pomáhat)', 'Catch-22', 'Forgotten Silver', 'Point Break', 'Uncommon Valor', 'Unlawful Entry', 'Youngblood', 'Gentlemen Prefer Blondes', 'How to Marry a Millionaire', 'Seven Year Itch, The', 'Tootsie', 'Atlantis: The Lost Empire', 'Lara Croft: Tomb Raider', 'Dr. Dolittle 2', 'Fast and the Furious, The', 'A.I. Artificial Intelligence', 'Baby Boy', 'Crazy/Beautiful', 'Pootie Tang', 'Let It Snow', 'Sexy Beast', 'Princess and the Warrior, The (Krieger und die Kaiserin, Der)', 'Closet, The (Placard, Le)', 'Crimson Rivers, The (Rivières pourpres, Les)', 'Lumumba', 'Cats & Dogs', 'Kiss of the Dragon', 'Scary Movie 2', 'Lost and Delirious', 'Rape Me (Baise-moi)', 'Alice', 'Another Woman', 'Beach Blanket Bingo', 'Big Deal on Madonna Street (I Soliti Ignoti)', 'Cannonball Run, The', 'Cannonball Run II', \"Diary of a Chambermaid (Journal d'une femme de chambre, Le)\", 'Dr. Goldfoot and the Bikini Machine', 'Fall of the House of Usher, The (House of Usher)', 'Faust', 'Man Who Shot Liberty Valance, The', 'Salvador', 'September', 'Shadows and Fog', 'Something Wild', 'Thing with Two Heads, The', 'All That Heaven Allows', 'Barefoot Contessa, The', 'Cries and Whispers (Viskningar och rop)', 'Garden of the Finzi-Continis, The (Giardino dei Finzi-Contini, Il)', 'Kiss Me Deadly', 'Lion in Winter, The', 'Misfits, The', 'Moby Dick', 'Sweet Smell of Success', 'Written on the Wind', '10th Victim, The (La decima vittima)', 'Obsession', 'Suspiria', 'Fist of Fury (Chinese Connection, The) (Jing wu men)', 'Christiane F. (a.k.a. We Children from Bahnhof Zoo) (Christiane F. - Wir Kinder vom Bahnhof Zoo)', 'Big Boss, The (Fists of Fury) (Tang shan da xiong)', 'Game of Death', 'Last Dragon, The', 'Outland', 'Way of the Dragon, The (a.k.a. Return of the Dragon) (Meng long guo jiang)', 'T-Rex: Back to the Cretaceous', 'Final Fantasy: The Spirits Within', 'Legally Blonde', 'Score, The', 'Adanggaman', 'Bully', 'Jump Tomorrow', 'Made', 'Michael Jordan to the Max', 'More', 'Africa: The Serengeti', 'Alaska: Spirit of the Wild', '18 Again!', '1969', 'Accidental Tourist, The', 'Accused, The', 'Above the Law', 'Adventures of Baron Munchausen, The', 'Ariel', 'Arthur 2: On the Rocks', 'Bat*21', 'Beaches', 'Beast of War, The (Beast, The)', 'Big Business', 'Big Top Pee-Wee', 'Biloxi Blues', 'Blob, The', 'Bright Lights, Big City', 'Caddyshack II', 'Camille Claudel', 'Cocktail', 'Colors', 'Coming to America', 'Couch Trip, The', 'Critters', 'Crossing Delancey', 'D.O.A.', 'Dead Heat', 'Dead Pool, The', 'Dirty Rotten Scoundrels', 'Drowning by Numbers', 'Ernest Saves Christmas', 'Feds', 'For Keeps', 'Frantic', 'Gorillas in the Mist', 'Great Outdoors, The', 'High Spirits', 'Johnny Be Good', 'Lady in White (a.k.a. The Mystery of the Lady in White)', 'The Lair of the White Worm', 'Land Before Time, The', 'License to Drive', 'Little Nikita', 'Masquerade', 'Milagro Beanfield War', 'Moon Over Parador', 'My Stepmother Is an Alien', 'Night in the Life of Jimmy Reardon, A', 'Bagdad Cafe (Out of Rosenheim)', 'Red Heat', 'Return of the Living Dead, The', 'Return to Snowy River (a.k.a. The Man From Snowy River II)', 'Man from Snowy River, The', 'Running on Empty', 'Serpent and the Rainbow, The', 'Short Circuit 2', 'Short Circuit', 'Vanishing, The (Spoorloos)', 'Tetsuo, the Ironman (Tetsuo)', 'They Live', 'Tucker: The Man and His Dream', 'Twins', 'Without a Clue', 'Young Einstein', 'Always', 'American Ninja', 'Best of the Best', \"Bill & Ted's Excellent Adventure\", 'Black Rain', 'Blaze', 'Blind Fury', 'Casualties of War', 'Chances Are', 'Cyborg', 'Dad', 'Disorganized Crime', 'Dream a Little Dream', 'Dream Team, The', 'Earth Girls Are Easy', 'Eddie and the Cruisers', 'Erik the Viking', 'Family Business', 'Farewell to the King', 'Fat Man and Little Boy', 'Gleaming the Cube', 'Great Balls of Fire!', 'Gross Anatomy (a.k.a. A Cut Above)', 'Harlem Nights', 'Her Alibi', 'How to Get Ahead in Advertising', 'Innocent Man, An', 'January Man, The', 'Johnny Handsome', 'Jesus of Montreal (Jésus de Montréal)', 'K-9', 'Kickboxer', 'Last Exit to Brooklyn', 'Lean on Me', 'Let It Ride', 'Little Monsters', \"Look Who's Talking\", 'Loverboy', 'Major League', 'Meet the Feebles', 'Millennium', 'Miracle Mile', 'New York Stories', 'Next of Kin', 'No Holds Barred', 'Package, The', 'Penn & Teller Get Killed', 'Pink Cadillac', 'Punisher, The', 'Jurassic Park III', \"America's Sweethearts\", 'Brother', 'Ghost World', 'Hedwig and the Angry Inch', 'Planet of the Apes', 'Bread and Tulips (Pane e tulipani)', 'Cure', 'Greenfingers', 'Wet Hot American Summer', 'Return of the Musketeers, The', 'Road House', 'Santa Sangre', 'Scenes from the Class Struggle in Beverly Hills', 'Sea of Love', 'See No Evil, Hear No Evil', \"She's Out of Control\", 'Skin Deep', 'Stepfather, The', 'Sweetie', 'Tall Guy, The', 'Tango & Cash', 'Three Fugitives', 'Troop Beverly Hills', 'Turner & Hooch', 'UHF', 'Uncle Buck', 'War of the Roses, The', 'Wizard, The', \"Weekend at Bernie's II\", 'Billy Liar', 'Black Robe', \"Cat o' Nine Tails, The (Gatto a nove code, Il)\", 'Cotton Club, The', \"Who'll Stop the Rain\", 'Basket Case', 'Original Sin', 'Princess Diaries, The', 'Rush Hour 2', 'Chocolat', 'Hatari!', 'Cage aux Folles, La', 'Marat/Sade', 'Paint Your Wagon', 'Shootist, The', 'Theremin: An Electronic Odyssey', 'Altered States', 'Any Which Way You Can', 'Awakening, The', 'Battle Creek Brawl (Big Brawl, The)', 'American Pie 2', 'Osmosis Jones', 'Others, The', 'American Outlaws', 'All Over the Guy', 'Deep End, The', 'Session 9', \"Captain Corelli's Mandolin\", 'Rat Race', 'Bubble Boy', 'Curse of the Jade Scorpion, The', 'Jay and Silent Bob Strike Back', 'Ghosts of Mars', 'Summer Catch', 'Happy Accidents', 'Maybe Baby', 'Together (Tillsammans)', 'Tortilla Soup', 'Jeepers Creepers', 'O', '3 Ninjas', '3 Ninjas Kick Back', '3 Ninjas Knuckle Up', 'Wicker Man, The', 'Musketeer, The', 'Rock Star', 'Two Can Play That Game', 'L.I.E.', 'Our Lady of the Assassins (Virgen de los sicarios, La)', 'Into the Arms of Strangers: Stories of the Kindertransport', 'Glass House, The', 'Hardball', 'Dinner Rush', 'Haiku Tunnel', 'Big Trouble', 'Glitter', 'Training Day', 'American Astronaut, The', 'Liam', 'Sidewalks of New York', \"Endurance: Shackleton's Legendary Antarctic Expedition, The\", \"French Lieutenant's Woman, The\", 'Great Silence, The (Grande silenzio, Il)', 'Legend of Hell House, The', 'Little Man Tate', 'Moscow Does Not Believe in Tears (Moskva slezam ne verit)', 'Phantom of the Paradise', '13 Ghosts', 'Opera', 'Father Goose', 'Grass Is Greener, The', 'Indiscreet', \"It's a Mad, Mad, Mad, Mad World\", \"King Solomon's Mines\", 'Little Foxes, The', 'Operation Petticoat', 'Play Misty for Me', 'Pocketful of Miracles', 'Vanishing, The', 'Silkwood', 'I Never Promised You a Rose Garden', 'Quadrophenia', 'SpaceCamp', 'When Worlds Collide', \"Don't Say a Word\", 'Hearts in Atlantis', 'Zoolander', 'Extreme Days', 'Joy Ride', \"Max Keeble's Big Move\", 'Serendipity', 'Swamp, The (Ciénaga, La)', 'Big Red One, The', 'Boogeyman, The', 'Party, The (Boum, La)', 'Brubaker', \"Can't Stop the Music\", 'Changeling, The', \"Coal Miner's Daughter\", 'Competition, The', 'Last Metro, The (Dernier métro, Le)', 'Bandits', 'Corky Romano', 'Iron Monkey (Siu nin Wong Fei-hung ji: Tit Ma Lau)', 'Fat Girl (À ma soeur!)', 'Mulholland Drive', 'My First Mister', 'Spriggan (Supurigan)', 'Bones', 'Dirty Harry', 'Fiddler on the Roof', 'Making the Grade', 'Not Without My Daughter', 'Female Trouble', 'Titanica', 'From Hell', 'Last Castle, The', 'Riding in Cars with Boys', 'Focus', 'Waking Life', 'K-PAX', 'Thirteen Ghosts (a.k.a. Thir13en Ghosts)', 'Better Than Sex', 'Donnie Darko', 'High Heels and Low Lifes', 'Life as a House', \"Man Who Wasn't There, The\", 'Town is Quiet, The (Ville est tranquille, La)', 'Domestic Disturbance', 'Monsters, Inc.', 'One, The', 'Tape', 'Heist', 'Shallow Hal', 'When a Stranger Calls', \"Harry Potter and the Sorcerer's Stone (a.k.a. Harry Potter and the Philosopher's Stone)\", 'Novocaine', 'Black Knight', 'Out Cold', 'Spy Game', \"Devil's Backbone, The (Espinazo del diablo, El)\", 'In the Bedroom', 'Incredible Shrinking Woman, The', 'Jabberwocky', 'Funny Girl', 'Breathless (À bout de souffle)', 'Beastmaster, The', 'Midway', 'MacArthur', 'Subway', 'Now, Voyager', 'Little Women', 'Cheap Detective, The', \"Everybody's Famous! (Iedereen beroemd!)\", 'Last Wave, The', 'That Obscure Object of Desire (Cet obscur objet du désir)', 'Toy, The', 'Dressed to Kill', 'Fame', 'Final Countdown, The', 'Flash Gordon', 'Angry Red Planet, The', 'Enforcer, The', 'Eye for an Eye, An', 'Gauntlet, The', 'Lord of the Flies', 'Morons From Outer Space', 'People That Time Forgot, The', \"Ocean's Eleven (a.k.a. Ocean's 11)\", 'Stunt Man, The', 'Sudden Impact', 'Behind Enemy Lines', 'Affair of the Necklace, The', 'Pornstar: The Legend of Ron Jeremy', 'Texas Rangers', \"Ocean's Eleven\", 'Baran', 'Business of Strangers, The', 'Incredible Shrinking Man, The', \"No Man's Land\", 'And Then There Were None', 'Blue Angel, The (Blaue Engel, Der)', 'Moscow on the Hudson', \"Amelie (Fabuleux destin d'Amélie Poulain, Le)\", 'Not Another Teen Movie', 'Vanilla Sky', 'Iris', 'Kandahar (Safar e Ghandehar)', 'Lantana', 'Royal Tenenbaums, The', \"Bill & Ted's Bogus Journey\", 'Clockwise', 'Sheena', 'Spacehunter: Adventures in the Forbidden Zone', 'White Water Summer', 'How High', 'Jimmy Neutron: Boy Genius', 'Joe Somebody', 'Kate & Leopold', 'Lord of the Rings: The Fellowship of the Ring, The', 'Majestic, The', 'Beautiful Mind, A', 'Defiant Ones, The', 'Party, The', 'Topkapi', 'Witness for the Prosecution', 'Ali', 'Black Hawk Down', 'Charlotte Gray', 'Yentl', 'Gosford Park', 'I Am Sam', \"Monster's Ball\", 'Shipping News, The', 'Murder by Death', 'Waterdance, The', 'Orange County', 'Brotherhood of the Wolf (Pacte des loups, Le)', 'Another 48 Hrs.', 'What Time Is It There? (Ni neibian jidian)', 'Russia House, The', 'Truly, Madly, Deeply', 'Dragonslayer', 'Conan the Destroyer', 'Fire and Ice', 'Impostor', 'Kung Pow: Enter the Fist', 'Snow Dogs', '48 Hrs.', 'Italian for Beginners (Italiensk for begyndere)', 'Blankman', 'Brainstorm', 'Dragon: The Bruce Lee Story', 'Little Dieter Needs to Fly', 'M*A*S*H (a.k.a. MASH)', 'Seconds', 'One-Eyed Jacks', 'The Count of Monte Cristo', 'Mothman Prophecies, The', 'Walk to Remember, A', 'Beijing Bicycle (Shiqi sui de dan che)', 'Escaflowne: The Movie (Escaflowne)', 'Maelström', 'Metropolis', \"Son's Room, The (Stanza del figlio, La)\", 'Storytelling', 'Waydowntown', 'Adventures of Huck Finn, The', 'Cousins', 'Slackers', 'Birthday Girl', 'Rare Birds', 'Going Places (Valseuses, Les)', 'Big Fat Liar', 'Collateral Damage', 'Rollerball', 'Scotland, Pa.', \"Baby's Day Out\", 'Heidi', 'Rookie of the Year', 'Sandlot, The', \"Don't Look Now\", 'Crossroads', \"Hart's War\", 'John Q', 'Return to Never Land', 'Super Troopers', 'Good Son, The', 'Last Orders', 'After the Fox (Caccia alla volpe)', 'Bad and the Beautiful, The', 'Designing Woman', 'Sleuth', 'Stroszek', 'Dragonfly', 'Queen of the Damned', \"How to Kill Your Neighbor's Dog\", 'Mean Machine', 'Monsoon Wedding', 'Wendigo', 'Scratch', 'Bad News Bears, The', 'Vampire Hunter D: Bloodlust (Banpaia hantâ D)', 'Wild Strawberries (Smultronstället)', '40 Days and 40 Nights', 'We Were Soldiers', 'Big Bird Cage, The', 'Big Doll House, The', 'Ferngully: The Last Rainforest', 'Zombie (a.k.a. Zombie 2: The Dead Are Among Us) (Zombi 2)', 'Royal Wedding', 'All About the Benjamins', 'Time Machine, The', 'Magnificent Ambersons, The', 'Fun', 'Hangar 18', 'Hopscotch', 'Humanoids from the Deep', 'Little Darlings', 'Long Good Friday, The', \"Mon oncle d'Amérique\", 'Motel Hell', 'Ffolkes', 'Octagon, The', 'Oh, God! Book II', 'Oh, God!', 'Ice Age', 'Resident Evil', 'Showtime', \"Harrison's Flowers\", 'Kissing Jessica Stein', 'Promises', 'And Your Mother Too (Y tu mamá también)', 'All the Right Moves', 'Road to Morocco', 'Taps', 'Return of the Secaucus 7', 'Rude Boy', 'Running Scared', 'Seems Like Old Times', 'Shogun Assassin', 'Smokey and the Bandit II', 'Smokey and the Bandit', 'Smokey and the Bandit III', 'Stir Crazy', 'Blade II', 'Sorority Boys', 'Stolen Summer', 'George Washington', 'Clockstoppers', 'Death to Smoochy', 'Panic Room', 'Rookie, The', 'No Such Thing', 'Piano Teacher, The (La pianiste)', \"Time Out (L'emploi du temps)\", 'Boxcar Bertha', 'Fraternity Vacation', 'Impromptu', 'High Crimes', \"National Lampoon's Van Wilder\", 'Crush', 'Lucky Break', 'Atomic Cafe, The', 'Rashomon (Rashômon)', 'Slap Shot', 'Changing Lanes', 'Frailty', 'Sweetest Thing, The', \"Cat's Meow, The\", 'Human Nature', 'My Big Fat Greek Wedding', '3:10 to Yuma', 'Joe Versus the Volcano', 'Rome, Open City (a.k.a. Open City) (Roma, città aperta)', 'Taking Care of Business', 'Three Men and a Baby', 'Three Men and a Little Lady', 'Watcher in the Woods, The', 'Murder by Numbers', 'The Scorpion King', 'Enigma', 'Nine Queens (Nueve reinas)', 'Triumph of Love, The', 'World Traveler', 'Jason X', 'Life or Something Like It', 'Dogtown and Z-Boyz', 'Rain', 'Salton Sea, The', 'Bob le Flambeur', 'Cadillac Man', 'Delirious', 'Full Moon in Blue Water', 'Husbands and Wives', 'Lenny', 'Triumph of the Spirit', 'Wild Orchid', 'Deuces Wild', 'Hollywood Ending', 'Spider-Man', 'Butterflies Are Free', 'Giant Spider Invasion, The', 'Iron Will', 'Mountains of the Moon', 'White Fang', 'New Guy, The', 'Unfaithful', \"Lady and the Duke, The (Anglaise et le duc, L')\", 'Calamity Jane', 'Cranes Are Flying, The (Letyat zhuravli)', 'Harvey Girls, The', 'About a Boy', 'Star Wars: Episode II - Attack of the Clones', 'Believer, The', 'Importance of Being Earnest, The', 'Every Which Way But Loose', 'I Want to Live!', 'Last Waltz, The', 'Enough', 'Insomnia', 'Spirit: Stallion of the Cimarron', 'CQ', 'Thirteen Conversations About One Thing (a.k.a. 13 Conversations)', 'Monkey Business', 'Requiem for a Heavyweight', 'Sum of All Fears, The', 'Undercover Brother', '84 Charing Cross Road', 'Rapid Fire', 'Silent Running', 'Bad Company', 'Divine Secrets of the Ya-Ya Sisterhood', 'Cherish', 'Fast Runner, The (Atanarjuat)', 'Bourne Identity, The', 'Scooby-Doo', 'Windtalkers', 'Dangerous Lives of Altar Boys, The', \"Emperor's New Clothes, The\", 'Gangster No. 1', 'Harvard Man', 'Dark Blue World (Tmavomodrý svet)', 'Caveman', \"Cheech & Chong's The Corsican Brothers\", \"Silver Bullet (Stephen King's Silver Bullet)\", 'Sorry, Wrong Number', 'Hombre', 'Manhattan Project, The', 'Men at Work', 'She Wore a Yellow Ribbon', 'V. I. Warshawski', 'Juwanna Mann', 'Lilo & Stitch', 'Minority Report', 'Rabbit-Proof Fence', 'Sunshine State', 'Hey Arnold! The Movie', 'Mr. Deeds', 'Lovely & Amazing', 'Pumpkin', \"Look Who's Talking Now\", \"Mo' Money\", 'Object of Beauty, The', 'Wagons East', 'Like Mike', 'Men in Black II (a.k.a. MIIB) (a.k.a. MIB 2)', 'Powerpuff Girls, The', 'Me Without You', 'Crocodile Hunter: Collision Course, The', 'Reign of Fire', 'Road to Perdition', 'All About Lily Chou-Chou (Riri Shushu no subete)', 'My Wife is an Actress (Ma Femme est une Actrice)', '20 Million Miles to Earth', 'The Importance of Being Earnest', 'Perfect', '1776', 'Z', 'Halloween: Resurrection (Halloween 8)', 'Sex and Lucia (Lucía y el sexo)', 'Eight Legged Freaks', 'K-19: The Widowmaker', 'Stuart Little 2', 'Austin Powers in Goldmember', 'Kid Stays in the Picture, The', 'Tadpole', 'Who Is Cletis Tout?', 'Nosferatu the Vampyre (Nosferatu: Phantom der Nacht)', 'The Big Bus', 'In Like Flint', 'Our Man Flint', 'Red Beard (Akahige)', 'Robin and Marian', 'Top Secret!', 'Master of Disguise, The', 'Signs', \"Last Kiss, The (Ultimo bacio, L')\", 'Spy Kids 2: The Island of Lost Dreams', 'Good Girl, The', 'Blood Work', 'xXx', '24 Hour Party People', 'Secret Ballot (Raye makhfi)', 'Martin Lawrence Live: Runteldat', 'Songs From the Second Floor (Sånger från andra våningen)', 'Principal, The', 'Rollerball', 'Adventures of Pluto Nash, The', 'Blue Crush', 'Mostly Martha (Bella Martha)', 'Possession', 'One Hour Photo', 'Serving Sara', 'Simone (S1m0ne)', 'Undisputed', \"Amy's O (a.k.a. Amy's Orgasm)\", 'Satin Rouge', 'Care Bears Movie, The', 'Care Bears Movie II: A New Generation', 'Clash of the Titans', 'Hot Shots!', 'Swarm, The', 'Time After Time', 'Down and Out in Beverly Hills', 'Love Me Tender', 'Stakeout', 'FearDotCom (a.k.a. Fear.com) (a.k.a. Fear Dot Com)', 'À nous la liberté (Freedom for Us)', 'Snipes', 'City by the Sea', 'Swimfan', 'Johnny Dangerously', 'Last House on the Left, The', 'Thesis (Tesis)', 'Barbershop', 'Stealing Harvard', 'Transporter, The', 'Alias Betty (Betty Fisher et autres histoires)', 'Igby Goes Down', 'Aspen Extreme', \"Betsy's Wedding\", 'Captain Ron', 'Ernest Goes to Jail', 'Ernest Scared Stupid', 'Hills Have Eyes, The', 'Indian Summer', 'Mack, The', 'Monkey Trouble', 'Spaced Invaders', 'Suburban Commando', 'Yearling, The', 'Ladykillers, The', 'Lavender Hill Mob, The', 'Man in the White Suit, The', 'Son of the Bride (Hijo de la novia, El)', 'Das Experiment (Experiment, The)', 'Ballistic: Ecks vs. Sever', 'Banger Sisters, The', 'Four Feathers, The', 'Trapped', '8 Women', 'His Secret Life (a.k.a. Ignorant Fairies, The) (Fate ignoranti, Le)', 'Invincible', 'Secretary', 'Spirited Away (Sen to Chihiro no kamikakushi)', 'Trials of Henry Kissinger, The', 'Sweet Home Alabama', 'Tuxedo, The', 'Moonlight Mile', 'Wasabi', 'Jonah: A VeggieTales Movie', 'Red Dragon', 'Bloody Sunday', 'Heaven', 'Man from Elysian Fields, The', 'Welcome to Collinwood', 'Flirting', 'Godzilla vs. Mothra (Mosura tai Gojira)', 'Godzilla, King of the Monsters! (Kaijû-ô Gojira)', 'Powaqqatsi', 'Pride of the Yankees, The', 'Valmont', 'Horror of Dracula (Dracula)', 'Strange Brew', 'Incredible Mr. Limpet, The', 'Flashback', 'Below', 'Brown Sugar', 'Knockaround Guys', 'Rules of Attraction, The', 'Tuck Everlasting', 'White Oleander', 'Bowling for Columbine', 'Comedian', 'Pokemon 4 Ever (a.k.a. Pokémon 4: The Movie)', 'Punch-Drunk Love', 'Swept Away', 'Formula 51', 'Ring, The', 'Auto Focus', 'Grey Zone, The', 'Naqoyqatsi', 'Real Women Have Curves', 'Tully', 'Billy Bathgate', 'Grave of the Fireflies (Hotaru no haka)', 'Saturday Night Fever', 'Staying Alive', 'Urban Cowboy', 'Tom Horn', 'The Pumaman', 'Without Warning (a.k.a. Alien Warning) (a.k.a. It Came Without Warning)', '...All the Marbles', 'Absence of Malice', 'Banana Joe', 'Blow Out', 'Friend Is a Treasure, A (Chi Trova Un Amico, Trova un Tesoro) (Who Finds a Friend Finds a Treasure)', 'Chosen, The', 'Continental Divide', 'Eyewitness (Janitor, The)', 'Faces of Death', 'Faces of Death 3', \"Woman Next Door, The (Femme d'à côté, La)\", 'First Monday in October', 'Four Seasons, The', 'Galaxy of Terror (Quest)', 'Gallipoli', 'Ghost Story', \"Gregory's Girl\", 'Happy Birthday to Me', 'Looker', 'Teddy Bear (Mis)', 'Modern Problems', 'My Bloody Valentine', 'My Dinner with André', 'Neighbors', 'Piranha II: The Spawning', 'Polyester', 'Professional, The (Le professionnel)', 'Ghost Ship', 'Jackass: The Movie', 'Paid in Full', 'Truth About Charlie, The', 'All or Nothing', 'Frida', 'Roger Dodger', 'Casino Royale', 'Company of Wolves, The', 'Exodus', 'Russians Are Coming, the Russians Are Coming, The', 'World of Henry Orient, The', 'I Spy', 'Santa Clause 2, The', 'Femme Fatale', '8 Mile', 'Far from Heaven', 'Harry Potter and the Chamber of Secrets', 'Ararat', 'Crime of Father Amaro, The (Crimen del padre Amaro, El)', 'Standing in the Shadows of Motown', 'Rio Grande', 'Blackrock', 'Men with Brooms', 'Dog Soldiers', 'Houseboat', 'Madame Bovary', \"My Father's Glory (La gloire de mon père)\", \"My Mother's Castle (Château de ma mère, Le)\", 'Return to the Blue Lagoon', 'Toy Soldiers', 'Ragtime', \"I'm Starting From Three (Ricomincio da Tre)\", 'Scanners', 'Do You Remember Dolly Bell? (Sjecas li se, Dolly Bell)', 'Take This Job and Shove It', 'Thief', 'Die Another Day', \"The Emperor's Club\", 'Friday After Next', 'Personal Velocity', 'Quiet American, The', 'Talk to Her (Hable con Ella)', \"Eight Crazy Nights (Adam Sandler's Eight Crazy Nights)\", 'Extreme Ops', 'Solaris', 'Treasure Planet', 'They', 'Chopper Chicks in Zombietown', 'Brother (Brat)', 'Cruel Romance, A (Zhestokij Romans)', 'Elling', 'I Spit on Your Grave (Day of the Woman)', 'Last Seduction, The', 'New Waterford Girl', 'Zulu', 'Analyze That', 'Empire', 'Adaptation', 'Equilibrium', 'Visitor Q (Bizita Q)', 'Hit the Bank (Vabank)', 'Victory (a.k.a. Escape to Victory)', 'Android', 'Attila (Attila Flagello di Dio)', 'Beast Within, The', 'Best Little Whorehouse in Texas, The', 'Party 2, The (Boum 2, La)', 'Burden of Dreams', 'Deathtrap', 'Drumline', 'Hot Chick, The', 'Maid in Manhattan', 'Star Trek: Nemesis', 'About Schmidt', 'Evelyn', 'Intact (Intacto)', 'Morvern Callar', 'Lord of the Rings: The Two Towers, The', 'Devils on the Doorstep (Guizi lai le)', '25th Hour', 'Antwone Fisher', 'Gangs of New York', 'Two Weeks Notice', 'Narc', 'Blue Steel', 'Body of Evidence', \"Children's Hour, The\", 'Duellists, The', 'Miami Blues', 'My Girl 2', 'My Girl', 'My Neighbor Totoro (Tonari no Totoro)', 'Thief of Bagdad, The', 'War and Peace', 'Attack of the Crab Monsters', 'Black Christmas', \"Story of O, The (Histoire d'O)\", 'Fat City', 'Quicksilver', 'Catch Me If You Can', 'Pinocchio', 'Chicago', 'Hours, The', 'Max', 'Nicholas Nickleby', 'Pianist, The', 'Heavy Metal 2000', 'King of Comedy, The', 'Love Liza', 'Confessions of a Dangerous Mind', 'Blue Collar Comedy Tour: The Movie', 'Just Married', 'City of Lost Souls, The (Hyôryuu-gai)', 'Guy Thing, A', 'Kangaroo Jack', 'National Security', 'City of God (Cidade de Deus)', 'Alice Adams', 'American Friend, The (Amerikanische Freund, Der)', 'American Me', 'Band of Outsiders (Bande à part)', 'CB4 - The Movie', 'Dogfight', 'Girls! Girls! Girls!', 'Imitation of Life', 'Mystery Date', 'Pépé le Moko', 'Secret Admirer', 'Woman in Red, The', 'Darkness Falls', 'Amen.', \"Blind Spot: Hitler's Secretary (Im toten Winkel - Hitlers Sekretärin)\", 'Blind Date', 'Ethan Frome', 'Harder They Come, The', 'Sugar Hill', 'Biker Boyz', 'Final Destination 2', 'Recruit, The', 'Guru, The', 'Lost in La Mancha', 'May', 'Harder They Fall, The', 'Ordinary Decent Criminal', 'Tokyo Decadence (Topâzu)', 'Firefox', 'I, the Jury', 'Kiss Me Goodbye', 'Last Unicorn, The', 'Dragon Lord (a.k.a. Dragon Strike) (Long Xiao Ye)', \"Midsummer Night's Sex Comedy, A\", 'Missing', 'Monty Python Live at the Hollywood Bowl', 'Night of the Shooting Stars (Notte di San Lorenzo, La)', 'Paradise', 'Pirate Movie, The', 'Santa Claus Is a Stinker (Le Père Noël est une ordure)', 'Richard Pryor Live on the Sunset Strip', 'Sunless (Sans Soleil)', 'Savannah Smiles', \"Secret Policeman's Other Ball, The\", 'Tenebre', 'They Call Me Bruce? (a.k.a. A Fistful of Chopsticks)', 'Trail of the Pink Panther', 'Venom', 'White Dog', 'Zapped!', 'How to Lose a Guy in 10 Days', 'Shanghai Knights', 'Daredevil', 'Jungle Book 2, The', 'All the Real Girls', 'Gerry', 'He Loves Me... He Loves Me Not (À la folie... pas du tout)', 'Dennis the Menace', 'Black Stallion Returns, The', 'Black Stallion, The', 'Patch of Blue, A', 'Red Badge of Courage, The', 'Thrill of It All, The', 'Pillow Talk', 'Man Who Fell to Earth, The', 'Dark Blue', 'Gods and Generals', 'Life of David Gale, The', 'Old School', 'Open Hearts (Elsker dig for evigt)', 'Poolhall Junkies', 'Stone Reader', 'Cradle 2 the Grave', 'Spider', 'Lady Jane', 'Late Marriage (Hatuna Meuheret)', 'Life Stinks', 'Meteor Man, The', 'Volcano High (Whasango)', 'Bringing Down the House', 'Tears of the Sun', 'Irreversible (Irréversible)', 'Laurel Canyon', 'Nowhere in Africa (Nirgendwo in Afrika)', 'Safety of Objects, The', 'Bend It Like Beckham', 'Hunted, The', 'Willard', 'Prozac Nation', 'Spun', 'King of Kings', 'Talk of the Town, The', 'Born Free', 'Equus', 'Europa Europa (Hitlerjunge Salomon)', 'Glenn Miller Story, The', 'Green Card', 'Journey to the Center of the Earth', 'Pauline at the Beach (Pauline à la Plage)', 'Ringu (Ring)', 'Salaam Bombay!', 'Sweet Charity', 'Talent for the Game', 'Boat Trip', 'Dreamcatcher', \"Piglet's Big Movie\", 'View from the Top', 'Awful Truth, The', 'Basic', 'Core, The', 'Head of State', 'What a Girl Wants', 'Assassination Tango', 'Raising Victor Vargas', 'Stevie', \"Akira Kurosawa's Dreams (Dreams)\", 'Day for Night (La Nuit Américaine)', 'In a Lonely Place', 'Good Thief, The', 'Man Apart, A', 'Phone Booth', 'Cowboy Bebop: The Movie (Cowboy Bebop: Tengoku no Tobira)', 'Levity', 'Man Without a Past, The (Mies vailla menneisyyttä)', 'Anger Management', 'Better Luck Tomorrow', 'Ghosts of the Abyss', 'House of 1000 Corpses', 'Lilya 4-Ever (Lilja 4-ever)', 'Bulletproof Monk', 'Chasing Papi (a.k.a. Papi Chulo)', 'Mighty Wind, A', 'Holes', \"Malibu's Most Wanted\", 'Winged Migration (Peuple migrateur, Le)', 'Flickering Lights (Blinkende lygter)', 'Straw Dogs', 'Beginning of the End', 'Andromeda Strain, The', 'Fahrenheit 451', 'I Am Trying to Break Your Heart', 'Legal Eagles', 'Memories of Me', 'Sibling Rivalry', 'Undercover Blues', 'Wildcats', 'Wiz, The', 'My Father the Hero (Mon père, ce héros.)', 'Scenes from a Mall', 'Confidence', 'Identity', 'It Runs in the Family', 'Decade Under the Influence, A', 'Manic', 'People I Know', 'Spellbound', 'Lizzie McGuire Movie, The', 'X2: X-Men United', 'Blue Car', 'Dancer Upstairs, The', 'Marooned in Iraq (Gomgashtei dar Aragh)', 'Owning Mahowny', 'Daddy Day Care', \"Man on the Train (Homme du train, L')\", 'Shape of Things, The', 'Trip, The', '101 Reykjavik (101 Reykjavík)', 'Chorus Line, A', 'Beat Street', \"Breakin' 2: Electric Boogaloo\", \"Breakin'\", 'Laputa: Castle in the Sky (Tenkû no shiro Rapyuta)', 'High Society', 'Kiss Me Kate', 'Matrix Reloaded, The', 'Down with Love', 'Cinemania', \"Spanish Apartment, The (L'auberge espagnole)\", 'Pokémon Heroes', 'Bruce Almighty', 'In-Laws, The', 'Gigantic (A Tale of Two Johns)', 'Respiro', 'Finding Nemo', 'Italian Job, The', 'Wrong Turn', 'Capturing the Friedmans', 'Together (Han ni Zai Yiki)', '2 Fast 2 Furious (Fast and the Furious 2, The)', 'Whale Rider', 'Nevada Smith', 'Once a Thief (Zong heng si hai)', 'Silk Stockings', 'Crazies, The (a.k.a. Code Name: Trixie)', 'Murder on a Sunday Morning (Un coupable idéal)', 'Siam Sunset', 'Treasure Island', \"Walk, Don't Run\", 'Animals are Beautiful People', 'Car Wash', 'Destry Rides Again', 'Intervista', 'Live Wire', 'Shenandoah', 'Oscar', '6th Man, The (Sixth Man, The)', 'Railway Children, The', 'Two Mules for Sister Sara', \"Winchester '73\", 'Man with the Movie Camera, The (Chelovek s kino-apparatom)', 'Objective, Burma!', \"This Boy's Life\", 'Barton Fink', 'Belle époque', 'Flight of the Phoenix, The', 'From the Terrace', 'Long, Hot Summer, The', 'Man of Aran', 'Music Box', 'Trial, The (Procès, Le)', 'Unforgiven, The', 'Good Burger', 'Jubilee', 'Mississippi Masala', 'Shattered', 'Song of Bernadette, The', 'Thoroughly Modern Millie', 'Dumb and Dumberer: When Harry Met Lloyd', 'From Justin to Kelly', 'Hollywood Homicide', 'Alex and Emma', '28 Days Later', \"Charlie's Angels: Full Throttle\", 'Fulltime Killer (Chuen jik sat sau)', 'Ali: Fear Eats the Soul (Angst essen Seele auf)', 'Bodies, Rest & Motion', 'Ring of Terror', 'You Only Live Once', 'Anastasia', 'Babe, The', 'Mr. Baseball', 'Scaramouche', 'Start the Revolution Without Me', 'Tenant, The (Locataire, Le)', \"What's Up, Doc?\", 'Hulk', 'Legally Blonde 2: Red, White & Blonde', 'Sinbad: Legend of the Seven Seas', 'Terminator 3: Rise of the Machines', 'Swimming Pool', 'Pirates of the Caribbean: The Curse of the Black Pearl', 'League of Extraordinary Gentlemen, The (a.k.a. LXG)', 'Cuckoo, The (Kukushka)', 'I Capture the Castle', 'Northfork', 'Bad Boys II', 'How to Deal', 'Johnny English', 'Anarchist Cookbook, The', 'Dirty Pretty Things', \"Embalmer, The (Imbalsamatore, L')\", 'Garage Days', 'Born to Be Wild', 'Curly Sue', 'Little Giants', 'Loose Cannons', 'Mouse That Roared, The', 'Masked & Anonymous', 'Lara Croft Tomb Raider: The Cradle of Life', 'Seabiscuit', 'Spy Kids 3-D: Game Over', 'Buffalo Soldiers', 'Camp', 'Mondays in the Sun (Lunes al sol, Los)', 'Scorched', 'Avanti!', 'Eve of Destruction', 'Kickboxer 2: The Road Back', 'Kiss Me, Stupid', 'One, Two, Three', 'Private Life of Sherlock Holmes, The', 'Remo Williams: The Adventure Begins', 'Blood of Heroes, The (Salute of the Jugger, The)', \"What's Up, Tiger Lily?\", 'American Wedding (American Pie 3)', 'Gigli', 'And Now... Ladies and Gentlemen...', 'Magdalene Sisters, The', 'Secret Lives of Dentists, The', 'Freaky Friday', 'S.W.A.T.', 'Divorce, Le', 'Princess Blade, The (Shura Yukihime)', 'Step Into Liquid', 'Double Life, A', 'Hawks and Sparrows (Uccellacci e Uccellini)', 'Gospel According to St. Matthew, The (Vangelo secondo Matteo, Il)', 'Umberto D.', \"Brother's Keeper\", 'I Love You to Death', 'Freddy vs. Jason', 'Grind', 'Open Range', 'Shaolin Soccer (Siu lam juk kau)', 'Uptown Girls', 'American Splendor', 'Agent Cody Banks', 'Camp Nowhere', 'Hot Dog... The Movie', 'House of Wax', \"Man's Best Friend\", 'Sure Thing, The', 'Valley Girl', 'Wait Until Dark', 'Tokyo Story (Tôkyô monogatari)', 'Green Ray, The (Rayon vert, Le)', 'THX 1138', 'Kind Hearts and Coronets', 'Atragon (Kaitei Gunkan)', 'Attack of the Puppet People', '10', 'Tremors', 'Red Shoes, The', 'Pink Panther, The', 'Pink Panther Strikes Again, The', 'Commando', 'Dracula', 'Discreet Charm of the Bourgeoisie, The (Charme discret de la bourgeoisie, Le)', 'Waco: The Rules of Engagement', 'Road Home, The (Wo de fu qin mu qin)', 'Ikiru', 'Comic Book Villains', 'Angel at My Table, An', \"Handmaid's Tale, The\", 'Revolution OS', 'Death in Venice (Morte a Venezia)', 'Medallion, The', \"My Boss's Daughter\", 'Autumn Spring (Babí léto)', 'Battle of Shaker Heights, The', 'Dust', 'Stoked: The Rise and Fall of Gator', 'Jeepers Creepers 2', 'Bollywood/Hollywood', 'Once Upon a Time in the Midlands', 'Dickie Roberts: Former Child Star', 'Party Monster', 'Taking Sides', 'Cabin Fever', 'Matchstick Men', 'Once Upon a Time in Mexico', 'Dummy', 'Lost in Translation', 'Millennium Actress (Sennen joyû)', 'Children of the Night', 'Gotcha!', 'Kuffs', 'Once Upon a Time in China (Wong Fei Hung)', 'Once Upon a Time in China II (Wong Fei-hung Ji Yi: Naam yi dong ji keung)', 'Once Upon a Time in China III (Wong Fei-hung tsi sam: Siwong tsangba)', 'Paper Moon', 'Day of the Dead', 'Hello, Dolly!', 'Memoirs of an Invisible Man', 'Once Bitten', 'Squirm', 'Brood, The', 'Anything Else', 'Cold Creek Manor', 'Fighting Temptations, The', 'Secondhand Lions', 'Underworld', 'Bubba Ho-tep', 'In This World', 'Duplex', 'Rundown, The', 'Under the Tuscan Sun', 'Luther', 'Mambo Italiano', 'My Life Without Me', 'To Be and to Have (Être et avoir)', 'Triplets of Belleville, The (Les triplettes de Belleville)', 'Videodrome', 'Life and Debt', 'Lagaan: Once Upon a Time in India', 'Judgment at Nuremberg', 'Brief History of Time, A', 'Leningrad Cowboys Go America', 'Rules of the Game, The (La règle du jeu)', 'Seven Brides for Seven Brothers', 'Kiss of the Spider Woman', \"All the President's Men\", 'Angie', \"Apartment, The (Appartement, L')\", 'Avalon', \"Babette's Feast (Babettes gæstebud)\", 'Beethoven', \"Beethoven's 2nd\", 'Boyz N the Hood', 'Bugsy', 'Bugsy Malone', 'Cobra', 'Phenomena (a.k.a. Creepers)', 'Crimewave', \"Monty Python's The Meaning of Life\", 'Where Eagles Dare', 'Tightrope', 'Sleeping with the Enemy', 'PCU', 'Rookie, The', 'City Heat', \"Three O'Clock High\", 'White Hunter, Black Heart', 'Come and See (Idi i smotri)', 'Ginger Snaps', 'More American Graffiti', \"It's Pat\", 'Regarding Henry', 'Alien Contamination', 'Amazing Transparent Man, The', 'Love Affair', 'Scrooge', 'Leap of Faith', 'Gas, Food, Lodging', 'In Cold Blood', 'Campus Man', 'Yankee Doodle Dandy', 'Ninja Scroll (Jûbei ninpûchô)', 'Knife in the Water (Nóz w wodzie)', 'Mobsters', 'Out of Time', 'School of Rock', 'Station Agent, The', 'Wonderland', 'Bus 174 (Ônibus 174)', 'Mystic River', 'House of the Dead, The', 'Intolerable Cruelty', 'Kill Bill: Vol. 1', 'Runaway Jury', 'Texas Chainsaw Massacre, The', 'Pieces of April', 'Returner (Ritaanaa)', 'Sylvia', 'Veronica Guerin', 'In the Cut', 'Beyond Borders', 'Radio', 'Scary Movie 3', 'Brother Bear', 'Elephant', 'Italian Job, The', 'Sweet Sixteen', 'Alien from L.A.', 'Interstate 60', 'Eye, The (Gin gwai) (Jian gui)', 'Jolson Story, The', \"You'll Never Get Rich\", 'Unvanquished, The (Aparajito)', 'Cercle Rouge, Le (Red Circle, The)', 'Human Stain, The', 'Shattered Glass', 'Matrix Revolutions, The', 'Revolution Will Not Be Televised, The (a.k.a. Chavez: Inside the Coup)', 'Elf', 'Billabong Odyssey', 'Gloomy Sunday (Ein Lied von Liebe und Tod)', 'Love Actually', 'Father of the Bride', \"My Architect: A Son's Journey\", 'Looney Tunes: Back in Action', 'Master and Commander: The Far Side of the World', 'Tupac: Resurrection', 'Big Empty, The', 'Missing, The', 'Cat in the Hat, The', 'Gothika', '21 Grams', 'Barbarian Invasions, The (Les invasions barbares)', 'Bad Santa', 'Haunted Mansion, The', 'Timeline', 'Damage (Fatale)', 'OT: Our Town', \"Devil's Playground\", 'Journeys with George', 'Darkman', 'Dead of Night', 'Dernier Combat, Le (Last Battle, The)', 'Desk Set', 'Europa (Zentropa)', 'Final Analysis', 'Freshman, The', 'Funny Games', 'Slacker', 'WarGames', 'Ordet (Word, The)', 'Forbidden Games (Jeux interdits)', 'Jane Eyre', 'Tale of Two Cities, A', \"Passion of Joan of Arc, The (Passion de Jeanne d'Arc, La)\", 'Ben-Hur: A Tale of the Christ', 'Cabinet of Dr. Caligari, The (Cabinet des Dr. Caligari., Das)', 'Gorky Park', 'The Great Train Robbery', 'Guarding Tess', 'Hannah and Her Sisters', 'Hard Way, The', 'Highlander II: The Quickening', 'Hoffa', 'House of Cards', 'Housesitter', 'Hudson Hawk', 'Invasion of the Body Snatchers', 'Kindergarten Cop', 'King Ralph', 'Last Boy Scout, The', 'Last Tango in Paris (Ultimo tango a Parigi)', \"Lorenzo's Oil\", \"Lover, The (Amant, L')\", 'Mr. Destiny', 'Night of the Hunter, The', 'Only the Lonely', 'Over the Top', 'Passenger 57', 'Presumed Innocent', 'Project X', 'Proof', 'Battle Royale (Batoru rowaiaru)', 'Wedding Banquet, The (Xi yan)', 'Salo, or The 120 Days of Sodom (Salò o le 120 giornate di Sodoma)', 'Midnight Clear, A', 'Summer School', 'Silverado', 'Quick Change', 'Radio Flyer', 'Real McCoy, The', 'Revenge', 'Secret of My Succe$s, The (a.k.a. The Secret of My Success)', 'Show Me Love (Fucking Åmål)', 'Teen Wolf', 'High Heels (Tacones lejanos)', 'Things You Can Tell Just by Looking at Her', 'To Live and Die in L.A.', 'Trapped in Paradise', 'Wild at Heart', 'Witches, The', 'Witches of Eastwick, The', 'Year of the Dragon', 'Nothing to Lose', 'Flying Down to Rio', 'Follow the Fleet', \"What's New, Pussycat\", 'Mary of Scotland', 'Roberta', 'Little Women', 'Swing Time', 'Public Enemy, The', \"Midsummer Night's Dream, A\", 'Life with Father', 'National Velvet', 'Jesus Christ Superstar', 'Dark Victory', 'Birdman of Alcatraz', 'Aguirre: The Wrath of God (Aguirre, der Zorn Gottes)', 'Beauty and the Beast (La belle et la bête)', 'Birth of a Nation, The', 'Juliet of the Spirits (Giulietta degli spiriti)', 'Macbeth (a.k.a. Tragedy of Macbeth, The)', 'Red River', 'Woman Under the Influence, A', 'Stagecoach', 'Shot in the Dark, A', 'Navigator, The', 'Court Jester, The', 'Bullitt', 'Jezebel', 'Hunchback of Notre Dame, The', '42nd Street', 'That Touch of Mink', 'Sweet Dreams', 'Play It Again, Sam', 'Send Me No Flowers', 'Pygmalion', 'Passage to India, A', 'Black Orpheus (Orfeu Negro)', 'Amarcord', 'Hero (Ying xiong)', 'Horse Feathers', 'Anna Karenina', 'Front Page, The', 'Rivers and Tides', 'Nausicaä of the Valley of the Wind (Kaze no tani no Naushika)', 'Doc Hollywood', 'Dragnet', 'Madhouse', '1941', 'Foul Play', 'Crime Story (Zhong an zu)', 'Beyond the Clouds (Al di là delle nuvole)', 'Collector, The', 'Deep Red (Profondo rosso)', 'Diabolique (Les diaboliques)', 'Leprechaun', 'Wings of Honneamise (Ôritsu uchûgun Oneamisu no tsubasa)', \"Adam's Rib\", 'King of Hearts', 'Naked Lunch', 'Grass', 'Spring Forward', 'Run', 'Summer Place, A', 'Night at the Opera, A', 'Element of Crime, The (Forbrydelsens Element)', 'Cooler, The', 'In America', 'My Flesh and Blood', 'Honey', 'Last Samurai, The', 'Big Fish', \"Something's Gotta Give\", 'Stuck on You', 'Girl with a Pearl Earring', 'Lord of the Rings: The Return of the King, The', 'Mona Lisa Smile', 'Calendar Girls', 'Fog of War: Eleven Lessons from the Life of Robert S. McNamara, The', 'House of Sand and Fog', 'Monster', 'Cheaper by the Dozen', 'Cold Mountain', 'Paycheck', 'Peter Pan', 'Company, The', 'Japanese Story', 'Chasing Liberty', 'Aileen: Life and Death of a Serial Killer', 'Along Came Polly', 'Torque', 'Crimson Gold (Talaye sorgh)', 'Osama', 'Great Gatsby, The', 'Wuthering Heights', 'Ship of Fools', 'This Property is Condemned', 'Jane Eyre', 'Blame It on the Bellboy', 'Only the Strong', 'Adventures of Ford Fairlane, The', 'Beyond Re-Animator', 'Wind and the Lion, The', 'Mon Oncle (My Uncle)', 'Dr. Jekyll and Mr. Hyde', \"M. Hulot’s Holiday (Mr. Hulot's Holiday) (Vacances de Monsieur Hulot, Les)\", 'People Will Talk', 'I Was a Male War Bride', 'To Have and Have Not', 'High Sierra', 'Dark Passage', 'Ox-Bow Incident, The', 'They Drive by Night', 'Reefer Madness (a.k.a. Tell Your Children)', 'D.O.A.', 'Pumping Iron', 'Cool World', 'Strada, La', 'Ichi the Killer (Koroshiya 1)', 'Boy and His Dog, A', 'Ashes and Diamonds (Popiól i diament)', \"Intolerance: Love's Struggle Throughout the Ages\", 'Tormented', 'Chitty Chitty Bang Bang', 'Suriyothai (a.k.a. Legend of Suriyothai, The)', 'Where the Day Takes You', 'The Butterfly Effect', 'Win a Date with Tad Hamilton!', 'Touching the Void', 'Big Bounce, The', 'Perfect Score, The', 'You Got Served', 'Latter Days', 'Barbershop 2: Back in Business', 'Catch That Kid', 'Miracle', 'An Amazing Couple', 'Dreamers, The', 'Lost Skeleton of Cadavra, The', 'Hip Hop Witch, Da', 'Thirteen', 'Best Defense', '50 First Dates', 'Welcome to Mooseport', 'Kitchen Stories (Salmer fra kjøkkenet)', 'Monsieur Ibrahim (Monsieur Ibrahim et les fleurs du Coran)', \"Diary of a Country Priest (Journal d'un curé de campagne)\", 'Thief of Bagdad, The', 'The Diary of Anne Frank', 'Allegro non troppo', 'Black Widow', \"Herod's Law (Ley de Herodes, La)\", 'Flesh & Blood', \"King Solomon's Mines\", 'Raw Deal', 'Goodbye, Mr. Chips', 'Follow Me, Boys!', 'Against the Ropes', 'Confessions of a Teenage Drama Queen', 'EuroTrip', 'Passion of the Christ, The', 'Club Dread', 'Dirty Dancing: Havana Nights', 'Twisted', 'Good bye, Lenin!', 'Hidalgo', 'Starsky & Hutch', 'Reckoning, The', 'Persona', 'Passion of Anna, The (Passion, En)', 'Corbeau, Le (Raven, The)', 'Pickup on South Street', 'Damned, The (La Caduta degli dei)', 'Just One of the Guys', 'Wrong Arm of the Law, The', 'Agent Cody Banks 2: Destination London', 'Girl Next Door, The', 'Secret Window', 'Spartan', 'Broken Wings (Knafayim Shvurot)', 'Wilbur Wants to Kill Himself', 'Mad Dog and Glory', 'Peyton Place', 'Dawn of the Dead', 'Eternal Sunshine of the Spotless Mind', 'Taking Lives', 'Intermission', 'Jersey Girl', 'Ladykillers, The', 'Never Die Alone', 'Scooby-Doo 2: Monsters Unleashed', 'Dogville', 'Ned Kelly', 'Hellboy', 'Prince & Me, The', 'Walking Tall', 'United States of Leland, The', 'The Alamo', 'Ella Enchanted', 'Whole Ten Yards, The', \"I'm Not Scared (Io non ho paura)\", 'Ten Commandments, The', 'Dawn of the Dead', 'Prey for Rock & Roll', 'Those Magnificent Men in Their Flying Machines', 'Cheaper by the Dozen', 'Scenes From a Marriage (Scener ur ett äktenskap)', 'Munchies', 'Going in Style', 'After Hours', 'Kill Bill: Vol. 2', 'Punisher, The', 'Paper Clips', 'This So-Called Disaster', '13 Going on 30', 'Man on Fire', 'Envy', 'Godsend', 'Laws of Attraction', 'Mean Girls', 'Van Helsing', 'Mudge Boy, The', \"Breakin' All the Rules\", 'Troy', 'Carandiru', 'Coffee and Cigarettes', 'Eye See You (D-Tox)', 'Watch on the Rhine', 'Enemy Mine', 'Enter the Dragon', 'Happy Together (a.k.a. Buenos Aires Affair) (Chun gwong cha sit)', 'Henry & June', 'Martin', 'Three Faces of Eve, The', '100 Girls', 'Fail-Safe', 'Paperhouse', 'Dobermann', 'Kwaidan (Kaidan)', '28 Up', 'You Only Live Twice', 'Octopussy', 'Wit', 'Never Say Never Again', 'Pride and Prejudice', 'Fountainhead, The', 'Woman of the Year', 'Samouraï, Le (Godson, The)', 'Oklahoma!', 'Desert Hearts', 'Body Double', 'Chaplin', 'Miracle Worker, The', 'Monster in a Box', 'School Ties', 'Raising Cain', 'Rose Red', 'Noises Off...', 'Babylon 5: In the Beginning', 'Witchfinder General (Conquerer Worm, The)', 'Versus', 'Pride and Prejudice', 'China Syndrome, The', 'Wages of Fear, The (Salaire de la peur, Le)', \"Look Who's Talking Too\", \"Bells of St. Mary's, The\", 'Delta Force, The', 'Pat and Mike', 'Animal Crackers', 'He Said, She Said', 'Bedazzled', 'Cat People', 'Camelot', 'Lonely Guy, The', 'Four Musketeers, The', 'Protocol', 'Postman Always Rings Twice, The', 'Matinee', 'Baxter', 'Explorers', \"Scent of Green Papaya, The (Mùi du du xhan - L'odeur de la papaye verte)\", 'Pierrot le fou', 'Weekend (a.k.a. Le Week-end) (Week End)', 'Tuesdays with Morrie', 'Alexander Nevsky (Aleksandr Nevskiy)', 'Jason and the Argonauts', 'Tinker, Tailor, Soldier, Spy', 'Throne of Blood (Kumonosu jô)', 'Best of Youth, The (La meglio gioventù)', 'Undercurrent', \"Bang, Bang, You're Dead\", 'Twister', 'Sniper', 'Genghis Blues', '11\\'09\"01 - September 11', 'Parallax View, The', 'Warriors, The', 'Babylon 5: A Call to Arms', 'Babylon 5: The River of Souls', 'Babylon 5: Thirdspace', 'True Stories', 'Virgin Spring, The (Jungfrukällan)', 'Mogambo', 'Secret Life of Walter Mitty, The', 'Another Thin Man', 'Thin Man Goes Home, The', 'Shadow of the Thin Man', 'After the Thin Man', 'Song of the Thin Man', 'Love Crazy', 'Gunga Din', 'Children of Dune', 'Dune', 'Lammbock', 'Legend, The (Legend of Fong Sai-Yuk, The) (Fong Sai Yuk)', 'Tremors II: Aftershocks', 'Tremors 3: Back to Perfection', 'Notorious C.H.O.', 'The Plague of the Zombies', 'I Walked with a Zombie', 'Highway 61', 'How to Succeed in Business Without Really Trying', 'Pat Garrett and Billy the Kid', \"Last Man on Earth, The (Ultimo uomo della Terra, L')\", 'Duck, You Sucker', 'Bring Me the Head of Alfredo Garcia', 'Ride the High Country', 'Master of the Flying Guillotine (Du bi quan wang da po xue di zi)', 'Frankenstein Must Be Destroyed', 'Gidget', 'Desperate Living', 'Stray Dog (Nora inu)', 'Hidden Fortress, The (Kakushi-toride no san-akunin)', 'High and Low (Tengoku to jigoku)', 'People Under the Stairs, The', 'Dark Days', 'Zelig', 'Shame (Skammen)', 'Silence, The (Tystnaden)', 'Winter Light (Nattvardsgästerna)', 'Through a Glass Darkly (Såsom i en spegel)', 'The Magician', 'Killers, The', 'Night of the Iguana, The', 'Nightbreed', 'Ken Park', 'Monterey Pop', 'Bridge Too Far, A', 'Infernal Affairs (Mou gaan dou)', 'Tale of Two Sisters, A (Janghwa, Hongryeon)', 'Broadway Danny Rose', 'From Beyond', 'Robot Jox', 'Dolls', 'Space Truckers', 'Death Race 2000', 'Bucket Of Blood, A', 'Brigadoon', 'Power of One, The', 'Weather Underground, The', 'Kikujiro (Kikujirô no natsu)', 'Spring, Summer, Fall, Winter... and Spring (Bom yeoreum gaeul gyeoul geurigo bom)', 'Phantom Tollbooth, The', 'Getaway, The', 'Dark Water (Honogurai mizu no soko kara)', 'Thing Called Love, The', 'The Thief', 'How to Steal a Million', 'Stendhal Syndrome, The (Sindrome di Stendhal, La)', 'Mean Streets', 'Jack the Bear', 'I Am a Fugitive from a Chain Gang', 'Hamburger Hill', 'Sweet Bird of Youth', 'Frankenstein Unbound', 'Shiri (Swiri)', 'Bad Day at Black Rock', 'In China They Eat Dogs (I Kina spiser de hunde)', 'Delta Force 2 (Delta Force 2: The Colombian Connection)', 'Crossroads', 'Seducing Doctor Lewis (Grande séduction, La)', 'Sunrise: A Song of Two Humans', 'Shock Corridor', 'Au revoir les enfants', 'Pursuit of Happiness', 'Gladiator', 'Indestructible Man', 'Wasp Woman, The', 'Attack of the Giant Leeches', 'Dead or Alive: Hanzaisha', 'Lola Montès', 'Charly', 'Lust for Life', 'Dolce Vita, La', 'Jin Roh: The Wolf Brigade (Jin-Rô)', 'Rush', 'Captain Blood', '*batteries not included', 'Educating Rita', 'Sansho the Bailiff (Sanshô dayû)', 'Zazie dans le métro', 'Americanization of Emily, The', 'Anne of the Thousand Days', \"Avventura, L' (Adventure, The)\", 'Beyond the Valley of the Dolls', 'Hiroshima Mon Amour', 'Ugetsu (Ugetsu monogatari)', 'Day of the Jackal, The', 'Night of the Living Dead', 'Maltese Falcon, The (a.k.a. Dangerous Female)', 'I Love You Again', 'Safety Last!', 'While the City Sleeps', 'Little Murders', 'Viridiana', 'Masterminds', 'Lupin III: The Castle Of Cagliostro (Rupan sansei: Kariosutoro no shiro)', 'Arizona Dream', '3 Women (Three Women)', 'Grey Gardens', 'Purple Rain', 'Point of No Return', \"Hairdresser's Husband, The (Le mari de la coiffeuse)\", 'College', 'Mitchell', 'Used People', 'Front Page, The', 'Dolls', 'Man Who Came to Dinner, The', 'Make Way for Tomorrow', 'Major and the Minor, The', 'Caine Mutiny, The', 'Black Narcissus', 'Escape from Alcatraz', 'Oliver Twist', 'Shrek 2', 'Day After Tomorrow, The', 'Raising Helen', 'Soul Plane', \"Baadasssss! (How to Get the Man's Foot Outta Your Ass)\", 'Saved!', 'Harry Potter and the Prisoner of Azkaban', 'Mindhunters', 'Blind Swordsman: Zatoichi, The (Zatôichi)', 'Chronicles of Riddick, The', 'Garfield: The Movie', 'Stepford Wives, The', 'Hunting of the President, The', 'Napoleon Dynamite', 'Doctor, The', 'Dresser, The', 'Father Hood', 'Hello Again', 'Hope Springs', 'Lover Come Back', 'Police Academy: Mission to Moscow', 'Big Wednesday', 'Book of Love', 'Hour of the Wolf (Vargtimmen)', 'Suddenly', 'Divorcee, The', 'Meet the Applegates', 'Robot Carnival (Roboto kânibauru)', 'Americathon', 'Sands of Iwo Jima', 'This Island Earth', 'Anthony Adverse', 'Blackboard Jungle', 'Luna Papa', 'Investigation of a Citizen Above Suspicion (Indagine su un cittadino al di sopra di ogni sospetto)', 'To Each His Own', 'Heiress, The', 'Dragon Seed', 'Executive Suite', 'Johnny Belinda', 'Super Size Me', 'Johnny Eager', 'Jetée, La', 'Northwest Passage', 'Picture of Dorian Gray, The', 'Human Condition I, The (Ningen no joken I)', \"Please Don't Eat the Daisies\", 'White Heat', 'Christmas Carol, A (Scrooge)', 'Memphis Belle', 'Cincinnati Kid, The', 'Animal Factory', 'Godzilla vs. Mechagodzilla (Gojira tai Mekagojira)', 'Hitcher, The', 'Show Boat', 'Fear X', 'Freaks', 'Immigrant, The', 'Silent Movie', 'Anna Christie', 'Dr. Jekyll and Mr. Hyde', 'Around the World in 80 Days', 'Dodgeball: A True Underdog Story', 'Terminal, The', 'Dear Frankie', 'White Chicks', 'Door in the Floor, The', 'Notebook, The', 'Two Brothers (Deux frères)', 'De-Lovely', 'Day at the Races, A', 'Bob & Carol & Ted & Alice', 'Claymation Christmas Celebration, A', \"Happenstance (Battement d'ailes du papillon, Le)\", 'Comandante', 'Undead', 'Into the Woods', 'Pirates of Silicon Valley', 'Manufacturing Consent: Noam Chomsky and the Media', 'Mayor of the Sunset Strip', 'Killing Me Softly', 'Philadelphia Experiment, The', 'Juice', 'Revenge of the Pink Panther', 'Angels with Dirty Faces', 'Zero de conduite (Zero for Conduct) (Zéro de conduite: Jeunes diables au collège)', 'Taxi', 'Taxi 3', 'Tokyo Godfathers', 'Our Hospitality', 'All of Me', \"Farmer's Daughter, The\", 'Overboard', 'Butterfield 8', 'Exterminating Angel, The (Ángel exterminador, El)', 'Fahrenheit 9/11', 'Roxanne', \"Dr. Terror's House of Horrors\", 'Secret Society', 'Last Starfighter, The', 'Spider-Man 2', 'Before Sunset', 'King Arthur', 'Anchorman: The Legend of Ron Burgundy', 'Cinderella Story, A', 'I, Robot', 'Maria Full of Grace (Maria, Llena eres de gracia)', \"Long Day's Journey Into Night\", 'Short Film About Killing, A (Krótki film o zabijaniu)', 'Bourne Supremacy, The', 'Catwoman', 'A Home at the End of the World', 'Testament of Dr. Mabuse, The (Das Testament des Dr. Mabuse)', 'Flash Gordon Conquers the Universe', \"Man Escaped, A (Un  condamné à mort s'est échappé ou Le vent souffle où il veut)\", 'Miracle of Marcelino, The (Marcelino pan y vino)', 'Slaughterhouse-Five', 'Bachelor and the Bobby-Soxer, The', 'Mr. Blandings Builds His Dream House', 'My Favorite Wife', 'New Adventures of Pippi Longstocking, The', 'Night and Day', 'Snake Pit, The', 'Super, The', 'Leopard, The (Gattopardo, Il)', 'Day of the Locust, The', 'To End All Wars', 'Woman Is a Woman, A (femme est une femme, Une)', 'Biggles', 'Yesterday, Today and Tomorrow (Ieri, oggi, domani)', 'Unprecedented: The 2000 Presidential Election', 'Prime of Miss Jean Brodie, The', 'My Voyage to Italy (Il mio viaggio in Italia)', 'This Gun for Hire', 'Sherlock Holmes: Terror by Night', 'Spy Who Came in from the Cold, The', 'Sherlock Holmes and the Secret Weapon', 'Sherlock Holmes: The Woman in Green', 'Sherlock Holmes: Dressed to Kill', 'Manchurian Candidate, The', 'Thunderbirds', 'Village, The', 'Garden State', 'Musa the Warrior (Musa)', 'Funny Thing Happened on the Way to the Forum, A', 'Collateral', 'Little Black Book', 'Code 46', 'Story of Women (Affaire de femmes, Une)', 'Harold and Kumar Go to White Castle', 'Princess Diaries 2: Royal Engagement, The', 'Danny Deckchair', 'AVP: Alien vs. Predator', \"We Don't Live Here Anymore\", 'Without a Paddle', 'Exorcist: The Beginning', 'Bill Cosby, Himself', 'Anacondas: The Hunt for the Blood Orchid', 'Suspect Zero', 'Warriors of Heaven and Earth (Tian di ying xiong)', 'Vanity Fair', 'Paparazzi', 'Wicker Park', \"Alice Doesn't Live Here Anymore\", \"Who's That Knocking at My Door?\", 'Camera Buff (Amator)', 'Vitelloni, I (a.k.a. The Young and the Passionate)', 'Cellular', 'Resident Evil: Apocalypse', 'Mr. 3000', 'Sky Captain and the World of Tomorrow', 'Wimbledon', 'First Daughter', 'Forgotten, The', 'Motorcycle Diaries, The (Diarios de motocicleta)', 'Shaun of the Dead', 'Come Back, Little Sheba', 'Murder on the Orient Express', 'Mask', 'Orca: The Killer Whale', '1492: Conquest of Paradise', 'Cannibal Holocaust', 'Shark Tale', 'Ladder 49', 'I Heart Huckabees', 'Raise Your Voice', 'Taxi', 'Primer', 'Stage Beauty', 'Shall We Dance?', 'Team America: World Police', 'Eulogy', 'P.S.', 'Country Girl, The', 'Rose Tattoo, The', 'Fearless Vampire Killers, The', \"Decline of the American Empire, The (Déclin de l'empire américain, Le)\", \"Bebe's Kids\", 'Friday Night Lights', 'Tarnation', 'Final Cut, The', 'Being Julia', 'Surviving Christmas', 'Grudge, The', 'Alfie', 'Sideways', 'The Machinist', 'Vera Drake', 'Falling Angels', 'Lightning in a Bottle', 'Undertow', 'Saw', 'Ray', 'Birth', 'Incredibles, The', 'Callas Forever', 'Polar Express, The', 'Kinsey', \"Seed of Chucky (Child's Play 5)\", 'After the Sunset', 'Bridget Jones: The Edge of Reason', 'Finding Neverland', 'National Treasure', 'Bad Education (La mala educación)', 'SpongeBob SquarePants Movie, The', 'Alexander', 'Christmas with the Kranks', 'Guerrilla: The Taking of Patty Hearst', 'Closer', 'I Am David', 'House of Flying Daggers (Shi mian mai fu)', \"Ocean's Twelve\", 'Blade: Trinity', \"Bush's Brain\", 'Damn Yankees!', \"That's Entertainment\", 'D.A.R.Y.L.', 'Fire in the Sky', 'Invisible Man Returns, The', \"Love Me If You Dare (Jeux d'enfants)\", 'Control Room', 'Hunchback of Notre Dame, The', 'Sherlock Jr.', 'Freshman, The', 'Greed', 'Jazz Singer, The', 'Steamboat Bill, Jr.', 'Andalusian Dog, An (Chien andalou, Un)', 'Little Caesar', 'Boudu Saved From Drowning (Boudu sauvé des eaux)', 'Scarface', 'Dinner at Eight', 'Gold Diggers of 1933', \"Atalante, L'\", 'Fury', 'Libeled Lady', 'Mr. Deeds Goes to Town', 'Camille', 'Captains Courageous', 'Stage Door', 'Holiday', 'Roaring Twenties, The', 'Wuthering Heights', 'Letter, The', 'Here Comes Mr. Jordan', 'Random Harvest', 'Tales of Manhattan', 'Day of Wrath (Vredens dag)', \"Miracle of Morgan's Creek, The\", 'Mr. Skeffington', 'Great Expectations', 'Stranger, The', 'Easter Parade', 'Lady from Shanghai, The', 'Three Musketeers, The', 'Unfaithfully Yours', 'Letter to Three Wives, A', 'Annie Get Your Gun', \"King Solomon's Mines\", 'Young and the Damned, The (Olvidados, Los)', 'Star Is Born, A', 'The Wild One', 'Confidential Report', 'Night and Fog (Nuit et brouillard)', \"Teacher's Pet\", 'Human Condition II, The (Ningen no joken II)', 'Pickpocket', 'When a Woman Ascends the Stairs (Onna ga kaidan wo agaru toki)', 'Human Condition III, The (Ningen no joken III)', 'Advise and Consent', 'Harakiri (Seppuku)', 'Music Man, The', 'Mutiny on the Bounty', 'Carabineers, The (Carabiniers, Les)', 'Hush... Hush, Sweet Charlotte', 'Onibaba', 'Robinson Crusoe on Mars', 'Battle of Algiers, The (La battaglia di Algeri)', 'Charlie Brown Christmas, A', 'Major Dundee', 'Thousand Clowns, A', 'Andrei Rublev (Andrey Rublyov)', 'Au Hasard Balthazar', 'Batman', 'Closely Watched Trains (Ostre sledované vlaky)', 'Tokyo Drifter (Tôkyô nagaremono)', 'Branded to Kill (Koroshi no rakuin)', 'Play Time (a.k.a. Playtime)', 'Point Blank', 'Titicut Follies', 'Asterix and Cleopatra (Astérix et Cléopâtre)', 'Diamond Arm, The (Brilliantovaya ruka)', 'Sympathy for the Devil', 'Yours, Mine and Ours', \"Claire's Knee (Genou de Claire, Le)\", 'Performance', 'White Sun of the Desert, The (Beloe solntse pustyni)', 'Zabriskie Point', 'Duel', 'They Call Me Trinity', 'Topo, El', 'Dr. Phibes Rises Again', 'Charley Varrick', 'Dark Star', 'Sisters', 'Turkish Delight (Turks fruit)', 'California Split', 'Emmanuelle', 'Gone in 60 Seconds', 'Holy Mountain, The (Montaña sagrada, La)', \"Twelve Tasks of Asterix, The (Les douze travaux d'Astérix)\", 'French Connection II', 'Irony of Fate, or Enjoy Your Bath! (Ironiya sudby, ili S legkim parom!)', 'Passenger, The (Professione: reporter)', 'Trilogy of Terror', '1900 (Novecento)', 'Futureworld', 'Harlan County U.S.A.', 'Silver Streak', 'High Anxiety', 'New York, New York', 'Turning Point, The', 'Five Deadly Venoms', 'Last Hurrah for Chivalry (Hao xia)', 'Clonus Horror, The', \"Snake in the Eagle's Shadow (Se ying diu sau)\", 'Hair', 'Love at First Bite', 'Hitch Hikers Guide to the Galaxy, The', \"Smiley's People\", 'Blue Thunder', 'Day After, The', 'Eddie Murphy Delirious', 'Norte, El', 'Twilight Zone: The Movie', 'Boy Meets Girl', 'Cloak & Dagger', 'Ewok Adventure, The (a.k.a. Caravan of Courage: An Ewok Adventure)', 'Silent Night, Deadly Night', 'Times of Harvey Milk, The', 'What Have I Done to Deserve This? (¿Qué he hecho yo para merecer esto!!)', 'Anne of Green Gables', 'Death of a Salesman', 'Ewoks: The Battle for Endor', 'Police Story (Ging chaat goo si)', 'Quiet Earth, The', 'Spies Like Us', 'White Nights', \"'Round Midnight\", 'Club Paradise', 'Sacrifice, The (Offret - Sacraficatio)', 'Better Tomorrow, A (Ying hung boon sik)', 'Decalogue, The (Dekalog)', 'G.I. Joe: The Movie', 'Hell Comes to Frogtown', 'Law of Desire (Ley del deseo, La)', 'Prince of Darkness', 'Chinese Ghost Story, A (Sinnui yauwan)', 'Better Tomorrow II, A (Ying hung boon sik II)', 'Bourne Identity, The', 'Dominick and Eugene', 'Killer Klowns from Outer Space', 'Moonwalker', 'Alice (Neco z Alenky)', 'Life Is a Long Quiet River (La vie est un long fleuve tranquille)', 'Lonesome Dove', \"Kiki's Delivery Service (Majo no takkyûbin)\", 'Almost an Angel', 'Cry-Baby', 'Bullet in the Head', 'Ghost Dad', 'It', 'Ju Dou', 'Krays, The', 'Lionheart', 'Nuns on the Run', 'Patlabor: The Movie (Kidô keisatsu patorebâ: The Movie)', 'State of Grace', '35 Up', 'Days of Being Wild (A Fei jingjyuhn)', 'Begotten', 'Dutch', 'Hearts of Darkness: A Filmmakers Apocalypse', 'Johnny Stecchino', 'Riki-Oh: The Story of Ricky (Lik Wong)', 'Mannequin 2: On the Move', 'Only Yesterday (Omohide poro poro)', \"Other People's Money\", 'Quigley Down Under', 'Prime Suspect 2', 'Captain America', 'City Hunter (Sing si lip yan)', 'Porco Rosso (Crimson Pig) (Kurenai no buta)', 'Stolen Children (Ladro di bambini, Il)', 'Ladybugs', 'Mambo Kings, The', 'Shining Through', 'Sidekicks', 'Heart in Winter, A (Un coeur en hiver)', 'Visions of Light: The Art of Cinematography', 'Bad Boy Bubby', 'Barbarians at the Gate', 'Fortress', 'Mr. Nanny', 'Snapper, The', 'Sonatine (Sonachine)', 'Stand, The', 'Darkman II: Return of Durant, The', 'Freaked', 'Fist of Legend (Jing wu ying xiong)', 'Major League II', 'My Father the Hero', 'Pure Formality, A (Pura formalità, Una)', 'Langoliers, The', 'Last Wedding, The (Kivenpyörittäjän kylä)', 'Last of the Dogmen', 'Whisper of the Heart (Mimi wo sumaseba)', 'Street Fighter II: The Animated Movie (Sutorîto Faitâ II gekijô-ban)', \"Summer's Tale, A (Conte d'été)\", 'Late Shift, The', 'Pusher', 'Emma', 'Boxer, The', 'Gummo', 'Nirvana', \"Lion King II: Simba's Pride, The\", 'From the Earth to the Moon', 'Beowulf', 'RKO 281', 'From Dusk Till Dawn 2: Texas Blood Money', 'Gia', 'Thursday', 'Who Am I? (Wo shi shei)', 'Merlin', 'Brave New World', 'Addams Family Reunion', 'Purgatory', 'Bleeder', 'Dark Portals: The Chronicles of Vidocq  (Vidocq)', 'Candyman 3: Day of the Dead', 'Batman/Superman Movie, The', 'Neon Genesis Evangelion: The End of Evangelion (Shin seiki Evangelion Gekijô-ban: Air/Magokoro wo, kimi ni)', 'Style Wars', 'In July (Im Juli)', 'Kirikou and the Sorceress (Kirikou et la sorcière)', 'Taxi 2', 'If These Walls Could Talk 2', '10th Kingdom, The', 'Wind Will Carry Us, The (Bad ma ra khahad bord)', '2046', 'Bartleby', 'Batman Beyond: Return of the Joker', 'Audition (Ôdishon)', 'Nine Lives of Tomas Katz, The', 'Monday', 'Paradise Lost 2: Revelations', 'Asterix & Obelix: Mission Cleopatra (Astérix & Obélix: Mission Cléopâtre)', 'Daria: Is It Fall Yet?', 'Late Night Shopping', '61*', 'Joint Security Area (Gongdong gyeongbi guyeok JSA)', \"Ripley's Game\", 'Jalla! Jalla!', 'Teknolust', 'Accidental Spy, The (Dak miu mai shing)', 'Darkness', 'Blood: The Last Vampire', 'Blueberry', 'American Psycho II: All American Girl', 'Ali G Indahouse', 'Dead or Alive 2: Tôbôsha', 'Cube 2: Hypercube', 'Pulse (Kairo)', 'Dog Days (Hundstage)', 'My Sassy Girl (Yeopgijeogin geunyeo)', 'Nothing', 'Undertaking Betty (Plots with a View)', 'Dead or Alive: Final', 'Fubar', 'Happiness of the Katakuris, The (Katakuri-ke no kôfuku)', 'Dead End', 'Sympathy for Mr. Vengeance (Boksuneun naui geot)', 'Jesus Christ Vampire Hunter', 'Suicide Club (Jisatsu saakuru)', 'Battlestar Galactica', 'Sound of Thunder, A', 'Lion King 1½, The', 'Oasis', 'Remember Me (Ricordati di me)', 'Animatrix, The', 'Brown Bunny, The', 'Ju-on: The Curse', '11:14', 'Tremors 4: The Legend Begins', 'Bring It On Again', \"Crimson Rivers 2: Angels of the Apocalypse (Rivières pourpres II - Les anges de l'apocalypse, Les)\", 'And Starring Pancho Villa as Himself', 'Nicotina', 'Battle Royale 2: Requiem (Batoru rowaiaru II: Chinkonka)', 'In Hell', \"Lemony Snicket's A Series of Unfortunate Events\", 'Helen of Troy', 'Green Butchers, The (Grønne slagtere, De)', 'Very Long Engagement, A (Un long dimanche de fiançailles)', 'Last Life in the Universe (Ruang rak noi nid mahasan)', 'Ghost in the Shell 2: Innocence (a.k.a. Innocence) (Inosensu)', 'Cat Returns, The (Neko no ongaeshi)', 'Twilight Samurai, The (Tasogare Seibei)', 'Facing Windows (Finestra di fronte, La)', 'Ginger Snaps: Unleashed', \"'Salem's Lot\", 'Comic Book: The Movie', 'Intimate Strangers (Confidences trop intimes)', 'Down to the Bone', 'Ju-on: The Grudge', 'Old Boy', 'Red Lights (Feux rouges)', 'Ginger Snaps Back: The Beginning', 'One Missed Call (Chakushin ari)', 'Jacket, The', 'Millions', 'Starship Troopers 2: Hero of the Federation', 'Ong-Bak: The Thai Warrior (Ong Bak)', 'Infernal Affairs 2 (Mou gaan dou II)', 'Sea Inside, The (Mar adentro)', 'Spanglish', 'Chorus, The (Choristes, Les)', 'Saints and Soldiers', 'Story of the Weeping Camel, The (Geschichte vom weinenden Kamel, Die)', 'Interpreter, The', 'Open Water', 'Touch of Pink', 'Slasher', 'Bobby Jones, Stroke of Genius', 'Layer Cake', 'Return, The (Vozvrashcheniye)', 'Flight of the Phoenix', 'Mean Creek', 'Ring Two, The', 'Corporation, The', 'Yes Men, The', 'Azumi', \"In My Father's Den\", 'Tae Guk Gi: The Brotherhood of War (Taegukgi hwinalrimyeo)', 'Metallica: Some Kind of Monster', 'Born into Brothels', 'DiG!', 'Riding Giants', 'What the #$*! Do We Know!? (a.k.a. What the Bleep Do We Know!?)', 'Scanner Darkly, A', 'Casshern', \"Outfoxed: Rupert Murdoch's War on Journalism\", 'Million Dollar Baby', 'Gozu (Gokudô kyôfu dai-gekijô: Gozu)', 'Hotel Rwanda', 'Charlie and the Chocolate Factory', '3-Iron (Bin-jip)', 'Life Aquatic with Steve Zissou, The', 'Aviator, The', 'Phantom of the Opera, The', 'Beyond the Sea', 'Woodsman, The', 'In Good Company', 'Meet the Fockers', 'Assassination of Richard Nixon, The', 'Love Song for Bobby Long, A', 'Merchant of Venice, The', 'Fat Albert', 'Keys to the House, The (Chiavi di casa, Le)', 'In the Realms of the Unreal', 'White Noise', 'Upside of Anger, The', 'Little Miss Marker', 'Sweet Liberty', 'I Remember Mama', 'Smooth Talk', 'Out Cold', 'Man Trouble', 'Battles Without Honor & Humanity (Jingi naki tatakai)', 'Stander', 'Imaginary Heroes', 'Sergeant York', 'Ruby & Quentin (Tais-toi!)', 'Wizards', 'Life and Death of Peter Sellers, The', 'Appleseed (Appurushîdo)', 'Many Adventures of Winnie the Pooh, The', 'Elektra', 'Racing Stripes', 'Coach Carter', 'Boys Town', 'Gold Diggers of 1935', 'Rocco and His Brothers (Rocco e i suoi fratelli)', 'Memories of Murder (Salinui chueok)', 'Chase, The', 'Downfall (Untergang, Der)', 'Assault on Precinct 13', 'Are We There Yet?', 'Alone in the Dark', 'Hide and Seek', 'Boogeyman', 'Wedding Date, The', \"Rory O'Shea Was Here (Inside I'm Dancing)\", 'Nobody Knows (Dare mo shiranai)', 'Employee of the Month', 'Marriage of Maria Braun, The (Ehe der Maria Braun, Die)', 'Trou, Le (Hole, The) (Night Watch, The)', 'Double Dragon', 'Hands Off the Loot (Touchez pas au grisbi)', 'Purple Butterfly (Zi hudie)', 'El Cid', \"Howl's Moving Castle (Hauru no ugoku shiro)\", 'Steamboy (Suchîmubôi)', 'Gorgeous (Boh lee chun)', 'Hitch', 'Uncle Nino', 'Bride & Prejudice', 'Constantine', 'Son of the Mask', 'Because of Winn-Dixie', 'Turtles Can Fly (Lakposhtha hâm parvaz mikonand)', 'Bunny Lake Is Missing', 'Night Watch (Nochnoy dozor)', 'Sons of the Desert', 'Man of the House', 'Kung Fu Hustle (Gong fu)', 'Zelary', 'Dr. Giggles', 'Seven-Per-Cent Solution, The', 'Three Musketeers, The', 'Royal Flash', 'Control (Kontroll)', 'Germany Year Zero (Germania anno zero) (Deutschland im Jahre Null)', \"Tyler Perry's Diary of a Mad Black Woman\", 'Cursed', 'Pacifier, The', 'Be Cool', 'Gunner Palace', 'Hostage', 'Robots', 'Class Action', 'Cat and the Canary, The', 'Oh, God! You Devil', 'Agony and the Ecstasy, The', 'Twentieth Century', \"Elevator to the Gallows (a.k.a. Frantic) (Ascenseur pour l'échafaud)\", 'Cube Zero', 'Julia', 'Stealing Rembrandt (Rembrandt)', 'Ice Princess', 'Melinda and Melinda', 'Milk and Honey', 'Miss Congeniality 2: Armed and Fabulous', 'Guess Who', 'D.E.B.S.', 'League of Ordinary Gentlemen, A', 'Incident at Loch Ness', 'Call Northside 777', 'Sword of Doom, The (Dai-bosatsu tôge)', '800 Bullets (800 Balas)', 'If Looks Could Kill', 'Greedy', 'Pom Poko (a.k.a. Raccoon War, The) (Heisei tanuki gassen pompoko)', \"Knockin' on Heaven's Door\", \"We're No Angels\", 'Touch of Zen, A (Xia nu)', 'Walker', 'Memories (Memorîzu)', 'Wild Parrots of Telegraph Hill, The', 'Ballad of Jack and Rose, The', 'Sin City', 'Beauty Shop', 'Sahara', 'Fever Pitch', 'Eros', 'Not on the Lips (Pas sur la bouche)', 'Electra Glide in Blue', 'Special Day, A (Giornata particolare, Una)', \"Man Who Planted Trees, The (Homme qui plantait des arbres, L')\", 'Tanguy', \"National Lampoon's Lady Killers (National Lampoon's Gold Diggers)\", 'Little Girl Who Lives Down the Lane, The', 'Ringu 0: Bâsudei', 'Brothers (Brødre)', 'Maidens in Uniform (Mädchen in Uniform)', 'With Six You Get Eggroll', 'Holiday (Jour de fête)', \"Ivan's Childhood (a.k.a. My Name is Ivan) (Ivanovo detstvo)\", 'Trip to the Moon, A (Voyage dans la lune, Le)', 'Ascent, The (Voskhozhdeniye)', 'Carrie', \"Boccaccio '70\", \"Hitchhiker's Guide to the Galaxy, The\", 'Amityville Horror, The', 'Mutant Aliens', 'Before the Fall (NaPolA - Elite für den Führer)', 'Frisco Kid, The', 'State Property 2', 'Palindromes', 'Lot Like Love, A', \"King's Ransom\", 'Enron: The Smartest Guys in the Room', 'xXx: State of the Union', 'Kingdom of Heaven', 'House of Wax', 'Crash', 'Mysterious Skin', 'Mischief', 'Between Your Legs (Entre las piernas)', 'San Francisco', 'Vampire Hunter D', 'Common Thread, A (a.k.a. Sequins) (Brodeuses)', 'Cocoanuts, The', 'Dear Wendy', 'Los Angeles Plays Itself', 'Unleashed (Danny the Dog)', 'Star Wars: Episode III - Revenge of the Sith', 'Kicking & Screaming', 'Monster-in-Law', 'Snow Walker, The', \"Divorce - Italian Style (Divorzio all'italiana)\", 'Madagascar', 'Airborne', 'Mad Hot Ballroom', 'Dominion: Prequel to the Exorcist', 'Longest Yard, The', 'Saving Face', 'Cinderella Man', 'Sisterhood of the Traveling Pants, The', 'Lords of Dogtown', 'Rock School', 'Mr. & Mrs. Smith', 'Adventures of Sharkboy and Lavagirl 3-D, The', 'High Tension (Haute tension) (Switchblade Romance)', \"It's All Gone Pete Tong\", 'Eddie Izzard: Dress to Kill', 'Quo Vadis', 'Batman Begins', 'Godzilla: Final Wars (Gojira: Fainaru uôzu)', 'Perfect Man, The', 'Saint Ralph', 'Herbie: Fully Loaded', 'Land of the Dead', 'Bewitched', 'Rize', 'Me and You and Everyone We Know', 'Perfect Crime, The (Crimen Ferpecto) (Ferpect Crime)', '3 Extremes (Three... Extremes) (Saam gaang yi)', 'Edukators, The (Die Fetten Jahre sind vorbei)', 'Cop and ½', 'At the Circus', 'War of the Worlds', \"March of the Penguins (Marche de l'empereur, La)\", 'Rebound', 'Dark Water', \"Beat That My Heart Skipped, The (battre mon coeur s'est arrêté, De)\", 'Fantastic Four', 'Murderball', 'Wedding Crashers', 'Happy Endings', 'Hustle & Flow', 'Hardware', 'Calcium Kid, The', 'Island, The', 'Bad News Bears', \"Devil's Rejects, The\", 'Last Days', 'November', 'Sky High', 'Stealth', 'Must Love Dogs', 'Aristocrats, The', 'Georgy Girl', 'Order, The', 'Serenity', 'Broken Flowers', 'Miracles - Mr. Canton and Lady Rose', 'Browning Version, The', 'Dukes of Hazzard, The', 'The Chumscrubber', 'Junebug', 'Deuce Bigalow: European Gigolo', 'Skeleton Key, The', 'Four Brothers', 'The Great Raid', 'Pretty Persuasion', 'Grizzly Man', 'Private Resort', 'Pusher II: With Blood on My Hands', 'Duma', 'Animal Farm', 'Teahouse of the August Moon, The', '40-Year-Old Virgin, The', 'Red Eye', 'Hidden (a.k.a. Cache) (Caché)', 'Asterix & Obelix vs. Caesar (Astérix et Obélix contre César)', 'Kin-Dza-Dza!', 'Valiant', 'Brothers Grimm, The', 'Baxter, The', 'Cave, The', 'Constant Gardener, The', 'Transporter 2', 'Just Like Heaven', 'Proof', 'Lord of War', 'Cry_Wolf (a.k.a. Cry Wolf)', 'Everything Is Illuminated', 'Thumbsucker', 'Family Guy Presents Stewie Griffin: The Untold Story', 'Police Story 2 (Ging chaat goo si juk jaap)', 'New Police Story (Xin jing cha gu shi)', 'Go West', 'Why We Fight', 'Doom', 'Domino', 'Waiting...', 'Aeon Flux', 'Frankenstein 90', 'Unfinished Life, An', 'Man, The', 'Survive Style 5+', 'Woyzeck', 'Exorcism of Emily Rose, The', 'Flightplan', 'Corpse Bride', 'Green Street Hooligans (a.k.a. Hooligans)', 'History of Violence, A', 'Oliver Twist', 'Greatest Game Ever Played, The', 'Capote', 'Final Fantasy VII: Advent Children', 'Roll Bounce', 'Into the Blue', 'MirrorMask', 'Wallace & Gromit in The Curse of the Were-Rabbit', 'Kiss Kiss Bang Bang', 'Bittersweet Life, A (Dalkomhan insaeng)', 'Short Film About Love, A (Krótki film o milosci)', 'All This, and Heaven Too', \"Darwin's Nightmare\", 'Beowulf & Grendel', 'No Direction Home: Bob Dylan', 'Goal! The Dream Begins (Goal!)', 'Wraith, The', 'In Her Shoes', 'Squid and the Whale, The', 'Two for the Money', 'Brokeback Mountain', 'Elizabethtown', 'North Country', 'Good Night, and Good Luck.', 'Dreamer: Inspired by a True Story', 'Proposition, The', 'Fog, The', 'Shopgirl', 'Stay', 'Legend of Zorro, The', 'Weather Man, The', 'Saw II', 'Prime', \"Don't Move (Non ti muovere)\", 'American Pie Presents: Band Camp (American Pie 4: Band Camp)', 'Great Yokai War, The (Yôkai daisensô)', 'Manderlay', 'Revolver', 'Jarhead', 'Chicken Little', \"Dead Man's Shoes\", 'Joyeux Noël (Merry Christmas)', 'Night of the Lepus', 'Match Factory Girl, The (Tulitikkutehtaan tyttö)', 'Sword of the Beast (Kedamono no ken)', 'Just Friends', 'Syriana', 'One-Way Ticket to Mombasa (Menolippu Mombasaan)', 'Derailed', 'Creep', 'Pride & Prejudice', 'Babylon 5', 'Wolf Creek', 'Descent, The', 'Harry Potter and the Goblet of Fire', 'Walk the Line', 'Rent', 'Zathura', 'C.R.A.Z.Y.', 'Sarah Silverman: Jesus Is Magic', 'Breakfast on Pluto', 'Ice Harvest, The', 'Yours, Mine and Ours', 'Libertine, The', \"Bird with the Crystal Plumage, The (Uccello dalle piume di cristallo, L')\", 'Match Point', 'Paradise Now', 'Chronicles of Narnia: The Lion, the Witch and the Wardrobe, The', 'King Kong', 'Memoirs of a Geisha', 'Family Stone, The', 'Havoc', 'Samurai Rebellion (Jôi-uchi: Hairyô tsuma shimatsu)', 'Room for Romeo Brass, A', 'Matador, The', 'Wal-Mart: The High Cost of Low Price', 'Mozart and the Whale', \"Don't Look Now: We're Being Shot At (La grande vadrouille)\", 'Three Burials of Melquiades Estrada, The', 'Munich', 'Producers, The', 'Transamerica', 'Rumor Has It...', 'Cheaper by the Dozen 2', 'Fun with Dick and Jane', 'Ringer, The', 'Casanova', 'Mrs. Henderson Presents', 'Ear, The (Ucho)', 'Luxo Jr.', 'Dentist, The', 'New World, The', 'Voices of a Distant Star (Hoshi no koe)', '7 Faces of Dr. Lao', 'Samurai Assassin (Samurai)', 'Boys of Baraka, The', 'Lady Vengeance (Sympathy for Lady Vengeance) (Chinjeolhan geumjassi)', 'Grand Theft Parsons', 'District 13 (Banlieue 13)', 'Hostel', \"Grandma's Boy\", 'Tristan & Isolde', 'Glory Road', 'Last Holiday', 'Hoodwinked!', 'Underworld: Evolution', 'Looking for Comedy in the Muslim World', 'Casper Meets Wendy', 'Revolution', \"Project A ('A' gai waak)\", 'Bird People in China, The (Chûgoku no chôjin)', 'Water', 'Sophie Scholl: The Final Days (Sophie Scholl - Die letzten Tage)', \"World's Fastest Indian, The\", 'Bandidas', 'Tristram Shandy: A Cock and Bull Story', 'Helter Skelter', 'Annapolis', \"Big Momma's House 2\", 'Nanny McPhee', 'Tuskegee Airmen, The', 'Final Destination 3', 'Something New', \"Block Party (a.k.a. Dave Chappelle's Block Party)\", 'Imagine Me & You', 'Pink Panther, The', 'Curious George', 'Firewall', 'When a Stranger Calls', 'London', 'Freedomland', 'Winter Passing', 'Eight Below', 'Date Movie', 'Running Scared', 'Ultraviolet', 'Just My Luck', 'Pulse', '16 Blocks', 'Failure to Launch', 'Ultimate Avengers', 'Ice Age 2: The Meltdown', 'Ask the Dust', 'V for Vendetta', \"She's the Man\", 'Thank You for Smoking', 'Find Me Guilty', 'Inside Man', 'Tsotsi', 'Aquamarine', 'Leprechaun 2', 'Leprechaun 3', 'Leprechaun 4: In Space', 'Lights in the Dusk (Laitakaupungin valot)', 'Hills Have Eyes, The', 'Shaggy Dog, The', 'Unknown White Male', 'Lives of Others, The (Das leben der Anderen)', 'Youth of the Beast (Yaju no seishun)', 'Take the Lead', 'Devil and Daniel Johnston, The', 'Mouchette', 'Lucky Number Slevin', 'Volver', 'Akeelah and the Bee', 'Brainstorm', 'Stay Alive', 'Basic Instinct 2', 'Brick', 'Dead Hate the Living!, The', 'Evil Aliens', 'This Film Is Not Yet Rated', 'Slither', 'Benchwarmers, The', 'Renaissance', 'Go for Zucker! (Alles auf Zucker!)', 'Friends with Money', 'Reefer Madness: The Movie Musical', 'Candy', 'Secrets of a Soul (Geheimnisse einer Seele)', \"Child, The (L'enfant)\", '9/11', 'Scary Movie 4', 'Hard Candy', 'Prairie Home Companion, A', 'Sentinel, The', 'Wild, The', 'Silent Hill', 'American Dreamz', 'Kinky Boots', 'Protector, The (a.k.a. Warrior King) (Tom yum goong)', 'Mission: Impossible III', 'RV', 'United 93', 'Stick It', 'American Haunting, An', 'Down in the Valley', 'Over the Hedge', 'Art School Confidential', 'Poseidon', 'Da Vinci Code, The', 'X-Men: The Last Stand', 'Break-Up, The', 'Peaceful Warrior', 'Cars', 'Notorious Bettie Page, The', 'Game 6', 'On a Clear Day', 'Omen, The', 'Nacho Libre', 'Lake House, The', 'Click', 'Devil Wears Prada, The', \"Pirates of the Caribbean: Dead Man's Chest\", 'You, Me and Dupree', 'Clerks II', 'Lady in the Water', 'My Super Ex-Girlfriend', 'Marie Antoinette', 'Who Killed the Electric Car?', 'Inconvenient Truth, An', 'Career Opportunities', 'High School Musical', 'I Am a Sex Addict', 'Stoned', \"Jet Li's Fearless (Huo Yuan Jia)\", 'Fast and the Furious: Tokyo Drift, The (Fast and the Furious 3, The)', 'Garfield: A Tail of Two Kitties', \"Metal: A Headbanger's Journey\", 'Public Eye, The', 'Superman Returns', 'Road to Guantanamo, The', 'Edmond', 'OH in Ohio, The', 'Little Miss Sunshine', 'Fallen Idol, The', 'Babel', 'Strangers with Candy', 'Wordplay', \"Army of Shadows (L'armée des ombres)\", \"Orchestra Rehearsal (Prova d'orchestra)\", 'Little Man', 'Monster House', 'Snakes on a Plane', 'Scoop', 'Talladega Nights: The Ballad of Ricky Bobby', 'Night at the Museum', 'World Trade Center', 'Stranger than Fiction', 'Miami Vice', 'Pursuit of Happyness, The', 'John Tucker Must Die', 'Ant Bully, The', 'Crank', 'Secret Life of Words, The', 'Chaos', 'Night Listener, The', 'Step Up', 'Zoom', 'Mind Game', 'Half Nelson', 'Moustache, La', 'Tideland', \"Adam's Apples (Adams æbler)\", 'Material Girls', 'Accepted', 'Crime Busters', 'Born to Kill', 'Illusionist, The', 'The Queen', 'Beerfest', 'Invincible', 'Idlewild', 'Red Balloon, The (Ballon rouge, Le)', 'Angel-A', 'Chump at Oxford, A', 'Icicle Thief, The (Ladri di saponette)', 'Puffy Chair, The', 'Wicker Man, The', 'Wind That Shakes the Barley, The', 'Severance', 'Hollywoodland', 'Covenant, The', 'Last Kiss, The', 'SherryBaby', 'Idiocracy', 'Jesus Camp', 'Bow, The (Hwal)', 'Tiger and the Snow, The (La tigre e la neve)', 'Fountain, The', 'Fear City: A Family-Style Comedy (La cité de la peur)', 'Science of Sleep, The (La science des rêves)', 'Black Dahlia, The', 'Woods, The', 'Gridiron Gang', 'Land of Plenty (Angst and Alienation in America)', 'Bridge, The', 'Apocalypto', 'Flyboys', 'Jackass Number Two', \"All the King's Men\", 'Conversations with Other Women', 'Borat: Cultural Learnings of America for Make Benefit Glorious Nation of Kazakhstan', \"Pan's Labyrinth (Laberinto del fauno, El)\", 'Guardian, The', 'Open Season', 'School for Scoundrels', 'Departed, The', 'Texas Chainsaw Massacre: The Beginning, The', 'Employee of the Month', 'Running With Scissors', 'Man of the Year', 'Marine, The', 'Infamous', \"Fellini's Casanova (Il Casanova di Federico Fellini)\", 'Chapayev', 'Feast', 'Little Children', 'Deliver Us from Evil', 'Last King of Scotland, The', 'U.S. vs. John Lennon, The', 'Shortbus', 'Children of Men', 'Prestige, The', 'Flags of Our Fathers', '13 Tzameti', 'Saw III', 'Catch a Fire', 'Death of a President', 'Flushed Away', 'Perfume: The Story of a Murderer', 'Santa Clause 3: The Escape Clause, The', 'Mom and Dad Save the World', 'Good Year, A', 'Shut Up & Sing', 'For Your Consideration', 'Fuck', 'Shooting Dogs (a.k.a. Beyond the Gates)', 'Casino Royale', 'Happy Feet', \"Let's Go to Prison\", 'Déjà Vu (Deja Vu)', 'Bobby', '10 Items or Less', 'Holiday, The', 'Harsh Times', 'Fast Food Nation', 'The Great Train Robbery', 'Tenacious D in The Pick of Destiny', 'Nativity Story, The', 'Blood Diamond', \"Charlotte's Web\", 'Eragon', 'Rocky Balboa', 'Fur: An Imaginary Portrait of Diane Arbus', 'Dam Busters, The', 'Another Gay Movie', 'Painted Veil, The', 'We Are Marshall', 'Good Shepherd, The', 'Dreamgirls', 'Freedom Writers', 'When the Levees Broke: A Requiem in Four Acts', 'Inland Empire', 'History Boys, The', 'Notes on a Scandal', 'DOA: Dead or Alive', 'Curse of the Golden Flower (Man cheng jin dai huang jin jia)', 'Good German, The', 'Letters from Iwo Jima', 'Black Christmas', 'Stomp the Yard', 'Miss Potter', 'American Pie Presents The Naked Mile (American Pie 5: The Naked Mile)', 'Venus', 'The Return of Don Camillo', 'The Little World of Don Camillo', 'Primeval', 'Alpha Dog', 'Hitcher, The', 'After the Wedding (Efter brylluppet)', 'Bridge to Terabithia', 'Beer League', 'Dead Meat', '49 Up', 'Waitress', 'Seven Up!', 'Catch and Release', \"Smokin' Aces\", 'Blood and Chocolate', 'Epic Movie', 'Messengers, The', 'Because I Said So', 'Hannibal Rising', 'Norbit', 'Boss of It All, The (Direktøren for det hele)', 'Cocaine Cowboys', 'Ratatouille', \"Paris, I Love You (Paris, je t'aime)\", 'Astronaut Farmer, The', 'Wake Up, Ron Burgundy', \"It's a Boy Girl Thing\", 'Ugly Duckling and Me!, The', 'The Odyssey', 'Unknown', 'Ghost Rider', 'Breach', \"Tyler Perry's Daddy's Little Girls\", 'Music and Lyrics', 'Number 23, The', 'Reno 911!: Miami', 'Black Snake Moan', 'My Father and My Son (Babam ve oglum)', 'Factory Girl', 'Hot Fuzz', 'Golden Door (Nuovomondo)', 'Citizen X', 'Next', 'Amazing Grace', '2001 Maniacs', 'Zodiac', \"Pusher III: I'm the Angel of Death\", 'Babylon 5: The Gathering', 'Meshes of the Afternoon', 'Wild Hogs', '300', 'Abandoned, The', 'Starter for 10', 'Last Mimzy, The', 'Priceless (Hors de prix)', 'Host, The (Gwoemul)', 'Becoming Jane', 'Namesake, The', 'I Think I Love My Wife', 'Premonition', 'Dead Silence', 'Reign Over Me', 'Pride', 'Shooter', 'Hills Have Eyes II, The', 'TMNT (Teenage Mutant Ninja Turtles)', 'Black Book (Zwartboek)', 'Lookout, The', 'Blades of Glory', 'Are We Done Yet?', 'Grindhouse', 'Reaping, The', 'Meet the Robinsons', 'American Hardcore', 'Inglorious Bastards (Quel maledetto treno blindato)', 'Sunshine', 'Hoax, The', 'How the Grinch Stole Christmas!', 'Disturbia', 'Aqua Teen Hunger Force Colon Movie Film for Theaters', 'Vie en Rose, La (Môme, La)', 'Fracture', 'Vacancy', 'In the Land of Women', \"Mr. Bean's Holiday\", 'Invisible, The', 'Kickin It Old Skool', 'Spider-Man 3', 'Lucky You', \"It's a Very Merry Muppet Christmas Movie\", '21 Up', 'Sharkwater', 'Maniac Cop', 'Ex, The', 'Paprika (Papurika)', 'Day Watch (Dnevnoy dozor)', 'This Is England', 'Away from Her', 'Knocked Up', 'Hairspray', '28 Weeks Later', 'Wheels on Meals (Kuai can che)', 'Jonestown: The Life and Death of Peoples Temple', 'Shrek the Third', 'Once', \"Pirates of the Caribbean: At World's End\", 'Bug', 'Mr. Brooks', \"Librarian: Return to King Solomon's Mines, The\", 'Librarian: Quest for the Spear, The', 'Fay Grim', \"I'm a Cyborg, But That's OK (Saibogujiman kwenchana)\", 'Breed, The', 'Cashback', \"Ocean's Thirteen\", 'Them (Ils)', 'Sun Alley (Sonnenallee)', 'Hostel: Part II', 'Paranoid Park', 'Legend of Sleepy Hollow, The', 'Starcrash (a.k.a. Star Crash)', \"Surf's Up\", 'Fantastic Four: Rise of the Silver Surfer', 'Nancy Drew', 'Fido', 'Death Proof', 'Rescue Dawn', 'TV Set, The', 'Valet, The (La doublure)', 'Bring It On: All or Nothing', 'Power of Nightmares, The: The Rise of the Politics of Fear', 'Sicko', 'Mighty Heart, A', '1408', 'Death at a Funeral', 'Live Free or Die Hard', 'License to Wed', 'Evan Almighty', 'Transformers', 'Harry Potter and the Order of the Phoenix', 'I Now Pronounce You Chuck and Larry', 'First Snow', 'Broken Arrow', 'Manufactured Landscapes', 'Across the Universe', 'Hot Rod', 'Stardust', 'Simpsons Movie, The', 'I Know Who Killed Me', 'No Reservations', 'Charlie Bartlett', 'Bourne Ultimatum, The', 'China Blue', 'Tell No One (Ne le dis à personne)', 'Superbad', 'Brice Man, The (Brice de Nice)', 'Rush Hour 3', 'Last Legion, The', 'Balls of Fury', 'Sydney White', 'Kingdom, The', 'Rocket Science', 'Daddy Day Camp', 'Invasion, The', 'Nanny Diaries, The', 'Halloween', 'Death Sentence', '2 Days in Paris', 'King of Kong, The', 'Taxi 4', 'Behind the Mask: The Rise of Leslie Vernon', 'Brothers Solomon, The', 'Nines, The', 'Planet Terror', '3:10 to Yuma', \"Shoot 'Em Up\", 'Ten, The', 'Gotti', 'Atonement', 'Electroma', 'Requiem', '4 Months, 3 Weeks and 2 Days (4 luni, 3 saptamâni si 2 zile)', 'No End in Sight', 'Brave One, The', 'In the Valley of Elah', 'December Boys', 'Shanghai Kiss', 'Hunting Party, The', 'Eastern Promises', 'Unreasonable Man, An', 'Tekkonkinkreet (Tekkon kinkurîto)', 'Love and Other Disasters', 'Interview', 'Cashback', 'Resident Evil: Extinction', 'Mr. Woodcock', 'Good Luck Chuck', 'Into the Wild', 'Game Plan, The', 'Lust, Caution (Se, jie)', 'Seeker: The Dark Is Rising, The', 'Heartbreak Kid, The', 'Dan in Real Life', 'Darjeeling Limited, The', 'We Own the Night', 'Elizabeth: The Golden Age', 'Michael Clayton', 'Sleuth', 'Lars and the Real Girl', '30 Days of Night', 'Gone Baby Gone', 'Comebacks, The', 'Weirdsville', 'Assassination of Jesse James by the Coward Robert Ford, The', '10th & Wolf', 'Persepolis', 'Control', 'The Jane Austen Book Club', 'Last Winter, The', 'Black Sheep', 'Edge of Heaven, The (Auf der anderen Seite)', 'Saw IV', 'For the Bible Tells Me So', 'My Kid Could Paint That', 'Elite Squad (Tropa de Elite)', 'King of California', 'American Gangster', 'Bee Movie', \"Before the Devil Knows You're Dead\", 'Diving Bell and the Butterfly, The (Scaphandre et le papillon, Le)', 'No Country for Old Men', 'Be Kind Rewind', 'Itty Bitty Titty Committee', 'Fugitive, The', 'August Rush', 'Man from Earth, The', 'Lions For Lambs', 'Beowulf', 'Southland Tales', 'Evening with Kevin Smith 2: Evening Harder, An', 'Harrison Bergeron', 'I Served the King of England (Obsluhoval jsem anglického krále)', 'Mist, The', 'Enchanted', 'Hitman', 'Awake', 'Golden Compass, The', 'I Am Legend', 'Alvin and the Chipmunks', \"Futurama: Bender's Big Score\", 'Margot at the Wedding', \"I'm Not There\", 'Savages, The', 'Wrong Turn 2: Dead End', 'Orphanage, The (Orfanato, El)', 'Juno', 'Maxed Out: Hard Times, Easy Credit and the Era of Predatory Lenders', 'My Blueberry Nights', 'Helvetica', 'Bucket List, The', 'Kite Runner, The', 'Deaths of Ian Stone, The', 'Wristcutters: A Love Story', 'Sweeney Todd: The Demon Barber of Fleet Street', 'National Treasure: Book of Secrets', 'There Will Be Blood', \"Charlie Wilson's War\", 'AVPR: Aliens vs. Predator - Requiem', 'Walk Hard: The Dewey Cox Story', 'As You Like It', 'Drained (O cheiro do Ralo)', 'Dedication', 'Water Horse: Legend of the Deep, The', 'Battlestar Galactica: Razor', 'P.S. I Love You', '27 Dresses', \"Cassandra's Dream\", 'Like Stars on Earth (Taare Zameen Par)', \"Band's Visit, The (Bikur Ha-Tizmoret)\", '[REC]', 'In the Name of the King: A Dungeon Siege Tale', 'Cloverfield', 'Hatchet', 'Heaven and Earth (Ten to Chi to)', 'Cat Soup (Nekojiru-so)', 'Girl Who Leapt Through Time, The (Toki o kakeru shôjo)', 'First Sunday', 'Untraceable', 'Rambo (Rambo 4)', 'Meet the Spartans', 'Strange Wilderness', 'Signal, The', 'Hellboy II: The Golden Army', 'In Bruges', 'World on a Wire (Welt am Draht)', 'Rise of the Footsoldier', 'Teeth', \"Fool's Gold\", 'Jumper', 'Definitely, Maybe', 'Air I Breathe, The', 'Vantage Point', 'Spiderwick Chronicles, The', 'Step Up 2 the Streets', 'Other Boleyn Girl, The', 'Semi-Pro', 'Run Fatboy Run', 'Taxi to the Dark Side', 'Descent', 'College Road Trip', '10,000 BC', 'Bank Job, The', 'Doomsday', 'Horton Hears a Who!', 'Funny Games U.S.', 'Counterfeiters, The (Die Fälscher)', 'Mongol', 'War Dance', 'Love Guru, The', 'Diary of the Dead', 'Penelope', 'City of Men (Cidade dos Homens)', 'Zeitgeist: The Movie', 'Justice League: The New Frontier', 'Heima', 'Snow Angels', 'Class, The (Klass)', 'Dark Knight, The', 'Never Back Down', 'Drillbit Taylor', 'Youth Without Youth', '21', 'Smart People', 'Shepherd: Border Patrol, The', 'Leatherheads', 'Assembly (Ji jie hao)', 'Zebraman', 'Stop-Loss', 'Shine a Light', \"Inside (À l'intérieur)\", \"Nim's Island\", 'Ruins, The', 'Forgetting Sarah Marshall', 'Superhero Movie', 'Street Kings', 'Visitor, The', 'Harold & Kumar Escape from Guantanamo Bay', '99 francs', 'Speed Racer', 'Forbidden Kingdom, The', 'Happy-Go-Lucky', 'Religulous', 'Outpost', 'Are You Scared?', 'Son of Rambow', 'Super High Me', 'Outsourced', 'Baby Mama', 'Expelled: No Intelligence Allowed', 'Prom Night', 'Iron Man', 'Made of Honor', 'Redbelt', 'Taken', 'Fall, The', 'What Happens in Vegas...', 'American Pie Presents Beta House (American Pie 6: Beta House)', 'Bella', 'Chronicles of Narnia: Prince Caspian, The', 'Shelter', 'Girl Next Door, The', 'Indiana Jones and the Kingdom of the Crystal Skull', \"Nina's Heavenly Delights\", 'Sex and the City', 'Strangers, The', 'Bigger, Stronger, Faster*', 'All the Boys Love Mandy Lane', 'Kung Fu Panda', 'Recount', 'Ex Drummer', \"You Don't Mess with the Zohan\", 'Stuck', 'Protector, The', 'Chaos Theory', 'Boy A', 'Spiral', 'Happening, The', 'Incredible Hulk, The', 'Children of Huang Shi, The', 'WALL·E', 'Wanted', 'Hancock', 'Get Smart', 'Young People Fucking (a.k.a. YPF)', \"St. Trinian's\", 'Futurama: The Beast with a Billion Backs', 'Kit Kittredge: An American Girl', 'Gonzo: The Life and Work of Dr. Hunter S. Thompson', 'Wackness, The', 'Strange Circus (Kimyô na sâkasu)', 'Encounters at the End of the World', 'Zombie Strippers!', 'Frosty the Snowman', 'Battle for Haditha', 'Mamma Mia!', \"Welcome to the Sticks (Bienvenue chez les Ch'tis)\", 'Rogue', \"It's the Great Pumpkin, Charlie Brown\", 'Journey to the Center of the Earth', 'Meet Dave', 'Machine Girl, The (Kataude mashin gâru)', 'Shrooms', 'Transsiberian', 'Stargate: Continuum', 'Watchmen', 'Shotgun Stories', 'Watching the Detectives', 'Felon', 'Step Brothers', 'X-Files: I Want to Believe, The', 'Man on Wire', 'Little Drummer Boy, The', \"Hogfather (Terry Pratchett's Hogfather)\", 'Pathology', 'Tracey Fragments, The', 'Zone, The (La Zona)', 'Edge of Love, The', 'Heart of a Dog (Sobachye serdtse)', 'Mummy: Tomb of the Dragon Emperor, The', 'Midnight Meat Train, The', 'Frozen River', 'Vicky Cristina Barcelona', 'Batman: Gotham Knight', 'Walker, The', 'Pineapple Express', 'Red Cliff (Chi bi)', 'Sisterhood of the Traveling Pants 2, The', 'Hell Ride', 'High School Musical 2', 'Tropic Thunder', 'Star Wars: The Clone Wars', 'Henry Poole is Here', 'Mutant Chronicles', 'Waltz with Bashir (Vals im Bashir)', 'Let the Right One In (Låt den rätte komma in)', 'Hamlet 2', 'Death Race', 'House Bunny, The', 'Rocker, The', 'I.O.U.S.A. (a.k.a. IOUSA)', 'Mirrors', 'Sukiyaki Western Django', 'Somers Town', 'Burn After Reading', 'Disaster Movie', 'Babylon A.D.', 'Traitor', 'Onion Movie, The', 'Spirit, The', 'John Adams', 'Bangkok Dangerous', 'Sunflower (Xiang ri kui)', 'Altered', 'Righteous Kill', 'Lakeview Terrace', 'Ghost Town', 'Crow, The: Wicked Prayer', 'Appaloosa', 'Dead Fury', 'Eagle Eye', 'How to Lose Friends & Alienate People', \"Nick and Norah's Infinite Playlist\", 'Sound of the Mountain (Thunder of the Mountain, The) (Yama no oto)', 'Gomorrah (Gomorra)', 'Duchess, The', 'Alone in the Dark II', 'FLCL', 'Rachel Getting Married', 'Body of Lies', 'City of Ember', '20,000 Leagues Under the Sea', 'Max Payne', 'Zack and Miri Make a Porno', 'W.', \"My Best Friend's Girl\", 'Synecdoche, New York', 'Secret Life of Bees, The', 'American Carol, An', 'Wave, The (Welle, Die)', 'Tokyo-Ga', 'Angus, Thongs and Perfect Snogging', 'Pride and Glory', 'Express, The', 'Babylon 5: The Legend of the Rangers: To Live and Die in Starlight', 'Babylon 5: The Lost Tales - Voices in the Dark', 'RocknRolla', \"Futurama: Bender's Game\", 'Tin Man', 'Madagascar: Escape 2 Africa', 'Blindness', 'Changeling', 'Road, The', 'Slumdog Millionaire', 'Quantum of Solace', 'Role Models', 'Tokyo!', 'JCVD', 'Cinderella', 'Crows Zero (Kurôzu zero)', 'Krabat', 'Camp Rock', 'Farscape: The Peacekeeper Wars', 'Saw V', 'Sex Drive', 'The Island', 'Beverly Hills Chihuahua', 'Tattooed Life (Irezumi ichidai)', 'Class, The (Entre les murs)', 'Splinter', 'Australia', 'Bolt', 'Milk', 'Twilight', 'Children, The', 'Transporter 3', 'Four Christmases', 'Boy in the Striped Pajamas, The (Boy in the Striped Pyjamas, The)', 'Fireproof', 'Igor', 'Dinotopia', 'Hunger', 'Punisher: War Zone', 'Shrek the Halls', \"Pervert's Guide to Cinema, The\", \"Wallace and Gromit in 'A Matter of Loaf and Death'\", 'Day the Earth Stood Still, The', 'Che: Part One', 'Che: Part Two', 'Doubt', 'Gran Torino', 'Frost/Nixon', 'Reader, The', 'Sword of the Stranger (Sutorejia: Mukô hadan)', 'Seven Pounds', 'Wrestler, The', 'Curious Case of Benjamin Button, The', 'Yes Man', 'Valkyrie', '5 Centimeters per Second (Byôsoku 5 senchimêtoru)', 'War of the Worlds', 'Ben X', 'Bedtime Stories', 'Choke', 'Revolutionary Road', 'Blackadder Back & Forth', \"Blackadder's Christmas Carol\", 'Dear Zachary: A Letter to a Son About His Father', 'Wild Child', 'Defiance', 'Zeitgeist: Addendum', 'Marley & Me', 'Ponyo (Gake no ue no Ponyo)', 'General Died at Dawn, The', 'Earthsea (Legend of Earthsea)', 'Ip Man', 'Tale of Despereaux, The', 'Bride Wars', 'Gamers, The: Dorkness Rising', \"Mesrine: Killer Instinct (L'instinct de mort)\", 'My Bloody Valentine 3-D', 'Battle in Seattle', 'Timecrimes (Cronocrímenes, Los)', 'Fire and Ice', 'Underworld: Rise of the Lycans', 'Inkheart', 'Revenge of the Nerds III: The Next Generation', 'Revenge of the Nerds IV: Nerds in Love', 'Paul Blart: Mall Cop', 'Notorious', 'Uninvited, The', 'Outlander', 'Eden Lake', 'Coraline', 'Push', 'International, The', \"He's Just Not That Into You\", 'Dead Like Me: Life After Death', 'Futurama: Into the Wild Green Yonder', 'Frontière(s)', '11th Hour, The', 'Afro Samurai: Resurrection', 'Departures (Okuribito)', 'My Name Is Bruce', 'Funny People', 'Berlin Calling', 'Nuremberg', 'Away We Go', 'Divo, Il', 'Friday the 13th', 'Good, the Bad, the Weird, The (Joheunnom nabbeunnom isanghannom)', 'Pink Panther 2, The', 'Rock-A-Doodle', \"Dr. Horrible's Sing-Along Blog\", 'Cottage, The', 'I Love You, Man', 'Dance of the Dead', 'Haunting in Connecticut, The', 'Duplicity', 'Knowing', 'Girl with the Dragon Tattoo, The (Män som hatar kvinnor)', 'Sunshine Cleaning', 'Kung Fu Panda: Secrets of the Furious Five', 'Echelon Conspiracy', 'Monsters vs. Aliens', 'Baader Meinhof Komplex, Der', 'Big Stan', 'Strictly Sexual', 'Anvil! The Story of Anvil', 'Observe and Report', 'Adventureland', 'Confessions of a Shopaholic', 'The Butterfly Effect 3: Revelations', 'Man on the Flying Trapeze', 'Fast & Furious (Fast and the Furious 4, The)', 'In the Loop', 'Pirate Radio', '17 Again', 'Inglourious Basterds', 'State of Play', 'Damned United, The', 'Crank: High Voltage', 'Moon', 'Young Victoria, The', 'X-Men Origins: Wolverine', 'Sin Nombre', 'Star Trek', 'Great Buck Howard, The', \"Flatfoot on the Nile (Piedone d'Egitto)\", 'Red Cliff Part II (Chi Bi Xia: Jue Zhan Tian Xia)', 'Earth', 'Stanley Kubrick: A Life in Pictures', 'Crossing Over', 'Angels & Demons', 'Scorpio', 'Balls Out: Gary the Tennis Coach', 'Powder Blue', 'Fanboys', 'Terminator Salvation', 'Night at the Museum: Battle of the Smithsonian', 'Were the World Mine', 'Brothers Bloom, The', 'Paisan (Paisà)', 'I Do: How to Get Married and Stay Single (Prête-moi ta main)', 'Soloist, The', 'Neon Genesis Evangelion: Death & Rebirth (Shin seiki Evangelion Gekijô-ban: Shito shinsei)', 'Drag Me to Hell', 'Up', 'Fullmetal Alchemist the Movie: Conqueror of Shamballa (Gekijô-ban hagane no renkinjutsushi: Shanbara wo yuku mono)', 'Fired Up', 'In the Electric Mist', 'Hangover, The', 'Killshot', 'Antichrist', 'Sweeney Todd', 'Boy Eats Girl', 'Marius and Jeanette (Marius et Jeannette)', 'Ernest Rides Again', 'Special', 'Dead Snow (Død snø)', 'Land of the Lost', 'Imagine That', 'Taking of Pelham 1 2 3, The', 'Stoning of Soraya M., The', 'Proposal, The', 'Year One', 'Land That Time Forgot, The', \"Garfield's Pet Force\", 'Hurt Locker, The', 'Breakfast with Scot', 'Limits of Control, The', 'Raiders of the Lost Ark: The Adaptation', 'Transformers: Revenge of the Fallen', 'Home', 'Whatever Works', 'Ghosts of Girlfriends Past', 'Public Enemies', 'Ice Age: Dawn of the Dinosaurs', 'Prison Break: The Final Break', 'Daria: Is It College Yet?', \"My Sister's Keeper\", 'Hood of Horror', 'Watchmen: Tales of the Black Freighter', '(500) Days of Summer', 'Brüno (Bruno)', 'Librarian, The: The Curse of the Judas Chalice', 'Harry Potter and the Half-Blood Prince', 'Roots', 'Eichmann', 'Open Water 2: Adrift', 'Imaginarium of Doctor Parnassus, The', '9to5: Days in Porn (a.k.a. 9 to 5: Days in Porn)', 'Humpday', 'Polytechnique', 'Orphan', 'Ugly Truth, The', 'Collector, The', 'Perfect Getaway, A', 'District 9', 'Julie & Julia', 'Obsessed', 'Race to Witch Mountain', 'Hannah Montana: The Movie', 'G.I. Joe: The Rise of Cobra', '12 Rounds', 'Max Manus', 'Winds of the Wasteland', 'Lost in Austen', 'Evangelion: 1.0 You Are (Not) Alone (Evangerion shin gekijôban: Jo)', 'Deal, The', 'Goods: Live Hard, Sell Hard, The', \"Time Traveler's Wife, The\", \"I Can't Think Straight\", 'Miss March', 'I Love You, Beth Cooper', 'Paper Heart', 'G-Force', 'Christopher Columbus: The Discovery', 'Tetro', 'Bronson', 'It Might Get Loud', 'My Life in Ruins', 'Troll 2', 'Taking Woodstock', 'If These Walls Could Talk', 'Halloween II', 'Secret in Their Eyes, The (El secreto de sus ojos)', '9', 'Frequently Asked Questions About Time Travel', 'White Ribbon, The (Das weiße Band)', 'Green Lantern: First Flight', 'Most Hated Family in America, The', 'Pandorum', 'Death of a Cyclist (Muerte de un ciclista)', 'Men Who Stare at Goats, The', 'Hunt For Gollum, The', \"Jennifer's Body\", 'Informant!, The', 'Extract', 'Final Destination, The (Final Destination 4) (Final Destination in 3-D, The)', 'Gamer', 'Cloudy with a Chance of Meatballs', \"Tyler Perry's I Can Do Bad All by Myself\", 'Food, Inc.', 'Attack of the 50 Foot Woman', 'Thirst (Bakjwi)', 'Bright Star', 'Blood Creek (a.k.a. Town Creek)', 'Paranormal Activity', \"World's Greatest Dad\", 'Still Walking (Aruitemo aruitemo)', 'Blood of the Beasts (Sang des bêtes, Le)', 'Cove, The', 'Serious Man, A', 'City Island', 'Ink', 'Metropia', 'Haunted World of El Superbeasto, The', \"Trick 'r Treat\", 'Whip It', 'Invention of Lying, The', 'Surrogates', 'Zombieland', 'Assassination of a High School President', 'Education, An', 'Coco Before Chanel (Coco avant Chanel)', 'Burma VJ: Reporting from a Closed Country (Burma VJ: Reporter i et lukket land)', 'Couples Retreat', 'I Sell the Dead', 'Where the Wild Things Are', 'Legionnaire', 'New York, I Love You', 'Law Abiding Citizen', 'Misfortunates, The (De helaasheid der dingen)', 'Mary and Max', 'Spread', 'Tournament, The', 'Princess and the Pirate, The', 'Aelita: The Queen of Mars (Aelita)', 'Up in the Air', 'Balance', 'Saw VI', 'Love Exposure (Ai No Mukidashi)', \"Cirque du Freak: The Vampire's Assistant\", 'Boondock Saints II: All Saints Day, The', 'Black Dynamite', 'Welcome to Dongmakgol', 'Gentlemen Broncos', 'Fantastic Mr. Fox', 'Christmas Carol, A', 'Battlestar Galactica: The Plan', 'Private Lives of Pippa Lee, The', 'Partly Cloudy', '2012', 'Precious', 'Bad Lieutenant: Port of Call New Orleans', 'Twilight Saga: New Moon, The', 'Derailed', 'Messenger, The', 'Ninja Assassin', 'Cell 211 (Celda 211)', 'Patriot, The', 'Teenage Mutant Ninja Turtles: Turtles Forever', 'Merry Madagascar', 'Brothers', 'Garage', 'Blind Side, The', \"Mickey's Once Upon a Christmas\", 'Shrink', 'Old Dogs', 'Planet 51', 'Earthlings', 'Single Man, A', 'Lovely Bones, The', 'Invictus', 'Princess and the Frog, The', 'Peacekeeper, The', 'Did You Hear About the Morgans?', 'Snow White', 'Alice', 'Avatar', \"It's Complicated\", 'Sherlock Holmes', 'Crazy Heart', 'Alvin and the Chipmunks: The Squeakquel', 'American Pie Presents: The Book of Love (American Pie 7: The Book of Love)', 'Sorority Babes in the Slimeball Bowl-O-Rama', 'Pontypool', 'Youth in Revolt', 'Daybreakers', \"Hachiko: A Dog's Story (a.k.a. Hachi: A Dog's Tale)\", 'Leap Year', 'Book of Eli, The', \"Girl Who Kicked the Hornet's Nest, The (Luftslottet som sprängdes)\", 'Prophet, A (Un Prophète)', 'Staten Island', 'Maiden Heist, The', 'Blood: The Last Vampire', 'MacGyver: Lost Treasure of Atlantis', 'Pekka ja Pätkä Suezilla', 'Bart Got a Room', \"Project A 2 ('A' gai wak juk jap)\", 'Robin-B-Hood (Bo bui gai wak)', 'Concert, Le', 'Ninja', 'Asterix at the Olympic Games (Astérix aux jeux olympiques)', 'Chaser, The (Chugyeogja)', 'Meantime', 'Rudolph, the Red-Nosed Reindeer', 'Dennis the Menace Christmas, A', 'Undisputed II: Last Man Standing', '3 Idiots', 'Legion', 'Stan Helsing', 'Peter Pan', 'Wicked City (Yôjû toshi)', 'When in Rome', 'Dream of Light (a.k.a. Quince Tree Sun, The) (Sol del membrillo, El)', 'Triangle', 'I Love You Phillip Morris', 'Anne of Green Gables: The Sequel (a.k.a. Anne of Avonlea)', 'Temple Grandin', 'Captain Newman, M.D.', 'House of the Devil, The', \"Valentine's Day\", 'Wolfman, The', 'Shutter Island', 'Persuasion', 'Girl Who Played with Fire, The (Flickan som lekte med elden)', 'Percy Jackson & the Olympians: The Lightning Thief', 'Cop Out', 'Ghost Writer, The', 'Secret of Kells, The', 'Spy Next Door, The', 'Agora', 'Motherhood', 'District 13: Ultimatum (Banlieue 13 - Ultimatum)', 'Yes Men Fix the World, The', 'Mike Bassett: England Manager', 'Crazies, The', 'Dear John', 'Last Train Home', 'Tooth Fairy', 'Gentlemen of Fortune (Dzhentlmeny udachi)', '[REC]²', 'Room, The', 'Alice in Wonderland', 'Town Called Panic, A (Panique au village)', 'Green Zone', 'From Paris with Love', 'Dorian Gray', 'Greenberg', \"She's Out of My League\", 'Harry Brown', 'Remember Me', 'Burrowers, The', 'Frozen', 'Generation X', 'Little Ashes', 'Our Family Wedding', 'Bounty Hunter, The', 'Leaves of Grass', 'Women in Trouble', 'Mondo Cane', 'Repo Men', 'Case 39', 'Oceans (Océans)', \"Slammin' Salmon, The\", 'Hot Tub Time Machine', 'Mother (Madeo)', 'How to Train Your Dragon', 'Bone Man, The (Der Knochenmann)', 'Micmacs (Micmacs à tire-larigot)', 'Clash of the Titans', 'Kick-Ass', 'Date Night', \"Emperor's New Groove 2: Kronk's New Groove, The\", 'Steam of Life (Miesten vuoro)', 'Mortadelo & Filemon: The Big Adventure (La gran aventura de Mortadelo y Filemón)', 'American Drug War: The Last White Hope', 'Runaways, The', 'Wild China', 'Death at a Funeral', 'Valhalla Rising', 'Diary of a Wimpy Kid', 'Union: The Business Behind Getting High, The', 'Disgrace', 'Losers, The', 'Last Song, The', 'Cyrus', 'Human Centipede, The (First Sequence)', 'Exit Through the Gift Shop', 'Iron Man 2', 'MacGruber', 'Three Men and a Cradle (3 hommes et un couffin)', 'Sky Crawlers, The (Sukai kurora)', 'Cargo', 'Nightmare on Elm Street, A', 'Four Lions', \"St Trinian's 2: The Legend of Fritton's Gold\", '12 Angry Men', 'Robin Hood', 'Lovers & Leavers (Kuutamolla)', 'Merantau', 'Stingray Sam', 'Cemetery Junction', 'Blue Valentine', 'Killers', 'Buried', 'Shake Hands with the Devil', 'Prince of Persia: The Sands of Time', 'Please Give', 'Baarìa', 'Ricky Gervais Live: Animals', 'Sex and the City 2', 'Get Him to the Greek', 'Unthinkable', 'Back-up Plan, The', 'Splice', 'Letters to Juliet', 'Exam', 'Jonah Hex', 'A-Team, The', 'Toy Story 3', 'Ricky Gervais Live 3: Fame', \"Winter's Bone\", 'Scalphunters, The', 'Barking Dogs Never Bite (Flandersui gae)', 'Shrek Forever After (a.k.a. Shrek: The Final Chapter)', 'TiMER', 'Best Worst Movie', 'Twilight Saga: Eclipse, The', 'Enter the Void', 'Last Airbender, The', 'Endgame', \"Empire of Dreams: The Story of the 'Star Wars' Trilogy\", 'South Park: Imaginationland', 'Predators', \"When You're Strange\", 'Despicable Me', 'Inception', 'Grown Ups', \"Sorcerer's Apprentice, The\", 'Knight and Day', 'Karate Kid, The', 'Kids Are All Right, The', 'Serbian Film, A (Srpski film)', 'Cherrybomb', 'Batman: Under the Red Hood', 'Salt', \"No. 1 Ladies' Detective Agency, The\", 'Watch Out for the Automobile (Beregis avtomobilya)', 'Mr. Nobody', 'Dinner for Schmucks', 'Deadly Outlaw: Rekka (a.k.a. Violent Fire) (Jitsuroku Andô Noboru kyôdô-den: Rekka)', 'Hellsinki (Rööperi)', 'Ip Man 2', 'Ramona and Beezus', 'Rebound, The', 'Other Guys, The', 'Two Escobars, The', 'Paper Man', 'Expendables, The', 'Scott Pilgrim vs. the World', \"I Killed My Mother (J'ai tué ma mère)\", 'Heartless', 'Piranha (Piranha 3D)', 'Extraordinary Adventures of Adèle Blanc-Sec, The', 'Get Low', 'Joneses, The', 'Dragon Ball Z: Dead Zone (Doragon bôru Z 1: Ora no Gohan wo kaese)', 'Last Exorcism, The', 'Sisters (Syostry)', 'American, The', 'Jackass 2.5', 'Horde, The (La Horde)', 'Switch, The', 'Machete', 'Going the Distance', 'Resident Evil: Afterlife', 'Princess (Prinsessa)', 'Social Network, The', 'Man Vanishes, A (Ningen Johatsu)', 'Town, The', 'Easy A', 'Eat Pray Love', 'Howl', \"I'm Still Here\", 'Patrik Age 1.5 (Patrik 1,5)', 'Flipped', 'Wall Street: Money Never Sleeps', \"Legend of the Guardians: The Owls of Ga'Hoole\", \"It's Kind of a Funny Story\", 'Middle Men', 'Alice in Wonderland', 'Let Me In', 'Sintel', 'Secretariat', 'Devil', 'You Again', 'Life as We Know It', 'Catfish', 'You Will Meet a Tall Dark Stranger', 'Stone', 'Inside Job', 'Monsters', 'Never Let Me Go', \"Illusionist, The (L'illusionniste)\", 'Luck by Chance', 'Rubber', 'Jackass 3D', 'Restrepo', \"Waiting for 'Superman'\", 'Red', 'In a Better World (Hævnen)', \"Heartbreaker (L'Arnacoeur)\", 'Paranormal Activity 2', 'Heartbeats (Les amours imaginaires)', 'Hereafter', 'Undisputed III: Redemption', 'Saw VII 3D - The Final Chapter', 'Due Date', '127 Hours', 'Megamind', 'Black Swan', 'I Shot Jesse James', 'Unstoppable', 'Morning Glory', 'Certified Copy (Copie conforme)', 'Next Three Days, The', 'Somewhere', 'Biutiful', 'First Beautiful Thing, The (La prima cosa bella)', 'Harry Potter and the Deathly Hallows: Part 1', \"King's Speech, The\", 'Tangled', 'Art of the Steal, The', 'Fighter, The', 'Romantics, The', 'Loved Ones, The', 'Casino Jack', 'Vincent Wants to Sea (Vincent will meer)', 'London Boulevard', 'Skyline', 'Beastly', 'Love and Other Drugs', 'Chronicles of Narnia: The Voyage of the Dawn Treader, The', 'Tourist, The', 'Rare Exports: A Christmas Tale (Rare Exports)', 'Hatchet II', 'All Good Things', 'True Grit', 'Tron: Legacy', 'How Do You Know', \"Barney's Version\", 'Company Men, The', 'One-Armed Swordsman, The (Dubei dao)', 'I Saw the Devil (Akmareul boatda)', 'Trash Humpers', 'Faster', 'Little Big Soldier (Da bing xiao jiang)', 'Rabbit Hole', 'One Week', 'Little Fockers', \"Gulliver's Travels\", 'Sweetgrass', 'Burlesque', 'Secret World of Arrietty, The (Kari-gurashi no Arietti)', 'Tucker & Dale vs Evil', 'Yogi Bear', 'Made in Dagenham', 'Green Hornet, The', 'Way Back, The', \"Warrior's Way, The\", 'Season of the Witch', 'Amer', 'Cowboys & Aliens', 'Anything for Her (Pour elle)', 'Day & Night', 'Marwencol', 'Dilemma, The', 'Down Argentine Way', 'Trip, The', 'Limitless', 'Happy People: A Year in the Taiga', 'Evangelion: 2.0 You Can (Not) Advance (Evangerion shin gekijôban: Ha)', 'I Spit on Your Grave', 'Even the Rain (También la lluvia)', 'It Happened on Fifth Avenue', 'Zeitgeist: Moving Forward', 'No Strings Attached', 'Lincoln Lawyer, The', 'All-Star Superman', 'Girls About Town', 'Kill! (Kiru)', 'Pekka ja Pätkä salapoliiseina', 'Unknown', 'Cedar Rapids', 'Gnomeo & Juliet', 'Burke and Hare', 'Castaway on the Moon (Kimssi pyoryugi)', 'Paul', 'Asphyx, The', 'Brother 2 (Brat 2)', 'Emma', 'Drive Angry', 'Rango', 'Take Me Home Tonight', 'Confessions (Kokuhaku)', 'Adjustment Bureau, The', 'Mechanic, The', 'Hall Pass', 'Eagle, The', 'I Am Number Four', 'Battle: Los Angeles', 'Summer Wars (Samâ wôzu)', 'Sunset Limited, The', 'Winnie the Pooh and the Honey Tree', 'Mars Needs Moms', 'Scooby-Doo! Curse of the Lake Monster', 'Winnie the Pooh and Tigger Too', 'Hard Ticket to Hawaii', 'Elite Squad: The Enemy Within (Tropa de Elite 2 - O Inimigo Agora É Outro)', \"Mesrine: Public Enemy #1 (L'ennemi public n°1)\", 'Just Go with It', 'Cave of Forgotten Dreams', 'Red Riding Hood', 'Big Mommas: Like Father, Like Son', 'Super', 'Troll Hunter, The (Trolljegeren)', 'Source Code', 'Jane Eyre', 'Sucker Punch', 'Chalet Girl', 'BURN-E', 'Senna', \"Family Guy Presents: It's a Trap\", 'Insidious', 'Hobo with a Shotgun', 'Win Win', 'Room in Rome (Habitación en Roma)', 'Boy', 'Diary of a Wimpy Kid: Rodrick Rules', \"Henry's Crime\", 'Hop', 'Playing the Victim (Izobrazhaya zhertvu)', 'Films to Keep You Awake: The Christmas Tale (Películas para no dormir: Cuento de navidad)', '13 Assassins (Jûsan-nin no shikaku)', 'Hanna', 'Connections', 'Into Eternity', \"Daffy Duck's Quackbusters\", 'American: The Bill Hicks Story', 'Arthur', 'Scream 4', 'Rio', 'Melancholia', 'Thor', 'Louis C.K.: Hilarious', 'Louis C.K.: Chewed Up', 'Atlas Shrugged: Part 1', 'Louis C.K.: Shameless', 'Mildred Pierce', 'Voices from the List', 'Water for Elephants', 'African Cats', 'Kill the Irishman', 'Fast Five (Fast and the Furious 5, The)', 'Louis Theroux: Law & Disorder', 'Idiots and Angels', 'Incendies', 'Soul Surfer', 'Something Borrowed', 'Bridesmaids', 'Priest', 'Mothra (Mosura)', 'Pirates of the Caribbean: On Stranger Tides', 'Midnight in Paris', 'The Man from Nowhere', 'Tree of Life, The', 'Hangover Part II, The', 'Nothing to Declare (Rien à déclarer)', 'Across the Hall', 'Roommate, The', 'Attack the Block', 'The Way', 'Let the Bullets Fly', 'Kung Fu Panda 2', 'X-Men: First Class', 'Submarine', 'American Grindhouse', 'Everything Must Go', 'Beginners', 'Super 8', 'Bernie', 'Green Lantern', 'Elektra Luxx', \"Mr. Popper's Penguins\", 'Bad Teacher', 'Transformers: Dark of the Moon', 'Larry Crowne', 'Your Highness', 'Too Big to Fail', 'Takers', 'My Life as McDull (Mak dau goo si)', 'Zookeeper', 'Horrible Bosses', 'Cars 2', 'Between the Folds', 'Delhi Belly', 'Upside Down: The Creation Records Story', 'Monte Carlo', 'Harry Potter and the Deathly Hallows: Part 2', 'Drive', 'Captain America: The First Avenger', 'Crazy, Stupid, Love.', 'One Day', 'Guard, The', 'Winnie the Pooh', 'Woman, The', 'New One-Armed Swordsman, The (Xin du bi dao)', \"Mike's New Car\", 'Smurfs, The', 'Friends with Benefits', 'Paper Birds (Pájaros de papel)', 'Blitz', 'Yellow Sea, The (a.k.a. The Murderer) (Hwanghae)', 'Our Idiot Brother', 'SUBWAYStories: Tales from the Underground', 'Death Race 2', 'Rise of the Planet of the Apes', 'Terri', 'Change-Up, The', 'Help, The', '30 Minutes or Less', 'My Afternoons with Margueritte (La tête en friche)', 'Final Destination 5', 'Very Harold & Kumar 3D Christmas, A', \"Don't Be Afraid of the Dark\", 'Fright Night', 'Another Earth', 'Hesher', 'Stake Land', 'Debt, The', 'Colombiana', 'Bill Cunningham New York', 'Skin I Live In, The (La piel que habito)', 'Conan the Barbarian', 'Walled In', 'Birdemic: Shock and Terror', 'Inbetweeners Movie, The', 'Red State', 'Pearl Jam Twenty', \"I Don't Know How She Does It\", 'Shark Night 3D', 'Contagion', 'Moneyball', 'Neds', 'Cold Fish (Tsumetai nettaigyo)', 'Phineas and Ferb the Movie: Across the 2nd Dimension', 'Northanger Abbey', 'Avengers, The', 'Tinker Tailor Soldier Spy', 'Separation, A (Jodaeiye Nader az Simin)', 'Dangerous Method, A', 'Warrior', 'Ides of March, The', 'Kill List', 'Killer Elite', 'Bellflower', '50/50', 'Generation P', 'The Artist', 'Gigi', 'BlinkyTM', 'Take Shelter', 'Three Outlaw Samurai (Sanbiki no samurai)', 'Antonio Gaudí', 'Real Steel', 'Footloose', 'Thing, The', 'Beautiful Boy', 'Tyrannosaur', 'Martha Marcy May Marlene', 'We Need to Talk About Kevin', 'Behind Enemy Lines II: Axis of Evil', 'Three Musketeers, The', 'In Time', 'Margaret', 'Carnage', 'Margin Call', 'Paranormal Activity 3', 'Puncture', 'Johnny English Reborn', 'Abduction', 'This Must Be the Place', 'Shame', \"What's Your Number?\", 'Headhunters (Hodejegerne)', 'Batman: Year One', 'Miss Representation', 'Puss in Boots', 'Tower Heist', 'J. Edgar', 'Double, The', 'Adventures of Tintin, The', 'Starsuckers', 'Tomboy', 'George Harrison: Living in the Material World', 'Hugo', 'Immortals', 'Jack and Jill', 'Into the Abyss', 'Sign of Four, The', 'Descendants, The', 'Like Crazy', 'Muppets, The', 'Twilight Saga: Breaking Dawn - Part 1, The', 'War Horse', 'Rum Diary, The', 'Lifted', 'Hipsters (Stilyagi)', 'Another Cinderella Story', 'Bunraku', 'Sitter, The', 'Extremely Loud and Incredibly Close', 'Play the Game', 'Asterix in America (a.k.a Asterix Conquers America) (Astérix et les Indiens)', 'Asterix and the Vikings (Astérix et les Vikings)', 'Happy Feet Two', 'Arthur Christmas', 'Violet & Daisy', 'Bullet to the Head', 'Expendables 2, The', 'Snowman, The', 'The Hunger Games', 'Dark Knight Rises, The', 'Bourne Legacy, The', 'Sherlock Holmes: A Game of Shadows', 'Coriolanus', 'Young Adult', \"New Year's Eve\", 'Mission: Impossible - Ghost Protocol', 'We Bought a Zoo', 'Girl with the Dragon Tattoo, The', 'Darkest Hour, The', 'Last Holiday', 'Alvin and the Chipmunks: Chipwrecked', 'Salvation Boulevard', 'Friends with Kids', 'Girl Walks Into a Bar', 'Contraband', 'Way South, The (De weg naar het zuiden)', \"Being Elmo: A Puppeteer's Journey\", 'Joyful Noise', 'Iron Lady, The', 'Albatross', 'Revenant, The', 'Underworld: Awakening', 'Grey, The', 'Man on a Ledge', 'Sacrifice (Zhao shi gu er)', 'Haywire', 'Contact High', 'Whistleblower, The', 'Einstein and Eddington', 'Apollo 18', 'Seeking Justice', 'Red Tails', 'Flowers of War, The (Jin líng shí san chai)', 'Intouchables', 'One for the Money', 'Innkeepers, The', 'Puss in Boots (Nagagutsu o haita neko)', 'Grave Encounters', 'Chronicle', 'Woman in Black, The', 'Woman in Love (Rubbeldiekatz)', 'Art of Getting By, The', 'All Watched Over by Machines of Loving Grace', 'Dylan Moran: Monster', 'Safe House', 'Vow, The', 'Louis C.K.: Live at the Beacon Theater', 'Pitfall (Otoshiana)', 'Monsieur Lazhar', 'For a Good Time, Call...', 'Janie Jones', 'Journey 2: The Mysterious Island', 'Perfect Sense', 'Rollo and the Woods Sprite (Rölli ja metsänhenki)', 'Atomic Brain, The', 'Ghost Rider: Spirit of Vengeance', 'Prayers for Bobby', 'Very Potter Musical, A', 'Very Potter Sequel, A', 'Miss Nobody', 'Civil War, The', 'Ro.Go.Pa.G.', 'Women on the 6th Floor, The (Les Femmes du 6ème Étage)', 'Mega Shark vs. Crocosaurus', 'Red Hill', \"Mickey's The Prince and the Pauper\", 'Gone', 'Project X', \"Dr. Seuss' The Lorax\", 'Big Year, The', 'Act of Valor', 'Trailer Park Boys', 'This Means War', 'John Carter', 'Goon', 'Ledge, The', '21 Jump Street', 'Jeff, Who Lives at Home', 'Lockout', 'Snowtown (Snowtown Murders, The)', 'Space Battleship Yamato', 'Jiro Dreams of Sushi', 'Damsels in Distress', 'Salmon Fishing in the Yemen', 'Wrath of the Titans', 'Detachment', 'Iron Sky', 'Absentia', 'American Reunion (American Pie 4)', 'The Raid: Redemption', 'Cabin in the Woods, The', 'God Bless America', 'Three Stooges, The', 'Raven, The', 'North & South', 'Big Bang, The', 'Mirror Mirror', 'Battleship', 'Best Exotic Marigold Hotel, The', \"Comic-Con Episode IV: A Fan's Hope\", 'Bully', 'Hysteria', \"Dante's Inferno: An Animated Epic\", 'Atomic Submarine, The', 'Five-Year Engagement, The', 'Think Like a Man', 'Lucky One, The', 'Safe', 'Dark Shadows', '96 Minutes', 'Decoy Bride, The', 'Rocket Singh: Salesman of the Year', 'Dictator, The', 'Walking with Monsters', 'Men in Black III (M.III.B.) (M.I.B.³)', 'Snow White and the Huntsman', 'Sound of My Voice', 'Eva', 'Pirates! Band of Misfits, The', 'Prometheus', 'Pact, The', 'Bernie', 'Inhale', 'Take This Waltz', 'Wanderlust', 'Moonrise Kingdom', 'Get the Gringo', 'Superman/Doomsday', 'Thousand Words, A', 'Safety Not Guaranteed', \"Madagascar 3: Europe's Most Wanted\", \"Your Sister's Sister\", 'Dragon Ball: The Curse Of The Blood Rubies (Doragon bôru: Shenron no densetsu)', \"Dragon Ball: Sleeping Princess in Devil's Castle (Doragon bôru: Majinjô no nemuri hime)\", 'Superman/Batman: Public Enemies', 'Dragon Ball: Mystical Adventure (Doragon bôru: Makafushigi dai bôken)', \"Dragon Ball Z the Movie: The World's Strongest (a.k.a. Dragon Ball Z: The Strongest Guy in The World) (Doragon bôru Z: Kono yo de ichiban tsuyoi yatsu)\", 'Brave', 'Beauty and the Beast: The Enchanted Christmas', 'Front of the Class', 'Dragon Ball Z the Movie: The Tree of Might (Doragon bôru Z 3: Chikyû marugoto chô kessen)', 'Pocahontas II: Journey to a New World', \"What to Expect When You're Expecting\", 'To Rome with Love', 'Abraham Lincoln: Vampire Hunter', 'First Position', 'Rock of Ages', 'Seeking a Friend for the End of the World', 'Presto', 'Jack-Jack Attack', 'One Man Band', 'Ted', 'Magic Mike', 'Dragon Ball Z: The Return of Cooler (Doragon bôru Z 6: Gekitotsu! Hyakuoku pawâ no senshi)', \"Dragon Ball Z: Cooler's Revenge (Doragon bôru Z 5: Tobikkiri no saikyô tai saikyô)\", 'Dragon Ball Z: Super Android 13! (Doragon bôru Z 7: Kyokugen batoru!! San dai sûpâ saiyajin)', 'Dragon Ball Z: Broly - The Legendary Super Saiyan (Doragon bôru Z 8: Moetsukiro!! Nessen retsusen-chô gekisen)', 'Cleanskin', 'Amazing Spider-Man, The', 'Dragon Ball Z: Bojack Unbound (Doragon bôru Z 9: Ginga girigiri!! Butchigiri no sugoi yatsu)', 'Ice Age 4: Continental Drift', 'Beasts of the Southern Wild', 'Savages', 'Firm, The', 'Spirit Camp', \"Geri's Game\", 'Some Guy Who Kills People', 'Treasure Island', 'Watch, The', 'Adventures of Mary-Kate and Ashley, The: The Case of the Christmas Caper', '2 Days in New York', 'Killer Joe', 'Dragon Ball Z: Broly Second Coming (Doragon bôru Z 10: Kiken na futari! Sûpâ senshi wa nemurenai)', 'Dragon Ball Z: Bio-Broly (Doragon bôru Z 11: Sûpâ senshi gekiha! Katsu no wa ore da)', 'Anaconda: The Offspring', 'Christmas Carol, A', 'Goodbye Charlie', 'For the Birds', 'Ruby Sparks', 'Total Recall', \"Angels' Share, The\", 'Immature, The (Immaturi)', 'Dragon Ball Z: Bardock - The Father of Goku (Doragon bôru Z: Tatta hitori no saishuu kessen - Furiiza ni itonda Z senshi Kakarotto no chichi)', 'Dragon Ball Z: The History of Trunks (Doragon bôru Z: Zetsubô e no hankô!! Nokosareta chô senshi - Gohan to Torankusu)', \"Dragon Ball GT: A Hero's Legacy (Doragon bôru GT: Gokû gaiden! Yûki no akashi wa sû-shin-chû)\", 'Sidewalls (Medianeras)', 'Skyfall', 'Hands Over the City (Le mani sulla città)', 'Campaign, The', 'Brake', 'Hope Springs', 'Queen of Versailles, The', 'ParaNorman', 'Diary of a Wimpy Kid: Dog Days', 'Broken', '6 Days to Air: The Making of South Park', 'Premium Rush', 'Odd Life of Timothy Green, The', 'Lawless', 'Piranha 3DD (a.k.a. Piranha DD)', 'Prime Suspect 3', 'Searching for Sugar Man', 'Prime Suspect 6: The Last Witness', 'Prime Suspect: The Lost Child', 'Conception', 'Paradise Lost 3: Purgatory', 'Words, The', 'Pitch Perfect', 'Samsara', 'Runaway Brain', 'Looper', \"That's My Boy\", 'Robot & Frank', 'Resident Evil: Retribution', 'Lola Versus', 'Master, The', 'Dredd', 'End of Watch', 'V/H/S', 'Perks of Being a Wallflower, The', 'Hunt, The (Jagten)', 'Holy Motors', 'Taken 2', 'House at the End of the Street', 'My Left Eye Sees Ghosts (Ngo joh aan gin diy gwai)', \"Love Lasts Three Years (L'amour dure trois ans)\", 'Tall Man, The', 'LOL', \"Rust and Bone (De rouille et d'os)\", 'Marley', 'Frankenweenie', 'Sinister', 'Thing: Terror Takes Shape, The', 'Hotel Transylvania', 'Side by Side', \"Take Aim at the Police Van (Sono gosôsha wo nerae: 'Jûsangô taihisen' yori)\", 'Argo', 'Seven Psychopaths', 'Liberal Arts', 'Catch .44', '[REC]³ 3 Génesis', 'Asterix & Obelix: God Save Britannia (Astérix et Obélix: Au service de Sa Majesté)', 'Paranormal Activity 4', 'Alex Cross', 'Cloud Atlas', \"'Hellboy': The Seeds of Creation\", 'Silent Hill: Revelation 3D', 'Here Comes the Boom', 'Mental', 'Killing Them Softly', 'Imposter, The', 'Sessions, The (Surrogate, The)', 'Smashed', 'Wreck-It Ralph', 'Silver Linings Playbook', 'Flight', 'Anna Karenina', 'Life of Pi', 'Man with the Iron Fists, The', 'Bay, The', 'Himizu', 'Jackass 3.5', 'Indie Game: The Movie', 'Batman: The Dark Knight Returns, Part 1', 'Lincoln', 'Nature Calls', 'Vamps', 'Twilight Saga: Breaking Dawn - Part 2, The', '10 Years', 'Red Dawn', 'Rise of the Guardians', 'Fantastic Fear of Everything, A', 'Deadfall', 'Byzantium', 'Paperman', 'Fearless Hyena, The (Xiao quan guai zhao)', 'Half a Loaf of Kung Fu (Dian zhi gong fu gan chian chan)', 'Hitchcock', 'From Up on Poppy Hill (Kokuriko-zaka kara)', 'Redline', 'Winners and Sinners (Qi mou miao ji: Wu fu xing)', 'My Lucky Stars (Fuk sing go jiu)', \"Money Money Money (L'aventure, c'est l'aventure)\", \"Liar's Autobiography: The Untrue Story of Monty Python's Graham Chapman, A\", 'Hobbit: An Unexpected Journey, The', 'Hyde Park on Hudson', 'How to Make Love to a Woman', 'Zero Dark Thirty', 'Fire with Fire', 'Warm Bodies', 'Wrong', 'Playing for Keeps', 'Guilt Trip, The', 'Jack Reacher', 'Django Unchained', 'This Is 40', 'I Bought a Vampire Motorcycle', 'Ice Cream Man', 'Impossible, The (Imposible, Lo)', 'Misérables, Les', 'Campfire Tales', 'Parental Guidance', 'John Dies at the End', 'Misérables, Les', 'Promised Land', 'English Vinglish', 'Fish Story (Fisshu sutôrî)', 'Texas Chainsaw 3D', 'Gangster Squad', 'Iceman, The', \"It's Such a Beautiful Day\", 'Batman: The Dark Knight Returns, Part 2', 'Everything or Nothing: The Untold Story of 007', 'Codependent Lesbian Space Alien Seeks Same', 'Last Stand, The', 'Upstream Color', 'Shadow Dancer', 'Human Planet', 'Comme un chef', 'Movie 43', \"Pervert's Guide to Ideology, The\", 'Sightseers', 'Hansel & Gretel: Witch Hunters', 'Jim Jefferies: Fully Functional (EPIX)', 'Why Stop Now', 'Tabu', 'Upside Down', 'Liability, The', 'Angst', 'Stand Up Guys', 'Side Effects', 'Identity Thief', 'ABCs of Death, The', 'Beautiful Creatures', 'Good Day to Die Hard, A', '21 and Over', 'Safe Haven', 'Frozen Planet', 'Act of Killing, The', 'Universal Soldier: Day of Reckoning', 'Escape from Planet Earth', 'Before Midnight', 'Snitch', 'Dark Skies', 'Oh Boy (A Coffee in Berlin)', 'Journey to the West: Conquering the Demons (Daai wa sai you chi Chui mo chun kei)', 'Maniac Cop 2', 'Jack the Giant Slayer', 'Wadjda', 'Unintentional Kidnapping of Mrs. Elfriede Ott, The (Die Unabsichtliche Entführung der Frau Elfriede Ott)', 'Legend of Sleepy Hollow, The', 'G.I. Joe: Retaliation', 'Stoker', 'Oz the Great and Powerful', 'Croods, The', 'Incredible Burt Wonderstone, The', 'Call, The', 'Olympus Has Fallen', 'First Time, The', 'Mezzo Forte', 'Place Beyond the Pines, The', 'Brass Teapot, The', 'Phil Spector', 'Host, The', 'Admission', 'Evil Dead', 'Trance', 'Perfect Plan, A (Plan parfait, Un)', 'Oblivion', 'Dark Tide', '42', 'Wolf Children (Okami kodomo no ame to yuki)', 'Disconnect', 'Invincible Iron Man, The', 'Yongary: Monster from the Deep', 'Pain & Gain', 'Hulk Vs.', 'Resolution', 'Grabbers', 'Justice League: Doom', 'Grandmaster, The (Yi dai zong shi)', 'This Is the End', 'Iron Man 3', 'English Teacher, The', 'Mud', 'Bill Hicks: Revelations', 'Pawn', 'Shaolin Temple (Shao Lin si)', 'Syrup', 'Great Gatsby, The', 'Star Trek Into Darkness', 'Internship, The', 'Darkon', 'Mimino', 'Ivan Vasilievich: Back to the Future (Ivan Vasilievich menyaet professiyu)', 'Only God Forgives', 'Hangover Part III, The', 'Fast & Furious 6 (Fast and the Furious 6, The)', 'Epic', 'Captain America', 'Tie Xi Qu: West of the Tracks (Tiexi qu)', 'Rink, The', 'Captain America II: Death Too Soon', 'Down Terrace', 'Frances Ha', 'Lords of Salem, The', 'Behind the Candelabra', 'As I Was Moving Ahead Occasionally I Saw Brief Glimpses of Beauty', 'With Great Power: The Stan Lee Story', 'After Earth', 'Now You See Me', 'Inhuman Resources (Redd Inc.)', 'Way, Way Back, The', 'Much Ado About Nothing', 'Man of Steel', 'Kings of Summer, The', 'Purge, The', 'Rapture-Palooza', '20 Feet from Stardom (Twenty Feet from Stardom)', 'Bling Ring, The', 'Monsters University', 'Schlussmacher', 'Fullmetal Alchemist: The Sacred Star of Milos', 'Maniac', 'Not Suitable for Children', 'Pacific Rim', 'LEGO Batman: The Movie - DC Heroes Unite', 'Best Offer, The (Migliore offerta, La)', \"Adam and Eve (National Lampoon's Adam & Eve)\", 'World War Z', 'Elysium', 'Despicable Me 2', 'White House Down', \"World's End, The\", 'Redemption (Hummingbird)', 'Heat, The', 'Lone Ranger, The', 'Passion', 'V/H/S/2', 'Knot, The', 'The Spectacular Now', 'Lifeguard, The', 'Sharknado', \"Craig Ferguson: I'm Here To Help\", 'Stuck in Love', 'Class Act', 'Fruitvale Station', 'R.I.P.D.', 'Field in England, A', 'Conjuring, The', 'Turbo', 'Wolverine, The', 'Drinking Buddies', 'Red 2', 'Coffee Town', 'Revenge for Jolly!', '2 Guns', 'Blue Jasmine', 'Great Beauty, The (Grande Bellezza, La)', '3 dev adam (Three Giant Men)', 'Louis C.K.: Oh My God', 'Percy Jackson: Sea of Monsters', 'Smurfs 2, The', 'Alan Partridge: Alpha Papa', 'Man of Tai Chi', 'Batman: Mystery of the Batwoman', \"We're the Millers\", 'Grown Ups 2', 'Kick-Ass 2', 'Riddick', 'Planes', 'Blackfish', 'Wind Rises, The (Kaze tachinu)', 'Jobs', \"Lee Daniels' The Butler\", 'In a World...', 'About Time', 'Justice League: Crisis on Two Earths', \"You're Next\", 'Maria Bamford: The Special Special Special!', 'Getaway', 'Mystery of the Third Planet, The (Tayna tretey planety)', 'Rage of Honor', 'Gravity', 'What If', 'History of Future Folk, The', 'Prisoners', 'Austenland', 'Insidious: Chapter 2', 'Rush', 'Family, The', 'Short Term 12', 'Collision Course', 'To Do List, The', 'Inescapable', 'Nebraska', 'Enough Said', 'Don Jon', \"Mood Indigo (L'écume des jours)\", 'Century of the Self, The', 'Crystal Fairy & the Magical Cactus and 2012', 'Bad Milo (Bad Milo!)', 'Runner Runner', \"Blue Is the Warmest Color (La vie d'Adèle)\", 'Cloudy with a Chance of Meatballs 2', 'Captain Phillips', 'All Dogs Christmas Carol, An', 'Machete Kills (Machete 2)', 'Filth', 'Escape Plan', 'Thief of Paris, The (Le voleur)', 'Carrie', 'UnHung Hero', 'Counselor, The', 'Escape From Tomorrow', 'Double, The', '12 Years a Slave', 'All Is Lost', \"Ender's Game\", 'Jackass Presents: Bad Grandpa', 'Thor: The Dark World', 'Dallas Buyers Club', 'Selfish Giant, The', 'Last Vegas', 'Philomena', 'Book Thief, The', 'The Hunger Games: Catching Fire', 'Hobbit: The Desolation of Smaug, The', '47 Ronin', 'Delivery Man', 'Charlie Countryman', 'Red Flag', 'Day of the Doctor, The', 'Guilty of Romance (Koi no tsumi)', 'Frozen', 'Inside Llewyn Davis', 'Wolf of Wall Street, The', 'Homefront', 'Mandela: Long Walk to Freedom', 'Evangelion: 3.0 You Can (Not) Redo', 'All is Bright', \"Tim's Vermeer\", 'American Hustle', 'Secret Life of Walter Mitty, The', 'Her', 'RoboGeisha (Robo-geisha)', 'Christmas Carol, A', 'Lone Survivor', 'Saving Mr. Banks', 'Zatoichi and the Chest of Gold (Zatôichi senryô-kubi) (Zatôichi 6)', 'Oldboy', 'Dampfnudelblues', 'Anchorman 2: The Legend Continues', 'Snowpiercer', 'Only Old Men Are Going to Battle (V boy idut odni stariki)', 'Guest from the Future (Gostya iz buduschego)', 'Kidnapping, Caucasian Style (Kavkazskaya plennitsa)', 'Haunter', 'Wrong Cops', 'Muppet Christmas: Letters to Santa, A', 'Ninja: Shadow of a Tear', 'Fuck You, Goethe (Fack Ju Göhte)', 'High School', 'Grudge Match', 'Highlander: The Search for Vengeance', 'Only Lovers Left Alive', 'Cats', 'MacGyver: Trail to Doomsday', 'Bad Karma', 'Hunting Elephants', 'Dragon Ball Z: Battle of Gods', 'Freezer', 'We Are What We Are', 'Dragon ball Z 04: Lord Slug', 'Chinese Puzzle (Casse-tête chinois)', 'Dragon Ball: The Path to Power (Doragon bôru: Saikyô e no michi)', 'Ride Along', 'Jack Ryan: Shadow Recruit', 'Divergent', \"Hotel Chevalier (Part 1 of 'The Darjeeling Limited')\", 'Ernest & Célestine (Ernest et Célestine)', 'Drift', 'I, Frankenstein', 'Better Living Through Chemistry', 'Nymphomaniac: Volume I', 'Enemy', 'Wonder Woman', 'Monuments Men, The', 'The Lego Movie', 'RoboCop', 'Art of the Steal, The', 'Nymphomaniac: Volume II', 'Knights of Badassdom', 'Venus in Fur (La Vénus à la fourrure)', 'Date and Switch', 'Zero Theorem, The', \"Winter's Tale\", \"On the Other Side of the Tracks (De l'autre côté du périph)\", 'GLOW: The Story of the Gorgeous Ladies of Wrestling', 'Cold Comes the Night', 'Chouchou', 'Someone Marry Barry', 'About Last Night', 'Grand Budapest Hotel, The', 'Oversimplification of Her Beauty, An', 'Bring It On: Fight to the Finish', 'That Awkward Moment', 'Interstellar', '3 Days to Kill', 'Welcome to the Jungle', 'Non-Stop', 'Wrinkles (Arrugas)', 'Garden of Words, The (Koto no ha no niwa)', '300: Rise of an Empire', 'Particle Fever', 'Bag Man, The', 'Mr. Peabody & Sherman', 'Under the Skin', 'Need for Speed', 'Barefoot', 'Veronica Mars', 'Bad Words', 'Son of God', 'Puss in Boots: The Three Diablos', \"Why Don't You Play In Hell? (Jigoku de naze warui)\", 'Ocho apellidos vascos', 'Captain America: The Winter Soldier', 'Noah', 'Nut Job, The', 'King of Comedy (Hei kek ji wong)', '13 Sins', 'Muppets Most Wanted', 'Me and you (io e te)', 'Free to Play', 'Unknown Known, The', 'The Raid 2: Berandal', 'Brain Smasher... A Love Story (Bouncer and the Lady, The)', 'The Amazing Spider-Man 2', 'Calvary', 'Oculus', \"God's Not Dead\", 'Cold in July', 'Rio 2', 'Honest Liar, An', 'Fading Gigolo', 'Transcendence', 'Hatchet III', 'Other Woman, The', 'Haunted House 2, A', 'Mulan II', 'Brick Mansions', 'Locke', 'Neighbors', 'Alpha and Omega 3: The Great Wolf Games', \"Mom's Night Out\", 'Lucy', 'X-Men: Days of Future Past', 'Godzilla', 'Walk of Shame', 'Blue Ruin', 'Chef', 'Afflicted', 'Blended', 'Begin Again', 'Maleficent', 'Zombeavers', 'At Middleton', 'Dance of Reality, The (Danza de la realidad, La)', 'A Million Ways to Die in the West', 'Edge of Tomorrow', 'Mission: Impossible - Rogue Nation', 'Midnight Chronicles', 'Million Dollar Arm', 'G.B.F.', 'Jimi: All Is by My Side', 'Bad Asses (Bad Ass 2)', 'Lilting', 'The Fault in Our Stars', 'Tangled Ever After', 'Maps to the Stars', '22 Jump Street', 'Equalizer, The', 'How to Train Your Dragon 2', 'Birdman: Or (The Unexpected Virtue of Ignorance)', 'Boyhood', 'Think Like a Man Too', 'Jersey Boys', 'Nick Fury: Agent of S.H.I.E.L.D.', \"Internet's Own Boy: The Story of Aaron Swartz, The\", 'Transformers: Age of Extinction', 'Frank', 'They Came Together', 'Honey (Miele)', 'Planes: Fire & Rescue', 'Tammy', 'Colourful (Karafuru)', 'Babadook, The', 'Whiplash', 'Gone Girl', 'Angriest Man in Brooklyn, The', 'Dawn of the Planet of the Apes', 'Deliver Us from Evil', 'And So It Goes', 'Sex Tape', 'I Origins', 'Purge: Anarchy, The', 'Guardians of the Galaxy', 'Signal, The', 'The Expendables 3', 'Hercules', 'A Most Wanted Man', 'Life After Beth', 'Felony', 'Get on Up', 'Magic in the Moonlight', 'Housebound', 'The Hundred-Foot Journey', 'Batman: Assault on Arkham', 'White Frog', 'Den, The', 'Jupiter Ascending', 'Teenage Mutant Ninja Turtles', \"I'll Follow You Down\", 'Old Lady and the Pigeons, The (La vieille dame et les pigeons)', 'Giver, The', 'Pretty One, The', 'Revenge of the Green Dragons', \"Let's Be Cops\", 'Inbetweeners 2, The', 'Sacrament, The', 'Sin City: A Dame to Kill For', 'If I Stay', 'Two Days, One Night (Deux jours, une nuit)', 'Coherence', 'As Above, So Below', 'One I Love, The', 'Headshot', 'Guest, The', 'Pride', 'Honeymoon', 'The Drop', '20,000 Days on Earth', 'The Skeleton Twins', 'Beautiful Losers', 'Maze Runner, The', 'Camp X-Ray', 'Walk Among the Tombstones, A', 'Laggies', 'La cravate', 'Cesar Chavez', 'Who Am I (Kein System Ist Sicher)', 'Tale of Princess Kaguya, The (Kaguyahime no monogatari)', 'This Is Where I Leave You', \"Angel's Egg (Tenshi no tamago)\", 'American Sniper', 'Tusk', 'Hector and the Search for Happiness', 'Horns', 'Annabelle', 'Two Night Stand', 'Dracula Untold', 'Stretch', 'Autómata (Automata)', 'Captive, The', 'Predestination', 'Justin and the Knights of Valour', 'Ward 13', 'What We Do in the Shadows', 'John Wick', 'Plastic', 'Judge, The', 'Culture High, The', 'Fury', 'Salvation, The', 'St. Vincent', 'Rewrite, The', 'Nightcrawler', 'Big Hero 6', 'The Book of Life', 'Love, Rosie', 'Time Lapse', 'Ex Machina', 'Crippled Avengers (Can que) (Return of the 5 Deadly Venoms)', 'Mr Hublot', 'Copenhagen', 'Simpsons: The Longest Daycare, The', 'Generation War', 'Christmas in Connecticut', 'Leviathan', 'Reign of Assassins', 'Zulu', 'Tangerines', 'Life Partners', 'Drive Hard', 'New Kids Nitro', 'Stalingrad', 'Dead Snow 2: Red vs. Dead', 'Volga - Volga', 'You Are the Apple of My Eye', 'DeadHeads', 'The Imitation Game', 'Inherent Vice', 'Rudderless', 'The Hunger Games: Mockingjay - Part 1', 'Sex Ed', 'Exodus: Gods and Kings', 'Wild Tales', 'Jetsons: The Movie', 'Ski School', 'Dumb and Dumber To', 'The Longest Week', 'Miss Meadows', 'Too Many Cooks', 'Painted Skin', 'The Theory of Everything', 'Doctor Who: The Time of the Doctor', 'Virunga', 'The Madagascar Penguins in a Christmas Caper', 'Song of the Sea', 'In the Heart of the Sea', 'Hello Ladies: The Movie', 'Jurassic World', 'Watermark', 'Citizenfour', 'Asterix: The Land of the Gods (Astérix: Le domaine des dieux)', 'Hit by Lightning', 'Horrible Bosses 2', 'Double Trouble', 'Dragonheart 2: A New Beginning', 'La Belle Verte', 'Penguins of Madagascar', \"'71\", \"The Rabbi's Cat (Le chat du rabbin)\", 'Still Alice', 'Paddington', 'Maze Runner: Scorch Trials', 'Ice Age: A Mammoth Christmas', 'The Voices', 'Courier', 'The Green Prince', 'Dying of the Light', 'Hellbenders', 'Omega Doom', 'By the Gun', 'Kill the Messenger', 'Bring It On: In It To Win It', 'Fans', 'The Mule', 'The Hobbit: The Battle of the Five Armies', 'Selma', 'Unbroken', 'Black Sea', 'Good Copy Bad Copy', 'Playing It Cool', \"National Lampoon's Bag Boy\", 'Closer to the Moon', 'Girl Walks Home Alone at Night, A', \"Dave Chappelle: For What it's Worth\", 'Scooby-Doo! Abracadabra-Doo', 'Mommy', 'Wild', 'Top Five', \"Bill Burr: I'm Sorry You Feel That Way\", 'Big Eyes', 'Into the Woods', 'Men, Women & Children', 'The Interview', 'Kingsman: The Secret Service', 'Bill Burr: You People Are All the Same', 'Night at the Museum: Secret of the Tomb', 'Paradox', 'The Punisher: Dirty Laundry', 'Seventh Son', 'Corner Gas: The Movie', 'A Man Called Blade', \"A Merry Friggin' Christmas\", \"Into the Forest of Fireflies' Light\", 'PK', 'Chappie', 'The Salt of the Earth', 'The Fool', 'Taken 3', 'Blackhat', 'By the Law', 'Son of a Gun', 'Terminator Genisys', 'John Mulaney: New In Town', 'Patton Oswalt: My Weakness Is Strong', 'The Hound of the Baskervilles', 'Man on High Heels', 'Space Buddies', 'Houdini', \"To Grandmother's House We Go\", \"101 Dalmatians II: Patch's London Adventure\", 'The Hungover Games', 'The Duke of Burgundy', 'Red Army', 'It Follows', 'The Town that Dreaded Sundown', 'Carry on Cabby', 'Carry on Cruising', 'Bill Burr: Let It Go', 'Bill Burr: Why Do I Do This?', 'Killer Movie', \"Sebastian Maniscalco: What's Wrong with People?\", 'Stuart Little 3: Call of the Wild', 'Guy X', 'Tooth Fairy 2', 'The Diary of Anne Frank', 'The Deadly Bees', 'Wicked Blood', 'Oblivion 2: Backlash', 'Mad Max: Fury Road', 'Insidious: Chapter 3', 'Star Wars: Episode VII - The Force Awakens', 'Ben-hur', 'Warcraft', 'Avengers: Age of Ultron', 'Pirates of the Caribbean: Dead Men Tell No Tales', 'Justice League', 'Ant-Man', 'Fantastic Four', 'Deadpool', 'Black Panther', 'Avengers: Infinity War - Part I', 'Thor: Ragnarok', 'Guardians of the Galaxy 2', 'Captain America: Civil War', 'Doctor Strange', 'X-Men: Apocalypse', 'Untitled Spider-Man Reboot', 'Elsa & Fred', 'Jim Jefferies: I Swear to God', 'Tornado!', 'The Blue Lagoon', 'In the Name of the King III', 'Cake', 'Kevin Smith: Too Fat For 40', 'Snowflake, the White Gorilla', 'Kenny & Company', 'Delirium', 'Why Man Creates', 'The Gambler', 'The Beast of Hollow Mountain', 'Mortdecai', 'Fifty Shades of Grey', 'Halloweentown', 'Halloweentown High', 'A Flintstones Christmas Carol', 'Hedgehog in the Fog', 'The Cave of the Golden Rose', 'American Heist', 'Solyaris', 'The Pacific', 'Strange Magic', 'The DUFF', \"Daddy, I'm A Zombie\", 'The Fox and the Hound 2', \"Operation 'Y' & Other Shurik's Adventures\", 'Project Almanac', 'Louis C.K.: Live at The Comedy Store', 'Brooklyn', 'The End of the Tour', 'Experimenter', 'Mistress America', 'Zipper', 'A Walk in the Woods', 'True Story', 'Kurt Cobain: Montage of Heck', 'Going Clear: Scientology and the Prison of Belief', 'What Happened, Miss Simone?', 'A Story of Children and Film', 'Story of Film: An Odyssey, The', 'Eden', 'The D Train', 'Dope', 'Me and Earl and the Dying Girl', 'The Overnight', 'The Stanford Prison Experiment', 'A Pigeon Sat on a Branch Reflecting on Existence', 'The Loft', 'Vice', 'Family Guy Presents: Blue Harvest', 'Trinity and Sartana Are Coming', \"Kevin Hart: I'm a Grown Little Man\", 'Jim Norton: American Degenerate', 'Jim Jefferies: BARE', 'Hard Promises', 'The Hateful Eight', 'Patton Oswalt: Tragedy Plus Comedy Equals Time', 'Wild Card', 'Paper Towns', 'The Wedding Ringer', 'Wyrmwood', 'The Boy Next Door', 'Boy Meets Girl', 'Victoria', 'The Dark Valley', \"I'm Here\", 'The Last Five Years', 'Crimson Peak', \"Dragonheart 3: The Sorcerer's Curse\", 'Chris Rock: Bigger & Blacker', 'The Natural Love', 'The Forgotten Space', 'Cloudburst', 'Tom Segura: Completely Normal', 'Honey, We Shrunk Ourselves', 'Stitch! The Movie', 'Hot Tub Time Machine 2', 'Johnny Express', 'Eddie Izzard: Glorious', 'Northmen - A Viking Saga', 'Superfast!', 'Reality', 'Julia', 'Focus', 'Marvel One-Shot: Item 47', 'The Second Best Exotic Marigold Hotel', \"George Carlin: It's Bad for Ya!\", 'Tracers', 'McFarland, USA', 'Unfinished Business', 'Ghost in the Shell Arise - Border 1: Ghost Pain', 'Run All Night', 'Digging Up the Marrow', 'Clown', 'Cinderella', 'Kidnapping Mr. Heineken', 'The Cobbler', 'Ruby Red', 'Pan', \"While We're Young\", 'Too Late for Tears', 'Insurgent', 'La vérité si je mens !', 'The Amazing Screw-On Head', 'Home', 'Midnight Special', 'Gunman, The', 'Furious 7', 'The Final Girls', 'Spring', 'Power/Rangers', 'George Carlin: Life Is Worth Losing', 'Legend No. 17', 'Love and Pigeons', 'Get Hard', 'That Sugar Film', 'Saving Santa', 'The Brain', 'Tom and Jerry: A Nutcracker Tale', 'What Men Talk About', 'Kill Me Three Times', 'Poker Night', 'Reckless Kelly', 'Willy/Milly', 'Shaun the Sheep Movie', 'Last Knights', 'The Jinx: The Life and Deaths of Robert Durst', 'Batman vs. Robin', 'Libre et assoupi', 'Woman in Gold', 'Iliza Shlesinger: Freezing Hot', 'The Road Within', 'The Malibu Bikini Shop', 'Tomorrowland', 'Let It Be Me', 'Buzzard', 'Paul Blart: Mall Cop 2', 'Seve', 'Breathe', 'Patlabor 2: The Movie', 'Da Sweet Blood of Jesus', 'The Longest Ride', 'Girltrash: All Night Long', 'Sword of Vengeance', 'Lovesick', 'Danny Collins', 'The Even Stevens Movie', 'Kite', 'Man Up', 'San Andreas', 'Welcome to Me', 'Comedy Central Roast of James Franco', 'We Could Be King', 'Hitman: Agent 47', 'B/W', 'Ricki and the Flash', 'Partisan', 'Infini', 'Pitch Perfect 2', 'Just Before I Go', 'Carol', 'Office Romance', 'Bootleggers', 'The Lobster', 'Güeros', 'Maggie', 'Hot Pursuit', 'Slow West', 'The Green Inferno', 'Barely Lethal', \"Carry On Don't Lose Your Head\", 'What Love Is', 'The Monkey King', '5 to 7', 'Afonya', 'My Love', 'Radio Day', 'The Martian', 'Return to Sender', 'Kung Fury', 'Elections Day', 'Youth', 'Survivor', 'Hot Girls Wanted', 'That Munchhausen', 'The Taming of the Scoundrel', 'Phir Hera Pheri', 'Spy', 'Trainwreck', 'BMX Bandits', 'Turtle Power: The Definitive History of the Teenage Mutant Ninja Turtles', 'Aloha', 'Dragon Blade', 'Entourage', 'Bitter Lake', 'No Way Jose', 'Ghost Graduation', 'Duck Amuck', 'Inside Out', 'The Wolfpack', 'Trevor Noah: African American', 'Love & Mercy', 'The Hunger Games: Mockingjay - Part 2', 'Pixels', 'Fantastic Beasts and Where to Find Them', 'The Hairdresser', 'The Star Wars Holiday Special', 'Mr. Holmes', 'The Secret Life of Pets', 'Ghost in the Shell: Stand Alone Complex - The Laughing Man', 'Self/less', 'The Last Witch Hunter', 'Krampus', 'Suicide Squad', 'Independence Day: Resurgence', 'Star Trek Beyond', 'Golmaal', \"Bruce Lee: A Warrior's Journey\", 'Five Element Ninjas', 'The Magnificent Ruffians', 'Ted 2', 'Absolutely Anything', 'Minions', 'The Silence of the Hams', 'Bloodsport III', 'The Good Dinosaur', 'Black Mass', 'Spectre', 'The Professional: Golgo 13', 'Mortal Kombat: The Journey Begins', 'Sharknado 3: Oh Hell No!', 'Scooby-Doo! and the Samurai Sword', 'Scooby-Doo! and the Loch Ness Monster', 'Big Top Scooby-Doo!', 'Scooby-Doo Goes Hollywood', 'Gabriel Iglesias: Hot and Fluffy', 'George Carlin: Back in Town', 'George Carlin: You Are All Diseased', 'Ghost in the Shell 2.0', 'Larry David: Curb Your Enthusiasm', 'Kevin Hart: Laugh at My Pain', 'Tom and Jerry: Shiver Me Whiskers', 'Jeff Dunham: All Over the Map', 'The FP', 'Kung Fu Panda: Secrets of the Masters', 'Steve Jobs', 'Macbeth', 'Vacation', 'Creep', 'The Face of an Angel', 'Wild Horses', 'Search Party', 'The Squeeze', 'Careful What You Wish For', 'Robot Overlords', 'Bad Asses on the Bayou', 'The Eye: Infinity', 'Kiss me Kismet', 'Da geht noch was!', 'Villain', 'The Lovers', 'Batman v Superman: Dawn of Justice', 'God Loves Caviar', 'Mortuary', 'April Morning', 'Amy', 'That Demon Within', 'Carnival Magic', 'Magic Mike XXL', 'The Jungle Book', 'Dragon Ball Z Gaiden: The Plot to Destroy the Saiyans', 'Dragon Ball Z: Resurrection of F', 'The Man from U.N.C.L.E.', 'Sorrow', '7 Days in Hell', 'The Walk', '13 Hours', 'There Will Come a Day', 'The Opposite Sex', 'The Gallows', 'Tokyo Tribe', 'Feast', 'Joe Dirt 2: Beautiful Loser', 'Return to Treasure Island', 'Nasu: Summer in Andalusia', 'Dark Places', 'Afro Samurai', 'Massu Engira Maasilamani', 'The Revenant', 'Irrational Man', 'Exte: Hair Extensions', 'Ooops! Noah is Gone...', 'Southpaw', 'Sicario', 'Goodnight Mommy (Ich seh ich seh)', '10 Cent Pistol', 'Before We Go', 'Anomalisa', 'Colonia', 'Ghost in the Shell Arise - Border 2: Ghost Whispers', 'How to Make Love Like an Englishman', 'Fracchia contro Dracula', 'Always Watching: A Marble Hornets Story', 'Madly in Love', 'The Intern', 'Hollywood Chainsaw Hookers', 'Love', 'Room', 'The Runner', 'The Gift', \"George Carlin: Jammin' in New York\", 'The Witch', 'Men & Chicken', 'The Escort', 'Doctor Who: The Waters of Mars', 'Family Guy Presents: Something, Something, Something, Dark Side', 'Visit, The', 'Secret in Their Eyes', 'The Electric Hotel', 'Jeff Ross Roasts Criminals: Live at Brazos County Jail', 'Battle For Sevastopol', 'American Ultra', 'Straight Outta Compton', 'Cop Car', 'The Lost Room', 'Tangerine', 'Every Secret Thing', '964 Pinocchio', 'Joy', 'Ready Player One', 'Victor Frankenstein', 'Guardians', 'Invincible Shaolin', 'Scouts Guide to the Zombie Apocalypse', 'Suffragette', 'Fort Tilden', 'Turbo Kid', 'The Unauthorized Saved by the Bell Story', 'War Room', 'Legend', 'Deathgasm', 'The Danish Girl', 'Cooties', 'Autumn Marathon', '12 Chairs', 'Ordinary Miracle', 'Old Men: Robbers', 'Unbelievable Adventures of Italians in Russia', \"It Can't Be!\", '12 Chairs', 'Steve Jobs: The Man in the Machine', 'Green Room', 'Beasts of No Nation', 'Bloodsucking Bastards', 'Saving Christmas', 'Oscar', 'Iron Man & Hulk: Heroes United', 'Knock Knock', 'The Blue Planet', 'Cornered!', 'Demolition', 'Cigarette Burns', 'Our Brand Is Crisis', 'High Rise', 'The Night Before', 'Into the Forest', 'The Editor', 'Everest', 'The Brand New Testament', 'Spotlight', 'Pawn Sacrifice', 'Hardcore Henry', 'Burnt', 'Ryuzo and the Seven Henchmen', 'If I Were a Rich Man', 'Last Shift', 'F*ck You, Goethe 2', 'Garam Masala', 'Life Eternal', 'Hotel Transylvania 2', 'Anti-Social', 'Jump In!', 'The Little Prince', 'Narcopolis', 'Ashby', 'Wonder Woman', 'The Circle', 'Silence', 'Bridge of Spies', 'Hyena Road', 'The Great Hypnotist', 'Into the Grizzly Maze', 'Human', \"Chasuke's Journey\", 'L.A. Slasher', 'Hail, Caesar!', 'How To Change The World', 'Er ist wieder da', 'Just Eat It: A Food Waste Story', 'Bros Before Hos', 'Slow Learners', 'Unforgiven', 'Sex, Drugs & Taxation', 'Sky High', 'Confessions of a Dangerous Mind', 'Goosebumps', 'The Perfect Guy', 'Rock the Kasbah', 'Freaks of Nature', 'Bone Tomahawk', 'Extraordinary Tales', 'The Dressmaker', 'Nowitzki: The Perfect Shot', 'Trumbo', 'Our Lips Are Sealed', 'Idaho Transfer', 'Witch Hunt', 'Concussion', 'Peanuts Movie, The', 'Bloodsport: The Dark Kumite', 'Formula of Love', 'A Man from Boulevard des Capucines', 'The Adventures of Sherlock Holmes and Dr. Watson: The Hound of the Baskervilles', 'Blue Mountain State: The Rise of Thadland', 'Dil To Pagal Hai', 'The Boy and the Beast', 'Creed', 'Dragons: Gift of the Night Fury', 'Twinsters', 'Cosmic Scrat-tastrophe', 'Solace', 'Lost in the Sun', \"Le Maître d'école\", 'Eros', 'Those Happy Days', 'The Girls', 'The Adventures of Sherlock Holmes and Doctor Watson', 'What Men Still Talk About', 'The Adventures of Sherlock Holmes and Doctor Watson: The Treasures of Agra', 'Adventures Of Sherlock Holmes And Dr. Watson: The Twentieth Century Approaches', 'The Adventures of Sherlock Holmes and Doctor Watson: King of Blackmailers', 'The Adventures of Sherlock Holmes and Dr. Watson: Bloody Signature', 'Sherlock Holmes and Dr. Watson: Acquaintance', 'Doctor Who: Last Christmas', 'Doctor Who: The Doctor, the Widow and the Wardrobe', 'Doctor Who: A Christmas Carol', 'Doctor Who: Planet of the Dead', 'Doctor Who: The Next Doctor', 'Doctor Who: Voyage Of The Damned', 'Doctor Who: The Runaway Bride', 'A Perfect Day', 'Masked Avengers', 'Return of the One-Armed Swordsman', \"The Lord's Lantern in Budapest\", 'Hitchcock/Truffaut', 'The 5th Wave', 'A Very Murray Christmas', 'Chi-Raq', 'Truth', 'Just Jim', 'Big Short, The', 'Applesauce', 'The Ridiculous 6', 'John Mulaney: The Comeback Kid', 'Saw', 'North Pole: Open For Christmas', 'Mojave', 'Wizards of Waverly Place: The Movie', 'World of Tomorrow', 'Zoolander 2', 'How to Be Single', 'Blue Exorcist: The Movie', 'Devil Dog: The Hound of Hell', 'He Never Died', 'Parasyte: Part 1', 'Parasyte: Part 2', 'A Cosmic Christmas', 'Nocturnal Animals', 'Lumberjack Man', \"Daddy's Home\", 'Sisters', \"'Tis the Season for Love\", 'Kung Fu Panda 3', 'Spellbound', 'Unicorn City', 'Standoff', 'Swelter', 'Pride and Prejudice and Zombies', 'Garm Wars: The Last Druid', \"The Devil's Candy\", 'Close Range', 'Sherlock: The Abominable Bride', 'The Love Bug', 'Doctor Who: The Husbands of River Song', 'Moonwalkers', 'Tomorrow', 'Anacleto: Agente secreto', 'Wiener-Dog', 'Ride Along 2', \"Maggie's Plan\", 'Eddie the Eagle', 'The Flash 2 - Revenge of the Trickster', 'Exposed', 'Stonewall', 'Frankenstein', 'Welcome to Happiness', 'Risen', 'The Survivalist', 'Dirty Grandpa', 'Reptilicus', 'Requiem for the American Dream', 'Death Note Rewrite: Genshisuru Kami', 'Three from Prostokvashino', 'The Finest Hours', 'Ghost in the Shell: Solid State Society', 'Grease Live', 'Gods of Egypt', 'Embrace of the Serpent', 'Race', '10 Cloverfield Lane', 'London Has Fallen', 'Zootopia', 'Whiskey Tango Foxtrot', 'Desierto', 'The Brothers Grimsby', \"Dad's Army\", \"Michael Jackson's Thriller\", 'The Wait', 'War and Peace', 'Southbound', 'Ip Man 3', \"Santa's Little Helper\", 'Who Killed Chea Vichea?', 'Hunt for the Wilderpeople', 'Rabbits', 'Genius Party', 'Long Live Ghosts!', 'Tears for Sale', \"Dad's Army\", 'The Barkley Marathons: The Race That Eats Its Young', 'Merci Patron !', 'The Neon Demon', 'Fraktus', 'Eye in the Sky', 'Camino', 'Mr. Right', 'Noin 7 veljestä', 'Florence Foster Jenkins', 'My Big Fat Greek Wedding 2', 'Neon Bull', 'Get a Job', 'Keanu', 'Me Him Her', 'Ice Age: The Great Egg-Scapade', 'Everybody Wants Some', 'Sing Street', 'Zoom', 'Paterson', \"The Huntsman Winter's War\", 'Neighbors 2: Sorority Rising', 'Project X', 'The Trust', 'Hush', 'Jimmy Carr: Telling Jokes', 'Jimmy Carr: Making People Laugh', 'Texas - Doc Snyder hält die Welt in Atem', '00 Schneider - Jagd auf Nihil Baxter', 'The Man Who Knew Infinity', 'Despite the Falling Snow', 'Wizards of the Lost Kingdom II', 'Money Monster', 'Barbershop: The Next Cut', 'Finding Dory', 'The Boss', 'The Angry Birds Movie', 'Bakuman', 'I Am Wrath', 'Precious Cargo', 'Snowden', 'Tenchi Muyô! In Love', 'Ratchet & Clank', 'Kicking Off', 'SORI: Voice from the Heart', 'Gintama: The Final Chapter - Be Forever Yorozuya', 'The Nice Guys', 'Kindergarten Cop 2', 'Buck Rogers in the 25th Century', 'World of Glory', 'The Crew', 'The Shallows', 'Gen-X Cops', 'The Handmaiden', 'Alice Through the Looking Glass', 'The BFG', 'My Scientology Movie', 'Sausage Party', 'Karate Bullfighter', 'All Yours', 'Kill Command', 'Captain Fantastic', 'Toni Erdmann', 'The Wailing', 'Comedy of the Strict Regime', 'The Meddler', 'Now You See Me 2', 'Ali Wong: Baby Cobra', 'Café Society', 'Neo Tokyo', 'Swiss Army Man', 'The Do-Over', 'Death Smiles on a Murderer', 'Teenage Mutant Ninja Turtles: Out of the Shadows', 'The Fundamentals of Caring', 'Popstar: Never Stop Never Stopping', \"A Midsummer Night's Dream\", 'The Bremen Town Musicians', 'Planet Earth', 'Bo Burnham: Make Happy', 'The Conjuring 2', 'Pelé: Birth of a Legend', 'Ghostbusters', 'Central Intelligence', 'O.J.: Made in America', 'Bloodmoon', 'Genius', 'The Wooden Horse', 'Jason Bourne', \"The Maid's Room\", 'Sympathy for the Underdog', 'The Legend of Tarzan', 'The Purge: Election Year', 'Mike & Dave Need Wedding Dates', 'Ice Age: Collision Course', 'Lights Out', \"Pete's Dragon\", 'Indignation', 'Goat', 'Marauders', 'Piper', 'The Adderall Diaries', 'Hazard', 'The Red Turtle', 'Satanic', 'Nerve', 'Hellevator', 'Sully', 'The Forbidden Dance', 'Jim Jefferies: Freedumb', 'The Grandmother', 'Webmaster', 'The Infiltrator', 'War Dogs', 'Vigilante Diaries', 'Batman: The Killing Joke', 'Bad Moms', 'Hell or High Water', 'Kingsglaive: Final Fantasy XV', \"Don't Breathe\", 'Body', 'Sharknado 4: The 4th Awakens', 'The Edge of Seventeen', 'Elle', 'Train to Busan', 'Tom Segura: Mostly Stories', 'The Magnificent Seven', 'Moonlight', 'Masterminds', 'Kubo and the Two Strings', \"Bridget Jones's Baby\", 'Deepwater Horizon', \"Miss Peregrine's Home for Peculiar Children\", 'The Girl on the Train', 'The Accountant', 'Imperium', 'Kizumonogatari Part 1: Tekketsu', 'Steins;Gate the Movie: The Burden of Déjà vu', 'Shin Godzilla', 'Winnie Pooh', 'Winnie the Pooh Goes Visiting', 'Your Name.', 'Winnie the Pooh and the Day of Concern', 'Comedy Central Roast of David Hasselhoff', 'DC Super Hero Girls: Hero of the Year', 'Hacksaw Ridge', 'David Cross: Making America Great Again', 'Over the Garden Wall', 'Wings, Legs and Tails', 'Blair Witch', '31', 'ARQ', 'Arrival', 'Storks', 'Maximum Ride', 'Endless Poetry', 'The Girl with All the Gifts', 'All Roads Lead to Rome', 'Amanda Knox', 'Dirty 30', 'Gimme Danger', 'Go Figure', 'Anything for Love', 'Night Guards', 'La La Land', '13th', 'London Town', 'Inferno', 'Keeping Up with the Joneses', 'Wild Oats', \"The Rocky Horror Picture Show: Let's Do the Time Warp Again\", 'Jack Reacher: Never Go Back', 'Joe Rogan: Triggered', 'Ethel & Ernest', 'Flowers for Algernon', 'Manchester by the Sea', 'Lion', 'The Thinning', 'While You Were Fighting: A Thor Mockumentary', 'Bad Santa 2', 'Ice Guardians', 'Risk', 'The True Memoirs of an International Assassin', 'Alesha Popovich and Tugarin the Dragon', 'HyperNormalisation', 'The African Doctor', 'Whiplash', 'Junior and Karlson', 'Sapphire Blue', 'A Silent Voice', 'Moana', 'Office Christmas Party', 'The Space Between Us', 'Rogue One: A Star Wars Story', 'Split', 'Underworld: Blood Wars', 'Miss Sloane', 'Passengers', 'Hidden Figures', 'Fences', 'The Founder', 'Why Him?', 'Sing', 'I Am Not Your Negro', 'Iron Man', \"Assassin's Creed\", \"A Dog's Purpose\", 'Microwave Massacre', 'The OA', 'Fist Fight', 'Shakespeare Behind Bars', 'A Street Cat Named Bob', 'The Lego Batman Movie', 'The Spirit of Christmas', 'The Good Boy', 'Dana Carvey: Straight White Male, 60', 'Marvel One-Shot: Agent Carter', 'Kizumonogatari II: Passionate Blood', 'Joe Rogan: Live', 'Jim Gaffigan: Cinco', 'Kizumonogatari III: Cold Blood', 'John Wick: Chapter Two', 'Get Out', 'Logan', 'Kong: Skull Island', 'T2: Trainspotting', 'The Big Sick', '100 Streets', 'Saturn 3', 'Beauty and the Beast', 'The Boss Baby', 'Mercury Plains', 'Call Me by Your Name', 'Mudbound', 'Ghost in the Shell', 'Bill Burr: Walk Your Way Out', 'Fifty Shades Darker', 'Neal Brennan: 3 Mics', 'Lemonade', 'American Fable', 'The Void', 'Guyver: Dark Hero', 'Denis Leary: No Cure for Cancer', \"Buster's Mal Heart\", 'Power Rangers', 'Alien: Covenant', 'Free Fire', 'Species III', 'Ultimate Avengers 2', 'Mulholland Dr.', 'Dave Chappelle: The Age of Spin', 'CHiPS', 'Table 19', 'Dave Chappelle: Deep in the Heart of Texas', 'The Quiet Family', 'A Plasticine Crow', 'Gifted', 'Band of Brothers', 'There Once Was a Dog', 'Baywatch', 'Snatched', 'The Mummy', 'Life-Size', 'The Fate of the Furious', 'Sandy Wexler', 'Betting on Zero', 'Win It All', 'Captain Underpants: The First Epic Movie', 'It Comes at Night', 'Cars 3', \"Mini's First Time\", 'Planet Earth II', 'The Hero', 'Nobody Speak: Hulk Hogan, Gawker and Trials of a Free Press', 'Cosmos', 'Maria Bamford: Old Baby', 'Robin Williams: Live on Broadway', 'The Death of Louis XIV', 'Death Note: Desu nôto (2006–2007)', 'Munna bhai M.B.B.S.', 'The Beguiled', 'Baby Driver', 'Okja', 'Embassy', 'Rough Night', 'Generation Iron 2', 'Mystère à la Tour Eiffel', 'Stefan Zweig: Farewell to Europe', 'Saved by the Bell: Hawaiian Style', 'Plain Clothes', 'The Prime Gig', 'The Night Before', \"Late Night with Conan O'Brien: The Best of Triumph the Insult Comic Dog\", 'Get Me Roger Stone', 'T2 3-D: Battle Across Time', 'Despicable Me 3', \"Last Year's Snow Was Falling\", 'Investigation Held by Kolobki', 'Karlson Returns', 'Vacations in Prostokvashino', 'Winter in Prostokvashino', 'The Godfather Trilogy: 1972-1990', 'Priklyucheniya Kapitana Vrungelya', 'Tickling Giants', 'Vovka in the Kingdom of Far Far Away', 'Adventures of Mowgli: The Kidnapping', 'A Detective Story', 'Final Flight of the Osiris', \"Kid's Story\", 'Cheburashka', 'War for the Planet of the Apes', 'The Square', 'The Meyerowitz Stories', 'War Machine', 'Tokyo Idols', 'Vir Das: Abroad Understanding', \"Norm Macdonald: Hitler's Dog, Gossip & Trickery\", 'Valerian and the City of a Thousand Planets', 'The Gracefield Incident', 'Shadow World', 'Wow! A Talking Fish!', 'Travels of an Ant', 'The Adventures of Sherlock Holmes and Doctor Watson: The Hunt for the Tiger', 'Fugitives', 'Tiger Raid', \"Gulliver's Travels\", 'Seven Sisters', 'Atomic Blonde', 'Empties', 'Goon: Last of the Enforcers', 'Black Mirror: White Christmas', 'Dunkirk', 'Belladonna of Sadness', 'The Putin Interviews', 'Unedited Footage of a Bear', 'Obsession', 'Oh, Hello: On Broadway', 'Good Time', 'Don Camillo in Moscow', 'The House', 'Logan Lucky', 'The Dark Tower', 'Annabelle: Creation', 'Gena the Crocodile', 'It', 'On the Trail of the Bremen Town Musicians', 'In the blue sea, in the white foam.', 'Wolf and Calf', 'Bobik Visiting Barbos', 'The Magic Ring', 'The Emoji Movie', 'Death Note', 'Wind River', 'Rory Scovel Tries Stand-Up for the First Time', 'Shot Caller', \"The Hitman's Bodyguard\", 'Rick and Morty: State of Georgia Vs. Denver Fenton Allen', 'Themroc', 'A German Life', 'Self-criticism of a Bourgeois Dog', 'Der Herr Karl', 'LEGO DC Super Hero Girls: Brain Drain', 'Kingsman: The Golden Circle', 'Ari Shaffir: Double Negative', 'Blade Runner 2049', 'The Nut Job 2: Nutty by Nature', 'Bliss', 'Alles Inklusive', 'Mother!', 'Icarus', 'Cage Dive', 'Black Mirror', \"Boniface's Holiday\", 'American Made', 'Little Boxes', 'Geostorm', 'Maz Jobrani: Immigrant', 'Sword Art Online The Movie: Ordinal Scale', 'Three Billboards Outside Ebbing, Missouri', 'Lady Bird', 'Murder on the Orient Express', 'Coco', 'The Night Is Short, Walk on Girl', 'I, Tonya', 'Fireworks, Should We See It from the Side or the Bottom?', 'Adventures in Plymptoons!', 'Gaga: Five Foot Two', \"Dave Chappelle: Killin' Them Softly\", 'Front Cover', 'Paddington 2', '2048: Nowhere to Run', 'Male Hunt', 'The Death of Stalin', 'Loving Vincent', 'Blue Planet II', 'Christina P: Mother Inferior', 'Jumanji: Welcome to the Jungle', 'Dane Cook: Troublemaker', 'Mayhem', 'Emerald Green', 'Wonder Wheel', 'Creep 2', 'LBJ', 'Roman J. Israel, Esq.', 'Darkest Hour', 'Star Wars: The Last Jedi', 'A Bad Moms Christmas', 'The Shape of Water', \"Molly's Game\", 'Wonder', \"Daddy's Home 2\", 'The Shining', 'Jim & Andy: The Great Beyond', 'The Disaster Artist', 'The Post', 'Die Frauen von Ravensbrück', 'The Greatest Showman', 'Ferdinand', 'Jack Whitehall: At Large', 'Lynne Koplitz: Hormonal Beast', 'Phantom Thread', 'Too Funny to Fail: The Life and Death of The Dana Carvey Show', 'Craig Ferguson: Tickle Fight', 'Serving in Silence: The Margarethe Cammermeyer Story', 'Hare-um Scare-um', 'Porky in Wackyland', \"Porky's Hare Hunt\", 'The Second Renaissance Part II', 'Annihilation', 'A Christmas Story Live!', 'Pixel Perfect', 'Judd Apatow: The Return', 'The Purple Sea', 'Bright', 'The Commuter', 'Dave Chappelle: Equanimity', 'Quest', 'Dave Chappelle: The Bird Revelation', 'Insidious: The Last Key', 'The Tale of the Bunny Picnic', 'Patti Rocks', 'Game Night', 'Maze Runner: The Death Cure', 'Isle of Dogs', 'The Clapper', 'Tom Segura: Disgraceful', 'When We First Met', 'Battle Planet', 'De platte jungle', 'The Cloverfield Paradox', 'Making a Murderer', 'Elsa & Fred', 'Tomb Raider', 'Fullmetal Alchemist 2018', 'First Reformed', 'Fred Armisen: Standup for Drummers', 'Death Wish', 'A Wrinkle in Time', 'Love, Simon', 'A Quiet Place', 'Alpha', 'I Kill Giants', 'Sherlock - A Study in Pink', 'Game Over, Man!', 'Blockers', 'Pacific Rim: Uprising', 'Rampage', 'Jurassic World: Fallen Kingdom', 'Incredibles 2', 'Deadpool 2', 'Solo: A Star Wars Story', \"Won't You Be My Neighbor?\", 'Sorry to Bother You', 'Ant-Man and the Wasp', 'Dogman', 'Mamma Mia: Here We Go Again!', 'Tag', 'The Man Who Killed Don Quixote', 'Boundaries', 'Spiral', 'Mission: Impossible - Fallout', 'SuperFly', 'Iron Soldier', 'BlacKkKlansman', 'The Darkest Minds', 'Tilt', 'Jeff Ross Roasts the Border', 'John From', 'Liquid Truth', 'Bunny', 'Hommage à Zgougou (et salut à Sabine Mamou)', 'Gintama', 'Gintama: The Movie', 'anohana: The Flower We Saw That Day - The Movie', 'Silver Spoon', 'Love Live! The School Idol Movie', 'Jon Stewart Has Left the Building', 'Black Butler: Book of the Atlantic', 'No Game No Life: Zero', 'Flint', 'Bungo Stray Dogs: Dead Apple', 'Andrew Dice Clay: Dice Rules'])\n",
            "dict_values([1, 2, 3, 4, 5, 6, 915, 8, 9, 10, 11, 12, 13, 14, 15, 16, 17, 18, 19, 20, 21, 22, 23, 24, 25, 26, 27, 74508, 29, 30, 31, 32, 34, 36, 38, 39, 40, 41, 42, 43, 44, 45, 46, 47, 48, 49, 50, 52, 53, 54, 55, 57, 58, 60, 61, 62, 63, 64, 65, 66, 68, 69, 70, 71, 72, 99532, 74, 75, 76, 77, 78, 79, 80, 81, 82, 83, 85, 86, 87, 55553, 89, 92, 93, 94, 54121, 96, 97, 99, 100, 101, 102, 103, 104, 105, 106, 107, 108, 110, 111, 112, 113, 116, 117, 118, 119, 121, 122, 123, 125, 126, 128, 129, 132, 135, 48593, 140, 141, 144, 145, 146, 147, 148, 149, 150, 151, 152, 153, 154, 155, 156, 157, 158, 159, 160, 161, 162, 163, 164, 165, 166, 168, 169, 170, 171, 172, 173, 174, 175, 176, 177, 178, 179, 180, 181, 183, 184, 185, 186, 187, 188, 189, 94405, 191, 193, 194, 195, 196, 198, 199, 201, 202, 203, 204, 205, 206, 207, 208, 209, 210, 34482, 212, 213, 214, 215, 216, 217, 218, 219, 220, 222, 223, 224, 225, 227, 228, 229, 230, 231, 232, 233, 234, 235, 236, 237, 238, 239, 240, 241, 242, 243, 246, 247, 248, 249, 250, 6219, 252, 253, 254, 255, 256, 257, 258, 259, 260, 7054, 262, 263, 265, 266, 267, 269, 6837, 271, 272, 273, 31867, 275, 276, 2398, 278, 279, 280, 281, 282, 283, 284, 285, 287, 288, 289, 290, 291, 292, 293, 294, 295, 296, 298, 86835, 300, 301, 302, 303, 304, 305, 306, 307, 308, 310, 311, 312, 313, 314, 315, 316, 317, 318, 319, 320, 321, 322, 324, 325, 326, 327, 328, 329, 330, 331, 2553, 333, 334, 335, 336, 337, 338, 339, 340, 341, 342, 343, 344, 345, 346, 347, 348, 349, 350, 351, 352, 353, 354, 355, 356, 357, 358, 359, 360, 361, 2078, 363, 364, 365, 366, 367, 368, 369, 370, 371, 372, 373, 374, 376, 377, 378, 379, 380, 381, 382, 383, 5414, 385, 386, 387, 388, 389, 390, 391, 393, 405, 406, 407, 408, 409, 410, 412, 413, 414, 415, 416, 417, 418, 419, 420, 421, 422, 423, 424, 425, 426, 427, 428, 429, 430, 431, 432, 433, 434, 435, 436, 437, 438, 440, 441, 442, 444, 445, 446, 448, 449, 450, 451, 452, 453, 95624, 455, 456, 55854, 458, 8016, 460, 461, 464, 466, 467, 468, 469, 470, 471, 472, 473, 474, 475, 476, 477, 478, 479, 480, 481, 482, 484, 485, 486, 487, 488, 489, 490, 491, 492, 493, 494, 495, 496, 103027, 499, 500, 501, 502, 504, 505, 506, 507, 508, 509, 510, 511, 512, 513, 514, 515, 516, 517, 518, 519, 520, 521, 522, 523, 524, 526, 527, 528, 529, 531, 532, 533, 534, 535, 536, 537, 538, 539, 540, 541, 542, 543, 544, 546, 547, 548, 549, 550, 551, 90403, 553, 555, 556, 558, 562, 563, 564, 567, 568, 569, 573, 574, 575, 577, 579, 580, 581, 583, 585, 586, 587, 588, 589, 590, 26152, 593, 594, 168366, 5990, 597, 599, 600, 602, 605, 606, 608, 609, 610, 611, 612, 85438, 615, 616, 617, 618, 619, 626, 627, 628, 631, 632, 633, 634, 635, 636, 637, 638, 639, 640, 645, 647, 648, 649, 650, 653, 656, 661, 662, 663, 665, 667, 668, 670, 671, 673, 674, 678, 679, 680, 685, 688, 691, 692, 694, 2561, 697, 698, 700, 703, 704, 706, 707, 708, 709, 710, 711, 714, 715, 718, 719, 720, 722, 724, 725, 726, 728, 731, 733, 735, 7781, 737, 741, 742, 743, 745, 747, 748, 750, 757, 759, 116529, 761, 762, 764, 765, 766, 773, 775, 778, 779, 780, 781, 782, 25746, 784, 785, 786, 2136, 790, 791, 795, 798, 799, 800, 801, 802, 803, 804, 805, 806, 808, 809, 810, 813, 818, 823, 824, 828, 829, 830, 832, 833, 835, 836, 837, 84847, 839, 840, 841, 842, 848, 849, 851, 852, 858, 861, 866, 867, 869, 870, 7048, 876, 879, 880, 881, 882, 885, 886, 888, 889, 891, 892, 893, 896, 897, 898, 899, 900, 901, 902, 903, 904, 905, 906, 907, 908, 909, 910, 911, 912, 913, 914, 916, 917, 918, 919, 920, 921, 922, 923, 924, 926, 927, 928, 929, 65810, 149508, 932, 933, 6944, 935, 936, 937, 89939, 940, 941, 942, 943, 944, 945, 946, 3096, 948, 949, 950, 951, 8526, 953, 954, 955, 956, 959, 961, 963, 965, 8225, 969, 970, 971, 973, 976, 979, 981, 982, 984, 986, 176413, 988, 990, 991, 993, 994, 996, 998, 999, 1003, 1004, 1005, 1006, 1007, 1008, 1009, 1010, 1011, 1012, 2059, 1014, 1015, 44399, 1017, 1018, 62383, 1020, 1021, 130073, 1023, 1024, 1025, 1027, 1028, 1029, 160573, 1031, 80748, 1033, 1034, 1035, 1036, 1037, 1040, 1041, 1042, 1043, 1046, 1047, 1049, 1050, 1051, 1053, 1054, 1055, 1056, 1057, 1059, 1060, 1061, 1064, 1066, 1068, 1073, 1076, 1077, 1078, 1079, 1080, 1081, 1082, 1083, 1084, 1085, 1086, 1088, 1089, 1090, 1091, 1092, 1093, 1094, 1095, 1096, 1097, 107013, 1100, 1101, 1103, 1104, 1105, 3616, 1111, 1112, 1114, 1116, 1117, 1119, 1120, 1121, 1123, 1124, 1125, 1126, 1127, 39400, 1129, 1130, 1131, 1132, 1135, 1136, 1137, 1140, 1144, 1147, 1148, 1150, 1151, 1156, 1161, 1162, 1163, 1167, 1170, 1171, 1172, 1173, 1175, 1176, 1177, 1178, 1179, 1180, 1183, 1184, 1185, 1186, 1187, 1188, 1189, 1190, 1191, 1192, 1193, 1194, 1196, 1197, 1198, 1199, 1200, 1201, 1202, 77846, 1204, 1206, 1207, 1208, 1209, 1210, 1211, 1212, 1213, 1214, 1215, 1216, 1217, 1218, 2389, 1220, 1221, 1222, 1223, 1224, 1225, 1226, 1227, 1228, 1230, 1231, 1232, 1233, 1234, 1235, 1236, 1237, 1238, 1240, 1241, 1242, 1243, 1244, 1245, 1246, 1247, 1248, 1249, 1250, 1251, 1252, 64497, 1254, 1255, 1256, 1257, 1258, 1259, 1260, 1261, 1262, 1263, 1264, 1265, 144352, 8781, 1268, 1269, 1270, 1271, 1272, 1273, 1274, 1275, 1276, 1277, 1278, 1279, 1280, 1281, 1282, 1283, 1284, 1285, 1286, 1287, 1288, 1289, 1290, 1291, 1292, 1293, 1295, 1296, 1297, 1298, 1299, 1300, 1301, 1302, 1303, 1304, 1305, 1306, 1307, 1310, 1312, 1318, 1320, 1321, 1322, 1323, 1324, 1325, 1326, 33085, 1328, 1329, 1330, 1331, 1332, 1333, 4480, 1335, 1336, 1337, 1339, 1340, 1341, 1342, 1344, 105731, 7713, 77798, 1348, 1349, 45662, 1351, 1352, 1353, 1354, 1355, 1356, 1357, 1358, 1359, 1361, 1363, 1365, 1366, 1367, 1370, 1371, 1372, 1373, 1374, 1375, 1376, 1377, 1378, 1379, 1380, 1381, 1382, 1385, 1387, 1388, 1389, 1390, 1391, 1392, 1393, 1394, 1395, 1396, 1397, 1398, 1399, 1401, 1405, 1406, 1407, 1408, 1409, 3723, 1412, 1413, 1414, 1415, 1416, 1417, 1419, 1422, 1423, 1425, 1426, 1427, 1428, 1429, 6754, 1431, 1432, 1437, 1438, 1439, 1440, 1441, 1442, 1445, 1446, 1447, 1449, 1453, 1454, 1456, 1457, 1458, 1459, 1460, 1461, 1464, 1465, 1466, 1468, 1473, 1474, 1475, 1476, 1477, 1479, 1480, 33166, 1484, 1485, 1487, 1488, 1489, 1490, 1493, 1495, 97936, 1497, 1498, 1499, 1500, 1502, 1503, 1507, 1513, 1514, 1515, 1516, 1517, 1518, 1519, 1526, 1527, 1529, 1533, 1537, 1541, 1542, 1544, 1545, 1546, 1547, 1549, 1550, 1551, 1552, 1554, 1556, 1562, 1564, 1565, 112911, 1569, 1571, 1572, 1573, 1574, 1580, 1581, 1582, 1583, 1584, 1585, 1586, 89190, 1588, 1589, 1590, 1591, 1592, 1593, 1594, 1596, 1597, 1598, 1599, 1600, 1601, 1602, 1603, 1604, 1605, 1606, 1608, 1609, 1610, 1611, 1612, 1613, 1614, 1615, 1616, 1617, 1619, 1620, 1621, 1623, 1624, 1625, 1626, 1627, 1629, 1631, 1633, 1635, 1639, 1641, 1642, 1643, 1644, 1645, 1646, 1647, 1648, 1649, 1650, 1652, 1653, 1654, 1655, 1656, 1658, 1659, 1660, 1661, 1662, 1663, 1665, 1667, 1670, 1671, 1672, 1673, 1674, 1675, 1676, 1677, 1678, 1679, 1680, 1681, 1682, 1683, 1684, 1685, 1686, 1687, 6516, 1689, 1690, 1693, 1694, 1695, 1696, 1699, 1701, 1702, 1703, 1704, 1707, 1711, 1713, 1717, 1718, 1719, 3404, 1722, 1726, 1727, 1729, 1730, 1731, 1732, 1733, 1734, 25923, 1739, 1746, 1747, 1748, 1752, 1753, 1754, 1755, 1757, 1759, 1760, 1762, 1767, 1769, 1770, 1771, 1772, 1777, 1779, 1783, 1784, 1785, 63992, 1792, 1793, 1794, 142448, 156726, 1799, 1801, 1804, 1805, 1806, 1807, 1809, 1810, 1812, 1816, 1821, 1824, 1825, 1826, 1827, 1829, 1831, 1833, 1834, 1835, 1836, 1837, 1839, 1840, 1841, 1844, 1845, 1848, 1855, 1856, 1857, 1858, 1859, 1860, 1862, 1863, 1866, 1867, 1870, 1875, 1876, 1881, 111364, 1883, 1884, 1885, 1887, 1888, 5388, 1891, 1892, 1893, 1894, 1895, 1897, 1900, 1902, 1904, 1906, 1907, 1909, 1910, 1911, 1912, 1913, 1914, 1916, 1917, 1918, 1919, 1920, 1921, 1922, 1923, 1924, 1926, 1927, 1928, 1929, 26085, 1932, 1933, 1934, 1936, 1937, 1938, 1939, 1940, 48326, 1944, 1945, 1946, 1947, 1948, 1949, 1950, 1951, 1952, 1953, 1954, 1955, 1956, 1957, 1958, 1959, 1960, 1961, 1962, 1963, 1964, 1965, 1966, 1967, 1968, 1969, 1970, 1971, 1972, 1973, 66783, 1975, 1976, 1977, 1978, 1979, 1980, 1981, 54785, 70994, 1984, 1985, 1986, 59306, 1990, 1991, 1992, 1993, 1994, 1995, 1996, 1997, 1998, 1999, 2000, 2001, 2002, 2003, 2004, 2005, 2006, 2007, 2008, 2009, 5072, 2011, 2012, 2013, 6593, 2015, 2016, 3086, 2018, 2019, 2020, 7842, 2022, 2023, 2024, 2729, 2026, 2027, 2028, 2032, 2033, 2034, 2035, 2036, 2037, 2038, 2040, 2041, 2042, 2043, 2044, 2046, 2048, 2050, 2051, 2052, 2053, 2054, 2055, 2056, 2057, 2058, 2060, 2064, 2065, 2066, 2067, 2068, 2069, 2070, 2071, 2072, 2073, 2074, 2075, 2076, 2077, 2080, 2081, 2082, 2083, 2084, 2085, 74089, 2088, 2089, 2090, 2091, 2092, 2093, 2094, 2095, 2096, 2097, 2098, 2099, 2100, 2102, 2103, 2104, 2105, 2106, 2107, 2108, 2109, 2110, 2111, 2112, 2114, 2115, 2116, 2117, 2118, 2119, 2120, 2121, 2122, 2123, 2124, 2125, 2126, 2130, 2131, 2132, 2133, 2134, 2135, 49647, 2138, 2139, 2140, 2141, 2142, 141688, 2144, 2145, 2146, 2147, 2148, 2149, 2150, 2151, 2152, 89745, 2154, 2155, 2156, 2159, 2160, 2161, 2162, 2163, 2164, 2165, 2166, 2167, 2169, 2170, 2171, 2172, 2174, 2175, 2176, 2177, 2178, 2179, 2180, 2181, 2182, 2212, 2184, 2185, 2186, 2187, 2188, 2190, 2193, 2194, 2195, 2196, 2201, 2202, 2203, 2204, 33679, 2206, 2207, 2208, 2210, 2211, 5679, 2227, 2231, 2232, 2236, 2239, 2240, 2241, 2243, 2244, 2245, 2247, 2248, 2249, 2252, 2253, 2255, 2256, 2257, 2259, 2260, 2261, 2262, 2263, 32469, 2265, 2266, 2267, 2268, 2269, 2271, 2272, 2273, 2275, 2278, 2279, 2280, 2281, 2282, 2283, 2286, 2287, 90345, 2289, 2290, 2291, 2292, 2294, 2295, 2296, 2297, 2298, 42002, 2301, 2302, 2303, 2304, 2306, 2307, 2310, 2311, 2312, 2313, 2314, 2315, 2316, 2318, 2320, 2321, 2322, 2323, 2324, 2325, 2327, 2328, 2329, 2330, 2331, 2332, 2333, 2334, 2335, 2336, 2337, 2338, 2339, 2340, 2342, 2344, 8373, 2347, 2348, 2349, 2350, 2351, 2352, 2353, 2354, 2355, 2356, 2357, 2358, 2359, 2360, 2361, 2362, 2363, 2364, 2365, 41569, 2368, 2369, 2370, 2371, 2372, 2373, 2374, 2375, 2376, 2377, 2378, 2379, 2380, 2381, 2382, 2383, 2384, 2385, 2387, 2388, 2390, 2391, 2392, 2393, 2394, 2395, 2396, 2399, 2400, 2401, 2402, 2403, 2404, 2405, 2406, 2407, 2408, 2409, 2410, 2411, 2412, 2413, 2414, 2415, 2416, 2417, 2418, 2419, 79224, 2421, 2422, 2423, 2424, 3022, 2427, 2428, 2430, 2431, 2432, 2433, 2435, 2436, 2439, 2442, 2443, 2445, 2446, 2447, 2448, 2450, 2451, 2453, 2455, 2456, 43921, 2458, 6880, 2460, 2462, 2463, 2465, 2467, 2468, 2469, 2470, 2471, 2472, 2473, 2474, 2475, 2476, 2477, 2478, 2481, 2482, 2483, 2485, 2488, 2490, 2491, 2492, 2493, 2494, 2495, 2496, 2497, 2498, 2500, 2501, 2502, 2503, 2504, 2505, 2506, 2511, 2512, 2513, 2514, 2515, 2516, 2517, 2518, 2520, 2521, 2522, 2523, 2524, 2525, 2526, 2527, 2528, 4643, 2530, 2531, 2532, 2533, 2534, 2535, 2537, 2538, 2539, 2540, 2541, 2542, 2544, 2546, 2548, 2549, 2719, 2551, 2552, 2554, 2555, 2557, 2558, 2565, 2560, 2563, 2566, 2567, 2568, 2570, 2571, 2572, 2573, 2574, 2575, 2577, 2579, 2580, 2581, 2582, 2583, 2585, 2586, 2587, 2589, 2590, 2593, 2594, 2596, 2597, 2598, 2599, 2600, 2605, 2606, 2607, 2609, 2611, 86487, 2613, 2614, 2615, 2616, 2634, 2618, 2620, 2622, 2623, 2624, 2625, 2628, 2629, 2630, 2632, 2639, 2640, 2641, 2642, 2643, 6665, 151559, 2651, 2652, 2654, 2655, 2656, 2657, 2659, 2660, 2661, 2662, 7001, 2665, 2668, 2669, 2670, 2671, 2672, 2674, 2676, 2677, 2681, 2682, 2683, 2686, 2687, 2688, 2690, 2691, 2692, 2693, 2694, 2695, 2696, 2697, 2698, 2699, 2700, 2701, 2702, 2706, 2707, 2708, 2709, 2710, 2712, 2713, 2716, 2717, 2718, 2720, 2722, 2723, 2724, 2725, 2726, 2727, 2728, 2730, 2731, 2732, 2733, 2734, 2735, 2736, 2737, 2738, 2739, 2740, 2741, 2742, 2743, 2744, 2745, 2746, 2747, 2748, 2749, 2750, 2751, 2752, 2754, 2757, 2759, 2761, 2762, 2764, 2765, 2766, 2769, 2770, 2771, 2772, 2774, 2775, 2779, 2782, 2784, 2786, 2787, 2788, 2789, 2790, 2791, 2792, 2793, 2794, 2795, 2796, 2797, 2798, 2799, 2800, 2801, 2802, 2803, 2804, 2805, 2806, 2807, 2808, 2810, 2812, 2813, 2815, 2816, 2817, 2818, 2819, 2822, 2824, 2826, 2827, 2828, 2829, 2835, 2836, 2837, 2839, 2840, 2841, 2843, 2844, 2846, 2847, 2848, 168358, 2852, 2856, 2857, 2858, 2859, 2860, 2861, 2862, 2863, 2865, 2866, 89030, 2868, 2870, 2871, 2872, 2874, 2875, 2876, 2877, 2878, 2879, 2880, 2881, 2882, 2883, 2884, 2885, 2886, 2887, 2888, 2889, 2890, 2891, 2892, 2893, 2894, 2896, 2897, 2898, 173873, 2900, 2901, 2902, 2903, 2905, 2906, 2907, 2908, 2912, 2915, 95875, 2917, 2918, 2919, 2921, 2922, 2924, 2925, 52975, 2927, 2928, 2929, 2930, 2931, 2932, 2935, 2936, 2937, 2939, 2940, 2941, 2942, 2943, 2944, 2946, 2947, 2948, 2949, 2950, 2951, 2952, 2953, 2956, 2959, 2961, 32598, 2964, 2965, 2966, 2967, 2968, 2969, 2970, 2971, 2972, 2973, 2974, 2975, 2976, 2977, 2978, 2979, 48412, 2983, 2984, 108945, 2986, 2987, 2988, 2989, 2990, 2991, 2992, 2993, 2995, 2996, 2997, 3000, 3002, 3003, 3004, 3005, 3006, 3007, 3008, 3010, 3011, 3013, 3014, 3015, 3016, 3017, 3018, 3019, 3020, 3021, 3024, 3028, 3029, 3030, 3031, 3032, 3033, 77866, 3035, 3036, 3037, 3038, 3039, 3040, 3041, 3042, 3043, 3044, 3045, 3046, 3048, 3051, 3052, 3053, 3054, 3055, 3056, 3057, 3060, 3061, 3062, 3063, 3064, 3066, 3067, 3068, 3070, 3071, 3072, 3073, 3074, 3075, 3076, 3077, 3078, 3079, 3081, 3082, 3083, 3087, 3088, 3089, 3090, 3091, 3093, 3094, 3095, 3097, 3098, 3099, 3100, 3101, 3102, 3103, 3104, 3105, 3106, 3107, 3108, 3109, 3111, 3112, 3113, 3114, 3115, 3117, 3120, 3125, 3127, 3129, 3130, 3132, 3134, 3135, 3138, 3141, 3142, 3143, 3145, 3146, 3147, 3148, 3150, 3152, 3153, 3155, 3156, 3157, 3158, 3159, 3160, 3161, 3162, 3163, 3165, 3167, 3168, 3169, 3171, 3173, 3174, 3175, 3176, 3177, 3178, 3179, 3181, 3182, 3183, 3185, 3186, 3189, 3190, 3192, 3194, 3196, 3197, 3198, 3200, 3201, 3203, 3204, 3206, 3208, 3210, 3211, 3213, 3214, 25996, 3219, 3221, 3223, 3224, 3225, 3230, 3235, 3238, 3240, 3241, 3243, 3244, 3246, 3247, 3248, 3249, 3250, 3251, 3252, 3253, 3254, 3255, 3256, 3257, 3258, 3259, 3260, 3261, 3262, 3263, 3264, 3265, 3266, 3267, 3268, 3269, 3270, 4178, 3272, 3273, 3274, 3275, 3276, 3280, 3281, 3283, 3284, 3285, 3286, 3287, 3289, 3294, 3295, 3296, 3298, 3299, 3300, 3301, 3302, 3303, 3306, 3307, 3308, 3784, 3313, 3315, 3316, 3317, 3323, 3324, 3325, 3326, 3327, 3328, 3329, 3330, 3331, 3334, 3338, 3341, 3342, 3344, 3345, 3347, 3350, 3353, 3354, 3355, 3357, 3358, 3359, 3360, 3361, 3362, 3363, 3364, 3365, 3368, 3370, 3372, 3374, 3378, 3379, 3384, 3385, 3386, 3387, 3388, 3389, 3390, 3391, 3392, 3393, 6044, 3395, 3396, 3397, 3398, 3400, 3401, 3402, 3403, 3405, 3406, 3408, 3409, 3410, 3412, 3414, 3415, 3417, 3418, 3420, 3421, 3422, 3423, 3424, 3425, 3426, 3428, 3429, 184931, 3431, 3432, 3433, 3434, 3435, 3436, 113348, 3439, 3440, 98239, 3442, 3444, 3445, 3446, 3447, 3448, 3449, 3450, 3451, 3452, 3453, 3454, 3455, 3456, 3459, 4951, 3462, 3466, 3467, 3468, 3469, 3470, 3471, 3473, 3474, 3475, 3476, 3477, 3478, 3479, 3480, 3481, 3483, 3484, 3489, 3492, 82459, 3496, 3497, 3498, 3499, 3500, 3501, 3502, 3503, 3504, 3505, 3506, 3507, 3508, 3510, 3511, 3512, 3513, 3514, 3515, 3516, 3519, 3521, 86293, 3525, 3526, 3527, 3528, 7728, 3531, 3534, 3535, 3536, 3537, 3538, 3539, 3543, 3544, 3545, 3546, 3548, 3549, 3550, 3551, 3552, 3553, 3554, 3555, 3556, 3557, 3559, 3563, 3564, 3565, 3566, 3567, 3568, 3569, 3571, 3572, 3573, 3574, 3576, 3577, 8132, 3580, 3581, 3584, 3586, 165101, 3590, 3591, 3592, 3593, 3594, 3596, 3597, 3599, 3604, 3606, 3608, 3609, 3614, 3615, 3617, 3618, 3619, 3622, 3623, 3624, 3625, 3626, 3627, 3628, 3629, 3632, 3633, 3634, 3635, 3637, 3638, 3639, 3640, 3641, 3643, 3646, 3648, 3649, 3652, 3653, 3654, 3655, 3658, 3660, 3661, 3662, 3663, 3664, 3667, 3668, 3669, 3671, 3672, 3673, 3674, 3675, 3676, 3677, 3678, 3679, 3680, 3681, 3682, 3683, 3684, 3685, 3686, 3687, 3688, 3689, 3690, 3691, 3692, 3693, 3694, 3695, 3696, 3697, 3698, 3699, 3700, 3701, 3702, 3703, 3704, 3705, 3706, 3707, 3708, 3709, 3710, 3711, 3712, 3713, 3714, 3715, 3716, 26322, 3719, 52328, 3724, 3725, 31420, 3727, 3728, 3744, 3730, 3731, 3732, 3733, 3735, 3736, 3737, 3738, 3739, 3740, 3741, 3742, 3743, 3745, 3746, 3747, 3751, 3752, 72591, 3754, 3755, 3756, 3758, 3760, 3761, 3763, 3764, 3765, 3766, 3767, 3768, 3769, 3770, 3771, 3773, 3774, 3783, 3785, 3786, 3787, 3788, 3789, 3790, 90343, 3792, 3793, 3794, 3795, 3797, 3798, 3799, 3801, 3802, 3806, 3807, 3808, 3809, 3810, 3811, 3812, 3813, 3814, 3816, 3819, 3821, 3822, 6868, 3824, 3825, 3826, 3827, 3830, 3831, 3832, 3833, 3834, 3835, 3836, 3837, 3838, 3839, 3840, 3841, 3843, 3844, 3845, 3846, 3847, 3849, 3851, 3852, 3855, 3857, 3858, 3859, 3861, 3862, 3863, 3864, 3865, 3868, 3869, 3870, 3871, 3872, 3873, 3877, 3879, 3882, 3884, 3888, 3889, 3893, 3894, 3895, 3896, 3897, 3898, 3899, 3900, 3901, 3906, 3908, 3909, 3910, 3911, 3912, 3914, 3915, 3916, 3917, 3918, 3919, 3920, 3922, 3925, 3926, 3927, 3928, 3929, 3930, 3932, 3933, 3937, 3938, 3939, 3940, 3941, 3942, 3943, 3945, 3947, 3948, 3949, 3950, 3951, 3952, 3953, 3955, 3957, 3958, 5171, 3962, 3963, 3964, 3965, 3966, 3967, 7708, 3969, 3971, 3972, 3973, 3974, 3977, 3978, 3979, 3980, 3981, 3983, 3984, 3985, 3986, 3987, 3988, 3989, 3990, 3991, 3992, 3993, 3994, 3996, 3997, 3998, 3999, 4000, 4002, 4003, 4005, 4006, 4007, 4008, 4009, 4010, 4011, 4012, 4703, 4015, 4016, 4017, 4018, 4019, 4020, 4021, 4022, 4023, 4024, 4025, 4027, 4029, 4030, 4031, 4032, 4033, 4034, 4035, 4036, 4037, 4039, 4040, 4041, 4042, 4043, 4046, 4047, 4051, 4052, 4053, 4054, 4055, 4056, 4061, 4062, 4063, 4064, 4065, 4066, 4067, 4068, 4069, 4074, 4077, 4078, 4079, 4080, 4081, 4082, 4083, 4084, 4085, 4086, 4089, 4090, 4091, 4092, 4093, 4102, 4103, 4104, 4105, 4109, 4110, 4111, 4113, 4115, 4116, 4117, 4121, 4123, 4124, 4125, 4126, 4127, 4128, 4129, 4130, 4131, 4132, 4133, 4135, 4138, 4967, 4141, 4142, 4143, 4144, 4146, 4147, 4148, 4149, 4152, 4153, 4154, 4155, 4156, 4157, 4158, 4159, 4160, 4161, 4164, 4166, 4167, 4168, 4171, 6790, 4175, 4180, 4181, 4184, 4187, 4189, 4190, 8948, 4193, 4194, 4195, 4197, 4198, 4200, 4202, 4203, 4204, 4205, 4207, 4210, 4211, 4212, 4214, 4215, 4217, 4218, 4219, 33646, 4221, 4223, 4224, 4225, 4226, 4228, 4229, 4231, 4232, 4233, 4234, 4235, 4236, 4237, 4238, 4239, 4240, 4241, 100487, 4243, 4246, 4247, 4248, 4251, 4252, 4254, 4255, 4256, 4259, 140523, 25788, 4263, 4265, 4267, 4268, 4270, 4273, 4275, 4276, 4278, 4280, 4282, 4285, 4289, 4290, 4291, 4292, 4293, 4294, 4296, 4297, 4298, 4299, 4300, 4304, 4305, 4306, 4307, 4308, 4310, 4312, 4313, 4316, 4317, 4321, 4322, 4323, 4325, 4326, 4327, 4329, 4333, 4334, 4337, 4338, 4339, 4340, 4342, 4343, 4344, 4345, 4347, 4349, 4350, 4351, 4353, 4354, 4355, 4356, 4357, 4359, 4361, 4366, 4367, 4368, 4369, 4370, 4371, 4372, 4373, 4374, 4378, 4380, 4381, 4383, 4384, 4386, 4387, 4388, 4389, 4390, 72982, 4393, 4394, 4395, 4396, 4397, 4399, 4402, 4403, 4404, 4406, 4407, 4408, 4409, 4410, 4412, 4419, 4420, 4422, 4424, 4426, 4427, 4428, 4429, 4432, 4433, 4434, 174551, 4437, 4438, 4439, 4440, 4441, 4442, 4443, 4444, 4445, 4446, 4447, 4448, 4449, 94130, 4451, 4452, 4453, 4454, 4458, 4459, 4462, 4463, 4464, 4465, 4466, 4467, 4470, 4471, 4473, 4474, 4475, 4476, 4477, 4478, 4482, 4483, 4484, 4487, 4488, 4489, 4490, 4492, 4495, 7223, 4497, 4498, 4499, 4500, 4502, 4504, 4505, 4506, 4508, 4509, 4511, 4516, 4517, 4518, 4519, 4520, 4521, 4522, 4523, 4524, 4526, 4527, 4529, 4531, 4533, 4534, 4535, 4537, 4541, 4544, 4545, 4546, 4552, 4553, 4557, 4558, 4562, 4563, 4564, 4565, 4568, 4571, 4572, 4573, 4574, 4577, 4578, 4580, 4581, 4583, 4584, 4585, 4587, 4589, 4591, 4593, 4594, 4595, 4597, 4599, 4600, 4602, 4603, 4605, 4608, 4610, 4611, 4612, 4613, 4614, 4615, 4616, 4617, 4619, 4621, 4622, 4623, 4624, 4625, 4626, 4628, 4629, 4630, 4632, 4634, 4635, 7439, 4638, 4639, 4640, 4641, 4642, 4644, 4645, 4646, 4649, 4653, 4654, 4658, 4660, 4661, 4662, 4663, 4666, 4670, 4671, 4672, 4673, 4675, 4676, 4677, 4678, 4679, 4681, 4683, 4686, 4687, 4688, 4689, 4690, 4695, 4697, 4699, 4700, 4701, 4704, 4705, 4708, 4709, 4710, 4711, 4713, 4714, 4715, 4717, 4718, 4719, 4720, 4721, 4722, 4723, 4725, 4727, 4728, 4732, 4733, 4734, 4735, 4736, 4738, 4740, 4741, 4743, 4744, 4745, 4748, 4749, 4750, 47810, 4756, 4757, 4759, 4765, 4766, 4769, 4770, 4771, 4772, 4773, 4774, 4775, 4776, 4777, 4780, 4782, 4783, 4784, 4785, 4786, 4787, 4788, 4789, 4792, 4794, 4795, 4796, 4798, 4799, 25962, 4801, 4802, 4803, 4804, 4808, 4809, 4810, 4811, 4812, 4813, 4814, 4815, 4816, 4818, 4821, 4822, 4823, 4825, 4826, 4827, 4828, 4830, 4831, 4833, 4835, 4836, 4840, 4844, 4845, 4846, 4847, 4848, 4849, 4850, 4852, 4855, 4857, 4860, 4862, 4863, 4864, 4865, 4866, 4867, 129354, 4873, 4874, 4876, 4877, 4878, 4879, 4880, 4881, 4883, 4885, 4886, 4887, 4888, 4889, 4890, 43904, 4896, 4898, 4899, 31049, 4901, 4902, 4903, 4909, 4911, 4912, 4914, 4915, 4916, 4917, 4919, 4920, 4925, 4926, 4927, 4928, 4929, 4932, 4936, 4939, 4941, 4942, 4945, 4946, 4947, 4952, 4953, 4954, 4956, 4957, 4958, 4959, 4961, 4962, 4963, 4964, 4965, 4966, 4969, 4970, 4971, 4973, 4974, 4975, 4976, 4977, 4978, 4979, 4980, 4981, 4985, 4987, 4988, 4989, 4990, 4991, 4992, 4993, 4994, 4995, 4998, 5004, 5007, 5008, 5009, 5010, 5011, 5012, 5013, 5014, 5015, 5016, 5021, 5023, 5025, 5026, 5027, 5028, 5033, 5034, 5039, 5040, 65651, 5046, 5047, 5048, 5049, 5051, 5053, 44719, 5055, 5059, 5060, 5062, 5063, 5064, 5065, 5066, 5068, 5069, 5071, 5073, 5074, 5075, 5076, 5077, 5080, 5081, 5083, 5088, 5092, 5093, 5522, 5095, 5096, 5099, 5102, 5103, 5105, 8119, 5107, 5108, 5109, 5110, 5111, 5112, 5113, 5114, 5116, 55278, 5121, 5127, 5128, 5131, 5134, 5135, 5136, 5137, 5139, 5146, 5147, 5151, 5152, 5155, 5156, 5159, 5165, 5168, 5170, 5177, 5178, 5181, 5187, 5189, 5197, 5198, 5202, 5205, 5209, 5212, 5213, 5214, 5218, 5219, 5220, 5221, 5222, 5224, 5225, 5226, 5231, 5237, 5238, 5239, 5241, 5244, 5246, 5247, 5248, 5250, 5254, 5255, 5256, 5258, 5264, 5265, 5266, 6812, 5268, 5269, 5272, 5275, 5278, 5279, 5282, 5283, 5284, 5285, 5288, 5291, 5292, 5293, 5294, 5296, 5297, 5298, 5299, 54997, 5303, 5304, 5307, 5308, 5309, 5311, 5312, 5313, 5316, 5319, 5321, 5322, 5323, 5324, 5325, 5328, 5329, 5333, 5334, 5337, 5338, 5339, 5341, 5345, 5346, 5347, 5348, 5349, 5353, 5356, 5357, 5358, 5361, 5363, 5364, 5365, 5372, 5373, 5375, 5377, 5378, 5379, 5380, 5382, 5384, 5385, 5387, 5389, 5390, 5391, 5397, 5398, 5400, 5401, 5404, 5409, 5410, 5415, 5416, 5417, 26614, 5419, 5420, 5421, 5422, 5423, 5424, 5425, 5427, 5428, 5433, 5434, 5435, 5437, 5438, 5440, 5442, 5443, 5444, 5445, 5446, 5447, 5448, 5449, 5450, 5451, 5452, 5454, 5455, 5456, 5458, 5459, 5460, 5461, 5462, 5463, 5464, 5465, 5466, 5468, 5470, 5471, 5472, 5475, 5476, 5477, 5478, 5479, 5480, 5481, 5483, 5485, 5486, 5489, 5490, 5493, 5497, 5498, 5499, 5500, 5501, 5502, 5503, 5504, 5505, 5506, 5507, 5508, 5512, 5513, 5515, 5521, 5523, 5524, 5525, 5527, 5528, 5529, 5530, 5531, 5532, 5537, 5538, 5539, 76175, 5541, 5543, 5544, 5548, 5550, 5553, 5556, 5560, 5562, 5563, 5564, 5568, 5569, 5570, 5572, 5573, 5574, 5575, 5577, 5580, 5581, 5582, 5584, 5585, 44397, 5589, 5590, 5591, 5596, 5597, 5601, 7367, 5603, 5604, 5607, 5608, 5609, 5610, 5611, 5612, 5613, 5614, 47644, 5617, 5618, 5619, 5620, 5621, 5625, 5628, 5629, 5630, 5632, 5633, 5635, 5636, 5637, 5638, 5640, 5643, 5644, 5646, 5649, 5650, 5651, 5657, 5663, 5664, 5665, 5666, 5667, 5668, 5669, 5670, 5672, 5673, 5675, 5678, 5680, 5682, 5684, 5685, 5688, 5689, 5690, 5693, 5694, 5696, 5699, 5700, 5704, 5706, 5707, 5710, 5712, 5720, 5721, 5723, 5733, 5735, 5736, 5741, 5742, 5745, 5746, 5747, 5749, 5752, 5755, 5764, 5767, 5768, 5771, 5772, 111113, 5779, 5780, 5782, 5784, 5785, 5786, 5787, 5788, 5791, 5792, 49272, 5797, 5799, 5801, 5802, 5803, 5804, 5809, 5810, 5812, 5816, 5817, 5818, 5820, 5826, 5828, 5829, 5833, 5836, 5838, 5839, 5840, 5841, 5843, 5847, 5849, 5853, 5856, 5863, 5867, 5872, 5873, 5874, 5875, 5876, 5878, 5879, 5880, 5881, 5882, 5883, 5884, 5888, 5889, 5890, 5891, 5893, 5896, 116207, 5900, 5901, 5902, 5903, 5909, 5912, 5915, 5919, 5922, 5925, 5927, 5929, 5932, 5938, 5941, 5942, 5943, 5944, 5945, 5947, 5949, 5951, 5952, 5953, 5954, 5955, 5956, 5957, 5959, 5961, 5962, 5963, 5965, 5968, 5969, 5970, 5971, 7302, 152284, 5979, 50147, 5984, 5986, 5988, 5989, 5991, 5992, 5993, 5994, 5995, 5999, 6001, 6002, 144606, 6005, 6006, 6009, 6012, 6013, 6014, 6016, 6020, 6021, 6022, 6023, 6025, 6027, 6030, 6031, 6033, 6035, 6036, 6039, 6040, 6041, 6042, 6049, 6051, 6055, 6057, 6058, 6059, 6060, 6062, 6063, 6064, 6067, 6070, 6078, 6086, 6090, 6093, 6095, 6100, 6101, 6104, 6107, 6111, 6116, 6119, 6122, 6123, 6124, 6125, 6140, 6141, 6143, 6145, 6148, 6153, 6155, 6156, 6157, 6158, 6159, 6162, 6163, 6166, 6169, 6170, 6178, 6181, 6182, 6183, 6184, 6185, 6186, 6187, 6188, 6192, 6193, 6195, 6196, 6197, 6201, 6202, 6203, 6204, 6210, 6212, 6213, 6214, 6215, 6216, 6217, 6218, 6220, 6222, 6223, 6225, 6228, 6232, 6234, 6235, 6237, 6238, 60514, 6241, 6242, 6244, 6245, 6246, 6249, 6250, 6251, 6252, 6254, 6263, 6264, 6265, 6266, 6267, 6268, 6269, 6270, 6271, 6273, 6279, 6280, 6281, 6283, 6285, 6286, 6287, 6288, 6289, 6290, 6291, 6294, 6295, 6296, 6297, 6298, 6299, 6300, 6301, 6302, 6303, 6305, 6306, 6308, 6310, 6313, 6314, 6315, 6316, 6319, 6320, 6322, 6323, 6324, 6327, 6329, 6330, 6332, 6333, 6334, 6335, 6336, 6337, 6338, 6339, 6341, 83976, 6344, 6345, 6347, 6348, 6349, 6350, 6357, 6358, 6365, 6367, 6368, 6370, 6371, 6373, 6374, 6375, 6376, 6377, 6893, 6379, 6380, 6382, 6383, 6385, 6386, 6387, 6390, 6395, 6400, 6402, 95717, 6407, 6408, 6410, 6412, 6415, 6417, 6422, 142020, 6425, 6427, 6428, 6429, 6433, 6434, 6436, 6440, 6442, 6448, 6449, 6452, 6453, 6454, 6460, 6461, 6464, 6465, 6466, 6476, 6477, 6480, 6482, 6483, 6484, 6493, 6502, 6503, 6506, 6509, 6510, 6514, 6515, 6517, 6523, 6527, 6528, 6530, 6533, 6534, 6535, 6536, 6537, 6538, 6539, 6541, 6542, 6545, 6547, 6548, 6549, 6550, 6551, 6552, 6553, 6554, 6557, 6558, 6559, 6560, 6561, 6563, 6564, 6565, 6566, 6567, 6568, 6571, 6572, 6573, 6574, 6577, 6578, 6579, 6581, 6582, 6583, 6584, 6586, 6587, 6588, 6591, 6592, 6595, 6596, 6597, 6598, 6603, 6604, 6609, 6611, 6612, 6614, 6615, 6616, 6617, 6618, 6619, 6620, 6624, 6625, 6628, 33164, 6631, 6636, 6638, 6639, 6643, 6644, 6645, 6650, 6654, 6656, 6658, 6659, 6660, 43836, 6663, 6664, 6666, 6667, 6668, 6669, 6670, 6671, 6678, 6679, 6684, 6686, 6687, 6688, 6689, 6691, 6692, 6695, 6696, 6699, 6702, 6705, 6706, 6707, 6708, 6709, 6710, 6711, 6713, 6715, 6718, 6720, 6721, 6722, 6723, 6724, 6731, 6732, 6734, 6744, 6746, 6748, 6750, 6751, 6752, 6753, 6755, 6760, 6763, 6764, 6765, 6768, 6769, 6770, 6772, 6773, 6774, 6775, 6776, 6777, 6780, 6782, 6783, 6785, 6786, 6787, 6788, 6789, 6791, 6793, 6794, 6796, 6797, 6798, 6800, 6803, 6804, 6807, 6808, 6809, 6810, 6811, 6814, 6816, 6817, 6818, 6820, 6821, 6827, 6832, 6835, 6836, 6849, 6850, 6851, 6852, 6853, 6856, 6857, 6858, 6860, 6862, 6863, 6867, 6869, 6870, 6872, 6873, 6874, 6879, 6881, 6882, 6883, 6884, 6885, 6886, 6887, 6888, 6889, 6890, 6898, 6899, 6902, 6909, 6911, 6912, 6918, 6920, 6927, 6932, 6934, 6935, 6936, 6938, 6939, 6942, 6945, 6946, 6947, 6948, 6949, 6950, 6951, 6952, 6953, 6954, 6957, 6958, 6959, 6961, 6962, 6963, 6965, 6966, 6967, 6969, 6970, 6971, 6973, 25752, 6975, 6978, 6979, 6981, 6982, 6984, 6985, 6986, 6987, 6989, 49389, 6992, 6993, 6994, 6996, 6997, 6998, 6999, 7000, 7004, 7005, 7007, 7008, 7009, 7010, 7012, 7013, 7015, 7016, 7017, 7018, 156675, 36527, 7022, 7023, 7024, 7025, 7026, 7027, 7028, 7030, 7031, 7032, 7033, 7034, 7036, 7037, 7038, 7040, 7041, 7044, 7045, 7046, 7047, 7049, 7050, 7051, 7052, 7053, 7055, 7056, 7057, 7058, 7059, 7060, 7061, 7062, 7063, 7064, 7065, 7067, 7069, 7070, 7071, 7072, 7073, 7074, 7075, 7076, 7078, 7080, 7082, 7083, 7084, 7085, 7086, 7087, 7088, 7089, 7090, 7091, 8302, 7096, 7099, 7101, 7102, 7103, 7104, 7107, 7108, 7109, 70206, 7115, 7116, 7117, 7118, 7121, 7122, 7123, 7124, 7125, 7127, 7131, 7132, 7134, 7137, 7139, 7141, 7142, 7143, 7147, 7149, 7150, 7151, 7153, 7154, 7155, 7156, 7158, 7160, 7395, 7162, 7163, 7165, 7167, 7169, 7171, 7173, 7175, 7176, 7177, 102407, 25856, 7181, 7184, 7191, 7192, 7193, 7202, 7205, 7206, 8521, 7209, 7211, 7212, 7215, 7216, 7217, 7218, 7219, 7222, 7225, 7228, 7234, 7235, 7236, 7238, 7243, 7245, 7247, 7248, 7251, 7254, 7255, 7256, 7257, 7258, 7259, 7260, 7261, 7262, 7263, 7264, 7265, 7266, 7282, 7285, 7292, 7293, 7294, 7297, 7299, 7301, 122260, 7304, 7305, 7306, 7307, 7310, 7311, 7312, 7315, 7316, 7317, 7318, 7319, 7320, 7321, 7323, 7324, 7325, 7326, 7327, 7328, 7333, 7335, 7336, 7340, 7344, 7345, 59604, 7347, 7348, 7349, 7352, 7354, 7357, 7387, 7361, 7362, 7364, 7366, 7368, 7369, 7371, 7372, 7373, 7375, 7376, 7377, 7379, 7380, 7381, 7382, 7386, 7390, 7394, 7396, 7411, 7414, 7419, 7438, 7440, 7443, 7444, 7445, 7448, 7449, 7450, 7451, 7454, 7455, 7457, 7458, 7459, 7460, 7477, 7479, 7481, 7482, 7486, 7487, 7492, 7493, 7541, 7560, 7561, 7562, 7564, 7566, 7569, 7570, 7572, 7573, 7669, 7581, 7584, 7587, 7614, 7615, 7616, 7618, 7619, 7620, 7624, 7636, 7646, 7647, 7649, 7650, 7657, 7698, 7700, 7701, 7702, 7704, 7705, 7706, 7707, 7714, 7716, 7720, 7727, 7730, 7742, 7743, 7745, 7748, 7749, 7753, 7756, 7757, 7762, 7766, 7767, 7772, 7773, 7782, 7786, 7789, 7792, 7802, 7810, 7811, 7812, 7815, 7820, 7822, 106918, 7831, 7832, 7833, 7834, 7835, 7839, 7840, 7841, 7843, 7844, 7845, 7846, 7879, 7882, 7883, 7884, 7888, 7889, 7891, 7894, 7895, 7896, 7899, 7900, 7916, 7920, 7924, 7925, 7926, 7930, 7932, 7934, 7936, 7937, 7938, 7939, 7940, 7943, 7944, 7951, 7976, 7979, 7980, 7981, 7982, 7983, 7984, 7986, 8327, 7988, 7991, 7993, 8008, 8010, 8011, 8012, 8014, 8015, 8019, 8024, 8025, 8033, 8035, 8042, 8043, 8044, 8045, 8057, 8092, 8093, 8094, 8117, 8118, 8121, 8125, 8126, 8128, 8131, 8136, 8137, 8138, 8142, 8143, 8147, 8153, 8154, 8157, 104913, 8167, 8169, 8183, 8188, 8189, 8190, 8191, 8195, 8196, 8197, 8199, 8207, 8228, 8232, 8235, 8236, 8238, 8239, 162478, 8253, 8254, 8261, 8264, 8266, 8268, 8270, 8275, 8290, 8293, 8331, 8335, 8336, 8337, 8338, 8340, 37736, 8360, 8361, 8362, 8363, 8364, 8366, 8368, 8369, 8370, 8371, 8372, 8375, 8376, 8378, 8379, 8380, 8382, 96121, 8385, 8387, 8391, 8402, 8405, 8410, 8424, 8425, 8426, 8427, 8446, 8447, 8450, 8451, 8454, 8456, 8458, 8459, 8461, 8462, 8463, 8464, 8465, 8477, 8481, 8482, 8484, 8487, 8491, 8492, 8493, 8494, 8495, 8500, 50445, 8502, 8506, 8507, 8511, 8512, 8518, 8528, 8529, 8530, 8531, 8532, 8533, 8534, 8535, 8542, 8571, 8574, 8575, 8577, 8578, 118997, 8581, 8582, 8587, 8588, 8591, 8593, 8596, 8600, 8601, 8912, 8605, 8607, 8609, 8610, 8611, 8614, 8617, 8620, 8622, 8623, 8626, 8632, 8633, 8636, 8638, 8640, 8641, 8643, 8644, 8645, 8650, 8656, 8665, 8666, 8667, 8670, 8677, 8684, 8685, 8690, 8695, 8711, 8712, 8713, 8714, 8718, 8720, 8724, 8727, 8730, 8738, 8743, 8748, 8753, 8754, 8755, 8765, 8771, 8772, 8773, 8774, 8778, 8782, 8783, 8784, 8795, 8796, 8798, 8799, 8800, 8804, 8807, 8808, 8809, 8810, 8813, 8814, 8815, 8827, 8830, 8831, 8832, 8833, 8835, 8836, 8838, 8840, 8844, 8848, 8860, 8861, 8864, 8865, 8866, 8869, 8870, 8873, 8874, 8875, 177763, 8880, 8894, 8905, 8906, 8907, 8908, 8910, 8911, 8914, 8915, 8916, 8917, 8918, 8919, 8920, 8921, 8928, 8933, 8934, 8937, 8938, 8939, 8943, 8946, 8947, 8949, 8950, 8951, 8952, 8954, 8955, 148671, 8958, 8959, 8961, 8964, 8965, 8966, 8967, 8968, 8969, 8970, 8972, 8973, 8974, 8977, 8978, 8979, 8981, 8982, 8983, 8984, 8985, 8987, 8989, 8998, 9004, 9005, 9008, 9010, 9018, 25750, 25753, 25757, 25769, 25771, 25773, 25782, 25795, 25797, 25805, 115210, 25826, 25827, 25833, 25834, 25841, 25850, 25855, 25865, 25870, 25886, 25887, 25898, 25905, 25906, 25927, 25937, 25940, 25947, 25952, 25959, 25963, 25999, 26002, 26003, 26038, 26048, 26052, 26059, 26073, 26078, 26082, 26084, 26095, 26116, 26122, 26124, 26131, 26133, 26142, 26147, 26150, 26151, 26158, 26159, 26169, 26171, 26172, 26176, 26183, 26184, 26195, 40962, 26225, 26231, 26236, 26237, 26242, 26249, 26258, 26265, 26283, 26285, 149354, 26308, 26313, 26317, 26326, 26340, 26344, 26347, 26350, 26357, 26359, 26365, 26366, 26375, 26386, 26391, 26394, 26399, 26401, 26409, 26413, 26422, 26429, 26444, 26453, 26464, 26467, 26471, 26472, 26492, 128594, 26504, 26510, 26523, 26524, 26527, 26528, 26539, 26542, 26547, 26554, 26555, 26562, 26564, 26567, 26578, 26585, 26587, 26590, 26593, 26599, 26603, 26606, 26612, 26622, 26629, 26630, 26631, 26645, 26649, 26662, 26676, 26680, 26681, 26686, 175303, 26694, 26695, 26696, 26700, 26701, 26704, 26712, 26713, 26717, 26726, 26729, 26732, 26736, 26741, 26743, 26745, 26750, 26761, 102735, 26765, 26776, 26777, 26778, 26782, 26791, 26792, 26796, 26797, 26810, 26812, 26819, 26828, 26838, 26840, 26849, 26854, 26861, 26865, 26870, 26871, 26875, 26887, 26900, 26901, 26903, 26913, 26928, 26940, 26947, 26965, 26974, 26985, 26999, 27002, 55995, 27006, 27008, 27020, 27022, 27032, 27036, 27074, 27075, 27105, 27124, 27134, 27140, 27155, 27156, 27176, 27178, 27186, 27193, 27246, 27251, 27255, 27266, 27306, 27311, 27317, 27320, 27328, 27329, 27368, 27369, 27370, 27373, 27397, 27408, 27416, 27420, 27426, 27434, 73488, 27450, 27473, 27478, 27480, 27482, 27491, 27513, 27523, 27537, 27539, 27549, 27555, 27563, 27584, 27592, 27595, 27604, 27611, 27618, 27619, 27627, 27644, 27660, 27664, 27667, 27674, 27683, 27685, 27689, 27692, 27695, 27704, 27705, 27706, 27708, 27716, 27721, 27722, 27728, 27731, 27741, 27744, 27746, 27751, 27762, 27768, 27769, 27772, 27773, 27776, 27778, 27784, 27788, 27790, 27793, 27801, 27802, 27803, 27808, 27815, 27816, 27820, 27821, 27822, 27826, 27829, 27830, 27831, 27834, 27837, 27838, 27839, 27846, 27850, 27865, 27866, 27869, 27873, 27878, 27879, 27882, 27899, 27904, 27905, 27912, 30707, 30745, 30749, 30793, 30803, 30810, 30812, 30816, 30818, 30820, 30822, 30825, 30846, 30848, 30850, 30883, 30890, 30892, 30894, 30898, 30994, 31000, 31030, 31038, 31083, 31086, 31101, 31114, 31116, 31123, 31150, 31162, 31184, 31193, 31221, 31223, 31225, 31260, 31297, 31309, 31364, 31367, 31410, 31422, 31424, 31427, 31431, 31433, 31435, 31437, 48520, 31522, 31545, 31553, 31590, 31610, 31617, 31658, 31660, 31664, 31685, 31692, 31694, 31696, 31698, 31700, 31702, 31737, 31804, 31851, 31878, 31903, 31909, 31921, 31925, 31952, 31973, 32009, 32011, 32017, 32019, 32022, 32029, 32031, 32058, 32060, 32116, 32139, 32160, 32179, 32213, 129333, 32243, 32289, 32291, 32294, 32296, 32298, 32300, 32302, 32314, 32371, 32387, 32392, 32440, 32442, 32456, 32460, 32511, 32515, 32554, 32582, 32584, 32587, 32589, 32596, 147002, 32620, 32632, 32649, 32657, 32659, 32666, 32728, 32743, 32770, 32799, 32862, 32875, 32892, 32898, 32906, 32917, 33004, 33090, 33124, 33126, 33132, 33138, 33145, 33148, 33154, 33158, 33162, 33171, 33188, 33201, 33237, 33294, 33310, 33312, 33421, 33435, 33437, 33493, 33495, 33499, 33558, 33564, 33615, 33629, 33639, 33644, 33649, 33660, 33669, 33672, 33677, 33681, 33683, 33725, 33779, 33781, 33794, 33801, 33815, 33826, 33830, 33834, 33836, 33838, 33880, 33893, 33896, 33903, 33966, 34018, 64997, 34072, 34129, 34143, 34148, 122902, 34153, 34162, 34164, 34271, 34292, 34312, 34319, 34321, 34323, 34326, 34330, 144522, 34334, 34336, 34338, 34359, 34397, 34405, 34437, 34450, 34520, 34523, 34528, 34530, 34532, 34534, 34536, 34540, 34542, 34800, 34811, 35015, 35347, 35807, 35836, 35957, 36276, 36289, 36363, 36397, 36401, 36477, 36509, 36517, 36519, 36525, 36529, 36533, 36535, 36537, 36708, 36850, 36931, 37211, 37240, 37380, 37382, 37384, 37386, 37444, 37475, 37477, 37495, 37545, 37720, 37727, 37729, 37731, 37733, 37739, 37741, 37830, 37844, 37853, 37857, 38038, 38061, 38095, 38159, 38164, 38198, 38294, 38304, 38388, 38583, 38798, 38886, 38992, 39183, 39231, 39234, 39292, 39307, 39381, 39414, 39427, 39435, 39444, 39446, 39449, 39516, 39715, 39801, 39869, 40148, 40278, 40339, 40412, 40414, 40478, 40491, 40578, 40581, 40583, 40597, 72424, 136602, 40629, 40697, 40723, 40732, 40815, 40819, 40826, 40851, 40870, 40946, 40955, 40959, 40966, 41014, 41285, 41527, 41566, 41571, 41573, 41617, 41627, 41712, 41716, 41724, 41769, 41828, 41863, 41997, 42004, 42007, 42009, 42011, 42013, 42015, 42018, 42176, 42191, 42285, 42418, 42422, 42556, 42559, 42602, 42632, 42638, 42718, 42723, 42725, 42728, 42730, 91666, 42734, 42738, 42740, 42761, 42943, 42946, 43289, 43333, 43376, 43396, 43419, 43460, 43549, 43556, 43558, 43560, 43677, 43679, 43684, 43708, 43744, 43869, 43871, 43908, 43912, 43914, 43917, 43919, 43928, 43930, 43932, 43936, 44004, 44020, 44022, 44189, 44191, 44193, 44195, 44197, 44199, 44204, 44225, 44238, 44241, 44243, 44301, 44511, 44555, 44597, 44613, 44633, 44657, 44665, 44694, 44709, 44731, 44759, 44761, 44773, 44777, 44788, 44828, 44840, 44849, 44851, 44864, 44889, 44929, 44931, 44937, 44943, 44972, 44974, 45028, 45062, 45074, 45081, 45106, 45175, 45183, 45186, 45208, 45210, 45221, 45361, 45382, 45431, 45440, 45442, 45447, 45499, 45501, 45503, 45517, 45635, 45648, 45658, 45666, 45668, 45672, 45720, 45722, 45726, 45728, 45730, 45732, 45880, 45928, 45950, 45969, 46062, 46105, 46231, 46322, 46335, 46337, 46347, 46367, 46530, 46559, 46572, 46574, 46578, 46664, 46723, 46772, 46850, 46855, 46862, 46865, 46948, 46965, 46967, 46970, 46972, 46974, 46976, 47044, 47099, 47122, 47124, 47200, 47202, 47254, 47261, 47382, 156553, 47404, 47423, 47446, 47465, 47491, 47516, 47518, 47538, 47566, 47610, 47629, 47640, 47646, 47721, 47725, 47736, 47774, 47793, 47894, 47937, 47950, 47952, 47970, 47978, 47997, 47999, 48001, 48032, 48043, 48045, 48082, 48142, 48150, 48161, 48214, 48262, 48304, 48319, 48322, 48342, 48385, 48394, 48414, 48416, 48516, 48518, 48560, 48596, 48598, 48638, 48649, 138702, 48696, 112727, 48738, 48741, 48744, 48774, 48780, 48783, 48872, 48877, 48879, 48883, 48982, 48997, 49013, 49110, 49130, 49132, 49220, 49263, 49265, 49274, 49276, 49278, 49280, 49284, 49286, 49314, 49347, 49396, 49524, 49530, 49649, 49651, 49666, 49688, 49735, 49772, 49793, 49822, 49824, 49910, 49917, 49932, 49957, 49961, 50003, 50005, 50064, 50068, 50158, 50160, 50189, 50274, 50354, 50356, 50440, 50442, 50514, 50601, 50610, 50613, 50658, 50685, 50740, 50792, 50794, 50796, 50798, 50800, 50802, 50804, 50806, 50842, 50851, 50872, 50912, 50923, 50942, 50954, 50999, 51024, 84601, 51077, 51080, 51082, 51084, 51086, 51088, 51091, 51167, 51174, 51255, 51314, 51357, 51412, 51471, 51498, 51540, 51545, 51562, 51573, 51575, 51662, 51666, 51694, 51698, 51705, 51709, 51834, 51884, 51903, 51925, 51927, 51931, 114028, 51935, 51937, 51939, 52042, 52241, 52245, 52279, 52281, 52283, 52287, 52299, 52319, 52375, 52435, 52458, 52462, 52579, 52604, 52644, 52668, 52694, 52712, 52715, 52722, 52724, 52730, 52767, 52784, 52831, 52867, 52885, 52950, 52952, 52967, 52973, 53000, 53022, 53024, 53121, 53123, 53125, 53127, 53129, 53138, 53140, 53143, 53161, 53280, 55207, 53322, 53326, 53355, 53435, 53447, 101074, 53453, 53460, 53464, 53466, 53468, 53519, 53550, 53574, 53578, 53808, 53883, 53894, 53921, 53953, 77191, 53972, 53974, 53993, 53996, 54001, 54004, 54116, 54185, 54190, 54256, 54259, 54272, 54274, 54276, 54281, 54286, 54354, 54372, 54503, 54617, 54648, 54686, 54732, 54734, 54736, 54745, 54768, 54771, 54780, 54787, 54796, 54881, 54908, 54910, 54934, 54962, 54995, 54999, 55020, 55036, 55052, 55061, 55067, 55069, 55071, 55080, 55094, 55110, 55112, 55116, 55118, 55156, 55167, 55190, 55205, 55232, 55241, 55245, 55247, 55250, 55253, 55259, 55261, 55267, 55269, 55272, 55274, 55276, 55280, 55282, 55290, 55292, 55294, 55363, 55391, 55442, 55444, 55451, 55492, 55555, 55577, 55620, 55687, 55721, 55729, 55765, 55768, 55805, 55814, 55820, 55830, 55844, 55872, 55908, 55946, 56003, 56012, 56022, 56060, 56145, 56152, 56156, 56169, 56171, 56174, 56176, 56251, 56274, 56286, 56333, 56336, 56339, 56367, 56379, 56389, 56563, 56587, 56607, 56620, 56715, 56757, 56775, 56782, 56788, 56801, 56805, 56837, 56869, 56908, 56915, 56921, 56941, 56949, 57147, 57183, 57243, 57274, 57326, 57368, 57421, 57499, 57502, 57504, 57522, 57526, 57528, 57532, 57536, 112868, 57640, 57669, 57772, 57843, 57910, 57951, 58025, 58047, 58078, 58103, 58105, 58107, 58154, 58156, 58162, 58191, 58287, 58291, 58293, 58295, 58297, 58299, 58301, 58303, 58306, 58309, 58315, 58332, 58347, 58351, 58376, 58404, 58425, 58492, 58554, 58559, 58627, 58655, 58783, 58803, 58806, 58826, 58839, 58842, 58870, 58876, 58879, 58964, 58972, 58975, 58998, 59014, 59016, 59018, 59022, 59026, 59037, 59103, 59118, 59126, 59129, 59131, 59141, 59143, 59220, 59258, 59295, 167296, 59333, 59336, 59369, 59387, 59421, 59429, 59440, 59501, 59549, 59615, 59667, 59725, 59727, 59731, 59738, 59784, 59810, 59814, 59900, 59915, 59947, 59985, 59995, 189111, 60037, 60040, 60046, 60069, 60072, 60074, 60126, 60128, 60141, 60161, 60289, 60291, 60293, 60303, 60333, 60363, 60365, 60389, 60397, 60408, 60471, 60487, 60516, 60522, 60538, 60647, 60674, 60684, 60735, 60737, 60753, 60756, 60760, 60766, 60803, 60818, 60832, 60857, 60885, 60894, 60904, 60937, 60941, 60943, 60950, 60979, 61011, 61024, 61026, 61071, 61073, 61123, 61132, 61160, 61167, 61210, 61236, 61240, 61246, 61248, 61250, 61255, 61257, 61262, 61289, 61319, 61323, 61348, 61350, 61352, 61394, 61401, 61406, 61465, 61628, 61692, 61697, 61705, 61729, 61818, 61986, 62008, 62081, 62113, 62155, 62208, 62250, 62293, 62299, 62336, 62344, 62374, 62376, 62394, 62434, 62437, 62439, 62511, 62553, 62586, 62644, 62662, 62718, 62792, 62799, 62834, 62836, 62849, 62956, 62970, 62999, 63033, 63062, 63072, 63082, 63113, 63131, 63179, 63222, 63276, 63312, 63393, 63433, 63436, 63479, 63515, 63540, 63768, 63808, 63826, 63853, 63859, 63876, 64010, 64030, 64032, 64034, 64114, 64116, 64167, 64197, 64231, 64249, 64278, 64285, 64499, 64501, 64575, 64614, 64620, 64622, 64695, 64716, 64839, 64957, 64969, 64983, 64993, 65037, 65088, 65126, 65130, 65133, 65135, 65188, 65193, 65216, 65225, 65230, 65261, 65350, 65359, 65514, 65577, 65585, 65588, 65596, 65601, 65631, 65642, 65682, 65685, 65738, 65740, 65802, 65882, 65982, 66090, 66097, 66171, 66198, 66203, 66240, 66297, 66310, 66320, 66335, 66371, 66427, 66509, 66511, 66544, 66665, 66744, 66785, 66798, 66915, 66934, 66943, 67087, 67168, 67186, 67193, 67197, 67255, 67267, 67295, 67361, 67408, 67508, 67534, 67618, 67665, 67695, 67734, 67788, 67799, 67888, 67923, 67997, 68073, 68135, 68157, 68159, 68194, 68205, 68237, 68269, 68319, 68347, 68358, 68444, 68480, 68486, 68522, 68536, 68552, 68554, 68597, 68600, 68650, 68659, 68791, 68793, 68835, 68848, 68872, 68886, 68932, 68945, 68952, 68954, 68959, 69069, 69118, 69122, 69131, 69134, 69140, 69211, 69224, 69227, 69251, 69275, 69278, 69304, 69306, 69394, 69406, 69436, 69453, 69469, 69481, 69495, 69516, 69524, 69526, 130520, 69604, 69606, 69640, 69644, 69654, 69685, 69712, 69720, 69746, 69757, 69784, 69805, 69844, 69849, 69860, 69904, 69951, 69953, 69988, 70015, 70159, 70183, 70208, 70286, 70293, 70301, 70305, 70334, 70336, 70361, 70451, 70492, 70521, 70533, 70545, 70565, 70599, 70637, 70641, 70663, 70687, 70697, 70703, 70708, 70728, 70862, 70932, 70946, 70984, 70990, 71033, 71057, 71106, 71108, 71129, 71131, 71135, 71147, 71156, 71160, 71205, 71211, 71248, 71252, 71254, 71264, 71268, 71282, 71302, 71304, 71327, 71341, 71379, 71429, 71438, 71453, 71462, 71464, 71466, 71468, 71484, 71494, 71500, 71518, 71520, 71530, 71535, 71550, 71579, 71619, 71640, 71668, 71732, 71745, 71810, 71823, 71838, 71867, 71899, 71902, 71910, 71970, 71999, 72011, 72104, 72129, 72142, 72165, 72167, 72171, 72178, 72224, 72226, 72308, 72330, 72356, 72378, 72395, 72405, 72407, 72479, 72489, 72554, 72601, 72603, 72605, 72624, 72641, 72692, 72694, 72696, 72701, 72714, 72720, 72731, 72733, 72737, 72874, 72919, 72921, 72998, 73015, 73017, 73023, 73042, 73106, 73160, 73211, 73266, 73268, 73290, 73319, 73321, 73323, 73344, 73386, 73431, 73499, 73501, 73515, 73569, 73676, 73681, 73741, 73804, 73808, 73822, 73854, 73858, 73876, 73881, 73929, 74075, 74095, 74154, 74226, 74228, 74275, 74282, 74324, 74342, 74370, 74450, 74452, 74458, 74510, 74530, 74532, 74545, 74553, 74580, 74624, 74647, 74668, 74677, 74683, 74685, 74688, 74696, 74698, 74727, 74750, 74754, 74791, 74795, 74851, 74868, 74916, 74946, 74948, 75341, 75389, 106696, 75416, 75446, 75803, 75805, 75813, 75816, 75947, 75985, 76030, 76054, 76060, 76077, 76091, 76093, 76143, 76173, 76251, 76293, 76301, 76738, 76743, 76751, 76763, 77177, 77201, 77206, 77233, 77266, 77364, 77414, 77421, 77427, 77455, 77561, 77667, 77688, 77709, 77795, 77800, 77841, 77881, 77893, 77931, 78034, 78039, 78041, 78088, 78103, 78105, 78116, 78142, 78160, 78174, 78209, 78218, 78264, 78266, 78316, 78349, 78467, 78469, 78499, 78544, 78574, 78620, 78626, 78637, 78703, 78746, 78772, 78836, 78893, 78959, 79006, 79008, 79057, 79073, 79091, 79132, 79134, 79139, 79185, 79242, 79251, 79259, 79274, 79293, 79299, 79333, 79357, 79428, 79501, 79536, 79553, 79572, 79590, 79592, 79677, 79684, 79695, 79702, 79798, 79868, 79879, 79895, 79897, 79946, 80083, 80094, 80124, 80126, 80139, 80162, 80166, 80219, 80241, 80363, 80454, 80463, 80478, 80489, 80549, 80551, 80553, 80572, 80584, 80586, 80590, 80615, 80693, 80727, 80831, 80834, 80839, 80846, 80858, 80860, 80862, 80864, 80880, 80906, 80917, 80969, 81018, 81087, 81132, 81156, 81158, 81191, 81229, 81257, 81383, 81417, 81456, 81512, 81520, 81535, 81537, 81562, 81564, 81591, 81681, 81782, 81784, 81786, 81788, 81791, 81819, 81831, 81834, 81845, 81847, 108949, 81932, 81949, 82041, 82053, 82088, 82093, 82095, 82152, 82167, 82169, 82202, 82242, 82366, 82378, 82461, 82499, 82527, 82534, 82641, 82667, 82684, 82744, 82765, 82767, 82848, 82852, 82857, 83086, 83132, 83134, 83177, 83270, 83349, 83369, 83374, 83480, 83601, 83613, 83796, 83803, 83827, 83910, 83969, 84152, 84156, 84187, 84189, 84240, 84246, 84273, 84374, 84392, 84414, 84512, 84523, 84553, 84615, 84637, 84696, 84716, 84772, 84799, 84844, 84942, 84944, 84950, 84952, 84954, 85020, 85022, 85025, 85056, 85131, 85179, 85213, 85259, 85261, 85295, 85316, 85334, 85342, 85354, 85367, 85394, 85397, 85399, 85401, 85412, 85414, 85510, 85565, 85736, 85774, 85780, 85788, 85796, 85881, 85885, 86000, 86014, 86028, 86059, 86066, 86068, 86142, 86190, 86237, 86279, 86286, 86290, 86295, 86298, 86320, 86332, 86345, 86347, 86355, 86377, 86504, 86548, 86593, 86628, 86644, 86668, 86721, 86781, 86815, 86817, 86833, 86864, 86880, 86882, 86892, 86898, 86911, 86922, 86960, 87028, 87192, 87194, 87197, 87222, 87232, 87234, 87287, 87298, 87304, 87306, 94896, 87430, 87444, 87483, 87485, 87520, 87522, 87529, 87660, 87785, 87834, 87867, 87869, 87876, 87960, 88069, 88094, 88108, 88125, 88129, 88140, 88163, 88179, 88235, 88267, 88272, 88327, 88345, 88356, 88405, 88448, 88515, 88593, 88672, 88697, 88699, 88744, 88746, 88785, 88810, 88812, 88911, 88932, 88954, 89028, 89039, 89047, 89072, 89085, 89087, 89090, 89118, 89208, 89281, 89305, 89343, 89386, 89388, 89427, 89470, 89492, 89580, 89582, 89586, 89678, 89753, 89759, 89761, 89774, 89804, 89837, 89840, 89862, 89864, 89898, 89904, 89945, 90057, 90243, 90245, 90249, 90353, 90357, 90374, 90376, 90384, 90405, 90428, 90430, 90439, 90469, 90471, 90522, 90524, 90528, 90531, 90576, 90600, 90603, 90630, 90647, 90717, 90719, 105835, 90746, 90769, 90809, 90863, 90866, 90888, 90890, 90943, 90945, 91077, 91079, 91094, 91104, 91126, 91128, 91233, 91261, 91266, 91273, 91323, 91325, 91337, 91353, 91355, 91386, 91414, 91470, 91483, 91485, 91488, 91500, 91529, 91535, 91542, 91571, 91622, 91628, 91630, 91653, 91658, 91660, 91671, 91688, 91690, 91784, 91842, 91860, 91869, 91873, 91890, 91935, 91947, 91974, 91976, 91978, 91981, 92008, 92046, 92048, 92094, 92192, 92198, 92234, 92243, 92259, 92264, 92309, 92348, 92391, 92420, 92422, 92427, 92439, 92475, 92494, 92507, 92509, 92535, 92637, 92643, 92665, 92674, 92681, 92694, 92730, 92760, 92938, 92954, 93006, 93008, 93022, 93040, 93114, 93134, 93139, 93193, 93208, 93242, 93272, 93287, 93297, 93320, 93326, 93363, 93443, 93502, 93510, 93512, 93563, 93598, 93610, 93721, 93723, 93740, 93766, 93790, 93805, 93819, 93831, 93838, 93840, 93855, 93980, 93982, 93988, 94011, 94015, 94018, 94070, 94122, 94150, 94160, 94262, 94266, 94323, 94325, 94478, 94494, 94503, 94661, 94677, 94735, 94777, 94780, 94799, 94810, 94833, 94864, 94867, 94919, 94931, 94953, 94959, 94985, 95004, 95067, 95088, 95105, 95135, 95145, 95147, 95149, 95163, 95165, 95167, 95170, 95175, 95182, 95193, 95199, 95201, 95207, 95218, 95307, 95309, 95311, 95313, 95377, 95441, 95449, 95473, 95475, 95497, 95499, 95508, 95510, 95519, 95543, 95558, 95583, 95633, 95654, 95690, 95720, 95738, 95744, 95761, 95771, 95780, 95796, 95843, 95858, 95873, 95939, 95949, 95965, 96004, 96007, 96020, 96079, 96084, 96110, 96114, 96150, 96281, 96283, 96373, 96411, 96417, 96430, 96432, 96448, 96471, 96488, 96518, 96520, 96530, 96563, 96567, 96588, 96606, 96608, 96610, 96616, 96655, 96691, 96726, 96728, 96737, 96811, 96815, 96821, 96829, 96832, 96861, 96917, 96935, 96945, 96964, 96975, 97024, 97168, 97172, 97188, 97194, 97225, 97230, 97285, 97304, 97306, 97328, 97470, 97643, 97665, 97701, 97742, 97752, 97757, 97785, 97836, 97858, 97860, 97866, 97870, 97904, 97913, 97921, 97923, 97938, 97950, 97988, 98061, 98083, 98122, 98124, 98154, 98160, 98175, 98203, 98230, 98243, 98279, 98296, 98361, 98491, 98499, 98503, 98585, 98604, 98607, 98623, 98633, 98697, 98799, 98809, 98836, 98908, 98961, 99005, 99007, 99030, 99087, 99106, 99112, 99114, 99117, 99122, 99130, 99145, 99191, 99415, 99437, 99574, 99636, 99638, 99721, 99728, 99750, 99764, 99813, 99846, 99853, 99910, 99917, 99992, 100044, 100068, 100083, 100106, 100159, 100163, 100194, 100226, 100277, 100302, 100304, 100306, 100326, 100383, 100390, 100397, 100498, 100507, 100527, 100553, 100556, 100579, 100611, 100714, 100737, 100810, 100843, 100882, 100906, 101025, 101070, 101072, 101076, 101088, 101112, 101142, 101283, 101360, 101362, 101415, 101423, 101525, 101529, 101531, 101577, 101612, 101739, 101741, 101765, 101864, 101884, 101895, 101962, 101973, 102007, 102025, 102033, 102058, 102066, 102070, 102084, 102088, 102123, 102125, 102165, 102194, 102217, 102278, 102338, 102378, 102445, 102481, 102590, 102602, 102666, 102684, 102686, 102716, 102720, 102742, 102747, 102749, 102760, 102800, 102802, 102819, 102823, 102852, 102880, 102903, 102984, 102993, 103042, 103048, 103075, 103085, 103107, 103137, 103141, 103171, 103210, 103219, 103221, 103228, 103233, 103235, 103245, 103249, 103253, 103335, 103339, 103341, 103366, 103372, 103384, 103449, 103483, 103502, 103539, 103543, 103596, 103602, 103606, 103609, 103624, 103655, 103685, 103688, 103755, 103772, 103801, 103810, 103819, 103865, 103883, 103980, 103984, 104017, 104069, 104074, 104076, 104078, 104129, 104141, 104211, 104218, 104241, 104243, 104245, 104272, 104283, 104303, 104337, 104339, 104374, 104419, 104457, 104644, 104760, 104780, 104837, 104841, 104863, 104875, 104879, 104906, 104908, 104925, 104944, 105020, 105037, 105121, 105197, 105211, 105213, 105246, 105250, 105254, 105325, 105351, 105355, 105468, 105504, 105540, 105585, 105593, 105653, 105720, 105746, 105755, 105801, 105844, 105954, 106002, 106062, 106072, 106100, 106144, 106330, 106438, 106441, 106487, 106489, 106491, 106540, 106542, 106594, 106642, 106648, 106766, 106782, 106785, 106839, 106873, 106883, 106889, 106916, 106920, 106927, 107069, 107141, 107159, 107314, 107338, 107348, 107406, 107408, 107410, 107412, 107436, 107447, 107449, 107462, 107565, 107630, 107702, 107723, 107771, 107780, 107846, 107945, 107951, 107953, 107962, 107997, 107999, 108078, 108090, 108156, 108188, 108190, 108192, 108540, 108601, 108689, 108715, 108727, 108729, 143355, 108928, 108932, 108981, 109042, 109161, 109183, 109187, 109191, 109241, 109282, 109295, 109313, 109317, 109372, 109374, 109383, 109416, 109483, 109487, 109569, 109576, 109578, 109596, 109633, 109673, 109687, 109723, 109846, 109848, 109850, 109853, 109864, 109895, 109897, 109941, 109968, 109971, 110102, 110127, 110130, 110281, 110286, 110297, 110330, 110350, 110387, 110501, 110541, 110553, 110586, 110591, 110603, 110611, 110655, 110669, 110718, 110730, 110746, 110771, 110773, 110781, 110826, 110882, 111146, 111320, 111360, 111362, 111375, 111384, 111443, 111551, 111617, 111622, 111659, 111663, 111680, 111732, 111743, 111759, 111781, 111785, 111795, 111800, 111817, 111844, 111913, 111921, 112006, 112070, 112138, 112171, 112175, 112183, 112290, 112303, 112316, 112326, 112334, 112370, 112421, 112450, 112454, 112460, 112497, 112512, 112515, 166024, 112556, 112580, 112623, 112749, 112788, 112804, 112818, 112852, 112897, 112940, 113159, 113186, 113207, 113225, 113252, 113275, 113278, 113280, 113313, 113345, 113350, 113374, 113378, 113394, 113416, 113453, 113532, 113565, 113573, 113604, 113705, 113741, 113780, 113829, 113849, 113862, 114044, 114060, 114066, 114074, 114126, 114180, 114184, 114246, 114265, 114335, 114396, 114494, 114554, 114601, 114627, 114662, 114670, 114678, 114707, 114713, 114762, 114795, 114818, 114847, 114925, 114935, 115065, 115111, 115122, 115149, 115151, 115170, 115203, 115216, 115231, 115502, 115569, 115617, 115664, 115667, 115680, 115713, 115727, 115819, 115828, 115877, 115969, 116044, 116138, 116169, 116411, 116413, 116419, 116505, 116668, 116718, 116724, 116738, 116797, 116799, 116817, 116823, 116849, 116887, 116897, 116941, 116963, 116977, 116985, 117107, 117109, 117133, 117176, 117192, 117364, 117368, 117444, 117466, 117511, 117529, 117531, 117533, 117545, 117572, 117590, 117630, 117646, 117849, 117851, 117867, 117877, 117881, 117887, 117895, 117922, 118082, 118166, 118198, 118248, 118270, 118290, 118326, 118354, 118512, 118530, 118572, 118696, 118700, 118702, 118706, 118784, 118814, 118834, 118862, 118880, 118888, 118894, 118896, 118900, 118924, 118930, 118985, 119068, 119141, 119145, 119153, 119155, 119167, 119218, 119655, 119714, 119828, 119964, 120130, 120138, 120466, 120478, 120625, 120635, 120637, 120761, 120783, 120799, 120807, 120813, 120827, 120919, 121007, 121035, 121097, 121099, 121129, 121169, 121171, 121231, 121253, 121338, 121342, 121372, 121374, 121469, 121715, 121781, 122092, 122246, 122433, 122490, 122627, 122882, 122884, 122886, 122888, 122890, 122892, 122896, 122898, 122900, 122904, 122906, 122912, 122916, 122918, 122920, 122922, 122924, 122926, 184349, 123200, 123310, 123545, 123553, 123947, 124273, 124404, 124484, 124851, 124853, 124859, 125221, 125914, 125916, 125970, 125974, 126088, 126090, 126142, 126420, 126426, 126430, 126482, 126548, 126577, 126921, 127052, 127096, 127098, 127108, 127114, 127116, 127130, 127132, 127134, 127136, 127146, 127152, 127164, 127172, 127180, 127184, 127194, 127198, 127202, 127204, 127212, 127298, 127319, 127323, 127390, 128087, 128089, 128097, 128099, 128197, 128360, 128366, 128488, 128512, 128520, 128542, 128592, 128620, 128695, 128736, 128832, 128838, 128842, 128852, 128900, 128902, 128908, 128914, 128944, 128968, 128975, 128991, 129011, 129229, 129250, 129313, 129397, 129428, 129514, 129657, 129659, 129737, 129779, 129937, 130050, 130052, 130083, 130087, 130444, 130450, 130452, 130482, 130490, 130498, 130518, 130576, 130578, 130634, 130686, 130840, 130842, 130970, 130976, 130978, 131013, 131023, 131098, 131104, 131130, 131237, 131439, 131480, 131578, 131610, 131656, 131714, 131724, 131739, 131749, 131796, 131826, 131920, 131934, 132046, 132084, 132153, 132157, 132333, 132335, 132362, 132422, 132424, 132454, 132462, 132488, 132496, 132584, 132618, 132660, 132796, 132800, 132888, 133115, 133195, 133217, 133281, 133365, 133377, 133419, 133545, 133645, 133712, 133716, 133771, 133780, 133782, 133798, 133802, 133832, 133867, 133879, 134004, 134019, 134021, 134041, 134095, 134109, 134130, 134158, 134170, 134184, 134214, 134246, 134248, 134252, 134326, 134334, 134368, 134393, 134515, 134524, 134528, 134775, 134783, 134796, 134808, 134847, 134849, 134853, 134859, 134861, 134881, 135133, 135137, 135143, 135198, 135216, 135288, 135436, 135456, 135518, 135532, 135534, 135536, 135567, 135569, 135777, 135787, 135803, 135815, 135861, 135885, 135887, 135937, 136012, 136016, 136018, 136020, 136024, 136297, 136305, 136341, 136353, 136355, 136359, 136443, 136445, 136447, 136449, 136469, 136471, 136503, 136511, 136540, 136556, 136562, 136564, 136598, 136654, 136664, 136666, 136778, 136786, 136800, 136816, 136834, 136838, 136840, 136850, 136859, 136864, 136912, 136958, 137218, 137337, 137345, 137517, 137595, 137857, 137859, 137863, 138036, 138186, 138204, 138208, 138210, 138396, 138546, 138610, 138632, 138798, 138835, 138966, 139052, 139130, 139157, 139385, 139415, 139511, 139640, 139642, 139644, 139655, 139717, 139747, 139855, 139857, 139859, 139915, 139994, 140016, 140038, 140110, 140133, 140162, 140174, 140237, 140247, 140265, 140267, 140289, 140301, 140359, 140481, 140525, 140541, 140561, 140627, 140711, 140715, 140725, 140737, 140816, 140850, 140852, 140928, 140956, 141004, 141131, 141400, 141408, 141422, 141513, 141544, 141646, 141668, 141718, 141749, 141799, 141810, 141844, 141818, 141820, 141830, 141836, 141846, 141866, 141890, 141928, 141994, 142056, 142074, 142115, 142196, 142222, 142366, 142372, 142420, 172253, 142424, 142444, 142456, 142488, 142507, 142509, 142536, 142550, 142558, 142598, 142602, 142831, 142961, 142997, 143001, 143031, 143245, 143255, 143257, 143365, 143367, 143385, 143410, 143458, 143472, 143511, 143525, 143559, 143859, 143896, 143969, 144210, 144222, 144262, 144478, 144620, 144714, 144716, 144734, 144976, 145080, 145150, 145283, 145418, 145491, 145724, 145745, 145839, 145935, 145951, 145994, 146024, 146028, 146210, 146244, 146309, 146656, 146662, 146682, 146684, 146688, 146730, 146986, 147142, 147196, 147250, 147282, 147286, 147300, 147326, 147328, 147330, 147372, 147374, 147376, 147378, 147380, 147382, 147384, 147410, 147657, 147662, 147936, 148166, 148172, 148238, 148424, 148482, 148592, 148626, 148632, 148652, 148667, 148675, 148709, 148775, 148881, 148888, 148956, 148978, 148982, 149011, 149144, 149146, 149330, 149334, 149350, 149352, 149380, 149406, 149566, 149590, 149612, 149830, 149902, 150254, 150401, 150548, 150554, 150596, 150604, 150696, 150993, 151311, 151315, 151317, 151455, 151479, 151501, 151557, 151653, 151687, 151695, 151739, 151745, 151759, 151763, 151769, 151777, 151781, 152037, 152063, 152065, 152071, 152077, 152079, 152081, 152083, 152085, 152091, 154065, 152173, 152270, 152372, 152591, 152658, 152711, 152970, 153070, 153236, 153386, 153408, 154358, 154975, 155064, 155168, 155288, 155358, 155509, 155589, 155659, 155743, 155774, 155812, 155820, 155892, 156025, 156371, 156387, 156605, 156607, 156609, 156706, 156781, 156783, 157108, 157110, 157122, 157130, 157172, 157200, 157270, 157296, 157312, 157340, 157369, 157407, 157432, 157699, 157775, 157865, 158022, 158027, 158035, 158238, 158254, 158388, 158398, 158402, 158528, 158721, 158783, 158813, 158830, 158842, 158872, 158874, 158882, 158956, 158966, 158972, 159061, 159069, 159077, 159093, 159161, 159193, 159403, 159415, 159441, 159510, 159690, 159717, 159755, 159779, 159811, 159817, 159849, 159858, 159976, 160080, 160271, 160289, 160341, 160400, 160422, 160438, 160440, 160527, 160563, 160565, 160567, 160569, 160571, 160644, 160646, 160684, 160718, 160730, 160836, 160848, 160872, 160954, 160978, 160980, 161008, 161024, 161032, 161044, 161127, 161131, 161290, 161354, 161580, 161582, 161594, 161634, 161830, 161918, 161922, 161966, 162082, 162344, 162350, 162414, 162578, 162590, 162598, 162600, 162602, 162606, 162828, 162968, 162982, 163056, 163072, 163112, 163134, 163386, 163527, 163639, 163645, 163653, 163809, 163925, 163937, 163981, 163985, 164179, 164200, 164226, 164280, 164367, 164375, 164540, 164647, 164655, 164707, 164753, 164881, 164909, 164917, 165075, 165103, 165139, 165343, 165347, 165483, 165489, 165529, 165549, 165551, 165635, 165639, 165645, 165671, 165843, 165947, 165959, 165969, 166015, 166183, 166203, 166291, 166461, 166492, 166526, 166528, 166534, 166558, 166568, 166635, 166643, 166705, 166946, 167018, 167036, 167064, 167370, 167380, 167538, 167570, 167634, 167706, 167732, 167746, 167772, 167790, 167854, 168026, 168090, 168144, 168174, 168218, 168248, 168250, 168252, 168254, 168266, 168326, 168350, 168418, 168456, 168492, 168608, 168612, 168632, 168712, 168846, 169034, 169180, 169670, 169904, 169912, 169958, 169982, 169984, 169992, 170289, 170297, 170355, 170357, 170399, 170401, 170411, 170551, 170597, 170697, 170705, 170777, 170813, 170817, 170827, 170837, 170875, 170897, 170907, 170937, 170939, 170945, 170957, 170993, 171011, 171023, 171251, 171495, 171631, 171695, 171701, 171749, 171751, 171759, 171763, 171765, 171811, 171867, 171891, 171917, 172013, 172215, 172229, 172233, 172321, 172461, 172497, 172547, 172577, 172583, 172585, 172587, 172589, 172591, 172637, 172705, 172793, 172825, 172875, 172881, 172887, 172909, 173145, 173197, 173205, 173209, 173235, 173253, 173255, 173291, 173307, 173317, 173351, 173355, 173535, 173619, 173751, 173925, 173941, 173963, 174045, 174053, 174055, 174141, 174403, 174479, 174681, 174727, 174737, 174815, 174909, 175197, 175199, 175293, 175387, 175397, 175401, 175431, 175435, 175475, 175485, 175569, 175577, 175585, 175661, 175693, 175705, 175707, 175743, 175781, 176051, 176101, 176329, 176371, 176389, 176415, 176419, 176423, 176579, 176601, 176621, 176751, 176805, 176935, 177185, 177285, 177593, 177615, 177765, 177939, 178061, 178111, 178129, 178323, 178613, 178615, 178827, 179053, 179073, 179119, 179133, 179135, 179211, 179401, 179427, 179491, 179511, 179709, 179749, 179813, 179815, 179817, 179819, 179953, 180031, 180045, 180095, 180231, 180263, 180265, 180297, 180497, 180777, 180985, 180987, 181065, 181139, 181315, 181413, 181659, 181719, 182293, 182297, 182299, 182639, 182715, 182727, 182731, 182749, 182793, 182823, 183011, 183197, 183199, 183227, 183295, 183301, 183317, 183611, 183635, 183897, 183911, 183959, 184015, 184053, 184245, 184253, 184257, 184471, 184641, 184721, 184791, 184987, 184997, 185029, 185031, 185033, 185135, 185435, 185473, 185585, 186587, 187031, 187541, 187593, 187595, 187717, 188189, 188301, 188675, 188751, 188797, 188833, 189043, 189333, 189381, 189547, 189713, 190183, 190207, 190209, 190213, 190215, 190219, 190221, 191005, 193565, 193567, 193571, 193573, 193579, 193581, 193583, 193585, 193587, 193609])\n"
          ]
        }
      ]
    },
    {
      "cell_type": "markdown",
      "source": [
        "# **Using embedding layers in neural net**\n",
        "\n",
        "> create the custom dataset and dataloader"
      ],
      "metadata": {
        "id": "uMMVZtdMyvjc"
      }
    },
    {
      "cell_type": "code",
      "source": [
        "import torch\n",
        "from torch.utils.data import Dataset, DataLoader\n",
        "\n",
        "class MovieLensDataset(Dataset):\n",
        "    def __init__(self, ratings_df):\n",
        "        self.ratings = ratings_df  # No copy needed\n",
        "\n",
        "        # Extract unique user IDs and movie IDs\n",
        "        self.users = self.ratings['userId'].unique()\n",
        "        self.movies = self.ratings['movieId'].unique()\n",
        "\n",
        "        # Map user IDs and movie IDs to indices\n",
        "        self.user_to_idx = {u: i for i, u in enumerate(self.users)}\n",
        "        self.movie_to_idx = {m: i for i, m in enumerate(self.movies)}\n",
        "\n",
        "        # Convert IDs to indices\n",
        "        self.ratings['user_idx'] = self.ratings['userId'].map(self.user_to_idx)\n",
        "        self.ratings['movie_idx'] = self.ratings['movieId'].map(self.movie_to_idx)\n",
        "\n",
        "        # map indices to IDs to get info on movies\n",
        "        self.idx_to_user = {v: k for k, v in self.user_to_idx.items()}\n",
        "        self.idx_to_movie = {v: k for k, v in self.movie_to_idx.items()}\n",
        "\n",
        "        self.x = self.ratings[['user_idx', 'movie_idx']].values # features (user movie pairs)\n",
        "        self.y = self.ratings['rating'].values # labels (ratings)\n",
        "        self.x, self.y = torch.tensor(self.x, dtype=torch.long), torch.tensor(self.y, dtype=torch.float)\n",
        "\n",
        "    def __len__(self):\n",
        "        return len(self.ratings)\n",
        "\n",
        "    def __getitem__(self, idx):\n",
        "        return self.x[idx], self.y[idx]\n",
        "\n",
        "dataset = MovieLensDataset(ratings_df)\n",
        "dataloader = DataLoader(dataset, batch_size=256, shuffle=True)"
      ],
      "metadata": {
        "id": "WDTUWlCGv7Ki"
      },
      "execution_count": null,
      "outputs": []
    },
    {
      "cell_type": "markdown",
      "source": [
        "**create the neural network with embedding layers**"
      ],
      "metadata": {
        "id": "EhQ9MESoqQG7"
      }
    },
    {
      "cell_type": "code",
      "source": [
        "import torch\n",
        "import torch.nn as nn\n",
        "import torch.optim as optim\n",
        "import torch.utils.data as data_utils\n",
        "\n",
        "class MatrixFactorization(nn.Module):\n",
        "  def __init__(self, num_users, num_movies, num_factors=15):\n",
        "    # num_factors represents number of hidden attributes e.g genres in the movies to be learnt - similar to hidden units in a linear layer\n",
        "    super().__init__()\n",
        "    self.user_factors = nn.Embedding(num_users, num_factors) # user embeddings represent vector profile of how much they like each attribute i.e genre\n",
        "    self.movie_factors = nn.Embedding(num_movies, num_factors) # movie embeddings represent how much each movie fits into an attribute\n",
        "    # self.user_factors.weight.data.uniform_(0, 0.1)\n",
        "    # self.movie_factors.weight.data.uniform_(0, 0.1) # initialise embeddings for users and movies with small random values\n",
        "\n",
        "  def forward(self, data):\n",
        "    users, movies = data[:, 0], data[:, 1] # user movie pairs (first and second column of data)\n",
        "\n",
        "    return (self.user_factors(users) * self.movie_factors(movies)).sum(1) # return cross product of users and movies\n",
        "    # think of it as multiplying the user's unique taste profile and the movie's unique characteristics profile\n",
        "\n",
        "  def predict(self, user, movie):\n",
        "    return self.forward(user, movie)\n"
      ],
      "metadata": {
        "id": "dlkDfT2gfUzl"
      },
      "execution_count": null,
      "outputs": []
    },
    {
      "cell_type": "markdown",
      "source": [
        "**setup loss function and optimizers**"
      ],
      "metadata": {
        "id": "YdOW8cTaqT_b"
      }
    },
    {
      "cell_type": "code",
      "source": [
        "num_epochs = 100\n",
        "cuda = torch.cuda.is_available()\n",
        "device = torch.device(\"cuda\" if cuda else \"cpu\")\n",
        "\n",
        "print(no_users, no_movies)\n",
        "model = MatrixFactorization(no_users, no_movies).to(device)\n",
        "\n",
        "loss_fn = nn.MSELoss()\n",
        "\n",
        "optimizer = optim.Adam(model.parameters(), lr=0.001)"
      ],
      "metadata": {
        "colab": {
          "base_uri": "https://localhost:8080/"
        },
        "id": "kolaf_LHBJOT",
        "outputId": "3e9cb57a-7e30-4f38-9bea-101e561c18f7"
      },
      "execution_count": null,
      "outputs": [
        {
          "output_type": "stream",
          "name": "stdout",
          "text": [
            "610 9724\n"
          ]
        }
      ]
    },
    {
      "cell_type": "markdown",
      "source": [
        "**train model**"
      ],
      "metadata": {
        "id": "K7m3vIfkqaRu"
      }
    },
    {
      "cell_type": "code",
      "source": [
        "\n",
        "model.train()\n",
        "\n",
        "for epoch in range(num_epochs):\n",
        "  losses = []\n",
        "  for x, y in dataloader:\n",
        "\n",
        "    x, y = x.to(device), y.to(device)\n",
        "    optimizer.zero_grad()\n",
        "    y_preds = model(x)\n",
        "    loss = loss_fn(y_preds, y)\n",
        "    losses.append(loss.item())\n",
        "    loss.backward()\n",
        "    optimizer.step()\n",
        "  print(f'Epoch {epoch+1}, Loss: {np.mean(losses)}')\n"
      ],
      "metadata": {
        "colab": {
          "base_uri": "https://localhost:8080/"
        },
        "id": "Y7cXxJ4vCo5o",
        "outputId": "691f896a-8316-4f5e-e142-39ce0a63e0d2"
      },
      "execution_count": null,
      "outputs": [
        {
          "output_type": "stream",
          "name": "stdout",
          "text": [
            "Epoch 1, Loss: 27.394919371241844\n",
            "Epoch 2, Loss: 24.647124672904233\n",
            "Epoch 3, Loss: 22.43739256398932\n",
            "Epoch 4, Loss: 20.662395397418646\n",
            "Epoch 5, Loss: 19.212242755793074\n",
            "Epoch 6, Loss: 18.01380336587199\n",
            "Epoch 7, Loss: 17.006646376575915\n",
            "Epoch 8, Loss: 16.144305139628763\n",
            "Epoch 9, Loss: 15.389124216767131\n",
            "Epoch 10, Loss: 14.705182305447341\n",
            "Epoch 11, Loss: 14.059305909926517\n",
            "Epoch 12, Loss: 13.414877136346652\n",
            "Epoch 13, Loss: 12.73629228233686\n",
            "Epoch 14, Loss: 11.980716313202368\n",
            "Epoch 15, Loss: 11.110603557625398\n",
            "Epoch 16, Loss: 10.105637545513018\n",
            "Epoch 17, Loss: 8.97649338402724\n",
            "Epoch 18, Loss: 7.780462855614987\n",
            "Epoch 19, Loss: 6.609993290780159\n",
            "Epoch 20, Loss: 5.5505558270488295\n",
            "Epoch 21, Loss: 4.653090779551395\n",
            "Epoch 22, Loss: 3.921964405151793\n",
            "Epoch 23, Loss: 3.3362946740261794\n",
            "Epoch 24, Loss: 2.867390957883167\n",
            "Epoch 25, Loss: 2.489744288969766\n",
            "Epoch 26, Loss: 2.1824102988702996\n",
            "Epoch 27, Loss: 1.9305089899731167\n",
            "Epoch 28, Loss: 1.7217247537549982\n",
            "Epoch 29, Loss: 1.5475207077065094\n",
            "Epoch 30, Loss: 1.4008952406457233\n",
            "Epoch 31, Loss: 1.2772495251924254\n",
            "Epoch 32, Loss: 1.1721456932840009\n",
            "Epoch 33, Loss: 1.082052438240971\n",
            "Epoch 34, Loss: 1.004887523082307\n",
            "Epoch 35, Loss: 0.9386087459356046\n",
            "Epoch 36, Loss: 0.8811006370534752\n",
            "Epoch 37, Loss: 0.8311638390352278\n",
            "Epoch 38, Loss: 0.7879162656171673\n",
            "Epoch 39, Loss: 0.7498376954933108\n",
            "Epoch 40, Loss: 0.7165191347526415\n",
            "Epoch 41, Loss: 0.6869681559994741\n",
            "Epoch 42, Loss: 0.661042769623892\n",
            "Epoch 43, Loss: 0.6378669121543769\n",
            "Epoch 44, Loss: 0.6173246927975398\n",
            "Epoch 45, Loss: 0.5988346631756893\n",
            "Epoch 46, Loss: 0.5821185279921227\n",
            "Epoch 47, Loss: 0.5671353682043588\n",
            "Epoch 48, Loss: 0.5535469543812844\n",
            "Epoch 49, Loss: 0.541090890916471\n",
            "Epoch 50, Loss: 0.5296092318550585\n",
            "Epoch 51, Loss: 0.5194671389263898\n",
            "Epoch 52, Loss: 0.5097765912713134\n",
            "Epoch 53, Loss: 0.5010321040443962\n",
            "Epoch 54, Loss: 0.49276932877332424\n",
            "Epoch 55, Loss: 0.48511946776191595\n",
            "Epoch 56, Loss: 0.47781661818475285\n",
            "Epoch 57, Loss: 0.47127227681844974\n",
            "Epoch 58, Loss: 0.46490728779492646\n",
            "Epoch 59, Loss: 0.4588765002749293\n",
            "Epoch 60, Loss: 0.45317713712072616\n",
            "Epoch 61, Loss: 0.4480030051040165\n",
            "Epoch 62, Loss: 0.4426554939165938\n",
            "Epoch 63, Loss: 0.4379695153932281\n",
            "Epoch 64, Loss: 0.4330039022840219\n",
            "Epoch 65, Loss: 0.4286196574493108\n",
            "Epoch 66, Loss: 0.4243789440030374\n",
            "Epoch 67, Loss: 0.42022967663815786\n",
            "Epoch 68, Loss: 0.4162620985265916\n",
            "Epoch 69, Loss: 0.4123510760704273\n",
            "Epoch 70, Loss: 0.40858481612604886\n",
            "Epoch 71, Loss: 0.4051379061441131\n",
            "Epoch 72, Loss: 0.4015200616139446\n",
            "Epoch 73, Loss: 0.39833682760369354\n",
            "Epoch 74, Loss: 0.39500513264370446\n",
            "Epoch 75, Loss: 0.3918269679782354\n",
            "Epoch 76, Loss: 0.3886243089050206\n",
            "Epoch 77, Loss: 0.38561558451144223\n",
            "Epoch 78, Loss: 0.38276001183212105\n",
            "Epoch 79, Loss: 0.37988052104935427\n",
            "Epoch 80, Loss: 0.37713171602203155\n",
            "Epoch 81, Loss: 0.37429725155612537\n",
            "Epoch 82, Loss: 0.3717423683495691\n",
            "Epoch 83, Loss: 0.3689581463633455\n",
            "Epoch 84, Loss: 0.3665981250744181\n",
            "Epoch 85, Loss: 0.36396632994038197\n",
            "Epoch 86, Loss: 0.36157893726063256\n",
            "Epoch 87, Loss: 0.35936940491653335\n",
            "Epoch 88, Loss: 0.35683761798034463\n",
            "Epoch 89, Loss: 0.35458009905621485\n",
            "Epoch 90, Loss: 0.3522741010195108\n",
            "Epoch 91, Loss: 0.3501224079107875\n",
            "Epoch 92, Loss: 0.3479969392194966\n",
            "Epoch 93, Loss: 0.34592145174590466\n",
            "Epoch 94, Loss: 0.3436984010608063\n",
            "Epoch 95, Loss: 0.3417580645852888\n",
            "Epoch 96, Loss: 0.33969252647330916\n",
            "Epoch 97, Loss: 0.33774292310179793\n",
            "Epoch 98, Loss: 0.3358141179314725\n",
            "Epoch 99, Loss: 0.33390691675964346\n",
            "Epoch 100, Loss: 0.33196432843123597\n"
          ]
        }
      ]
    },
    {
      "cell_type": "markdown",
      "source": [
        "**create trained movie embeddings**"
      ],
      "metadata": {
        "id": "_FIprNu3qigK"
      }
    },
    {
      "cell_type": "code",
      "source": [
        "trained_movie_embeddings = model.movie_factors.weight.data.cpu().numpy()\n",
        "print(len(trained_movie_embeddings))\n",
        "print(trained_movie_embeddings.shape)"
      ],
      "metadata": {
        "id": "3l7KgDK2Drcj",
        "colab": {
          "base_uri": "https://localhost:8080/"
        },
        "outputId": "a1d70eca-0244-4234-d9d5-cbd72024c952"
      },
      "execution_count": null,
      "outputs": [
        {
          "output_type": "stream",
          "name": "stdout",
          "text": [
            "9724\n",
            "(9724, 15)\n"
          ]
        }
      ]
    },
    {
      "cell_type": "code",
      "source": [
        "from sklearn.neighbors import NearestNeighbors\n",
        "import re\n",
        "from itertools import islice\n",
        "\n",
        "def find_similar_movies(movie_id, k=10, metric='cosine'):\n",
        "  movie_idx = dataset.movie_to_idx[movie_id] # convert the id to an index to lookup in the embedding\n",
        "  movie_embedding = trained_movie_embeddings[movie_idx] # get the embedding i.e a characteristic profile from the movie embeddings\n",
        "  nbrs = NearestNeighbors(n_neighbors=k+1, metric=metric).fit(trained_movie_embeddings) # get the closest neighbours i.e most similar movies\n",
        "  distances, indices = nbrs.kneighbors([movie_embedding])\n",
        "  for i in range(0, len(indices.flatten())):\n",
        "    if indices.flatten()[i] == movie_idx:\n",
        "      indices = indices.flatten()[i+1:]\n",
        "      distances = distances.flatten()[i+1:]\n",
        "      break\n",
        "  return [(id_to_titles[dataset.idx_to_movie[idx]], distances[i]) for i, idx in enumerate(indices)]\n",
        "\n",
        "\n",
        "title = \"thor\"\n",
        "title = movie_finder(title)\n",
        "id = titles_to_id[title]\n",
        "\n",
        "similar_movies = find_similar_movies(id)\n",
        "print(\"Similar Movies to \" + title)\n",
        "for mov in similar_movies:\n",
        "  print(mov)"
      ],
      "metadata": {
        "colab": {
          "base_uri": "https://localhost:8080/"
        },
        "id": "jvAQvZKLyc-L",
        "outputId": "94b32501-c27a-41d7-c3d5-008b156bf8f8"
      },
      "execution_count": null,
      "outputs": [
        {
          "output_type": "stream",
          "name": "stdout",
          "text": [
            "Similar Movies to Thor\n",
            "('I Know What You Did Last Summer', 0.14115721)\n",
            "('Brave', 0.16263878)\n",
            "('Harry Potter and the Half-Blood Prince', 0.1797452)\n",
            "(\"Winchester '73\", 0.1921745)\n",
            "('Scenes from the Class Struggle in Beverly Hills', 0.19294178)\n",
            "('Groundhog Day', 0.19923824)\n",
            "('Office Space', 0.2003308)\n",
            "(\"Bill & Ted's Excellent Adventure\", 0.20704585)\n",
            "('Few Good Men, A', 0.21263719)\n",
            "('Wizard of Oz, The', 0.21374702)\n"
          ]
        }
      ]
    },
    {
      "cell_type": "markdown",
      "source": [
        "# **Using sparsity matrix**\n",
        "\n",
        "> placeholder\n",
        "\n"
      ],
      "metadata": {
        "id": "pc_9pqvFyddr"
      }
    },
    {
      "cell_type": "code",
      "source": [
        "from scipy.sparse import csr_matrix\n",
        "# csr_matrix is a sparse matrix i.e where most elements are 0\n",
        "# we create a matrix of users and movies, with squares representing their ratings\n",
        "# this does not yet include latent factors\n",
        "\n",
        "# create utility matrix of users and items\n",
        "def create_utility_matrix(df):\n",
        "\n",
        "    n_users = df['userId'].nunique()\n",
        "    n_movies = df['movieId'].nunique()\n",
        "\n",
        "    user_to_idx = {u:i for i, u in enumerate(df[\"userId\"].unique())} # map users to numerical index\n",
        "    movie_to_idx = {m:i for i, m in enumerate(df[\"movieId\"].unique())} # map movies to numerical index\n",
        "\n",
        "    idx_to_user = {v:k for k, v in user_to_idx.items()} # map index to user id\n",
        "    idx_to_movie = {v:k for k, v in movie_to_idx.items()} # map index to movie id\n",
        "\n",
        "    user_index = [user_to_idx[i] for i in df['userId']] # get the index of the user\n",
        "    movie_index = [movie_to_idx[i] for i in df['movieId']] # get the index of the movie\n",
        "\n",
        "    X = csr_matrix((df[\"rating\"], (user_index, movie_index)), shape=(n_users, n_movies)) # create utility matrix of users and movies with their ratings\n",
        "\n",
        "    return X, user_to_idx, movie_to_idx, idx_to_user, idx_to_movie\n",
        "\n",
        "\n",
        "\n",
        "X, user_to_idx, movie_to_idx, idx_to_user, idx_to_movie = create_utility_matrix(ratings_df)\n",
        "print(X.shape)"
      ],
      "metadata": {
        "colab": {
          "base_uri": "https://localhost:8080/"
        },
        "id": "b2f434be8K6N",
        "outputId": "87e8f846-cb49-40ab-aeb3-df0b09a5739d"
      },
      "execution_count": null,
      "outputs": [
        {
          "output_type": "stream",
          "name": "stdout",
          "text": [
            "(610, 9724)\n"
          ]
        }
      ]
    },
    {
      "cell_type": "code",
      "source": [
        "n_ratings = X.nnz\n",
        "n_total = X.shape[0] * X.shape[1]\n",
        "density = (n_ratings / n_total) * 100\n",
        "print(f\"Density: {density:.2f}%\")"
      ],
      "metadata": {
        "colab": {
          "base_uri": "https://localhost:8080/"
        },
        "id": "ty8NsiOS9gV_",
        "outputId": "2d9723c2-31f7-4276-de6d-7323494f4217"
      },
      "execution_count": null,
      "outputs": [
        {
          "output_type": "stream",
          "name": "stdout",
          "text": [
            "Density: 1.70%\n"
          ]
        }
      ]
    },
    {
      "cell_type": "code",
      "source": [
        "from sklearn.neighbors import NearestNeighbors\n",
        "import re\n",
        "from itertools import islice\n",
        "\n",
        "def find_similar_movies(movie_id, X, movie_mapper, movie_inv_mapper, k, metric='cosine'):\n",
        "    \"\"\"\n",
        "    Finds k-nearest neighbours for a given movie id.\n",
        "\n",
        "    Args:\n",
        "        movie_id: id of the movie of interest\n",
        "        X: user-item utility matrix\n",
        "        k: number of similar movies to retrieve\n",
        "        metric: distance metric for kNN calculations\n",
        "\n",
        "    Output: returns list of k similar movie ID's\n",
        "    \"\"\"\n",
        "    X = X.T # get the transpose of utility matrix X since kNN expects input to be users as columns and movies to be rows\n",
        "    neighbour_ids = [] # initialise neighbours list\n",
        "\n",
        "    movie_idx = movie_to_idx[movie_id] # get the index of the movie we are finding similar movies for\n",
        "    movie_vec = X[movie_idx] # index X to get vector of all the users and their respective ratings for that movie\n",
        "    if isinstance(movie_vec, (np.ndarray)):\n",
        "        movie_vec = movie_vec.reshape(1,-1) # ensure movie vector is 2D (1 row and multiple columns, hence the -1)\n",
        "    # use k+1 since kNN output includes the movieId of interest\n",
        "    kNN = NearestNeighbors(n_neighbors=k+1, algorithm=\"brute\", metric=metric) # find nearest neighbours using cosine similarity and brute force algorithm to find them\n",
        "    kNN.fit(X) # fit kNN model to the transpose of X - each row in X represents a movie's vector of user ratings\n",
        "    neighbours = kNN.kneighbors(movie_vec, return_distance=False) # get the nearest neighbours\n",
        "    for i in range(0,k):\n",
        "        n = neighbours.item(i)\n",
        "        neighbour_ids.append(idx_to_movie[n]) # add the movie id (converted from index) to the list\n",
        "    neighbour_ids.pop(0)\n",
        "    return neighbour_ids\n",
        "\n",
        "title = movie_finder(\"titanic\")\n",
        "id = titles_to_id[title]\n",
        "\n",
        "similar_movies = find_similar_movies(id, X, movie_to_idx, idx_to_movie, k=10)\n",
        "print(\"Similar Movies to \" + title)\n",
        "for mov in similar_movies:\n",
        "  print(id_to_titles[mov])"
      ],
      "metadata": {
        "colab": {
          "base_uri": "https://localhost:8080/"
        },
        "id": "A3n6ENVoWhUb",
        "outputId": "1364fdfd-e2ee-4058-dc4a-5cbc21007c0a"
      },
      "execution_count": null,
      "outputs": [
        {
          "output_type": "stream",
          "name": "stdout",
          "text": [
            "Similar Movies to Titanic\n",
            "Pajama Game, The\n",
            "Crimson Pirate, The\n",
            "Let's Get Harry\n",
            "Death Wish 5: The Face of Death\n",
            "Death Wish 4: The Crackdown\n",
            "Tarzan and the Lost City\n",
            "Deceiver\n",
            "In Search of the Castaways\n",
            "Bustin' Loose\n"
          ]
        }
      ]
    },
    {
      "cell_type": "code",
      "source": [
        "genres = movies_df['genres'].str.split('|').explode()\n",
        "genres = genres.unique()\n",
        "for g in genres:\n",
        "  movies_df[g] = movies_df['genres'].apply(lambda x: 1 if g in x else 0) # create col for each genre (one hot tensor)\n",
        "movies_df.head()"
      ],
      "metadata": {
        "colab": {
          "base_uri": "https://localhost:8080/",
          "height": 206
        },
        "id": "6IYUwAkRpBzB",
        "outputId": "366f4392-c6b7-4a62-b818-1a0cd70bfa53"
      },
      "execution_count": null,
      "outputs": [
        {
          "output_type": "execute_result",
          "data": {
            "text/plain": [
              "   movieId                        title  \\\n",
              "0        1                    Toy Story   \n",
              "1        2                      Jumanji   \n",
              "2        3             Grumpier Old Men   \n",
              "3        4            Waiting to Exhale   \n",
              "4        5  Father of the Bride Part II   \n",
              "\n",
              "                                              genres  NaN  \n",
              "0  [Adventure, Animation, Children, Comedy, Fantasy]    0  \n",
              "1                     [Adventure, Children, Fantasy]    0  \n",
              "2                                  [Comedy, Romance]    0  \n",
              "3                           [Comedy, Drama, Romance]    0  \n",
              "4                                           [Comedy]    0  "
            ],
            "text/html": [
              "\n",
              "  <div id=\"df-91bcc0a7-ffb3-4b04-898a-6581a62fd6b1\" class=\"colab-df-container\">\n",
              "    <div>\n",
              "<style scoped>\n",
              "    .dataframe tbody tr th:only-of-type {\n",
              "        vertical-align: middle;\n",
              "    }\n",
              "\n",
              "    .dataframe tbody tr th {\n",
              "        vertical-align: top;\n",
              "    }\n",
              "\n",
              "    .dataframe thead th {\n",
              "        text-align: right;\n",
              "    }\n",
              "</style>\n",
              "<table border=\"1\" class=\"dataframe\">\n",
              "  <thead>\n",
              "    <tr style=\"text-align: right;\">\n",
              "      <th></th>\n",
              "      <th>movieId</th>\n",
              "      <th>title</th>\n",
              "      <th>genres</th>\n",
              "      <th>NaN</th>\n",
              "    </tr>\n",
              "  </thead>\n",
              "  <tbody>\n",
              "    <tr>\n",
              "      <th>0</th>\n",
              "      <td>1</td>\n",
              "      <td>Toy Story</td>\n",
              "      <td>[Adventure, Animation, Children, Comedy, Fantasy]</td>\n",
              "      <td>0</td>\n",
              "    </tr>\n",
              "    <tr>\n",
              "      <th>1</th>\n",
              "      <td>2</td>\n",
              "      <td>Jumanji</td>\n",
              "      <td>[Adventure, Children, Fantasy]</td>\n",
              "      <td>0</td>\n",
              "    </tr>\n",
              "    <tr>\n",
              "      <th>2</th>\n",
              "      <td>3</td>\n",
              "      <td>Grumpier Old Men</td>\n",
              "      <td>[Comedy, Romance]</td>\n",
              "      <td>0</td>\n",
              "    </tr>\n",
              "    <tr>\n",
              "      <th>3</th>\n",
              "      <td>4</td>\n",
              "      <td>Waiting to Exhale</td>\n",
              "      <td>[Comedy, Drama, Romance]</td>\n",
              "      <td>0</td>\n",
              "    </tr>\n",
              "    <tr>\n",
              "      <th>4</th>\n",
              "      <td>5</td>\n",
              "      <td>Father of the Bride Part II</td>\n",
              "      <td>[Comedy]</td>\n",
              "      <td>0</td>\n",
              "    </tr>\n",
              "  </tbody>\n",
              "</table>\n",
              "</div>\n",
              "    <div class=\"colab-df-buttons\">\n",
              "\n",
              "  <div class=\"colab-df-container\">\n",
              "    <button class=\"colab-df-convert\" onclick=\"convertToInteractive('df-91bcc0a7-ffb3-4b04-898a-6581a62fd6b1')\"\n",
              "            title=\"Convert this dataframe to an interactive table.\"\n",
              "            style=\"display:none;\">\n",
              "\n",
              "  <svg xmlns=\"http://www.w3.org/2000/svg\" height=\"24px\" viewBox=\"0 -960 960 960\">\n",
              "    <path d=\"M120-120v-720h720v720H120Zm60-500h600v-160H180v160Zm220 220h160v-160H400v160Zm0 220h160v-160H400v160ZM180-400h160v-160H180v160Zm440 0h160v-160H620v160ZM180-180h160v-160H180v160Zm440 0h160v-160H620v160Z\"/>\n",
              "  </svg>\n",
              "    </button>\n",
              "\n",
              "  <style>\n",
              "    .colab-df-container {\n",
              "      display:flex;\n",
              "      gap: 12px;\n",
              "    }\n",
              "\n",
              "    .colab-df-convert {\n",
              "      background-color: #E8F0FE;\n",
              "      border: none;\n",
              "      border-radius: 50%;\n",
              "      cursor: pointer;\n",
              "      display: none;\n",
              "      fill: #1967D2;\n",
              "      height: 32px;\n",
              "      padding: 0 0 0 0;\n",
              "      width: 32px;\n",
              "    }\n",
              "\n",
              "    .colab-df-convert:hover {\n",
              "      background-color: #E2EBFA;\n",
              "      box-shadow: 0px 1px 2px rgba(60, 64, 67, 0.3), 0px 1px 3px 1px rgba(60, 64, 67, 0.15);\n",
              "      fill: #174EA6;\n",
              "    }\n",
              "\n",
              "    .colab-df-buttons div {\n",
              "      margin-bottom: 4px;\n",
              "    }\n",
              "\n",
              "    [theme=dark] .colab-df-convert {\n",
              "      background-color: #3B4455;\n",
              "      fill: #D2E3FC;\n",
              "    }\n",
              "\n",
              "    [theme=dark] .colab-df-convert:hover {\n",
              "      background-color: #434B5C;\n",
              "      box-shadow: 0px 1px 3px 1px rgba(0, 0, 0, 0.15);\n",
              "      filter: drop-shadow(0px 1px 2px rgba(0, 0, 0, 0.3));\n",
              "      fill: #FFFFFF;\n",
              "    }\n",
              "  </style>\n",
              "\n",
              "    <script>\n",
              "      const buttonEl =\n",
              "        document.querySelector('#df-91bcc0a7-ffb3-4b04-898a-6581a62fd6b1 button.colab-df-convert');\n",
              "      buttonEl.style.display =\n",
              "        google.colab.kernel.accessAllowed ? 'block' : 'none';\n",
              "\n",
              "      async function convertToInteractive(key) {\n",
              "        const element = document.querySelector('#df-91bcc0a7-ffb3-4b04-898a-6581a62fd6b1');\n",
              "        const dataTable =\n",
              "          await google.colab.kernel.invokeFunction('convertToInteractive',\n",
              "                                                    [key], {});\n",
              "        if (!dataTable) return;\n",
              "\n",
              "        const docLinkHtml = 'Like what you see? Visit the ' +\n",
              "          '<a target=\"_blank\" href=https://colab.research.google.com/notebooks/data_table.ipynb>data table notebook</a>'\n",
              "          + ' to learn more about interactive tables.';\n",
              "        element.innerHTML = '';\n",
              "        dataTable['output_type'] = 'display_data';\n",
              "        await google.colab.output.renderOutput(dataTable, element);\n",
              "        const docLink = document.createElement('div');\n",
              "        docLink.innerHTML = docLinkHtml;\n",
              "        element.appendChild(docLink);\n",
              "      }\n",
              "    </script>\n",
              "  </div>\n",
              "\n",
              "\n",
              "<div id=\"df-cc246fcf-fd8b-4971-b155-20b50c59ed71\">\n",
              "  <button class=\"colab-df-quickchart\" onclick=\"quickchart('df-cc246fcf-fd8b-4971-b155-20b50c59ed71')\"\n",
              "            title=\"Suggest charts\"\n",
              "            style=\"display:none;\">\n",
              "\n",
              "<svg xmlns=\"http://www.w3.org/2000/svg\" height=\"24px\"viewBox=\"0 0 24 24\"\n",
              "     width=\"24px\">\n",
              "    <g>\n",
              "        <path d=\"M19 3H5c-1.1 0-2 .9-2 2v14c0 1.1.9 2 2 2h14c1.1 0 2-.9 2-2V5c0-1.1-.9-2-2-2zM9 17H7v-7h2v7zm4 0h-2V7h2v10zm4 0h-2v-4h2v4z\"/>\n",
              "    </g>\n",
              "</svg>\n",
              "  </button>\n",
              "\n",
              "<style>\n",
              "  .colab-df-quickchart {\n",
              "      --bg-color: #E8F0FE;\n",
              "      --fill-color: #1967D2;\n",
              "      --hover-bg-color: #E2EBFA;\n",
              "      --hover-fill-color: #174EA6;\n",
              "      --disabled-fill-color: #AAA;\n",
              "      --disabled-bg-color: #DDD;\n",
              "  }\n",
              "\n",
              "  [theme=dark] .colab-df-quickchart {\n",
              "      --bg-color: #3B4455;\n",
              "      --fill-color: #D2E3FC;\n",
              "      --hover-bg-color: #434B5C;\n",
              "      --hover-fill-color: #FFFFFF;\n",
              "      --disabled-bg-color: #3B4455;\n",
              "      --disabled-fill-color: #666;\n",
              "  }\n",
              "\n",
              "  .colab-df-quickchart {\n",
              "    background-color: var(--bg-color);\n",
              "    border: none;\n",
              "    border-radius: 50%;\n",
              "    cursor: pointer;\n",
              "    display: none;\n",
              "    fill: var(--fill-color);\n",
              "    height: 32px;\n",
              "    padding: 0;\n",
              "    width: 32px;\n",
              "  }\n",
              "\n",
              "  .colab-df-quickchart:hover {\n",
              "    background-color: var(--hover-bg-color);\n",
              "    box-shadow: 0 1px 2px rgba(60, 64, 67, 0.3), 0 1px 3px 1px rgba(60, 64, 67, 0.15);\n",
              "    fill: var(--button-hover-fill-color);\n",
              "  }\n",
              "\n",
              "  .colab-df-quickchart-complete:disabled,\n",
              "  .colab-df-quickchart-complete:disabled:hover {\n",
              "    background-color: var(--disabled-bg-color);\n",
              "    fill: var(--disabled-fill-color);\n",
              "    box-shadow: none;\n",
              "  }\n",
              "\n",
              "  .colab-df-spinner {\n",
              "    border: 2px solid var(--fill-color);\n",
              "    border-color: transparent;\n",
              "    border-bottom-color: var(--fill-color);\n",
              "    animation:\n",
              "      spin 1s steps(1) infinite;\n",
              "  }\n",
              "\n",
              "  @keyframes spin {\n",
              "    0% {\n",
              "      border-color: transparent;\n",
              "      border-bottom-color: var(--fill-color);\n",
              "      border-left-color: var(--fill-color);\n",
              "    }\n",
              "    20% {\n",
              "      border-color: transparent;\n",
              "      border-left-color: var(--fill-color);\n",
              "      border-top-color: var(--fill-color);\n",
              "    }\n",
              "    30% {\n",
              "      border-color: transparent;\n",
              "      border-left-color: var(--fill-color);\n",
              "      border-top-color: var(--fill-color);\n",
              "      border-right-color: var(--fill-color);\n",
              "    }\n",
              "    40% {\n",
              "      border-color: transparent;\n",
              "      border-right-color: var(--fill-color);\n",
              "      border-top-color: var(--fill-color);\n",
              "    }\n",
              "    60% {\n",
              "      border-color: transparent;\n",
              "      border-right-color: var(--fill-color);\n",
              "    }\n",
              "    80% {\n",
              "      border-color: transparent;\n",
              "      border-right-color: var(--fill-color);\n",
              "      border-bottom-color: var(--fill-color);\n",
              "    }\n",
              "    90% {\n",
              "      border-color: transparent;\n",
              "      border-bottom-color: var(--fill-color);\n",
              "    }\n",
              "  }\n",
              "</style>\n",
              "\n",
              "  <script>\n",
              "    async function quickchart(key) {\n",
              "      const quickchartButtonEl =\n",
              "        document.querySelector('#' + key + ' button');\n",
              "      quickchartButtonEl.disabled = true;  // To prevent multiple clicks.\n",
              "      quickchartButtonEl.classList.add('colab-df-spinner');\n",
              "      try {\n",
              "        const charts = await google.colab.kernel.invokeFunction(\n",
              "            'suggestCharts', [key], {});\n",
              "      } catch (error) {\n",
              "        console.error('Error during call to suggestCharts:', error);\n",
              "      }\n",
              "      quickchartButtonEl.classList.remove('colab-df-spinner');\n",
              "      quickchartButtonEl.classList.add('colab-df-quickchart-complete');\n",
              "    }\n",
              "    (() => {\n",
              "      let quickchartButtonEl =\n",
              "        document.querySelector('#df-cc246fcf-fd8b-4971-b155-20b50c59ed71 button');\n",
              "      quickchartButtonEl.style.display =\n",
              "        google.colab.kernel.accessAllowed ? 'block' : 'none';\n",
              "    })();\n",
              "  </script>\n",
              "</div>\n",
              "\n",
              "    </div>\n",
              "  </div>\n"
            ],
            "application/vnd.google.colaboratory.intrinsic+json": {
              "type": "dataframe",
              "variable_name": "movies_df",
              "repr_error": "Out of range float values are not JSON compliant: nan"
            }
          },
          "metadata": {},
          "execution_count": 27
        }
      ]
    },
    {
      "cell_type": "code",
      "source": [
        "from sklearn.metrics.pairwise import cosine_similarity\n",
        "\n",
        "movie_genres = movies_df.drop(['movieId', 'title', 'genres'], axis=1).values\n",
        "\n",
        "cosine_sim = cosine_similarity(movie_genres, movie_genres)\n",
        "print(f\"Dimensions of our genres cosine similarity matrix: {cosine_sim.shape}\")\n",
        "n_recommendations=10\n",
        "idx = movies_df[movies_df['title'] == title].index[0]\n",
        "print(idx)\n",
        "sim_scores = list(enumerate(cosine_sim[idx]))\n",
        "sim_scores = sorted(sim_scores, key=lambda x: x[1], reverse=True)\n",
        "sim_scores = sim_scores[1:n_recommendations+1]\n",
        "movie_indices = [i[0] for i in sim_scores]\n",
        "print(movie_indices)\n"
      ],
      "metadata": {
        "colab": {
          "base_uri": "https://localhost:8080/"
        },
        "id": "DW6nq0TWkW_H",
        "outputId": "58b65fae-ea61-40fe-b436-316c379576ba"
      },
      "execution_count": null,
      "outputs": [
        {
          "output_type": "stream",
          "name": "stdout",
          "text": [
            "Dimensions of our genres cosine similarity matrix: (9742, 9742)\n",
            "1291\n",
            "[1, 2, 3, 4, 5, 6, 7, 8, 9, 10]\n"
          ]
        }
      ]
    },
    {
      "cell_type": "code",
      "source": [
        "print(\"Recommendations for \" + title)\n",
        "for i in movie_indices:\n",
        "    print(movies_df.iloc[i]['title'])"
      ],
      "metadata": {
        "colab": {
          "base_uri": "https://localhost:8080/"
        },
        "id": "embfGgH4lHlZ",
        "outputId": "a342482c-aa30-437c-ef3c-07ea2690adaf"
      },
      "execution_count": null,
      "outputs": [
        {
          "output_type": "stream",
          "name": "stdout",
          "text": [
            "Recommendations for Titanic\n",
            "Jumanji\n",
            "Grumpier Old Men\n",
            "Waiting to Exhale\n",
            "Father of the Bride Part II\n",
            "Heat\n",
            "Sabrina\n",
            "Tom and Huck\n",
            "Sudden Death\n",
            "GoldenEye\n",
            "American President, The\n"
          ]
        }
      ]
    },
    {
      "cell_type": "code",
      "source": [
        "from sklearn.decomposition import TruncatedSVD\n",
        "\n",
        "svd = TruncatedSVD(n_components=30, n_iter=5)\n",
        "# 30 latent factors, 5 iterations of the singular value decomposition algorithm\n",
        "Q = svd.fit_transform(X.T)\n",
        "# fit svd model to the data and return matrix\n",
        "# rows represent movies and columns represent latent factors\n",
        "print(Q.shape)"
      ],
      "metadata": {
        "colab": {
          "base_uri": "https://localhost:8080/"
        },
        "id": "RYyDVrltmBfN",
        "outputId": "312904d5-eac1-4e58-b9dd-3f27c04f18f2"
      },
      "execution_count": null,
      "outputs": [
        {
          "output_type": "stream",
          "name": "stdout",
          "text": [
            "(9724, 30)\n"
          ]
        }
      ]
    },
    {
      "cell_type": "code",
      "source": [
        "title = movie_finder(\"home alone\")\n",
        "movie_id = titles_to_id[title]\n",
        "similar_movies = find_similar_movies(movie_id, Q.T, movie_to_idx, idx_to_movie, k=10)\n",
        "# find movies with most similar latent factors\n",
        "print(\"Similar Movies to \" + id_to_titles[movie_id])\n",
        "for mov in similar_movies:\n",
        "  print(id_to_titles[mov])"
      ],
      "metadata": {
        "id": "Qqn8hx67mrWl",
        "colab": {
          "base_uri": "https://localhost:8080/"
        },
        "outputId": "ba8ca53c-aacd-498b-deb7-6ed3bac0b646"
      },
      "execution_count": null,
      "outputs": [
        {
          "output_type": "stream",
          "name": "stdout",
          "text": [
            "Similar Movies to Home Alone\n",
            "Aladdin\n",
            "Lion King, The\n",
            "Mrs. Doubtfire\n",
            "Beauty and the Beast\n",
            "Jumanji\n",
            "Mask, The\n",
            "Ace Ventura: Pet Detective\n",
            "Dumb & Dumber (Dumb and Dumber)\n",
            "Snow White and the Seven Dwarfs\n"
          ]
        }
      ]
    },
    {
      "cell_type": "code",
      "source": [],
      "metadata": {
        "id": "MsRAE5svyc0y"
      },
      "execution_count": null,
      "outputs": []
    }
  ]
}